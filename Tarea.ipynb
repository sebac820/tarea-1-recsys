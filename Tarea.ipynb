{
  "cells": [
    {
      "cell_type": "markdown",
      "metadata": {
        "colab_type": "text",
        "id": "view-in-github"
      },
      "source": [
        "<a href=\"https://colab.research.google.com/github/sebac820/tarea-1-recsys/blob/main/Tarea.ipynb\" target=\"_parent\"><img src=\"https://colab.research.google.com/assets/colab-badge.svg\" alt=\"Open In Colab\"/></a>"
      ]
    },
    {
      "cell_type": "markdown",
      "metadata": {
        "id": "0j5dXaBwK_tN"
      },
      "source": [
        "# Tarea 1"
      ]
    },
    {
      "cell_type": "markdown",
      "metadata": {},
      "source": [
        "## Librerías"
      ]
    },
    {
      "cell_type": "code",
      "execution_count": 1,
      "metadata": {},
      "outputs": [],
      "source": [
        "import matplotlib.pyplot as plt\n",
        "import pandas as pd"
      ]
    },
    {
      "cell_type": "markdown",
      "metadata": {},
      "source": [
        "## Actividad 1: Análisis exploratorio"
      ]
    },
    {
      "cell_type": "markdown",
      "metadata": {},
      "source": [
        "Importamos y visualizamos los datos de entrenamiento:"
      ]
    },
    {
      "cell_type": "code",
      "execution_count": 5,
      "metadata": {},
      "outputs": [
        {
          "name": "stdout",
          "output_type": "stream",
          "text": [
            "El dataset de entrenamiento cuenta con 1318501 filas y 5 columnas.\n",
            "Las primeras cinco filas son:\n"
          ]
        },
        {
          "data": {
            "text/html": [
              "<div>\n",
              "<style scoped>\n",
              "    .dataframe tbody tr th:only-of-type {\n",
              "        vertical-align: middle;\n",
              "    }\n",
              "\n",
              "    .dataframe tbody tr th {\n",
              "        vertical-align: top;\n",
              "    }\n",
              "\n",
              "    .dataframe thead th {\n",
              "        text-align: right;\n",
              "    }\n",
              "</style>\n",
              "<table border=\"1\" class=\"dataframe\">\n",
              "  <thead>\n",
              "    <tr style=\"text-align: right;\">\n",
              "      <th></th>\n",
              "      <th>t_dat</th>\n",
              "      <th>customer_id</th>\n",
              "      <th>article_id</th>\n",
              "      <th>price</th>\n",
              "      <th>sales_channel_id</th>\n",
              "    </tr>\n",
              "  </thead>\n",
              "  <tbody>\n",
              "    <tr>\n",
              "      <th>0</th>\n",
              "      <td>2018-11-28</td>\n",
              "      <td>1f293f035403ce2d1ff0cdb23cc3faf8b1c2ad04dbedbe...</td>\n",
              "      <td>655265001</td>\n",
              "      <td>0.025407</td>\n",
              "      <td>2</td>\n",
              "    </tr>\n",
              "    <tr>\n",
              "      <th>1</th>\n",
              "      <td>2018-11-28</td>\n",
              "      <td>1f293f035403ce2d1ff0cdb23cc3faf8b1c2ad04dbedbe...</td>\n",
              "      <td>537688014</td>\n",
              "      <td>0.050831</td>\n",
              "      <td>2</td>\n",
              "    </tr>\n",
              "    <tr>\n",
              "      <th>2</th>\n",
              "      <td>2019-03-28</td>\n",
              "      <td>1f293f035403ce2d1ff0cdb23cc3faf8b1c2ad04dbedbe...</td>\n",
              "      <td>698877002</td>\n",
              "      <td>0.042356</td>\n",
              "      <td>2</td>\n",
              "    </tr>\n",
              "    <tr>\n",
              "      <th>3</th>\n",
              "      <td>2019-03-28</td>\n",
              "      <td>1f293f035403ce2d1ff0cdb23cc3faf8b1c2ad04dbedbe...</td>\n",
              "      <td>382127027</td>\n",
              "      <td>0.032186</td>\n",
              "      <td>2</td>\n",
              "    </tr>\n",
              "    <tr>\n",
              "      <th>4</th>\n",
              "      <td>2019-03-28</td>\n",
              "      <td>1f293f035403ce2d1ff0cdb23cc3faf8b1c2ad04dbedbe...</td>\n",
              "      <td>610776001</td>\n",
              "      <td>0.008458</td>\n",
              "      <td>2</td>\n",
              "    </tr>\n",
              "  </tbody>\n",
              "</table>\n",
              "</div>"
            ],
            "text/plain": [
              "        t_dat                                        customer_id  article_id  \\\n",
              "0  2018-11-28  1f293f035403ce2d1ff0cdb23cc3faf8b1c2ad04dbedbe...   655265001   \n",
              "1  2018-11-28  1f293f035403ce2d1ff0cdb23cc3faf8b1c2ad04dbedbe...   537688014   \n",
              "2  2019-03-28  1f293f035403ce2d1ff0cdb23cc3faf8b1c2ad04dbedbe...   698877002   \n",
              "3  2019-03-28  1f293f035403ce2d1ff0cdb23cc3faf8b1c2ad04dbedbe...   382127027   \n",
              "4  2019-03-28  1f293f035403ce2d1ff0cdb23cc3faf8b1c2ad04dbedbe...   610776001   \n",
              "\n",
              "      price  sales_channel_id  \n",
              "0  0.025407                 2  \n",
              "1  0.050831                 2  \n",
              "2  0.042356                 2  \n",
              "3  0.032186                 2  \n",
              "4  0.008458                 2  "
            ]
          },
          "execution_count": 5,
          "metadata": {},
          "output_type": "execute_result"
        }
      ],
      "source": [
        "train_set = pd.read_csv('transactions_train.csv', header=0, index_col=0)\n",
        "print(f'El dataset de entrenamiento cuenta con {train_set.shape[0]} filas y {train_set.shape[1]} columnas.')\n",
        "print('Las primeras cinco filas son:')\n",
        "train_set.head()"
      ]
    },
    {
      "cell_type": "markdown",
      "metadata": {},
      "source": [
        "### Distribución del número de compras por usuario"
      ]
    },
    {
      "cell_type": "markdown",
      "metadata": {},
      "source": [
        "Obtenemos a los 10 usuarios más activos en el dataset:"
      ]
    },
    {
      "cell_type": "code",
      "execution_count": 6,
      "metadata": {},
      "outputs": [
        {
          "name": "stdout",
          "output_type": "stream",
          "text": [
            "Porcentaje total que representa el top 10 dentro del dataset: 0.6309437763035446%\n"
          ]
        },
        {
          "data": {
            "text/html": [
              "<div>\n",
              "<style scoped>\n",
              "    .dataframe tbody tr th:only-of-type {\n",
              "        vertical-align: middle;\n",
              "    }\n",
              "\n",
              "    .dataframe tbody tr th {\n",
              "        vertical-align: top;\n",
              "    }\n",
              "\n",
              "    .dataframe thead th {\n",
              "        text-align: right;\n",
              "    }\n",
              "</style>\n",
              "<table border=\"1\" class=\"dataframe\">\n",
              "  <thead>\n",
              "    <tr style=\"text-align: right;\">\n",
              "      <th></th>\n",
              "      <th>numero_de_compras</th>\n",
              "      <th>porcentaje_del_dataset</th>\n",
              "    </tr>\n",
              "    <tr>\n",
              "      <th>customer_id</th>\n",
              "      <th></th>\n",
              "      <th></th>\n",
              "    </tr>\n",
              "  </thead>\n",
              "  <tbody>\n",
              "    <tr>\n",
              "      <th>a65f77281a528bf5c1e9f270141d601d116e1df33bf9df512f495ee06647a9cc</th>\n",
              "      <td>1346</td>\n",
              "      <td>0.102086</td>\n",
              "    </tr>\n",
              "    <tr>\n",
              "      <th>84c34f4f564db1f437943c77af41f83bf6fd7c01701cbb050070369176905712</th>\n",
              "      <td>950</td>\n",
              "      <td>0.072052</td>\n",
              "    </tr>\n",
              "    <tr>\n",
              "      <th>e55d5ddb3a0c3fb1b4df8edbf526ba12989ab2a852c72774e3f3338cbbb3335e</th>\n",
              "      <td>910</td>\n",
              "      <td>0.069018</td>\n",
              "    </tr>\n",
              "    <tr>\n",
              "      <th>2df54f0d0653811fe06479c93905f3e6ecc6d07edf39d8b56e5b66c86182bedf</th>\n",
              "      <td>875</td>\n",
              "      <td>0.066363</td>\n",
              "    </tr>\n",
              "    <tr>\n",
              "      <th>9f12a01e2982f70a820b5dd61528bf769b94c5c5e43b23704f1f654784bcda58</th>\n",
              "      <td>789</td>\n",
              "      <td>0.059841</td>\n",
              "    </tr>\n",
              "    <tr>\n",
              "      <th>bbebb44478948f5052c3f4c5dc04f08653e7938886a85685917fd22b92f22cd0</th>\n",
              "      <td>740</td>\n",
              "      <td>0.056124</td>\n",
              "    </tr>\n",
              "    <tr>\n",
              "      <th>d3b5f70ec21ad1718cf4951445e97007de0d4e85c39ea9fd2fedaf1966280943</th>\n",
              "      <td>724</td>\n",
              "      <td>0.054911</td>\n",
              "    </tr>\n",
              "    <tr>\n",
              "      <th>ad3090d52d11671ffb43bfaa85e3620eff669e8c92c9114ba7755876254cbba8</th>\n",
              "      <td>670</td>\n",
              "      <td>0.050815</td>\n",
              "    </tr>\n",
              "    <tr>\n",
              "      <th>0152d53f51444891ea07013fd1fb8325415bb09bb6798a59359b21a8326d801b</th>\n",
              "      <td>664</td>\n",
              "      <td>0.050360</td>\n",
              "    </tr>\n",
              "    <tr>\n",
              "      <th>01a4717d38b651e46dda7f1ab8d1494af2682a847fa9a52a8f9ab1a09acd0294</th>\n",
              "      <td>651</td>\n",
              "      <td>0.049374</td>\n",
              "    </tr>\n",
              "  </tbody>\n",
              "</table>\n",
              "</div>"
            ],
            "text/plain": [
              "                                                    numero_de_compras  \\\n",
              "customer_id                                                             \n",
              "a65f77281a528bf5c1e9f270141d601d116e1df33bf9df5...               1346   \n",
              "84c34f4f564db1f437943c77af41f83bf6fd7c01701cbb0...                950   \n",
              "e55d5ddb3a0c3fb1b4df8edbf526ba12989ab2a852c7277...                910   \n",
              "2df54f0d0653811fe06479c93905f3e6ecc6d07edf39d8b...                875   \n",
              "9f12a01e2982f70a820b5dd61528bf769b94c5c5e43b237...                789   \n",
              "bbebb44478948f5052c3f4c5dc04f08653e7938886a8568...                740   \n",
              "d3b5f70ec21ad1718cf4951445e97007de0d4e85c39ea9f...                724   \n",
              "ad3090d52d11671ffb43bfaa85e3620eff669e8c92c9114...                670   \n",
              "0152d53f51444891ea07013fd1fb8325415bb09bb6798a5...                664   \n",
              "01a4717d38b651e46dda7f1ab8d1494af2682a847fa9a52...                651   \n",
              "\n",
              "                                                    porcentaje_del_dataset  \n",
              "customer_id                                                                 \n",
              "a65f77281a528bf5c1e9f270141d601d116e1df33bf9df5...                0.102086  \n",
              "84c34f4f564db1f437943c77af41f83bf6fd7c01701cbb0...                0.072052  \n",
              "e55d5ddb3a0c3fb1b4df8edbf526ba12989ab2a852c7277...                0.069018  \n",
              "2df54f0d0653811fe06479c93905f3e6ecc6d07edf39d8b...                0.066363  \n",
              "9f12a01e2982f70a820b5dd61528bf769b94c5c5e43b237...                0.059841  \n",
              "bbebb44478948f5052c3f4c5dc04f08653e7938886a8568...                0.056124  \n",
              "d3b5f70ec21ad1718cf4951445e97007de0d4e85c39ea9f...                0.054911  \n",
              "ad3090d52d11671ffb43bfaa85e3620eff669e8c92c9114...                0.050815  \n",
              "0152d53f51444891ea07013fd1fb8325415bb09bb6798a5...                0.050360  \n",
              "01a4717d38b651e46dda7f1ab8d1494af2682a847fa9a52...                0.049374  "
            ]
          },
          "metadata": {},
          "output_type": "display_data"
        }
      ],
      "source": [
        "# Hacemos una copia del set de entrenamiento manteniendo solamente la columna 'customer_id':\n",
        "numero_de_compras_por_usuario = train_set.drop(columns=['t_dat', 'article_id', 'price', 'sales_channel_id'])\n",
        "# Agregamos una columna 'numero_de_compras':\n",
        "numero_de_compras_por_usuario['numero_de_compras'] = 1\n",
        "# Agrupamos por 'customer_id' y contamos la cantidad de veces que se repite cada usuario en el set:\n",
        "numero_de_compras_por_usuario = numero_de_compras_por_usuario.groupby('customer_id').count()\n",
        "# Ordenamos la cuenta de cada usuario de mayor a menor:\n",
        "numero_de_compras_por_usuario = numero_de_compras_por_usuario.sort_values(by='numero_de_compras', ascending=False)\n",
        "# Calculamos el porcentaje que representa cada número de compras dentro del dataset:\n",
        "numero_de_compras_por_usuario['porcentaje_del_dataset'] = numero_de_compras_por_usuario / train_set.shape[0] * 100\n",
        "# Desplegamos el porcentaje total que representa el top 10 dentro del dataset:\n",
        "porcentaje_total_que_representa_el_top_10 = numero_de_compras_por_usuario.iloc[0:10].sum()['porcentaje_del_dataset']\n",
        "print(f'Porcentaje total que representa el top 10 dentro del dataset: {porcentaje_total_que_representa_el_top_10}%')\n",
        "# Desplegamos el top 10 de usuarios más activos en el set:\n",
        "display(numero_de_compras_por_usuario.head(10))"
      ]
    },
    {
      "cell_type": "markdown",
      "metadata": {},
      "source": [
        "Así, el top 10 de usuarios con más actividad en el dataset se lleva el 0.6% de las compras, reportando más de 600 compras cada uno. Sin embargo, el resto de usuarios ha realizado una cantidad mucho menor de compras:"
      ]
    },
    {
      "cell_type": "code",
      "execution_count": 37,
      "metadata": {},
      "outputs": [
        {
          "data": {
            "image/png": "[encoded data removed]",
            "text/plain": [
              "<Figure size 1512x504 with 1 Axes>"
            ]
          },
          "metadata": {
            "needs_background": "light"
          },
          "output_type": "display_data"
        }
      ],
      "source": [
        "# Hacemos una copia del número de compras por usuario:\n",
        "numero_de_usuarios_por_numero_de_compras = numero_de_compras_por_usuario.drop(columns=['porcentaje_del_dataset'])\n",
        "# Agregamos una columna 'numero_de_usuarios':\n",
        "numero_de_usuarios_por_numero_de_compras['numero_de_usuarios'] = 1\n",
        "# Agrupamos por el número de compras, y contamos cuántos usuarios realizaron ese número de compras:\n",
        "numero_de_usuarios_por_numero_de_compras = numero_de_usuarios_por_numero_de_compras.groupby('numero_de_compras').sum()\n",
        "# Definimos un grupo que represente N o más compras:\n",
        "N = 100\n",
        "numero_de_usuarios_que_realizaron_N_o_mas_compras = numero_de_usuarios_por_numero_de_compras.loc[N:]['numero_de_usuarios'].sum()\n",
        "numero_de_usuarios_por_numero_de_compras = numero_de_usuarios_por_numero_de_compras.loc[0:N-1]\n",
        "numero_de_usuarios_por_numero_de_compras.loc[f'{N} o más'] = numero_de_usuarios_que_realizaron_N_o_mas_compras\n",
        "# Graficamos:\n",
        "plt.figure(figsize=(21, 7))\n",
        "plt.xticks(rotation=90)\n",
        "plt.bar(\n",
        "    x=[i for i in range(len(numero_de_usuarios_por_numero_de_compras))],\n",
        "    height=[numero_de_usuarios for numero_de_usuarios in numero_de_usuarios_por_numero_de_compras['numero_de_usuarios']],\n",
        "    tick_label=numero_de_usuarios_por_numero_de_compras.index,\n",
        ")\n",
        "plt.xlabel('Número de compras')\n",
        "plt.ylabel('Número de usuarios')\n",
        "plt.show()"
      ]
    },
    {
      "cell_type": "markdown",
      "metadata": {},
      "source": [
        "Notamos que en la distribución obtenida, la mayor parte de los usuarios han realizado solamente entre 2 a 6 compras, tras lo cual el número de usuarios que ha realizado un mayor número de compras decae rápidamente, asemejándose la curva a un decrecimiento exponencial. "
      ]
    },
    {
      "cell_type": "markdown",
      "metadata": {},
      "source": [
        "### Distribución de interacciones por producto"
      ]
    },
    {
      "cell_type": "markdown",
      "metadata": {},
      "source": [
        "Cargamos los datos de los productos:"
      ]
    },
    {
      "cell_type": "code",
      "execution_count": 33,
      "metadata": {},
      "outputs": [],
      "source": [
        "items = pd.read_csv('articles.csv', header=0, index_col=0)"
      ]
    },
    {
      "cell_type": "markdown",
      "metadata": {},
      "source": [
        "Obtenemos los 10 productos más comprados:"
      ]
    },
    {
      "cell_type": "code",
      "execution_count": 34,
      "metadata": {},
      "outputs": [
        {
          "name": "stdout",
          "output_type": "stream",
          "text": [
            "Los 10 productos más comprados representan el 0.8631013552511528% de las interacciones en el dataset.\n"
          ]
        },
        {
          "data": {
            "text/html": [
              "<div>\n",
              "<style scoped>\n",
              "    .dataframe tbody tr th:only-of-type {\n",
              "        vertical-align: middle;\n",
              "    }\n",
              "\n",
              "    .dataframe tbody tr th {\n",
              "        vertical-align: top;\n",
              "    }\n",
              "\n",
              "    .dataframe thead th {\n",
              "        text-align: right;\n",
              "    }\n",
              "</style>\n",
              "<table border=\"1\" class=\"dataframe\">\n",
              "  <thead>\n",
              "    <tr style=\"text-align: right;\">\n",
              "      <th></th>\n",
              "      <th>article_id</th>\n",
              "      <th>prod_name</th>\n",
              "      <th>compras</th>\n",
              "      <th>porcentaje_de_interacciones</th>\n",
              "    </tr>\n",
              "  </thead>\n",
              "  <tbody>\n",
              "    <tr>\n",
              "      <th>0</th>\n",
              "      <td>706016001</td>\n",
              "      <td>Jade HW Skinny Denim TRS</td>\n",
              "      <td>1978</td>\n",
              "      <td>0.150019</td>\n",
              "    </tr>\n",
              "    <tr>\n",
              "      <th>1</th>\n",
              "      <td>706016002</td>\n",
              "      <td>Jade HW Skinny Denim TRS</td>\n",
              "      <td>1357</td>\n",
              "      <td>0.102920</td>\n",
              "    </tr>\n",
              "    <tr>\n",
              "      <th>2</th>\n",
              "      <td>610776002</td>\n",
              "      <td>Tilly (1)</td>\n",
              "      <td>1302</td>\n",
              "      <td>0.098749</td>\n",
              "    </tr>\n",
              "    <tr>\n",
              "      <th>3</th>\n",
              "      <td>372860001</td>\n",
              "      <td>7p Basic Shaftless</td>\n",
              "      <td>1225</td>\n",
              "      <td>0.092909</td>\n",
              "    </tr>\n",
              "    <tr>\n",
              "      <th>4</th>\n",
              "      <td>759871002</td>\n",
              "      <td>Tilda tank</td>\n",
              "      <td>1010</td>\n",
              "      <td>0.076602</td>\n",
              "    </tr>\n",
              "    <tr>\n",
              "      <th>5</th>\n",
              "      <td>399223001</td>\n",
              "      <td>Curvy Jeggings HW Ankle</td>\n",
              "      <td>991</td>\n",
              "      <td>0.075161</td>\n",
              "    </tr>\n",
              "    <tr>\n",
              "      <th>6</th>\n",
              "      <td>464297007</td>\n",
              "      <td>Greta Thong Mynta Low 3p</td>\n",
              "      <td>920</td>\n",
              "      <td>0.069776</td>\n",
              "    </tr>\n",
              "    <tr>\n",
              "      <th>7</th>\n",
              "      <td>562245001</td>\n",
              "      <td>Luna skinny RW</td>\n",
              "      <td>899</td>\n",
              "      <td>0.068183</td>\n",
              "    </tr>\n",
              "    <tr>\n",
              "      <th>8</th>\n",
              "      <td>562245046</td>\n",
              "      <td>Luna skinny RW</td>\n",
              "      <td>849</td>\n",
              "      <td>0.064391</td>\n",
              "    </tr>\n",
              "    <tr>\n",
              "      <th>9</th>\n",
              "      <td>372860002</td>\n",
              "      <td>7p Basic Shaftless</td>\n",
              "      <td>849</td>\n",
              "      <td>0.064391</td>\n",
              "    </tr>\n",
              "  </tbody>\n",
              "</table>\n",
              "</div>"
            ],
            "text/plain": [
              "   article_id                 prod_name  compras  porcentaje_de_interacciones\n",
              "0   706016001  Jade HW Skinny Denim TRS     1978                     0.150019\n",
              "1   706016002  Jade HW Skinny Denim TRS     1357                     0.102920\n",
              "2   610776002                 Tilly (1)     1302                     0.098749\n",
              "3   372860001        7p Basic Shaftless     1225                     0.092909\n",
              "4   759871002                Tilda tank     1010                     0.076602\n",
              "5   399223001   Curvy Jeggings HW Ankle      991                     0.075161\n",
              "6   464297007  Greta Thong Mynta Low 3p      920                     0.069776\n",
              "7   562245001            Luna skinny RW      899                     0.068183\n",
              "8   562245046            Luna skinny RW      849                     0.064391\n",
              "9   372860002        7p Basic Shaftless      849                     0.064391"
            ]
          },
          "execution_count": 34,
          "metadata": {},
          "output_type": "execute_result"
        }
      ],
      "source": [
        "# Hacemos una copia del train set, dejando solamente 'article_id':\n",
        "compras_por_producto = train_set.drop(columns=['t_dat', 'customer_id', 'price', 'sales_channel_id'])\n",
        "# Agregamos una columna 'compras':\n",
        "compras_por_producto['compras'] = 1\n",
        "# Agrupamos por producto y contamos cuántas veces fue comprado cada uno:\n",
        "compras_por_producto = compras_por_producto.groupby('article_id', as_index=False).sum().sort_values(by='compras', ascending=False).merge(items, on='article_id')\n",
        "# Agregamos el porcentaje de las interacciones que representa cada producto:\n",
        "compras_por_producto['porcentaje_de_interacciones'] = compras_por_producto['compras'] * 100 / train_set.shape[0]\n",
        "# Calculamos el porcentaje de interacciones del top 10 de productos:\n",
        "print(f'Los 10 productos más comprados representan el {compras_por_producto[\"porcentaje_de_interacciones\"].head(10).sum()}% de las interacciones en el dataset.')\n",
        "# Desplegamos los 10 productos más comprados:\n",
        "compras_por_producto[['article_id', 'prod_name', 'compras', 'porcentaje_de_interacciones']].head(10)\n"
      ]
    },
    {
      "cell_type": "markdown",
      "metadata": {},
      "source": [
        "Así, el top 10 de productos más comprados representan el 0.8% del total de interacciones en el dataset. La distribución de interacciones se observa de la siguiente manera:"
      ]
    },
    {
      "cell_type": "code",
      "execution_count": 63,
      "metadata": {},
      "outputs": [
        {
          "data": {
            "image/png": "[encoded data removed]",
            "text/plain": [
              "<Figure size 1512x504 with 1 Axes>"
            ]
          },
          "metadata": {
            "needs_background": "light"
          },
          "output_type": "display_data"
        }
      ],
      "source": [
        "# Agregamos la columna 'numero_de_productos':\n",
        "productos_por_compras = compras_por_producto[['compras']].copy()\n",
        "productos_por_compras['numero_de_productos'] = 1\n",
        "# Agrupamos por número de compras y contamos:\n",
        "productos_por_compras = productos_por_compras.groupby('compras').sum()\n",
        "# Definimos un grupo que represente N o más compras:\n",
        "N = 100\n",
        "productos_que_fueron_comprados_N_o_mas_veces = productos_por_compras.loc[N:]['numero_de_productos'].sum()\n",
        "productos_por_compras = productos_por_compras.loc[0:N-1]\n",
        "productos_por_compras.loc[f'{N} o más'] = productos_que_fueron_comprados_N_o_mas_veces\n",
        "# Graficamos:\n",
        "plt.figure(figsize=(21, 7))\n",
        "plt.xticks(rotation=90)\n",
        "plt.xlabel('Número de compras')\n",
        "plt.ylabel('Número de productos')\n",
        "plt.bar(\n",
        "    x=[i for i in range(len(productos_por_compras))],\n",
        "    height=[numero_de_productos for numero_de_productos in productos_por_compras['numero_de_productos']],\n",
        "    tick_label=productos_por_compras.index,\n",
        ")\n",
        "plt.show()"
      ]
    },
    {
      "cell_type": "markdown",
      "metadata": {},
      "source": [
        "Notamos que la mayor parte de los productos fueron comprados 1, 2 o 3 veces, mientras que el número de productos que fueron comprados una mayor cantidad de veces es cada vez menor, asemejándose la curva a un decrecimiento exponencial."
      ]
    },
    {
      "cell_type": "markdown",
      "metadata": {},
      "source": [
        "### Tabla resumen"
      ]
    },
    {
      "cell_type": "markdown",
      "metadata": {},
      "source": [
        "En el set de entrenamiento encontramos lo siguiente:"
      ]
    },
    {
      "cell_type": "code",
      "execution_count": 74,
      "metadata": {},
      "outputs": [
        {
          "data": {
            "text/plain": [
              "t_dat                 734\n",
              "customer_id         45000\n",
              "article_id          73080\n",
              "price                5523\n",
              "sales_channel_id        2\n",
              "dtype: int64"
            ]
          },
          "execution_count": 74,
          "metadata": {},
          "output_type": "execute_result"
        }
      ],
      "source": [
        "# Obtenemos los valores únicos:\n",
        "valores_unicos = train_set.nunique()\n",
        "valores_unicos\n"
      ]
    },
    {
      "cell_type": "code",
      "execution_count": 76,
      "metadata": {},
      "outputs": [
        {
          "data": {
            "text/html": [
              "<div>\n",
              "<style scoped>\n",
              "    .dataframe tbody tr th:only-of-type {\n",
              "        vertical-align: middle;\n",
              "    }\n",
              "\n",
              "    .dataframe tbody tr th {\n",
              "        vertical-align: top;\n",
              "    }\n",
              "\n",
              "    .dataframe thead th {\n",
              "        text-align: right;\n",
              "    }\n",
              "</style>\n",
              "<table border=\"1\" class=\"dataframe\">\n",
              "  <thead>\n",
              "    <tr style=\"text-align: right;\">\n",
              "      <th></th>\n",
              "      <th>Valor</th>\n",
              "    </tr>\n",
              "    <tr>\n",
              "      <th>Variable</th>\n",
              "      <th></th>\n",
              "    </tr>\n",
              "  </thead>\n",
              "  <tbody>\n",
              "    <tr>\n",
              "      <th>Número de usuarios distintos</th>\n",
              "      <td>45000</td>\n",
              "    </tr>\n",
              "    <tr>\n",
              "      <th>Número de ítems distintos</th>\n",
              "      <td>73080</td>\n",
              "    </tr>\n",
              "  </tbody>\n",
              "</table>\n",
              "</div>"
            ],
            "text/plain": [
              "                              Valor\n",
              "Variable                           \n",
              "Número de usuarios distintos  45000\n",
              "Número de ítems distintos     73080"
            ]
          },
          "execution_count": 76,
          "metadata": {},
          "output_type": "execute_result"
        }
      ],
      "source": [
        "tabla_resumen = pd.DataFrame(index=pd.CategoricalIndex(data=[], name='Variable'), columns=['Valor'])\n",
        "tabla_resumen.loc['Número de usuarios distintos'] = valores_unicos['customer_id']\n",
        "tabla_resumen.loc['Número de ítems distintos'] = valores_unicos['article_id']\n",
        "tabla_resumen"
      ]
    },
    {
      "cell_type": "markdown",
      "metadata": {},
      "source": [
        "**completar**"
      ]
    },
    {
      "cell_type": "markdown",
      "metadata": {},
      "source": []
    }
  ],
  "metadata": {
    "colab": {
      "authorship_tag": "ABX9TyO67HM7d/yRoxbG6HgvJTvY",
      "include_colab_link": true,
      "name": "Tarea.ipynb",
      "provenance": []
    },
    "kernelspec": {
      "display_name": "Python 3.8.10 64-bit",
      "language": "python",
      "name": "python3"
    },
    "language_info": {
      "codemirror_mode": {
        "name": "ipython",
        "version": 3
      },
      "file_extension": ".py",
      "mimetype": "text/x-python",
      "name": "python",
      "nbconvert_exporter": "python",
      "pygments_lexer": "ipython3",
      "version": "3.8.10"
    },
    "vscode": {
      "interpreter": {
        "hash": "f285bb5f8983d1aafa033d6733ae0de2189f69ae4c0ee5aa1b3ca39129c61fab"
      }
    }
  },
  "nbformat": 4,
  "nbformat_minor": 0
}
