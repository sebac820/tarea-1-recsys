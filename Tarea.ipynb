{
  "cells": [
    {
      "cell_type": "markdown",
      "metadata": {
        "colab_type": "text",
        "id": "view-in-github"
      },
      "source": [
        "<a href=\"https://colab.research.google.com/github/sebac820/tarea-1-recsys/blob/main/Tarea.ipynb\" target=\"_parent\"><img src=\"https://colab.research.google.com/assets/colab-badge.svg\" alt=\"Open In Colab\"/></a>"
      ]
    },
    {
      "cell_type": "markdown",
      "metadata": {
        "id": "0j5dXaBwK_tN"
      },
      "source": [
        "# Tarea 1"
      ]
    },
    {
      "cell_type": "markdown",
      "metadata": {
        "id": "3EYk44lXgigw"
      },
      "source": [
        "## Librerías"
      ]
    },
    {
      "cell_type": "markdown",
      "metadata": {
        "id": "sVLMJbHRiXDQ"
      },
      "source": [
        "Importar librerías:"
      ]
    },
    {
      "cell_type": "code",
      "execution_count": 1,
      "metadata": {
        "id": "pIRImPUIgigw"
      },
      "outputs": [],
      "source": [
        "from collections import defaultdict\n",
        "from implicit.als import AlternatingLeastSquares\n",
        "from implicit.bpr import BayesianPersonalizedRanking\n",
        "from math import log2\n",
        "from scipy.sparse import csr_matrix\n",
        "from time import time\n",
        "import matplotlib.pyplot as plt\n",
        "import numpy as np\n",
        "import pandas as pd\n",
        "import random\n",
        "data_path = '.'"
      ]
    },
    {
      "cell_type": "markdown",
      "metadata": {},
      "source": [
        "## Datasets"
      ]
    },
    {
      "cell_type": "markdown",
      "metadata": {
        "id": "YdWDe9T8gigy"
      },
      "source": [
        "Importamos y visualizamos los datos de entrenamiento:"
      ]
    },
    {
      "cell_type": "code",
      "execution_count": 2,
      "metadata": {
        "colab": {
          "base_uri": "https://localhost:8080/",
          "height": 242
        },
        "id": "HftKdYzZgigy",
        "outputId": "bae6bf83-d643-4028-8a2e-eb0566c1ff25"
      },
      "outputs": [
        {
          "name": "stdout",
          "output_type": "stream",
          "text": [
            "El dataset de entrenamiento cuenta con 1318501 filas y 5 columnas.\n",
            "Las primeras cinco filas son:\n"
          ]
        },
        {
          "data": {
            "text/html": [
              "<div>\n",
              "<style scoped>\n",
              "    .dataframe tbody tr th:only-of-type {\n",
              "        vertical-align: middle;\n",
              "    }\n",
              "\n",
              "    .dataframe tbody tr th {\n",
              "        vertical-align: top;\n",
              "    }\n",
              "\n",
              "    .dataframe thead th {\n",
              "        text-align: right;\n",
              "    }\n",
              "</style>\n",
              "<table border=\"1\" class=\"dataframe\">\n",
              "  <thead>\n",
              "    <tr style=\"text-align: right;\">\n",
              "      <th></th>\n",
              "      <th>t_dat</th>\n",
              "      <th>customer_id</th>\n",
              "      <th>article_id</th>\n",
              "      <th>price</th>\n",
              "      <th>sales_channel_id</th>\n",
              "    </tr>\n",
              "  </thead>\n",
              "  <tbody>\n",
              "    <tr>\n",
              "      <th>0</th>\n",
              "      <td>2018-11-28</td>\n",
              "      <td>1f293f035403ce2d1ff0cdb23cc3faf8b1c2ad04dbedbe...</td>\n",
              "      <td>655265001</td>\n",
              "      <td>0.025407</td>\n",
              "      <td>2</td>\n",
              "    </tr>\n",
              "    <tr>\n",
              "      <th>1</th>\n",
              "      <td>2018-11-28</td>\n",
              "      <td>1f293f035403ce2d1ff0cdb23cc3faf8b1c2ad04dbedbe...</td>\n",
              "      <td>537688014</td>\n",
              "      <td>0.050831</td>\n",
              "      <td>2</td>\n",
              "    </tr>\n",
              "    <tr>\n",
              "      <th>2</th>\n",
              "      <td>2019-03-28</td>\n",
              "      <td>1f293f035403ce2d1ff0cdb23cc3faf8b1c2ad04dbedbe...</td>\n",
              "      <td>698877002</td>\n",
              "      <td>0.042356</td>\n",
              "      <td>2</td>\n",
              "    </tr>\n",
              "    <tr>\n",
              "      <th>3</th>\n",
              "      <td>2019-03-28</td>\n",
              "      <td>1f293f035403ce2d1ff0cdb23cc3faf8b1c2ad04dbedbe...</td>\n",
              "      <td>382127027</td>\n",
              "      <td>0.032186</td>\n",
              "      <td>2</td>\n",
              "    </tr>\n",
              "    <tr>\n",
              "      <th>4</th>\n",
              "      <td>2019-03-28</td>\n",
              "      <td>1f293f035403ce2d1ff0cdb23cc3faf8b1c2ad04dbedbe...</td>\n",
              "      <td>610776001</td>\n",
              "      <td>0.008458</td>\n",
              "      <td>2</td>\n",
              "    </tr>\n",
              "  </tbody>\n",
              "</table>\n",
              "</div>"
            ],
            "text/plain": [
              "        t_dat                                        customer_id  article_id  \\\n",
              "0  2018-11-28  1f293f035403ce2d1ff0cdb23cc3faf8b1c2ad04dbedbe...   655265001   \n",
              "1  2018-11-28  1f293f035403ce2d1ff0cdb23cc3faf8b1c2ad04dbedbe...   537688014   \n",
              "2  2019-03-28  1f293f035403ce2d1ff0cdb23cc3faf8b1c2ad04dbedbe...   698877002   \n",
              "3  2019-03-28  1f293f035403ce2d1ff0cdb23cc3faf8b1c2ad04dbedbe...   382127027   \n",
              "4  2019-03-28  1f293f035403ce2d1ff0cdb23cc3faf8b1c2ad04dbedbe...   610776001   \n",
              "\n",
              "      price  sales_channel_id  \n",
              "0  0.025407                 2  \n",
              "1  0.050831                 2  \n",
              "2  0.042356                 2  \n",
              "3  0.032186                 2  \n",
              "4  0.008458                 2  "
            ]
          },
          "execution_count": 2,
          "metadata": {},
          "output_type": "execute_result"
        }
      ],
      "source": [
        "train_set = pd.read_csv(f'{data_path}/transactions_train.csv', header=0, index_col=0)\n",
        "print(f'El dataset de entrenamiento cuenta con {train_set.shape[0]} filas y {train_set.shape[1]} columnas.')\n",
        "print('Las primeras cinco filas son:')\n",
        "train_set.head()"
      ]
    },
    {
      "cell_type": "markdown",
      "metadata": {
        "id": "tOwlr98ygig4"
      },
      "source": [
        "Importamos y visualizamos los datos de validación:"
      ]
    },
    {
      "cell_type": "code",
      "execution_count": 3,
      "metadata": {
        "colab": {
          "base_uri": "https://localhost:8080/",
          "height": 242
        },
        "id": "Apo3Vf4Pgig4",
        "outputId": "5cdeb5bf-82c8-4a1d-ffc9-fdb1f67cc241"
      },
      "outputs": [
        {
          "name": "stdout",
          "output_type": "stream",
          "text": [
            "El dataset de validación cuenta con 140312 filas y 5 columnas.\n",
            "Los usuarios con más compras realizadas en el dataset de validación son:\n"
          ]
        },
        {
          "data": {
            "text/html": [
              "<div>\n",
              "<style scoped>\n",
              "    .dataframe tbody tr th:only-of-type {\n",
              "        vertical-align: middle;\n",
              "    }\n",
              "\n",
              "    .dataframe tbody tr th {\n",
              "        vertical-align: top;\n",
              "    }\n",
              "\n",
              "    .dataframe thead th {\n",
              "        text-align: right;\n",
              "    }\n",
              "</style>\n",
              "<table border=\"1\" class=\"dataframe\">\n",
              "  <thead>\n",
              "    <tr style=\"text-align: right;\">\n",
              "      <th></th>\n",
              "      <th>t_dat</th>\n",
              "      <th>customer_id</th>\n",
              "      <th>article_id</th>\n",
              "      <th>price</th>\n",
              "      <th>sales_channel_id</th>\n",
              "    </tr>\n",
              "  </thead>\n",
              "  <tbody>\n",
              "    <tr>\n",
              "      <th>0</th>\n",
              "      <td>2020-09-20</td>\n",
              "      <td>1f293f035403ce2d1ff0cdb23cc3faf8b1c2ad04dbedbe...</td>\n",
              "      <td>535035001</td>\n",
              "      <td>0.118627</td>\n",
              "      <td>2</td>\n",
              "    </tr>\n",
              "    <tr>\n",
              "      <th>1</th>\n",
              "      <td>2020-06-15</td>\n",
              "      <td>b4ba419fd5afc5eb274ab3ae1638a51a2e916b4deb0a5c...</td>\n",
              "      <td>654046004</td>\n",
              "      <td>0.022017</td>\n",
              "      <td>2</td>\n",
              "    </tr>\n",
              "    <tr>\n",
              "      <th>2</th>\n",
              "      <td>2019-10-20</td>\n",
              "      <td>1a1563c28f0d8781ad87f76e0a5af0485003e350f541dd...</td>\n",
              "      <td>742086008</td>\n",
              "      <td>0.033881</td>\n",
              "      <td>2</td>\n",
              "    </tr>\n",
              "    <tr>\n",
              "      <th>3</th>\n",
              "      <td>2020-07-14</td>\n",
              "      <td>3219f007e898957cbe0ff0f22010cd7118c06f7498a167...</td>\n",
              "      <td>778534006</td>\n",
              "      <td>0.042356</td>\n",
              "      <td>1</td>\n",
              "    </tr>\n",
              "    <tr>\n",
              "      <th>4</th>\n",
              "      <td>2020-09-07</td>\n",
              "      <td>4e5c03f7ffefe2f99f8e0c9d9805c1571867e6a8dd7091...</td>\n",
              "      <td>706016015</td>\n",
              "      <td>0.033881</td>\n",
              "      <td>1</td>\n",
              "    </tr>\n",
              "  </tbody>\n",
              "</table>\n",
              "</div>"
            ],
            "text/plain": [
              "        t_dat                                        customer_id  article_id  \\\n",
              "0  2020-09-20  1f293f035403ce2d1ff0cdb23cc3faf8b1c2ad04dbedbe...   535035001   \n",
              "1  2020-06-15  b4ba419fd5afc5eb274ab3ae1638a51a2e916b4deb0a5c...   654046004   \n",
              "2  2019-10-20  1a1563c28f0d8781ad87f76e0a5af0485003e350f541dd...   742086008   \n",
              "3  2020-07-14  3219f007e898957cbe0ff0f22010cd7118c06f7498a167...   778534006   \n",
              "4  2020-09-07  4e5c03f7ffefe2f99f8e0c9d9805c1571867e6a8dd7091...   706016015   \n",
              "\n",
              "      price  sales_channel_id  \n",
              "0  0.118627                 2  \n",
              "1  0.022017                 2  \n",
              "2  0.033881                 2  \n",
              "3  0.042356                 1  \n",
              "4  0.033881                 1  "
            ]
          },
          "execution_count": 3,
          "metadata": {},
          "output_type": "execute_result"
        }
      ],
      "source": [
        "validation_set = pd.read_csv(f'{data_path}/transactions_val.csv', header=0, index_col=0)\n",
        "print(f'El dataset de validación cuenta con {validation_set.shape[0]} filas y {validation_set.shape[1]} columnas.')\n",
        "print('Los usuarios con más compras realizadas en el dataset de validación son:')\n",
        "validation_set.head()"
      ]
    },
    {
      "cell_type": "markdown",
      "metadata": {
        "id": "BJVTxqn8gig1"
      },
      "source": [
        "Cargamos los datos de los productos:"
      ]
    },
    {
      "cell_type": "code",
      "execution_count": 4,
      "metadata": {
        "id": "lczcZgDFgig1"
      },
      "outputs": [
        {
          "data": {
            "text/html": [
              "<div>\n",
              "<style scoped>\n",
              "    .dataframe tbody tr th:only-of-type {\n",
              "        vertical-align: middle;\n",
              "    }\n",
              "\n",
              "    .dataframe tbody tr th {\n",
              "        vertical-align: top;\n",
              "    }\n",
              "\n",
              "    .dataframe thead th {\n",
              "        text-align: right;\n",
              "    }\n",
              "</style>\n",
              "<table border=\"1\" class=\"dataframe\">\n",
              "  <thead>\n",
              "    <tr style=\"text-align: right;\">\n",
              "      <th></th>\n",
              "      <th>article_id</th>\n",
              "      <th>product_code</th>\n",
              "      <th>prod_name</th>\n",
              "      <th>product_type_no</th>\n",
              "      <th>product_type_name</th>\n",
              "      <th>product_group_name</th>\n",
              "      <th>graphical_appearance_no</th>\n",
              "      <th>graphical_appearance_name</th>\n",
              "      <th>colour_group_code</th>\n",
              "      <th>colour_group_name</th>\n",
              "      <th>department_no</th>\n",
              "      <th>department_name</th>\n",
              "      <th>section_no</th>\n",
              "      <th>section_name</th>\n",
              "      <th>garment_group_no</th>\n",
              "      <th>garment_group_name</th>\n",
              "      <th>detail_desc</th>\n",
              "    </tr>\n",
              "  </thead>\n",
              "  <tbody>\n",
              "    <tr>\n",
              "      <th>0</th>\n",
              "      <td>108775015</td>\n",
              "      <td>108775</td>\n",
              "      <td>Strap top</td>\n",
              "      <td>253</td>\n",
              "      <td>Vest top</td>\n",
              "      <td>Garment Upper body</td>\n",
              "      <td>1010016</td>\n",
              "      <td>Solid</td>\n",
              "      <td>9</td>\n",
              "      <td>Black</td>\n",
              "      <td>1676</td>\n",
              "      <td>Jersey Basic</td>\n",
              "      <td>16</td>\n",
              "      <td>Womens Everyday Basics</td>\n",
              "      <td>1002</td>\n",
              "      <td>Jersey Basic</td>\n",
              "      <td>Jersey top with narrow shoulder straps.</td>\n",
              "    </tr>\n",
              "    <tr>\n",
              "      <th>1</th>\n",
              "      <td>108775044</td>\n",
              "      <td>108775</td>\n",
              "      <td>Strap top</td>\n",
              "      <td>253</td>\n",
              "      <td>Vest top</td>\n",
              "      <td>Garment Upper body</td>\n",
              "      <td>1010016</td>\n",
              "      <td>Solid</td>\n",
              "      <td>10</td>\n",
              "      <td>White</td>\n",
              "      <td>1676</td>\n",
              "      <td>Jersey Basic</td>\n",
              "      <td>16</td>\n",
              "      <td>Womens Everyday Basics</td>\n",
              "      <td>1002</td>\n",
              "      <td>Jersey Basic</td>\n",
              "      <td>Jersey top with narrow shoulder straps.</td>\n",
              "    </tr>\n",
              "    <tr>\n",
              "      <th>2</th>\n",
              "      <td>108775051</td>\n",
              "      <td>108775</td>\n",
              "      <td>Strap top (1)</td>\n",
              "      <td>253</td>\n",
              "      <td>Vest top</td>\n",
              "      <td>Garment Upper body</td>\n",
              "      <td>1010017</td>\n",
              "      <td>Stripe</td>\n",
              "      <td>11</td>\n",
              "      <td>Off White</td>\n",
              "      <td>1676</td>\n",
              "      <td>Jersey Basic</td>\n",
              "      <td>16</td>\n",
              "      <td>Womens Everyday Basics</td>\n",
              "      <td>1002</td>\n",
              "      <td>Jersey Basic</td>\n",
              "      <td>Jersey top with narrow shoulder straps.</td>\n",
              "    </tr>\n",
              "    <tr>\n",
              "      <th>3</th>\n",
              "      <td>110065001</td>\n",
              "      <td>110065</td>\n",
              "      <td>OP T-shirt (Idro)</td>\n",
              "      <td>306</td>\n",
              "      <td>Bra</td>\n",
              "      <td>Underwear</td>\n",
              "      <td>1010016</td>\n",
              "      <td>Solid</td>\n",
              "      <td>9</td>\n",
              "      <td>Black</td>\n",
              "      <td>1339</td>\n",
              "      <td>Clean Lingerie</td>\n",
              "      <td>61</td>\n",
              "      <td>Womens Lingerie</td>\n",
              "      <td>1017</td>\n",
              "      <td>Under-, Nightwear</td>\n",
              "      <td>Microfibre T-shirt bra with underwired, moulde...</td>\n",
              "    </tr>\n",
              "    <tr>\n",
              "      <th>4</th>\n",
              "      <td>110065002</td>\n",
              "      <td>110065</td>\n",
              "      <td>OP T-shirt (Idro)</td>\n",
              "      <td>306</td>\n",
              "      <td>Bra</td>\n",
              "      <td>Underwear</td>\n",
              "      <td>1010016</td>\n",
              "      <td>Solid</td>\n",
              "      <td>10</td>\n",
              "      <td>White</td>\n",
              "      <td>1339</td>\n",
              "      <td>Clean Lingerie</td>\n",
              "      <td>61</td>\n",
              "      <td>Womens Lingerie</td>\n",
              "      <td>1017</td>\n",
              "      <td>Under-, Nightwear</td>\n",
              "      <td>Microfibre T-shirt bra with underwired, moulde...</td>\n",
              "    </tr>\n",
              "  </tbody>\n",
              "</table>\n",
              "</div>"
            ],
            "text/plain": [
              "   article_id  product_code          prod_name  product_type_no  \\\n",
              "0   108775015        108775          Strap top              253   \n",
              "1   108775044        108775          Strap top              253   \n",
              "2   108775051        108775      Strap top (1)              253   \n",
              "3   110065001        110065  OP T-shirt (Idro)              306   \n",
              "4   110065002        110065  OP T-shirt (Idro)              306   \n",
              "\n",
              "  product_type_name  product_group_name  graphical_appearance_no  \\\n",
              "0          Vest top  Garment Upper body                  1010016   \n",
              "1          Vest top  Garment Upper body                  1010016   \n",
              "2          Vest top  Garment Upper body                  1010017   \n",
              "3               Bra           Underwear                  1010016   \n",
              "4               Bra           Underwear                  1010016   \n",
              "\n",
              "  graphical_appearance_name  colour_group_code colour_group_name  \\\n",
              "0                     Solid                  9             Black   \n",
              "1                     Solid                 10             White   \n",
              "2                    Stripe                 11         Off White   \n",
              "3                     Solid                  9             Black   \n",
              "4                     Solid                 10             White   \n",
              "\n",
              "   department_no department_name  section_no            section_name  \\\n",
              "0           1676    Jersey Basic          16  Womens Everyday Basics   \n",
              "1           1676    Jersey Basic          16  Womens Everyday Basics   \n",
              "2           1676    Jersey Basic          16  Womens Everyday Basics   \n",
              "3           1339  Clean Lingerie          61         Womens Lingerie   \n",
              "4           1339  Clean Lingerie          61         Womens Lingerie   \n",
              "\n",
              "   garment_group_no garment_group_name  \\\n",
              "0              1002       Jersey Basic   \n",
              "1              1002       Jersey Basic   \n",
              "2              1002       Jersey Basic   \n",
              "3              1017  Under-, Nightwear   \n",
              "4              1017  Under-, Nightwear   \n",
              "\n",
              "                                         detail_desc  \n",
              "0            Jersey top with narrow shoulder straps.  \n",
              "1            Jersey top with narrow shoulder straps.  \n",
              "2            Jersey top with narrow shoulder straps.  \n",
              "3  Microfibre T-shirt bra with underwired, moulde...  \n",
              "4  Microfibre T-shirt bra with underwired, moulde...  "
            ]
          },
          "execution_count": 4,
          "metadata": {},
          "output_type": "execute_result"
        }
      ],
      "source": [
        "productos = pd.read_csv(f'{data_path}/articles.csv', header=0, index_col=0)\n",
        "productos.head()"
      ]
    },
    {
      "cell_type": "markdown",
      "metadata": {
        "id": "JeGWBn1ugigx"
      },
      "source": [
        "## Actividad 1: Análisis exploratorio"
      ]
    },
    {
      "cell_type": "markdown",
      "metadata": {
        "id": "6BVc0-3rgigz"
      },
      "source": [
        "### Distribución del número de compras por usuario"
      ]
    },
    {
      "cell_type": "markdown",
      "metadata": {
        "id": "Ke8jpByfgigz"
      },
      "source": [
        "Obtenemos a los 10 usuarios más activos en el dataset:"
      ]
    },
    {
      "cell_type": "code",
      "execution_count": 5,
      "metadata": {
        "colab": {
          "base_uri": "https://localhost:8080/",
          "height": 412
        },
        "id": "n44R7HbMgig0",
        "outputId": "28d93c48-4803-405a-8048-9bed53b31743"
      },
      "outputs": [
        {
          "name": "stdout",
          "output_type": "stream",
          "text": [
            "Porcentaje total que representa el top 10 dentro del dataset: 0.6309437763035446%\n"
          ]
        },
        {
          "data": {
            "text/html": [
              "<div>\n",
              "<style scoped>\n",
              "    .dataframe tbody tr th:only-of-type {\n",
              "        vertical-align: middle;\n",
              "    }\n",
              "\n",
              "    .dataframe tbody tr th {\n",
              "        vertical-align: top;\n",
              "    }\n",
              "\n",
              "    .dataframe thead th {\n",
              "        text-align: right;\n",
              "    }\n",
              "</style>\n",
              "<table border=\"1\" class=\"dataframe\">\n",
              "  <thead>\n",
              "    <tr style=\"text-align: right;\">\n",
              "      <th></th>\n",
              "      <th>compras</th>\n",
              "      <th>porcentaje_del_dataset</th>\n",
              "    </tr>\n",
              "    <tr>\n",
              "      <th>customer_id</th>\n",
              "      <th></th>\n",
              "      <th></th>\n",
              "    </tr>\n",
              "  </thead>\n",
              "  <tbody>\n",
              "    <tr>\n",
              "      <th>a65f77281a528bf5c1e9f270141d601d116e1df33bf9df512f495ee06647a9cc</th>\n",
              "      <td>1346</td>\n",
              "      <td>0.102086</td>\n",
              "    </tr>\n",
              "    <tr>\n",
              "      <th>84c34f4f564db1f437943c77af41f83bf6fd7c01701cbb050070369176905712</th>\n",
              "      <td>950</td>\n",
              "      <td>0.072052</td>\n",
              "    </tr>\n",
              "    <tr>\n",
              "      <th>e55d5ddb3a0c3fb1b4df8edbf526ba12989ab2a852c72774e3f3338cbbb3335e</th>\n",
              "      <td>910</td>\n",
              "      <td>0.069018</td>\n",
              "    </tr>\n",
              "    <tr>\n",
              "      <th>2df54f0d0653811fe06479c93905f3e6ecc6d07edf39d8b56e5b66c86182bedf</th>\n",
              "      <td>875</td>\n",
              "      <td>0.066363</td>\n",
              "    </tr>\n",
              "    <tr>\n",
              "      <th>9f12a01e2982f70a820b5dd61528bf769b94c5c5e43b23704f1f654784bcda58</th>\n",
              "      <td>789</td>\n",
              "      <td>0.059841</td>\n",
              "    </tr>\n",
              "    <tr>\n",
              "      <th>bbebb44478948f5052c3f4c5dc04f08653e7938886a85685917fd22b92f22cd0</th>\n",
              "      <td>740</td>\n",
              "      <td>0.056124</td>\n",
              "    </tr>\n",
              "    <tr>\n",
              "      <th>d3b5f70ec21ad1718cf4951445e97007de0d4e85c39ea9fd2fedaf1966280943</th>\n",
              "      <td>724</td>\n",
              "      <td>0.054911</td>\n",
              "    </tr>\n",
              "    <tr>\n",
              "      <th>ad3090d52d11671ffb43bfaa85e3620eff669e8c92c9114ba7755876254cbba8</th>\n",
              "      <td>670</td>\n",
              "      <td>0.050815</td>\n",
              "    </tr>\n",
              "    <tr>\n",
              "      <th>0152d53f51444891ea07013fd1fb8325415bb09bb6798a59359b21a8326d801b</th>\n",
              "      <td>664</td>\n",
              "      <td>0.050360</td>\n",
              "    </tr>\n",
              "    <tr>\n",
              "      <th>01a4717d38b651e46dda7f1ab8d1494af2682a847fa9a52a8f9ab1a09acd0294</th>\n",
              "      <td>651</td>\n",
              "      <td>0.049374</td>\n",
              "    </tr>\n",
              "  </tbody>\n",
              "</table>\n",
              "</div>"
            ],
            "text/plain": [
              "                                                    compras  \\\n",
              "customer_id                                                   \n",
              "a65f77281a528bf5c1e9f270141d601d116e1df33bf9df5...     1346   \n",
              "84c34f4f564db1f437943c77af41f83bf6fd7c01701cbb0...      950   \n",
              "e55d5ddb3a0c3fb1b4df8edbf526ba12989ab2a852c7277...      910   \n",
              "2df54f0d0653811fe06479c93905f3e6ecc6d07edf39d8b...      875   \n",
              "9f12a01e2982f70a820b5dd61528bf769b94c5c5e43b237...      789   \n",
              "bbebb44478948f5052c3f4c5dc04f08653e7938886a8568...      740   \n",
              "d3b5f70ec21ad1718cf4951445e97007de0d4e85c39ea9f...      724   \n",
              "ad3090d52d11671ffb43bfaa85e3620eff669e8c92c9114...      670   \n",
              "0152d53f51444891ea07013fd1fb8325415bb09bb6798a5...      664   \n",
              "01a4717d38b651e46dda7f1ab8d1494af2682a847fa9a52...      651   \n",
              "\n",
              "                                                    porcentaje_del_dataset  \n",
              "customer_id                                                                 \n",
              "a65f77281a528bf5c1e9f270141d601d116e1df33bf9df5...                0.102086  \n",
              "84c34f4f564db1f437943c77af41f83bf6fd7c01701cbb0...                0.072052  \n",
              "e55d5ddb3a0c3fb1b4df8edbf526ba12989ab2a852c7277...                0.069018  \n",
              "2df54f0d0653811fe06479c93905f3e6ecc6d07edf39d8b...                0.066363  \n",
              "9f12a01e2982f70a820b5dd61528bf769b94c5c5e43b237...                0.059841  \n",
              "bbebb44478948f5052c3f4c5dc04f08653e7938886a8568...                0.056124  \n",
              "d3b5f70ec21ad1718cf4951445e97007de0d4e85c39ea9f...                0.054911  \n",
              "ad3090d52d11671ffb43bfaa85e3620eff669e8c92c9114...                0.050815  \n",
              "0152d53f51444891ea07013fd1fb8325415bb09bb6798a5...                0.050360  \n",
              "01a4717d38b651e46dda7f1ab8d1494af2682a847fa9a52...                0.049374  "
            ]
          },
          "metadata": {},
          "output_type": "display_data"
        }
      ],
      "source": [
        "# Hacemos una copia del set de entrenamiento manteniendo solamente la columna 'customer_id':\n",
        "compras_por_usuario = train_set.drop(columns=['t_dat', 'article_id', 'price', 'sales_channel_id'])\n",
        "# Agregamos una columna 'compras':\n",
        "compras_por_usuario['compras'] = 1\n",
        "# Agrupamos por 'customer_id' y contamos la cantidad de veces que se repite cada usuario en el set:\n",
        "compras_por_usuario = compras_por_usuario.groupby('customer_id').count()\n",
        "# Ordenamos la cuenta de cada usuario de mayor a menor:\n",
        "compras_por_usuario = compras_por_usuario.sort_values(by='compras', ascending=False)\n",
        "# Calculamos el porcentaje que representa cada número de compras dentro del dataset:\n",
        "compras_por_usuario['porcentaje_del_dataset'] = compras_por_usuario / train_set.shape[0] * 100\n",
        "# Desplegamos el porcentaje total que representa el top 10 dentro del dataset:\n",
        "porcentaje_total_que_representa_el_top_10 = compras_por_usuario.iloc[0:10].sum()['porcentaje_del_dataset']\n",
        "print(f'Porcentaje total que representa el top 10 dentro del dataset: {porcentaje_total_que_representa_el_top_10}%')\n",
        "# Desplegamos el top 10 de usuarios más activos en el set:\n",
        "display(compras_por_usuario.head(10))"
      ]
    },
    {
      "cell_type": "markdown",
      "metadata": {
        "id": "7hOZNcgdgig0"
      },
      "source": [
        "Así, el top 10 de usuarios con más actividad en el dataset se lleva el 0.6% de las compras, reportando más de 600 compras cada uno. Sin embargo, el resto de usuarios ha realizado una cantidad mucho menor de compras:"
      ]
    },
    {
      "cell_type": "code",
      "execution_count": 6,
      "metadata": {
        "colab": {
          "base_uri": "https://localhost:8080/",
          "height": 485
        },
        "id": "gVrYCoPDgig0",
        "outputId": "df6ecf4d-24f4-4a26-ffec-bd5f33f20d52"
      },
      "outputs": [
        {
          "data": {
            "image/png": "[encoded data removed]",
            "text/plain": [
              "<Figure size 1512x504 with 1 Axes>"
            ]
          },
          "metadata": {
            "needs_background": "light"
          },
          "output_type": "display_data"
        }
      ],
      "source": [
        "# Hacemos una copia del número de compras por usuario:\n",
        "usuarios_por_numero_de_compras = compras_por_usuario.drop(columns=['porcentaje_del_dataset'])\n",
        "# Agregamos una columna 'numero_de_usuarios':\n",
        "usuarios_por_numero_de_compras['usuarios'] = 1\n",
        "# Agrupamos por el número de compras, y contamos cuántos usuarios realizaron ese número de compras:\n",
        "usuarios_por_numero_de_compras = usuarios_por_numero_de_compras.groupby('compras').sum()\n",
        "# Definimos un grupo que represente N o más compras:\n",
        "N = 100\n",
        "usuarios_que_realizaron_N_o_mas_compras = usuarios_por_numero_de_compras.loc[N:]['usuarios'].sum()\n",
        "usuarios_por_numero_de_compras = usuarios_por_numero_de_compras.loc[0:N-1]\n",
        "usuarios_por_numero_de_compras.loc[f'{N} o más'] = usuarios_que_realizaron_N_o_mas_compras\n",
        "# Graficamos:\n",
        "plt.figure(figsize=(21, 7))\n",
        "plt.xticks(rotation=90)\n",
        "plt.bar(\n",
        "    x=[i for i in range(len(usuarios_por_numero_de_compras))],\n",
        "    height=[usuarios for usuarios in usuarios_por_numero_de_compras['usuarios']],\n",
        "    tick_label=usuarios_por_numero_de_compras.index,\n",
        ")\n",
        "plt.xlabel('Número de compras')\n",
        "plt.ylabel('Número de usuarios')\n",
        "plt.show()"
      ]
    },
    {
      "cell_type": "markdown",
      "metadata": {
        "id": "XsO9w_3ngig1"
      },
      "source": [
        "Notamos que en la distribución obtenida, la mayor parte de los usuarios han realizado solamente entre 2 a 6 compras, tras lo cual el número de usuarios que ha realizado un mayor número de compras decae rápidamente, asemejándose la curva a un decrecimiento exponencial. "
      ]
    },
    {
      "cell_type": "markdown",
      "metadata": {
        "id": "muhYrzLAgig1"
      },
      "source": [
        "### Distribución de interacciones por producto"
      ]
    },
    {
      "cell_type": "markdown",
      "metadata": {
        "id": "n0gE8O5lgig1"
      },
      "source": [
        "Obtenemos los 10 productos más comprados:"
      ]
    },
    {
      "cell_type": "code",
      "execution_count": 7,
      "metadata": {
        "colab": {
          "base_uri": "https://localhost:8080/",
          "height": 381
        },
        "id": "ei_dbmU8gig2",
        "outputId": "c4af6d9c-55cb-47fe-c850-e3c218bc5d65"
      },
      "outputs": [
        {
          "name": "stdout",
          "output_type": "stream",
          "text": [
            "Los 10 productos más comprados representan el 0.8631013552511528% de las interacciones en el dataset.\n"
          ]
        },
        {
          "data": {
            "text/html": [
              "<div>\n",
              "<style scoped>\n",
              "    .dataframe tbody tr th:only-of-type {\n",
              "        vertical-align: middle;\n",
              "    }\n",
              "\n",
              "    .dataframe tbody tr th {\n",
              "        vertical-align: top;\n",
              "    }\n",
              "\n",
              "    .dataframe thead th {\n",
              "        text-align: right;\n",
              "    }\n",
              "</style>\n",
              "<table border=\"1\" class=\"dataframe\">\n",
              "  <thead>\n",
              "    <tr style=\"text-align: right;\">\n",
              "      <th></th>\n",
              "      <th>article_id</th>\n",
              "      <th>prod_name</th>\n",
              "      <th>compras</th>\n",
              "      <th>porcentaje_de_interacciones</th>\n",
              "    </tr>\n",
              "  </thead>\n",
              "  <tbody>\n",
              "    <tr>\n",
              "      <th>0</th>\n",
              "      <td>706016001</td>\n",
              "      <td>Jade HW Skinny Denim TRS</td>\n",
              "      <td>1978</td>\n",
              "      <td>0.150019</td>\n",
              "    </tr>\n",
              "    <tr>\n",
              "      <th>1</th>\n",
              "      <td>706016002</td>\n",
              "      <td>Jade HW Skinny Denim TRS</td>\n",
              "      <td>1357</td>\n",
              "      <td>0.102920</td>\n",
              "    </tr>\n",
              "    <tr>\n",
              "      <th>2</th>\n",
              "      <td>610776002</td>\n",
              "      <td>Tilly (1)</td>\n",
              "      <td>1302</td>\n",
              "      <td>0.098749</td>\n",
              "    </tr>\n",
              "    <tr>\n",
              "      <th>3</th>\n",
              "      <td>372860001</td>\n",
              "      <td>7p Basic Shaftless</td>\n",
              "      <td>1225</td>\n",
              "      <td>0.092909</td>\n",
              "    </tr>\n",
              "    <tr>\n",
              "      <th>4</th>\n",
              "      <td>759871002</td>\n",
              "      <td>Tilda tank</td>\n",
              "      <td>1010</td>\n",
              "      <td>0.076602</td>\n",
              "    </tr>\n",
              "    <tr>\n",
              "      <th>5</th>\n",
              "      <td>399223001</td>\n",
              "      <td>Curvy Jeggings HW Ankle</td>\n",
              "      <td>991</td>\n",
              "      <td>0.075161</td>\n",
              "    </tr>\n",
              "    <tr>\n",
              "      <th>6</th>\n",
              "      <td>464297007</td>\n",
              "      <td>Greta Thong Mynta Low 3p</td>\n",
              "      <td>920</td>\n",
              "      <td>0.069776</td>\n",
              "    </tr>\n",
              "    <tr>\n",
              "      <th>7</th>\n",
              "      <td>562245001</td>\n",
              "      <td>Luna skinny RW</td>\n",
              "      <td>899</td>\n",
              "      <td>0.068183</td>\n",
              "    </tr>\n",
              "    <tr>\n",
              "      <th>8</th>\n",
              "      <td>562245046</td>\n",
              "      <td>Luna skinny RW</td>\n",
              "      <td>849</td>\n",
              "      <td>0.064391</td>\n",
              "    </tr>\n",
              "    <tr>\n",
              "      <th>9</th>\n",
              "      <td>372860002</td>\n",
              "      <td>7p Basic Shaftless</td>\n",
              "      <td>849</td>\n",
              "      <td>0.064391</td>\n",
              "    </tr>\n",
              "  </tbody>\n",
              "</table>\n",
              "</div>"
            ],
            "text/plain": [
              "   article_id                 prod_name  compras  porcentaje_de_interacciones\n",
              "0   706016001  Jade HW Skinny Denim TRS     1978                     0.150019\n",
              "1   706016002  Jade HW Skinny Denim TRS     1357                     0.102920\n",
              "2   610776002                 Tilly (1)     1302                     0.098749\n",
              "3   372860001        7p Basic Shaftless     1225                     0.092909\n",
              "4   759871002                Tilda tank     1010                     0.076602\n",
              "5   399223001   Curvy Jeggings HW Ankle      991                     0.075161\n",
              "6   464297007  Greta Thong Mynta Low 3p      920                     0.069776\n",
              "7   562245001            Luna skinny RW      899                     0.068183\n",
              "8   562245046            Luna skinny RW      849                     0.064391\n",
              "9   372860002        7p Basic Shaftless      849                     0.064391"
            ]
          },
          "execution_count": 7,
          "metadata": {},
          "output_type": "execute_result"
        }
      ],
      "source": [
        "# Hacemos una copia del train set, dejando solamente 'article_id':\n",
        "compras_por_producto = train_set.drop(columns=['t_dat', 'customer_id', 'price', 'sales_channel_id'])\n",
        "# Agregamos una columna 'compras':\n",
        "compras_por_producto['compras'] = 1\n",
        "# Agrupamos por producto y contamos cuántas veces fue comprado cada uno:\n",
        "compras_por_producto = compras_por_producto.groupby('article_id', as_index=False).sum().sort_values(by='compras', ascending=False).merge(productos, on='article_id')\n",
        "# Agregamos el porcentaje de las interacciones que representa cada producto:\n",
        "compras_por_producto['porcentaje_de_interacciones'] = compras_por_producto['compras'] * 100 / train_set.shape[0]\n",
        "# Calculamos el porcentaje de interacciones del top 10 de productos:\n",
        "print(f'Los 10 productos más comprados representan el {compras_por_producto[\"porcentaje_de_interacciones\"].head(10).sum()}% de las interacciones en el dataset.')\n",
        "# Desplegamos los 10 productos más comprados:\n",
        "compras_por_producto[['article_id', 'prod_name', 'compras', 'porcentaje_de_interacciones']].head(10)\n"
      ]
    },
    {
      "cell_type": "markdown",
      "metadata": {
        "id": "PixdbvrKgig2"
      },
      "source": [
        "Así, el top 10 de productos más comprados representan el 0.8% del total de interacciones en el dataset. La distribución de interacciones se observa de la siguiente manera:"
      ]
    },
    {
      "cell_type": "code",
      "execution_count": 8,
      "metadata": {
        "colab": {
          "base_uri": "https://localhost:8080/",
          "height": 485
        },
        "id": "D4axSNKVgig2",
        "outputId": "acf83fb3-17a8-42b5-b67f-670a687850f0"
      },
      "outputs": [
        {
          "data": {
            "image/png": "[encoded data removed]",
            "text/plain": [
              "<Figure size 1512x504 with 1 Axes>"
            ]
          },
          "metadata": {
            "needs_background": "light"
          },
          "output_type": "display_data"
        }
      ],
      "source": [
        "# Creamos una copia de compras_por_producto:\n",
        "productos_por_numero_de_compras = compras_por_producto[['compras']].copy()\n",
        "# Agregamos la columna 'productos':\n",
        "productos_por_numero_de_compras['productos'] = 1\n",
        "# Agrupamos por número de compras y contamos:\n",
        "productos_por_numero_de_compras = productos_por_numero_de_compras.groupby('compras').sum()\n",
        "# Definimos un grupo que represente N o más compras:\n",
        "N = 100\n",
        "productos_que_fueron_comprados_N_o_mas_veces = productos_por_numero_de_compras.loc[N:]['productos'].sum()\n",
        "productos_por_numero_de_compras = productos_por_numero_de_compras.loc[0:N-1]\n",
        "productos_por_numero_de_compras.loc[f'{N} o más'] = productos_que_fueron_comprados_N_o_mas_veces\n",
        "# Graficamos:\n",
        "plt.figure(figsize=(21, 7))\n",
        "plt.xticks(rotation=90)\n",
        "plt.xlabel('Número de compras')\n",
        "plt.ylabel('Número de productos')\n",
        "plt.bar(\n",
        "    x=[i for i in range(len(productos_por_numero_de_compras))],\n",
        "    height=[productos for productos in productos_por_numero_de_compras['productos']],\n",
        "    tick_label=productos_por_numero_de_compras.index,\n",
        ")\n",
        "plt.show()"
      ]
    },
    {
      "cell_type": "markdown",
      "metadata": {
        "id": "IcBXIboUgig2"
      },
      "source": [
        "Notamos que la mayor parte de los productos fueron comprados 1, 2 o 3 veces, mientras que el número de productos que fueron comprados una mayor cantidad de veces es cada vez menor, asemejándose la curva a un decrecimiento exponencial."
      ]
    },
    {
      "cell_type": "markdown",
      "metadata": {
        "id": "Eaws5HkOgig3"
      },
      "source": [
        "### Tabla resumen"
      ]
    },
    {
      "cell_type": "markdown",
      "metadata": {
        "id": "nKkHWF7Wgig3"
      },
      "source": [
        "En el set de entrenamiento encontramos lo siguiente:"
      ]
    },
    {
      "cell_type": "code",
      "execution_count": 9,
      "metadata": {
        "colab": {
          "base_uri": "https://localhost:8080/",
          "height": 300
        },
        "id": "olnM-eQpgig3",
        "outputId": "8ef3121b-29e1-464f-d10d-5dce525ee3e9"
      },
      "outputs": [
        {
          "data": {
            "text/html": [
              "<div>\n",
              "<style scoped>\n",
              "    .dataframe tbody tr th:only-of-type {\n",
              "        vertical-align: middle;\n",
              "    }\n",
              "\n",
              "    .dataframe tbody tr th {\n",
              "        vertical-align: top;\n",
              "    }\n",
              "\n",
              "    .dataframe thead th {\n",
              "        text-align: right;\n",
              "    }\n",
              "</style>\n",
              "<table border=\"1\" class=\"dataframe\">\n",
              "  <thead>\n",
              "    <tr style=\"text-align: right;\">\n",
              "      <th></th>\n",
              "      <th>Valor</th>\n",
              "    </tr>\n",
              "    <tr>\n",
              "      <th>Variable</th>\n",
              "      <th></th>\n",
              "    </tr>\n",
              "  </thead>\n",
              "  <tbody>\n",
              "    <tr>\n",
              "      <th>Número de usuarios distintos</th>\n",
              "      <td>45000</td>\n",
              "    </tr>\n",
              "    <tr>\n",
              "      <th>Número de ítems distintos</th>\n",
              "      <td>73080</td>\n",
              "    </tr>\n",
              "    <tr>\n",
              "      <th>Promedio de productos por usuario</th>\n",
              "      <td>29.300022</td>\n",
              "    </tr>\n",
              "    <tr>\n",
              "      <th>Desviación estándar de productos por usuario</th>\n",
              "      <td>44.939461</td>\n",
              "    </tr>\n",
              "    <tr>\n",
              "      <th>Promedio de usuarios por producto</th>\n",
              "      <td>18.041886</td>\n",
              "    </tr>\n",
              "    <tr>\n",
              "      <th>Desviación estándar de usuarios por producto</th>\n",
              "      <td>38.01747</td>\n",
              "    </tr>\n",
              "    <tr>\n",
              "      <th>Densidad del conjunto de datos en cuanto a compras</th>\n",
              "      <td>0.000342</td>\n",
              "    </tr>\n",
              "  </tbody>\n",
              "</table>\n",
              "</div>"
            ],
            "text/plain": [
              "                                                        Valor\n",
              "Variable                                                     \n",
              "Número de usuarios distintos                            45000\n",
              "Número de ítems distintos                               73080\n",
              "Promedio de productos por usuario                   29.300022\n",
              "Desviación estándar de productos por usuario        44.939461\n",
              "Promedio de usuarios por producto                   18.041886\n",
              "Desviación estándar de usuarios por producto         38.01747\n",
              "Densidad del conjunto de datos en cuanto a compras   0.000342"
            ]
          },
          "execution_count": 9,
          "metadata": {},
          "output_type": "execute_result"
        }
      ],
      "source": [
        "# Obtenemos los valores únicos:\n",
        "valores_unicos = train_set.nunique()\n",
        "tabla_resumen = pd.DataFrame(index=pd.CategoricalIndex(data=[], name='Variable'), columns=['Valor'])\n",
        "tabla_resumen.loc['Número de usuarios distintos'] = valores_unicos['customer_id']\n",
        "tabla_resumen.loc['Número de ítems distintos'] = valores_unicos['article_id']\n",
        "# Obtenemos el promedio y desviación estándar de productos por usuarios:\n",
        "tabla_resumen.loc['Promedio de productos por usuario'] = compras_por_usuario['compras'].mean()\n",
        "tabla_resumen.loc['Desviación estándar de productos por usuario'] = compras_por_usuario['compras'].std()\n",
        "# Obtenemos el promedio y desviación estándar de usuarios por productos:\n",
        "tabla_resumen.loc['Promedio de usuarios por producto'] = compras_por_producto['compras'].mean()\n",
        "tabla_resumen.loc['Desviación estándar de usuarios por producto'] = compras_por_producto['compras'].std()\n",
        "# Obtenemos la densidad del conjunto de datos, dividiendo la cantidad de pares usuario-producto que sí están dentro del set\n",
        "# por los pares que no lo están: \n",
        "tabla_resumen.loc['Densidad del conjunto de datos en cuanto a compras'] = (\n",
        "    train_set[['customer_id', 'article_id']].drop_duplicates().shape[0] / (\n",
        "        train_set['customer_id'].nunique() * train_set['article_id'].nunique()\n",
        "    )\n",
        ")\n",
        "# Visualizamos los resultados:\n",
        "tabla_resumen\n"
      ]
    },
    {
      "cell_type": "markdown",
      "metadata": {
        "id": "re32Ouqlgig3"
      },
      "source": [
        "### Preparaciones para la evaluación de modelos"
      ]
    },
    {
      "cell_type": "markdown",
      "metadata": {
        "id": "rl3AVCgjgig3"
      },
      "source": [
        "A continuación se definen funciones que serán de utilidad para evaluar los distintos modelos de recomendación. Primero, definimos la función `get_top_n()` para obtener el top N recomendado a cada usuario:"
      ]
    },
    {
      "cell_type": "code",
      "execution_count": 10,
      "metadata": {
        "id": "eOOL_Mk_gig3"
      },
      "outputs": [],
      "source": [
        "# Obtenido de la documentación de Surprise: https://surprise.readthedocs.io/en/stable/FAQ.html\n",
        "def get_top_n(predictions, n=10):\n",
        "    # First map the predictions to each user.\n",
        "    top_n = defaultdict(list)\n",
        "    for uid, iid, true_r, est, _ in predictions:\n",
        "        top_n[uid].append((iid, est))\n",
        "\n",
        "    # Then sort the predictions for each user and retrieve the k highest ones.\n",
        "    for uid, user_ratings in top_n.items():\n",
        "        user_ratings.sort(key=lambda x: x[1], reverse=True)\n",
        "        top_n[uid] = user_ratings[:n]\n",
        "\n",
        "    return top_n"
      ]
    },
    {
      "cell_type": "markdown",
      "metadata": {
        "id": "kv0JOhFegig3"
      },
      "source": [
        "Definimos la función `ndcg()` para obtener las métricas NDCG:"
      ]
    },
    {
      "cell_type": "code",
      "execution_count": 11,
      "metadata": {
        "id": "D0Z3xdl0gig3"
      },
      "outputs": [],
      "source": [
        "def dcg_para_un_usuario(top_n_verdadero: list, top_n_predicho: list, arroba: int):\n",
        "    # Definimos limite_del_top_n_verdadero para que no nos arroje un error de \"index out of range\" al comparar los\n",
        "    # elementos de top_n_predicho con los de top_n_verdadero:\n",
        "    limite_del_top_n_verdadero = min(arroba, len(top_n_verdadero))\n",
        "    # Inicializamos la suma de gains en cero:\n",
        "    dcg = 0\n",
        "    # Para cada ítem dentro del límite dado por @...\n",
        "    for i in range(1, arroba+1):\n",
        "        item = top_n_predicho[i-1]\n",
        "        # ... si el item está en el top_n_verdadero, es relevante. Si no, no:\n",
        "        if item in top_n_verdadero[0:limite_del_top_n_verdadero]:\n",
        "            relevante = 1\n",
        "        else:\n",
        "            relevante = 0\n",
        "        # Sumamos el gain descontado:\n",
        "        dcg += (2**relevante - 1) / log2(i + 1)\n",
        "    # Retornamos el resultado final:\n",
        "    return dcg\n",
        "\n",
        "def idcg_para_un_usuario(arroba: int):\n",
        "    idcg = 0\n",
        "    for i in range(1, arroba+1):\n",
        "        # Hacemos que todos los ítems sean relevantes:\n",
        "        idcg += 1 / log2(i + 1)\n",
        "    return idcg\n",
        "\n",
        "def ndcg_para_un_usuario(top_n_verdadero: list, top_n_predicho: list, arroba: int):\n",
        "    return dcg_para_un_usuario(top_n_verdadero, top_n_predicho, arroba) / idcg_para_un_usuario(arroba)\n",
        "\n",
        "def ndcg(top_n_verdadero_para_cada_usuario: dict, top_n_predicho_para_cada_usuario: dict, arroba: int):\n",
        "    suma_de_ndcgs = 0\n",
        "    for usuario in top_n_verdadero_para_cada_usuario.keys():\n",
        "        top_n_verdadero = top_n_verdadero_para_cada_usuario[usuario]\n",
        "        top_n_predicho = top_n_predicho_para_cada_usuario[usuario]\n",
        "        suma_de_ndcgs += ndcg_para_un_usuario(top_n_verdadero, top_n_predicho, arroba)\n",
        "    return suma_de_ndcgs / len(top_n_verdadero_para_cada_usuario)"
      ]
    },
    {
      "cell_type": "markdown",
      "metadata": {
        "id": "mS3q4fiGgig4"
      },
      "source": [
        "Definimos la función `mean_ap()` para obtener las métricas MAP:"
      ]
    },
    {
      "cell_type": "code",
      "execution_count": 12,
      "metadata": {
        "id": "ZPYv-wmDgig4"
      },
      "outputs": [],
      "source": [
        "def ap(top_n_verdadero: list, top_n_predicho: list, arroba: int):\n",
        "    # Definimos limite_del_top_n_verdadero para que no nos arroje un error de \"index out of range\" al comparar los\n",
        "    # elementos de top_n_predicho con los de top_n_verdadero:\n",
        "    limite_del_top_n_verdadero = min(arroba, len(top_n_verdadero))\n",
        "    verdaderos_positivos_hasta_el_momento = 0\n",
        "    suma_de_precisiones = 0\n",
        "    # Para cada ítem dentro del límite dado por @...\n",
        "    for i in range(1, arroba+1):\n",
        "        item = top_n_predicho[i-1]\n",
        "        # ... si el item no está en el top_n_verdadero, no es relevante. Si sí lo está, es relevante:\n",
        "        if not item in top_n_verdadero[0:limite_del_top_n_verdadero]:\n",
        "            continue\n",
        "        verdaderos_positivos_hasta_el_momento += 1\n",
        "        suma_de_precisiones += verdaderos_positivos_hasta_el_momento / i\n",
        "    # Retornar precisión promedio:\n",
        "    if verdaderos_positivos_hasta_el_momento == 0:\n",
        "        return 0\n",
        "    return suma_de_precisiones / verdaderos_positivos_hasta_el_momento\n",
        "    # Fórmula complementada por https://medium.com/@misty.mok/how-mean-average-precision-at-k-map-k-can-be-more-useful-than-other-evaluation-metrics-6881e0ee21a9\n",
        "\n",
        "def mean_ap(top_n_verdadero_para_cada_usuario: dict, top_n_predicho_para_cada_usuario: dict, arroba: int):\n",
        "    suma_de_aps = 0\n",
        "    for usuario in top_n_verdadero_para_cada_usuario.keys():\n",
        "        suma_de_aps += ap(top_n_verdadero_para_cada_usuario[usuario], top_n_predicho_para_cada_usuario[usuario], arroba)\n",
        "    return suma_de_aps / len(top_n_verdadero_para_cada_usuario)"
      ]
    },
    {
      "cell_type": "markdown",
      "metadata": {
        "id": "ZGPtZCLdgig4"
      },
      "source": [
        "Definimos la función `evaluar()` para incorporar las métricas NDCG@10, NDCG@20, NDCG@30, MAP@10, MAP@20 y MAP@30, junto con la función `imprimir_metricas()` para visualizarlas:"
      ]
    },
    {
      "cell_type": "code",
      "execution_count": 13,
      "metadata": {
        "id": "GSQSa8f8gig4"
      },
      "outputs": [],
      "source": [
        "def evaluar(top_n_verdadero_para_cada_usuario: dict, top_n_predicho_para_cada_usuario, arrobas=(10, 20, 30)):\n",
        "    resultados = {'ndcg': {}, 'map': {}}\n",
        "    for arroba in arrobas:\n",
        "        resultados['ndcg'][arroba] = ndcg(top_n_verdadero_para_cada_usuario, top_n_predicho_para_cada_usuario, arroba)\n",
        "        resultados['map'][arroba] = mean_ap(top_n_verdadero_para_cada_usuario, top_n_predicho_para_cada_usuario, arroba)\n",
        "    return resultados\n",
        "\n",
        "def imprimir_metricas(metricas: dict, arrobas=(10, 20, 30)):\n",
        "    # Imprimir métricas:\n",
        "    for arroba in arrobas:\n",
        "        print(f'NDCG@{arroba}:', metricas['ndcg'][arroba])\n",
        "    for arroba in arrobas:\n",
        "        print(f'MAP@{arroba}:', metricas['map'][arroba])"
      ]
    },
    {
      "cell_type": "markdown",
      "metadata": {
        "id": "DwWN3Tj8gig4"
      },
      "source": [
        "Finalmente, generamos las recomendaciones \"correctas\" para cada usuario, considerando como \"relevantes\" los ítems que compró, e irrelevantes los ítems que no:"
      ]
    },
    {
      "cell_type": "code",
      "execution_count": 14,
      "metadata": {
        "colab": {
          "base_uri": "https://localhost:8080/"
        },
        "id": "pOSLVQx1gig4",
        "outputId": "a5ed25a1-0bcc-4a32-c027-e0c452e617d0"
      },
      "outputs": [
        {
          "name": "stdout",
          "output_type": "stream",
          "text": [
            "Recomendaciones \"correctas\" para un usuario de ejemplo (ID d265c0dc7e871726894c8a14e2369768af5f5315a55dc822d46e1c1d44d7d89e):\n"
          ]
        },
        {
          "data": {
            "text/plain": [
              "[808305001,\n",
              " 808305001,\n",
              " 764624004,\n",
              " 803468002,\n",
              " 803468002,\n",
              " 857794006,\n",
              " 916000003,\n",
              " 916000003,\n",
              " 926164001,\n",
              " 935092001]"
            ]
          },
          "execution_count": 14,
          "metadata": {},
          "output_type": "execute_result"
        }
      ],
      "source": [
        "top_n_verdadero_para_cada_usuario = defaultdict(list)\n",
        "for i in validation_set.index:\n",
        "    fila = validation_set.loc[i]\n",
        "    top_n_verdadero_para_cada_usuario[fila['customer_id']].append(fila['article_id'])\n",
        "print('Recomendaciones \\\"correctas\\\" para un usuario de ejemplo (ID d265c0dc7e871726894c8a14e2369768af5f5315a55dc822d46e1c1d44d7d89e):')\n",
        "top_n_verdadero_para_cada_usuario['d265c0dc7e871726894c8a14e2369768af5f5315a55dc822d46e1c1d44d7d89e']"
      ]
    },
    {
      "cell_type": "markdown",
      "metadata": {
        "id": "t77BdcMhgig5"
      },
      "source": [
        "## Actividad 2: Recomendación no personalizada"
      ]
    },
    {
      "cell_type": "markdown",
      "metadata": {
        "id": "aviR9Us8gig5"
      },
      "source": [
        "### Most Popular"
      ]
    },
    {
      "cell_type": "markdown",
      "metadata": {
        "id": "omeBlgaqgig5"
      },
      "source": [
        "Para la recomendación *most popular*, debemos obtener los 30 productos más vendidos:"
      ]
    },
    {
      "cell_type": "code",
      "execution_count": 15,
      "metadata": {
        "colab": {
          "base_uri": "https://localhost:8080/"
        },
        "id": "cltHE6xrgig5",
        "outputId": "28e42962-fba0-4b60-c236-0882172e450c"
      },
      "outputs": [
        {
          "name": "stdout",
          "output_type": "stream",
          "text": [
            "IDs de los 30 productos más vendidos:\n"
          ]
        },
        {
          "data": {
            "text/plain": [
              "array([706016001, 706016002, 610776002, 372860001, 759871002, 399223001,\n",
              "       464297007, 562245001, 372860002, 562245046, 351484002, 156231001,\n",
              "       673396002, 399256001, 706016003, 610776001, 673677002, 573716012,\n",
              "       720125001, 448509014, 568601006, 160442007, 608776002, 158340001,\n",
              "       484398001, 688537004, 599580017, 554450001, 565379001, 507909001],\n",
              "      dtype=int64)"
            ]
          },
          "execution_count": 15,
          "metadata": {},
          "output_type": "execute_result"
        }
      ],
      "source": [
        "top_30_most_popular = np.array(compras_por_producto.sort_values(by='compras', ascending=False)['article_id'][0:30])\n",
        "print('IDs de los 30 productos más vendidos:')\n",
        "top_30_most_popular"
      ]
    },
    {
      "cell_type": "markdown",
      "metadata": {
        "id": "05lS-8XDgig5"
      },
      "source": [
        "Luego, recomendamos dichos productos a todos los usuarios y obtenemos las métricas de nuestra predicción:"
      ]
    },
    {
      "cell_type": "code",
      "execution_count": 16,
      "metadata": {
        "id": "4DiGmT4Zgig5"
      },
      "outputs": [
        {
          "name": "stdout",
          "output_type": "stream",
          "text": [
            "NDCG@10: 0.003007091961237623\n",
            "NDCG@20: 0.002632137060389783\n",
            "NDCG@30: 0.0022961592980431\n",
            "MAP@10: 0.0092845129725025\n",
            "MAP@20: 0.010244445762779046\n",
            "MAP@30: 0.010616304990921407\n"
          ]
        }
      ],
      "source": [
        "# Recomendar el top 30 de productos más populares a cada uno de los usuarios:\n",
        "top_30_most_popular_para_cada_usuario = defaultdict(list)\n",
        "for usuario in validation_set['customer_id'].unique():\n",
        "    top_30_most_popular_para_cada_usuario[usuario] = top_30_most_popular\n",
        "# Obtener métricas:\n",
        "imprimir_metricas(evaluar(top_n_verdadero_para_cada_usuario, top_30_most_popular_para_cada_usuario))"
      ]
    },
    {
      "cell_type": "markdown",
      "metadata": {
        "id": "unbDWNCLgig5"
      },
      "source": [
        "### Random"
      ]
    },
    {
      "cell_type": "markdown",
      "metadata": {
        "id": "Go4kqlzigig5"
      },
      "source": [
        "Para la recomendación *random* seleccionamos 30 productos al azar:"
      ]
    },
    {
      "cell_type": "code",
      "execution_count": 17,
      "metadata": {
        "colab": {
          "base_uri": "https://localhost:8080/"
        },
        "id": "AB1d6DFRgig6",
        "outputId": "a37c7b3f-968b-41c7-d735-a8ac350d09bc"
      },
      "outputs": [
        {
          "name": "stdout",
          "output_type": "stream",
          "text": [
            "Los 30 ítems seleccionados aleatoriamente fueron:\n"
          ]
        },
        {
          "data": {
            "text/plain": [
              "array([581563001, 848435002, 650512001, 868747002, 753916002, 783707029,\n",
              "       895082001, 620423013, 557565004, 611415038, 648178001, 640824005,\n",
              "       862316001, 433414020, 247072020, 686556001, 485548002, 747198001,\n",
              "       770738001, 689165001, 716335002, 700115001, 432566006, 764431001,\n",
              "       596028001, 754291002, 734590002, 681373013, 817049004, 914886005],\n",
              "      dtype=int64)"
            ]
          },
          "execution_count": 17,
          "metadata": {},
          "output_type": "execute_result"
        }
      ],
      "source": [
        "top_30_random = np.array(random.sample(list(train_set['article_id'].unique()), k=30))\n",
        "print('Los 30 ítems seleccionados aleatoriamente fueron:')\n",
        "top_30_random"
      ]
    },
    {
      "cell_type": "markdown",
      "metadata": {
        "id": "qYgmx544gig6"
      },
      "source": [
        "Recomendamos dichos productos a todos los usuarios y obtenemos las métricas de nuestra predicción:"
      ]
    },
    {
      "cell_type": "code",
      "execution_count": 18,
      "metadata": {
        "id": "Zi_aZ3Prgig6"
      },
      "outputs": [
        {
          "name": "stdout",
          "output_type": "stream",
          "text": [
            "NDCG@10: 2.1571975232063098e-05\n",
            "NDCG@20: 2.3379266546327766e-05\n",
            "NDCG@30: 2.175860750638697e-05\n",
            "MAP@10: 4.155591622954547e-05\n",
            "MAP@20: 6.038532903999443e-05\n",
            "MAP@30: 6.680398210790773e-05\n"
          ]
        }
      ],
      "source": [
        "# Recomendar los 30 productos seleccionados aleatoriamente a todos los usuarios:\n",
        "top_30_random_para_cada_usuario = defaultdict(list)\n",
        "for usuario in validation_set['customer_id'].unique():\n",
        "    top_30_random_para_cada_usuario[usuario] = top_30_random\n",
        "# Calcular las métricas:\n",
        "imprimir_metricas(evaluar(top_n_verdadero_para_cada_usuario, top_30_random_para_cada_usuario))"
      ]
    },
    {
      "cell_type": "markdown",
      "metadata": {
        "id": "sS4hTu0igig6"
      },
      "source": [
        "## Actividad 3: Recomendación basada en feedback implícito"
      ]
    },
    {
      "cell_type": "markdown",
      "metadata": {},
      "source": [
        "### ALS"
      ]
    },
    {
      "cell_type": "markdown",
      "metadata": {},
      "source": [
        "Creamos una matriz usuarios-items para entrenar los modelos, ya que ese es el formato requerido por la librería Implicit:"
      ]
    },
    {
      "cell_type": "code",
      "execution_count": 19,
      "metadata": {},
      "outputs": [
        {
          "data": {
            "text/plain": [
              "<45000x73080 sparse matrix of type '<class 'numpy.bool_'>'\n",
              "\twith 1125920 stored elements in Compressed Sparse Row format>"
            ]
          },
          "execution_count": 19,
          "metadata": {},
          "output_type": "execute_result"
        }
      ],
      "source": [
        "# Inicializar matriz de ceros con forma (Nº de usuarios, Nº de ítems):\n",
        "matriz_usuarios_items_entrenamiento = pd.DataFrame(\n",
        "    data=np.zeros(\n",
        "        shape=(train_set['customer_id'].nunique(), train_set['article_id'].nunique()),\n",
        "        dtype=np.bool8\n",
        "    ),\n",
        "    index=train_set['customer_id'].unique(),\n",
        "    columns=train_set['article_id'].unique(),\n",
        "    dtype=np.bool8\n",
        ")\n",
        "# Si el usuario interactuó con el ítem, poner el par (usuario, item) en True:\n",
        "for i in train_set.index:\n",
        "    fila = train_set.loc[i]\n",
        "    matriz_usuarios_items_entrenamiento.loc[fila['customer_id'], fila['article_id']] = True\n",
        "# Por último, convertir la matriz de tipo DataFrame a tipo CSR:\n",
        "csr_usuarios_items_entrenamiento = csr_matrix(matriz_usuarios_items_entrenamiento)\n",
        "csr_usuarios_items_entrenamiento"
      ]
    },
    {
      "cell_type": "markdown",
      "metadata": {},
      "source": [
        "Inicializamos, entrenamos y evaluamos los modelos con ALS:"
      ]
    },
    {
      "cell_type": "code",
      "execution_count": 20,
      "metadata": {},
      "outputs": [
        {
          "name": "stderr",
          "output_type": "stream",
          "text": [
            "c:\\Users\\sebas\\AppData\\Local\\Programs\\Python\\Python38\\lib\\site-packages\\implicit\\utils.py:28: UserWarning: OpenBLAS detected. Its highly recommend to set the environment variable 'export OPENBLAS_NUM_THREADS=1' to disable its internal multithreading\n",
            "  warnings.warn(\n"
          ]
        },
        {
          "data": {
            "application/vnd.jupyter.widget-view+json": {
              "model_id": "7346eb00ddc74e3ab589e65fd4f31ad1",
              "version_major": 2,
              "version_minor": 0
            },
            "text/plain": [
              "  0%|          | 0/15 [00:00<?, ?it/s]"
            ]
          },
          "metadata": {},
          "output_type": "display_data"
        },
        {
          "name": "stdout",
          "output_type": "stream",
          "text": [
            "Métricas para ALS entrenado con 50 factores latentes:\n",
            "\tTiempo de entrenamiento: 33.73520493507385 segundos\n",
            "\tNDCG@10: 0.004355175276802747\n",
            "\tMAP@10: 0.014493266734345958\n"
          ]
        },
        {
          "data": {
            "application/vnd.jupyter.widget-view+json": {
              "model_id": "5f121d97a6034c37b1f0c7448d3b298f",
              "version_major": 2,
              "version_minor": 0
            },
            "text/plain": [
              "  0%|          | 0/15 [00:00<?, ?it/s]"
            ]
          },
          "metadata": {},
          "output_type": "display_data"
        },
        {
          "name": "stdout",
          "output_type": "stream",
          "text": [
            "Métricas para ALS entrenado con 100 factores latentes:\n",
            "\tTiempo de entrenamiento: 39.24909329414368 segundos\n",
            "\tNDCG@10: 0.00455597076165751\n",
            "\tMAP@10: 0.015344298046647943\n"
          ]
        },
        {
          "data": {
            "application/vnd.jupyter.widget-view+json": {
              "model_id": "b7fe63493d994a54b27e64dc167def68",
              "version_major": 2,
              "version_minor": 0
            },
            "text/plain": [
              "  0%|          | 0/15 [00:00<?, ?it/s]"
            ]
          },
          "metadata": {},
          "output_type": "display_data"
        },
        {
          "name": "stdout",
          "output_type": "stream",
          "text": [
            "Métricas para ALS entrenado con 200 factores latentes:\n",
            "\tTiempo de entrenamiento: 47.20484805107117 segundos\n",
            "\tNDCG@10: 0.0050058058790086605\n",
            "\tMAP@10: 0.01719250488832737\n"
          ]
        },
        {
          "data": {
            "application/vnd.jupyter.widget-view+json": {
              "model_id": "d8bf6459c3cb42b4957bcb26cedb8a4c",
              "version_major": 2,
              "version_minor": 0
            },
            "text/plain": [
              "  0%|          | 0/15 [00:00<?, ?it/s]"
            ]
          },
          "metadata": {},
          "output_type": "display_data"
        },
        {
          "name": "stdout",
          "output_type": "stream",
          "text": [
            "Métricas para ALS entrenado con 500 factores latentes:\n",
            "\tTiempo de entrenamiento: 71.35180306434631 segundos\n",
            "\tNDCG@10: 0.005698863720587384\n",
            "\tMAP@10: 0.01966644936618832\n"
          ]
        },
        {
          "data": {
            "application/vnd.jupyter.widget-view+json": {
              "model_id": "dfd191a329b3457f912f53914e3b283f",
              "version_major": 2,
              "version_minor": 0
            },
            "text/plain": [
              "  0%|          | 0/15 [00:00<?, ?it/s]"
            ]
          },
          "metadata": {},
          "output_type": "display_data"
        },
        {
          "name": "stdout",
          "output_type": "stream",
          "text": [
            "Métricas para ALS entrenado con 1000 factores latentes:\n",
            "\tTiempo de entrenamiento: 152.0236382484436 segundos\n",
            "\tNDCG@10: 0.006344819656023773\n",
            "\tMAP@10: 0.021942648541865273\n"
          ]
        }
      ],
      "source": [
        "# Inicializamos las variables necesarias para el experimento:\n",
        "factores_a_probar = (50, 100, 200, 500, 1000)\n",
        "metricas_als = {}\n",
        "for factores in factores_a_probar:\n",
        "    metricas_als[factores] = {}\n",
        "\n",
        "    # Instanciamos el modelo:\n",
        "    modelo = AlternatingLeastSquares(factors=factores)\n",
        "    # Entrenamos el modelo:\n",
        "    inicio_entrenamiento = time()\n",
        "    modelo.fit(user_items=csr_usuarios_items_entrenamiento)\n",
        "    fin_entrenamiento = time()\n",
        "    metricas_als[factores]['tiempo'] = fin_entrenamiento - inicio_entrenamiento\n",
        "    \n",
        "    # Recomendamos el top 10 según el modelo para cada usuario:\n",
        "    top_10_predicho_para_cada_usuario = defaultdict(list)\n",
        "    # Las recomendaciones de Implicit son realizadas a la posición del usuario en la matriz usuario-item, no a su ID original.\n",
        "    # Por ello, iteramos sobre el rango (0, Nº de usuarios):\n",
        "    for posicion_usuario in range(csr_usuarios_items_entrenamiento.shape[0]):\n",
        "        # Obtenemos los top 10 ítems recomendados para el usuario en posicion_usuario.\n",
        "        # Dichas recomendaciones también corresponden a la posición de los ítems en la matriz usuario-item, no a su ID:\n",
        "        posiciones_de_items_recomendados = modelo.recommend(\n",
        "            userid=posicion_usuario,\n",
        "            user_items=csr_usuarios_items_entrenamiento[posicion_usuario],\n",
        "            N=10,\n",
        "            filter_already_liked_items=True\n",
        "        )\n",
        "        # Transformamos la posición del usuario a su verdadero ID:\n",
        "        id_usuario = matriz_usuarios_items_entrenamiento.iloc[posicion_usuario].name\n",
        "        # Transformamos las posiciones de los ítems recomendados a sus verdaderos IDs:\n",
        "        ids_items_recomendados = [\n",
        "            matriz_usuarios_items_entrenamiento.iloc[:, posicion_del_item].name for posicion_del_item in posiciones_de_items_recomendados[0]\n",
        "        ]\n",
        "        # Por último, le asignamos al ID del usuario las IDs de sus ítems recomendados:\n",
        "        top_10_predicho_para_cada_usuario[id_usuario] = ids_items_recomendados\n",
        "\n",
        "    # Calculamos las métricas para cada modelo:\n",
        "    metricas_als[factores]['NDCG@10'] = ndcg(top_n_verdadero_para_cada_usuario, top_10_predicho_para_cada_usuario, arroba=10)\n",
        "    metricas_als[factores]['MAP@10'] = mean_ap(top_n_verdadero_para_cada_usuario, top_10_predicho_para_cada_usuario, arroba=10)\n",
        "\n",
        "    # Imprimimos los resultados:\n",
        "    print(f'Métricas para ALS entrenado con {factores} factores latentes:')\n",
        "    print('\\tTiempo de entrenamiento:', metricas_als[factores]['tiempo'], 'segundos')\n",
        "    print('\\tNDCG@10:', metricas_als[factores]['NDCG@10'])\n",
        "    print('\\tMAP@10:', metricas_als[factores]['MAP@10'])"
      ]
    },
    {
      "cell_type": "markdown",
      "metadata": {},
      "source": [
        "### BPR"
      ]
    },
    {
      "cell_type": "markdown",
      "metadata": {},
      "source": [
        "Inicializamos, entrenamos y evaluamos los modelos con BPR:"
      ]
    },
    {
      "cell_type": "code",
      "execution_count": 21,
      "metadata": {},
      "outputs": [
        {
          "data": {
            "application/vnd.jupyter.widget-view+json": {
              "model_id": "3c38d4d49b954423acb903974a718d09",
              "version_major": 2,
              "version_minor": 0
            },
            "text/plain": [
              "  0%|          | 0/100 [00:00<?, ?it/s]"
            ]
          },
          "metadata": {},
          "output_type": "display_data"
        },
        {
          "name": "stdout",
          "output_type": "stream",
          "text": [
            "Métricas para BPR entrenado con 50 factores latentes:\n",
            "\tTiempo de entrenamiento: 13.166630506515503 segundos\n",
            "\tNDCG@10: 0.002482366132284839\n",
            "\tMAP@10: 0.008279162228248385\n"
          ]
        },
        {
          "data": {
            "application/vnd.jupyter.widget-view+json": {
              "model_id": "b87a02dae5804be193641308824c74fd",
              "version_major": 2,
              "version_minor": 0
            },
            "text/plain": [
              "  0%|          | 0/100 [00:00<?, ?it/s]"
            ]
          },
          "metadata": {},
          "output_type": "display_data"
        },
        {
          "name": "stdout",
          "output_type": "stream",
          "text": [
            "Métricas para BPR entrenado con 100 factores latentes:\n",
            "\tTiempo de entrenamiento: 19.45891046524048 segundos\n",
            "\tNDCG@10: 0.0027326688289870875\n",
            "\tMAP@10: 0.009132696665333733\n"
          ]
        },
        {
          "data": {
            "application/vnd.jupyter.widget-view+json": {
              "model_id": "687de05f130341efa83deb68ded4fd59",
              "version_major": 2,
              "version_minor": 0
            },
            "text/plain": [
              "  0%|          | 0/100 [00:00<?, ?it/s]"
            ]
          },
          "metadata": {},
          "output_type": "display_data"
        },
        {
          "name": "stdout",
          "output_type": "stream",
          "text": [
            "Métricas para BPR entrenado con 200 factores latentes:\n",
            "\tTiempo de entrenamiento: 31.796294927597046 segundos\n",
            "\tNDCG@10: 0.0028048680235171555\n",
            "\tMAP@10: 0.009249350992170825\n"
          ]
        },
        {
          "data": {
            "application/vnd.jupyter.widget-view+json": {
              "model_id": "018071d5e26e45f6b32dc0e66f8e2af7",
              "version_major": 2,
              "version_minor": 0
            },
            "text/plain": [
              "  0%|          | 0/100 [00:00<?, ?it/s]"
            ]
          },
          "metadata": {},
          "output_type": "display_data"
        },
        {
          "name": "stdout",
          "output_type": "stream",
          "text": [
            "Métricas para BPR entrenado con 500 factores latentes:\n",
            "\tTiempo de entrenamiento: 64.49687957763672 segundos\n",
            "\tNDCG@10: 0.002593720355741013\n",
            "\tMAP@10: 0.00849361110457717\n"
          ]
        },
        {
          "data": {
            "application/vnd.jupyter.widget-view+json": {
              "model_id": "6e804a8fc0d54bb89aebc32957c8aa4f",
              "version_major": 2,
              "version_minor": 0
            },
            "text/plain": [
              "  0%|          | 0/100 [00:00<?, ?it/s]"
            ]
          },
          "metadata": {},
          "output_type": "display_data"
        },
        {
          "name": "stdout",
          "output_type": "stream",
          "text": [
            "Métricas para BPR entrenado con 1000 factores latentes:\n",
            "\tTiempo de entrenamiento: 115.53751277923584 segundos\n",
            "\tNDCG@10: 0.0024226846297071085\n",
            "\tMAP@10: 0.007948577073903437\n"
          ]
        }
      ],
      "source": [
        "# Inicializamos las variables necesarias para el experimento:\n",
        "factores_a_probar = (50, 100, 200, 500, 1000)\n",
        "metricas_bpr = {}\n",
        "for factores in factores_a_probar:\n",
        "    metricas_bpr[factores] = {}\n",
        "\n",
        "    # Instanciamos el modelo:\n",
        "    modelo = BayesianPersonalizedRanking(factors=factores)\n",
        "    # Entrenamos el modelo:\n",
        "    inicio_entrenamiento = time()\n",
        "    modelo.fit(user_items=csr_usuarios_items_entrenamiento)\n",
        "    fin_entrenamiento = time()\n",
        "    metricas_bpr[factores]['tiempo'] = fin_entrenamiento - inicio_entrenamiento\n",
        "    \n",
        "    # Recomendamos el top 10 según el modelo para cada usuario:\n",
        "    top_10_predicho_para_cada_usuario = defaultdict(list)\n",
        "    # Las recomendaciones de Implicit son realizadas a la posición del usuario en la matriz usuario-item, no a su ID original.\n",
        "    # Por ello, iteramos sobre el rango (0, Nº de usuarios):\n",
        "    for posicion_usuario in range(csr_usuarios_items_entrenamiento.shape[0]):\n",
        "        # Obtenemos los top 10 ítems recomendados para el usuario en posicion_usuario.\n",
        "        # Dichas recomendaciones también corresponden a la posición de los ítems en la matriz usuario-item, no a su ID:\n",
        "        posiciones_de_items_recomendados = modelo.recommend(\n",
        "            userid=posicion_usuario,\n",
        "            user_items=csr_usuarios_items_entrenamiento[posicion_usuario],\n",
        "            N=10,\n",
        "            filter_already_liked_items=True\n",
        "        )\n",
        "        # Transformamos la posición del usuario a su verdadero ID:\n",
        "        id_usuario = matriz_usuarios_items_entrenamiento.iloc[posicion_usuario].name\n",
        "        # Transformamos las posiciones de los ítems recomendados a sus verdaderos IDs:\n",
        "        ids_items_recomendados = [\n",
        "            matriz_usuarios_items_entrenamiento.iloc[:, posicion_del_item].name for posicion_del_item in posiciones_de_items_recomendados[0]\n",
        "        ]\n",
        "        # Por último, le asignamos al ID del usuario las IDs de sus ítems recomendados:\n",
        "        top_10_predicho_para_cada_usuario[id_usuario] = ids_items_recomendados\n",
        "\n",
        "    # Calculamos las métricas para cada modelo:\n",
        "    metricas_bpr[factores]['NDCG@10'] = ndcg(top_n_verdadero_para_cada_usuario, top_10_predicho_para_cada_usuario, arroba=10)\n",
        "    metricas_bpr[factores]['MAP@10'] = mean_ap(top_n_verdadero_para_cada_usuario, top_10_predicho_para_cada_usuario, arroba=10)\n",
        "\n",
        "    # Imprimimos los resultados:\n",
        "    print(f'Métricas para BPR entrenado con {factores} factores latentes:')\n",
        "    print('\\tTiempo de entrenamiento:', metricas_bpr[factores]['tiempo'], 'segundos')\n",
        "    print('\\tNDCG@10:', metricas_bpr[factores]['NDCG@10'])\n",
        "    print('\\tMAP@10:', metricas_bpr[factores]['MAP@10'])"
      ]
    },
    {
      "cell_type": "markdown",
      "metadata": {},
      "source": [
        "### ALS vs BPR"
      ]
    },
    {
      "cell_type": "markdown",
      "metadata": {},
      "source": [
        "#### Tiempos de entrenamiento"
      ]
    },
    {
      "cell_type": "markdown",
      "metadata": {},
      "source": [
        "Graficamos tiempo de entrenamiento vs factores latentes:"
      ]
    },
    {
      "cell_type": "code",
      "execution_count": 24,
      "metadata": {},
      "outputs": [
        {
          "data": {
            "image/png": "[encoded data removed]",
            "text/plain": [
              "<Figure size 432x288 with 1 Axes>"
            ]
          },
          "metadata": {
            "needs_background": "light"
          },
          "output_type": "display_data"
        }
      ],
      "source": [
        "tiempos_de_entrenamiento_als = [metricas_als[factores]['tiempo'] for factores in factores_a_probar]\n",
        "tiempos_de_entrenamiento_bpr = [metricas_bpr[factores]['tiempo'] for factores in factores_a_probar]\n",
        "plt.plot(factores_a_probar, tiempos_de_entrenamiento_als, label='ALS')\n",
        "plt.plot(factores_a_probar, tiempos_de_entrenamiento_bpr, label='BPR')\n",
        "plt.xlabel('Factores latentes')\n",
        "plt.ylabel('Tiempo de entrenamiento (s)')\n",
        "plt.legend()\n",
        "plt.show()"
      ]
    },
    {
      "cell_type": "markdown",
      "metadata": {},
      "source": [
        "Notamos que los modelos entrenados con BPR tuvieron un tiempo de entrenamiento menor a sus contrapartes entrenadas con ALS. En el caso de BPR, la variación del tiempo de entrenamiento en función de los factores latentes fue relativamente lineal, mientras que en ALS dicha variación sufrió un aumento brusco entre los 500 y los 1000 factores latentes."
      ]
    },
    {
      "cell_type": "markdown",
      "metadata": {},
      "source": [
        "#### NDCG@10"
      ]
    },
    {
      "cell_type": "markdown",
      "metadata": {},
      "source": [
        "Graficamos NDCG@10 vs factores latentes:"
      ]
    },
    {
      "cell_type": "code",
      "execution_count": 26,
      "metadata": {},
      "outputs": [
        {
          "data": {
            "image/png": "[encoded data removed]",
            "text/plain": [
              "<Figure size 432x288 with 1 Axes>"
            ]
          },
          "metadata": {
            "needs_background": "light"
          },
          "output_type": "display_data"
        }
      ],
      "source": [
        "ndcg_als = [metricas_als[factores]['NDCG@10'] for factores in factores_a_probar]\n",
        "ndcg_bpr = [metricas_bpr[factores]['NDCG@10'] for factores in factores_a_probar]\n",
        "plt.plot(factores_a_probar, ndcg_als, label='ALS')\n",
        "plt.plot(factores_a_probar, ndcg_bpr, label='BPR')\n",
        "plt.xlabel('Factores latentes')\n",
        "plt.ylabel('NDCG@10')\n",
        "plt.legend()\n",
        "plt.show()"
      ]
    },
    {
      "cell_type": "markdown",
      "metadata": {},
      "source": [
        "Se observa un mejor desempeño por parte de ALS para toda cantidad de factores latentes en comparación con los modelos entrenados con BPR. Para ALS se observa un aumento de NDCG@10 a medida que se aumenta la cantidad de factores latentes, mientras que BPR alcanzó su máximo NDCG@10 con 200 factores latentes, disminuyendo su desempeño desde ese punto en adelante."
      ]
    },
    {
      "cell_type": "markdown",
      "metadata": {},
      "source": [
        "#### MAP@10"
      ]
    },
    {
      "cell_type": "code",
      "execution_count": 27,
      "metadata": {},
      "outputs": [
        {
          "data": {
            "image/png": "[encoded data removed]",
            "text/plain": [
              "<Figure size 432x288 with 1 Axes>"
            ]
          },
          "metadata": {
            "needs_background": "light"
          },
          "output_type": "display_data"
        }
      ],
      "source": [
        "map_als = [metricas_als[factores]['MAP@10'] for factores in factores_a_probar]\n",
        "map_bpr = [metricas_bpr[factores]['MAP@10'] for factores in factores_a_probar]\n",
        "plt.plot(factores_a_probar, map_als, label='ALS')\n",
        "plt.plot(factores_a_probar, map_bpr, label='BPR')\n",
        "plt.xlabel('Factores latentes')\n",
        "plt.ylabel('MAP@10')\n",
        "plt.legend()\n",
        "plt.show()"
      ]
    },
    {
      "cell_type": "markdown",
      "metadata": {},
      "source": [
        "Para las métricas MAP@10 se presentó el mismo comportamiento que las métricas NDCG@10 para ambos tipos de modelos, solo que en ambos casos se obtuvieron valores mayores que sus contrapartes en NDCG."
      ]
    }
  ],
  "metadata": {
    "colab": {
      "include_colab_link": true,
      "name": "Tarea.ipynb",
      "provenance": []
    },
    "kernelspec": {
      "display_name": "Python 3.8.10 64-bit",
      "language": "python",
      "name": "python3"
    },
    "language_info": {
      "codemirror_mode": {
        "name": "ipython",
        "version": 3
      },
      "file_extension": ".py",
      "mimetype": "text/x-python",
      "name": "python",
      "nbconvert_exporter": "python",
      "pygments_lexer": "ipython3",
      "version": "3.8.10"
    },
    "vscode": {
      "interpreter": {
        "hash": "f285bb5f8983d1aafa033d6733ae0de2189f69ae4c0ee5aa1b3ca39129c61fab"
      }
    }
  },
  "nbformat": 4,
  "nbformat_minor": 0
}
