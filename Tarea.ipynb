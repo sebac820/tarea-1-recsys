{
  "cells": [
    {
      "cell_type": "markdown",
      "metadata": {
        "id": "view-in-github",
        "colab_type": "text"
      },
      "source": [
        "<a href=\"https://colab.research.google.com/github/sebac820/tarea-1-recsys/blob/main/Tarea.ipynb\" target=\"_parent\"><img src=\"https://colab.research.google.com/assets/colab-badge.svg\" alt=\"Open In Colab\"/></a>"
      ]
    },
    {
      "cell_type": "markdown",
      "metadata": {
        "id": "0j5dXaBwK_tN"
      },
      "source": [
        "# Tarea 1"
      ]
    },
    {
      "cell_type": "markdown",
      "metadata": {
        "id": "3EYk44lXgigw"
      },
      "source": [
        "## Librerías"
      ]
    },
    {
      "cell_type": "markdown",
      "metadata": {
        "id": "sVLMJbHRiXDQ"
      },
      "source": [
        "Importar librerías:"
      ]
    },
    {
      "cell_type": "code",
      "source": [
        "!pip3 install implicit --upgrade"
      ],
      "metadata": {
        "id": "kIeJcRXMi0Nd",
        "outputId": "d09e7526-8a9a-4e73-c84e-a951cd2f824f",
        "colab": {
          "base_uri": "https://localhost:8080/"
        }
      },
      "execution_count": 4,
      "outputs": [
        {
          "output_type": "stream",
          "name": "stdout",
          "text": [
            "Looking in indexes: https://pypi.org/simple, https://us-python.pkg.dev/colab-wheels/public/simple/\n",
            "Collecting implicit\n",
            "  Downloading implicit-0.6.1-cp37-cp37m-manylinux2014_x86_64.whl (18.6 MB)\n",
            "\u001b[K     |████████████████████████████████| 18.6 MB 1.1 MB/s \n",
            "\u001b[?25hRequirement already satisfied: tqdm>=4.27 in /usr/local/lib/python3.7/dist-packages (from implicit) (4.64.1)\n",
            "Requirement already satisfied: scipy>=0.16 in /usr/local/lib/python3.7/dist-packages (from implicit) (1.7.3)\n",
            "Requirement already satisfied: numpy in /usr/local/lib/python3.7/dist-packages (from implicit) (1.21.6)\n",
            "Installing collected packages: implicit\n",
            "Successfully installed implicit-0.6.1\n"
          ]
        }
      ]
    },
    {
      "cell_type": "code",
      "execution_count": 194,
      "metadata": {
        "id": "pIRImPUIgigw"
      },
      "outputs": [],
      "source": [
        "from collections import defaultdict\n",
        "from implicit.als import AlternatingLeastSquares\n",
        "from implicit.bpr import BayesianPersonalizedRanking\n",
        "from math import log2\n",
        "from scipy.sparse import csr_matrix\n",
        "from time import time\n",
        "import matplotlib.pyplot as plt\n",
        "import numpy as np\n",
        "import pandas as pd\n",
        "import random\n",
        "from sklearn.decomposition import PCA\n",
        "from sklearn.metrics import pairwise_distances\n",
        "import heapq\n",
        "data_path = '.'"
      ]
    },
    {
      "cell_type": "code",
      "source": [
        "from google.colab import drive\n",
        "import shutil\n",
        "drive.mount('/content/drive')"
      ],
      "metadata": {
        "id": "5Qs3KgDzmxtU",
        "outputId": "106232b9-88cc-4dce-9ed8-197e6d329919",
        "colab": {
          "base_uri": "https://localhost:8080/"
        }
      },
      "execution_count": 15,
      "outputs": [
        {
          "output_type": "stream",
          "name": "stdout",
          "text": [
            "Mounted at /content/drive\n"
          ]
        }
      ]
    },
    {
      "cell_type": "code",
      "source": [
        "shutil.copyfile('/content/drive/MyDrive/RecSys/transactions_train.csv', 'transactions_train.csv')\n",
        "shutil.copyfile('/content/drive/MyDrive/RecSys/transactions_val.csv', 'transactions_val.csv')\n",
        "shutil.copyfile('/content/drive/MyDrive/RecSys/articles.csv', 'articles.csv')\n",
        "shutil.copyfile('/content/drive/MyDrive/RecSys/users_test.csv', 'users_test.csv')\n",
        "shutil.copyfile('/content/drive/MyDrive/RecSys/customers.csv', 'customers.csv')"
      ],
      "metadata": {
        "id": "IrWlFzBWm2fs",
        "outputId": "534a0f69-51bd-453d-95d5-0af5182459c4",
        "colab": {
          "base_uri": "https://localhost:8080/",
          "height": 35
        }
      },
      "execution_count": 17,
      "outputs": [
        {
          "output_type": "execute_result",
          "data": {
            "text/plain": [
              "'customers.csv'"
            ],
            "application/vnd.google.colaboratory.intrinsic+json": {
              "type": "string"
            }
          },
          "metadata": {},
          "execution_count": 17
        }
      ]
    },
    {
      "cell_type": "markdown",
      "metadata": {
        "id": "A0FXM-Hdg11_"
      },
      "source": [
        "## Datasets"
      ]
    },
    {
      "cell_type": "markdown",
      "metadata": {
        "id": "YdWDe9T8gigy"
      },
      "source": [
        "Importamos y visualizamos los datos de entrenamiento:"
      ]
    },
    {
      "cell_type": "code",
      "execution_count": 18,
      "metadata": {
        "colab": {
          "base_uri": "https://localhost:8080/",
          "height": 242
        },
        "id": "HftKdYzZgigy",
        "outputId": "b316cc41-f1fa-41b4-a5a2-53b54b593b3f"
      },
      "outputs": [
        {
          "output_type": "stream",
          "name": "stdout",
          "text": [
            "El dataset de entrenamiento cuenta con 1318501 filas y 5 columnas.\n",
            "Las primeras cinco filas son:\n"
          ]
        },
        {
          "output_type": "execute_result",
          "data": {
            "text/plain": [
              "        t_dat                                        customer_id  article_id  \\\n",
              "0  2018-11-28  1f293f035403ce2d1ff0cdb23cc3faf8b1c2ad04dbedbe...   655265001   \n",
              "1  2018-11-28  1f293f035403ce2d1ff0cdb23cc3faf8b1c2ad04dbedbe...   537688014   \n",
              "2  2019-03-28  1f293f035403ce2d1ff0cdb23cc3faf8b1c2ad04dbedbe...   698877002   \n",
              "3  2019-03-28  1f293f035403ce2d1ff0cdb23cc3faf8b1c2ad04dbedbe...   382127027   \n",
              "4  2019-03-28  1f293f035403ce2d1ff0cdb23cc3faf8b1c2ad04dbedbe...   610776001   \n",
              "\n",
              "      price  sales_channel_id  \n",
              "0  0.025407                 2  \n",
              "1  0.050831                 2  \n",
              "2  0.042356                 2  \n",
              "3  0.032186                 2  \n",
              "4  0.008458                 2  "
            ],
            "text/html": [
              "\n",
              "  <div id=\"df-fc4851a3-1c30-41a1-8e20-15f99a05c1aa\">\n",
              "    <div class=\"colab-df-container\">\n",
              "      <div>\n",
              "<style scoped>\n",
              "    .dataframe tbody tr th:only-of-type {\n",
              "        vertical-align: middle;\n",
              "    }\n",
              "\n",
              "    .dataframe tbody tr th {\n",
              "        vertical-align: top;\n",
              "    }\n",
              "\n",
              "    .dataframe thead th {\n",
              "        text-align: right;\n",
              "    }\n",
              "</style>\n",
              "<table border=\"1\" class=\"dataframe\">\n",
              "  <thead>\n",
              "    <tr style=\"text-align: right;\">\n",
              "      <th></th>\n",
              "      <th>t_dat</th>\n",
              "      <th>customer_id</th>\n",
              "      <th>article_id</th>\n",
              "      <th>price</th>\n",
              "      <th>sales_channel_id</th>\n",
              "    </tr>\n",
              "  </thead>\n",
              "  <tbody>\n",
              "    <tr>\n",
              "      <th>0</th>\n",
              "      <td>2018-11-28</td>\n",
              "      <td>1f293f035403ce2d1ff0cdb23cc3faf8b1c2ad04dbedbe...</td>\n",
              "      <td>655265001</td>\n",
              "      <td>0.025407</td>\n",
              "      <td>2</td>\n",
              "    </tr>\n",
              "    <tr>\n",
              "      <th>1</th>\n",
              "      <td>2018-11-28</td>\n",
              "      <td>1f293f035403ce2d1ff0cdb23cc3faf8b1c2ad04dbedbe...</td>\n",
              "      <td>537688014</td>\n",
              "      <td>0.050831</td>\n",
              "      <td>2</td>\n",
              "    </tr>\n",
              "    <tr>\n",
              "      <th>2</th>\n",
              "      <td>2019-03-28</td>\n",
              "      <td>1f293f035403ce2d1ff0cdb23cc3faf8b1c2ad04dbedbe...</td>\n",
              "      <td>698877002</td>\n",
              "      <td>0.042356</td>\n",
              "      <td>2</td>\n",
              "    </tr>\n",
              "    <tr>\n",
              "      <th>3</th>\n",
              "      <td>2019-03-28</td>\n",
              "      <td>1f293f035403ce2d1ff0cdb23cc3faf8b1c2ad04dbedbe...</td>\n",
              "      <td>382127027</td>\n",
              "      <td>0.032186</td>\n",
              "      <td>2</td>\n",
              "    </tr>\n",
              "    <tr>\n",
              "      <th>4</th>\n",
              "      <td>2019-03-28</td>\n",
              "      <td>1f293f035403ce2d1ff0cdb23cc3faf8b1c2ad04dbedbe...</td>\n",
              "      <td>610776001</td>\n",
              "      <td>0.008458</td>\n",
              "      <td>2</td>\n",
              "    </tr>\n",
              "  </tbody>\n",
              "</table>\n",
              "</div>\n",
              "      <button class=\"colab-df-convert\" onclick=\"convertToInteractive('df-fc4851a3-1c30-41a1-8e20-15f99a05c1aa')\"\n",
              "              title=\"Convert this dataframe to an interactive table.\"\n",
              "              style=\"display:none;\">\n",
              "        \n",
              "  <svg xmlns=\"http://www.w3.org/2000/svg\" height=\"24px\"viewBox=\"0 0 24 24\"\n",
              "       width=\"24px\">\n",
              "    <path d=\"M0 0h24v24H0V0z\" fill=\"none\"/>\n",
              "    <path d=\"M18.56 5.44l.94 2.06.94-2.06 2.06-.94-2.06-.94-.94-2.06-.94 2.06-2.06.94zm-11 1L8.5 8.5l.94-2.06 2.06-.94-2.06-.94L8.5 2.5l-.94 2.06-2.06.94zm10 10l.94 2.06.94-2.06 2.06-.94-2.06-.94-.94-2.06-.94 2.06-2.06.94z\"/><path d=\"M17.41 7.96l-1.37-1.37c-.4-.4-.92-.59-1.43-.59-.52 0-1.04.2-1.43.59L10.3 9.45l-7.72 7.72c-.78.78-.78 2.05 0 2.83L4 21.41c.39.39.9.59 1.41.59.51 0 1.02-.2 1.41-.59l7.78-7.78 2.81-2.81c.8-.78.8-2.07 0-2.86zM5.41 20L4 18.59l7.72-7.72 1.47 1.35L5.41 20z\"/>\n",
              "  </svg>\n",
              "      </button>\n",
              "      \n",
              "  <style>\n",
              "    .colab-df-container {\n",
              "      display:flex;\n",
              "      flex-wrap:wrap;\n",
              "      gap: 12px;\n",
              "    }\n",
              "\n",
              "    .colab-df-convert {\n",
              "      background-color: #E8F0FE;\n",
              "      border: none;\n",
              "      border-radius: 50%;\n",
              "      cursor: pointer;\n",
              "      display: none;\n",
              "      fill: #1967D2;\n",
              "      height: 32px;\n",
              "      padding: 0 0 0 0;\n",
              "      width: 32px;\n",
              "    }\n",
              "\n",
              "    .colab-df-convert:hover {\n",
              "      background-color: #E2EBFA;\n",
              "      box-shadow: 0px 1px 2px rgba(60, 64, 67, 0.3), 0px 1px 3px 1px rgba(60, 64, 67, 0.15);\n",
              "      fill: #174EA6;\n",
              "    }\n",
              "\n",
              "    [theme=dark] .colab-df-convert {\n",
              "      background-color: #3B4455;\n",
              "      fill: #D2E3FC;\n",
              "    }\n",
              "\n",
              "    [theme=dark] .colab-df-convert:hover {\n",
              "      background-color: #434B5C;\n",
              "      box-shadow: 0px 1px 3px 1px rgba(0, 0, 0, 0.15);\n",
              "      filter: drop-shadow(0px 1px 2px rgba(0, 0, 0, 0.3));\n",
              "      fill: #FFFFFF;\n",
              "    }\n",
              "  </style>\n",
              "\n",
              "      <script>\n",
              "        const buttonEl =\n",
              "          document.querySelector('#df-fc4851a3-1c30-41a1-8e20-15f99a05c1aa button.colab-df-convert');\n",
              "        buttonEl.style.display =\n",
              "          google.colab.kernel.accessAllowed ? 'block' : 'none';\n",
              "\n",
              "        async function convertToInteractive(key) {\n",
              "          const element = document.querySelector('#df-fc4851a3-1c30-41a1-8e20-15f99a05c1aa');\n",
              "          const dataTable =\n",
              "            await google.colab.kernel.invokeFunction('convertToInteractive',\n",
              "                                                     [key], {});\n",
              "          if (!dataTable) return;\n",
              "\n",
              "          const docLinkHtml = 'Like what you see? Visit the ' +\n",
              "            '<a target=\"_blank\" href=https://colab.research.google.com/notebooks/data_table.ipynb>data table notebook</a>'\n",
              "            + ' to learn more about interactive tables.';\n",
              "          element.innerHTML = '';\n",
              "          dataTable['output_type'] = 'display_data';\n",
              "          await google.colab.output.renderOutput(dataTable, element);\n",
              "          const docLink = document.createElement('div');\n",
              "          docLink.innerHTML = docLinkHtml;\n",
              "          element.appendChild(docLink);\n",
              "        }\n",
              "      </script>\n",
              "    </div>\n",
              "  </div>\n",
              "  "
            ]
          },
          "metadata": {},
          "execution_count": 18
        }
      ],
      "source": [
        "train_set = pd.read_csv(f'{data_path}/transactions_train.csv', header=0, index_col=0)\n",
        "print(f'El dataset de entrenamiento cuenta con {train_set.shape[0]} filas y {train_set.shape[1]} columnas.')\n",
        "print('Las primeras cinco filas son:')\n",
        "train_set.head()"
      ]
    },
    {
      "cell_type": "markdown",
      "metadata": {
        "id": "tOwlr98ygig4"
      },
      "source": [
        "Importamos y visualizamos los datos de validación:"
      ]
    },
    {
      "cell_type": "code",
      "execution_count": 19,
      "metadata": {
        "colab": {
          "base_uri": "https://localhost:8080/",
          "height": 242
        },
        "id": "Apo3Vf4Pgig4",
        "outputId": "067c7564-2bee-4784-f4ee-436825245972"
      },
      "outputs": [
        {
          "output_type": "stream",
          "name": "stdout",
          "text": [
            "El dataset de validación cuenta con 140312 filas y 5 columnas.\n",
            "Los usuarios con más compras realizadas en el dataset de validación son:\n"
          ]
        },
        {
          "output_type": "execute_result",
          "data": {
            "text/plain": [
              "        t_dat                                        customer_id  article_id  \\\n",
              "0  2020-09-20  1f293f035403ce2d1ff0cdb23cc3faf8b1c2ad04dbedbe...   535035001   \n",
              "1  2020-06-15  b4ba419fd5afc5eb274ab3ae1638a51a2e916b4deb0a5c...   654046004   \n",
              "2  2019-10-20  1a1563c28f0d8781ad87f76e0a5af0485003e350f541dd...   742086008   \n",
              "3  2020-07-14  3219f007e898957cbe0ff0f22010cd7118c06f7498a167...   778534006   \n",
              "4  2020-09-07  4e5c03f7ffefe2f99f8e0c9d9805c1571867e6a8dd7091...   706016015   \n",
              "\n",
              "      price  sales_channel_id  \n",
              "0  0.118627                 2  \n",
              "1  0.022017                 2  \n",
              "2  0.033881                 2  \n",
              "3  0.042356                 1  \n",
              "4  0.033881                 1  "
            ],
            "text/html": [
              "\n",
              "  <div id=\"df-9634d036-4b46-4e94-960a-d9dd452fbba3\">\n",
              "    <div class=\"colab-df-container\">\n",
              "      <div>\n",
              "<style scoped>\n",
              "    .dataframe tbody tr th:only-of-type {\n",
              "        vertical-align: middle;\n",
              "    }\n",
              "\n",
              "    .dataframe tbody tr th {\n",
              "        vertical-align: top;\n",
              "    }\n",
              "\n",
              "    .dataframe thead th {\n",
              "        text-align: right;\n",
              "    }\n",
              "</style>\n",
              "<table border=\"1\" class=\"dataframe\">\n",
              "  <thead>\n",
              "    <tr style=\"text-align: right;\">\n",
              "      <th></th>\n",
              "      <th>t_dat</th>\n",
              "      <th>customer_id</th>\n",
              "      <th>article_id</th>\n",
              "      <th>price</th>\n",
              "      <th>sales_channel_id</th>\n",
              "    </tr>\n",
              "  </thead>\n",
              "  <tbody>\n",
              "    <tr>\n",
              "      <th>0</th>\n",
              "      <td>2020-09-20</td>\n",
              "      <td>1f293f035403ce2d1ff0cdb23cc3faf8b1c2ad04dbedbe...</td>\n",
              "      <td>535035001</td>\n",
              "      <td>0.118627</td>\n",
              "      <td>2</td>\n",
              "    </tr>\n",
              "    <tr>\n",
              "      <th>1</th>\n",
              "      <td>2020-06-15</td>\n",
              "      <td>b4ba419fd5afc5eb274ab3ae1638a51a2e916b4deb0a5c...</td>\n",
              "      <td>654046004</td>\n",
              "      <td>0.022017</td>\n",
              "      <td>2</td>\n",
              "    </tr>\n",
              "    <tr>\n",
              "      <th>2</th>\n",
              "      <td>2019-10-20</td>\n",
              "      <td>1a1563c28f0d8781ad87f76e0a5af0485003e350f541dd...</td>\n",
              "      <td>742086008</td>\n",
              "      <td>0.033881</td>\n",
              "      <td>2</td>\n",
              "    </tr>\n",
              "    <tr>\n",
              "      <th>3</th>\n",
              "      <td>2020-07-14</td>\n",
              "      <td>3219f007e898957cbe0ff0f22010cd7118c06f7498a167...</td>\n",
              "      <td>778534006</td>\n",
              "      <td>0.042356</td>\n",
              "      <td>1</td>\n",
              "    </tr>\n",
              "    <tr>\n",
              "      <th>4</th>\n",
              "      <td>2020-09-07</td>\n",
              "      <td>4e5c03f7ffefe2f99f8e0c9d9805c1571867e6a8dd7091...</td>\n",
              "      <td>706016015</td>\n",
              "      <td>0.033881</td>\n",
              "      <td>1</td>\n",
              "    </tr>\n",
              "  </tbody>\n",
              "</table>\n",
              "</div>\n",
              "      <button class=\"colab-df-convert\" onclick=\"convertToInteractive('df-9634d036-4b46-4e94-960a-d9dd452fbba3')\"\n",
              "              title=\"Convert this dataframe to an interactive table.\"\n",
              "              style=\"display:none;\">\n",
              "        \n",
              "  <svg xmlns=\"http://www.w3.org/2000/svg\" height=\"24px\"viewBox=\"0 0 24 24\"\n",
              "       width=\"24px\">\n",
              "    <path d=\"M0 0h24v24H0V0z\" fill=\"none\"/>\n",
              "    <path d=\"M18.56 5.44l.94 2.06.94-2.06 2.06-.94-2.06-.94-.94-2.06-.94 2.06-2.06.94zm-11 1L8.5 8.5l.94-2.06 2.06-.94-2.06-.94L8.5 2.5l-.94 2.06-2.06.94zm10 10l.94 2.06.94-2.06 2.06-.94-2.06-.94-.94-2.06-.94 2.06-2.06.94z\"/><path d=\"M17.41 7.96l-1.37-1.37c-.4-.4-.92-.59-1.43-.59-.52 0-1.04.2-1.43.59L10.3 9.45l-7.72 7.72c-.78.78-.78 2.05 0 2.83L4 21.41c.39.39.9.59 1.41.59.51 0 1.02-.2 1.41-.59l7.78-7.78 2.81-2.81c.8-.78.8-2.07 0-2.86zM5.41 20L4 18.59l7.72-7.72 1.47 1.35L5.41 20z\"/>\n",
              "  </svg>\n",
              "      </button>\n",
              "      \n",
              "  <style>\n",
              "    .colab-df-container {\n",
              "      display:flex;\n",
              "      flex-wrap:wrap;\n",
              "      gap: 12px;\n",
              "    }\n",
              "\n",
              "    .colab-df-convert {\n",
              "      background-color: #E8F0FE;\n",
              "      border: none;\n",
              "      border-radius: 50%;\n",
              "      cursor: pointer;\n",
              "      display: none;\n",
              "      fill: #1967D2;\n",
              "      height: 32px;\n",
              "      padding: 0 0 0 0;\n",
              "      width: 32px;\n",
              "    }\n",
              "\n",
              "    .colab-df-convert:hover {\n",
              "      background-color: #E2EBFA;\n",
              "      box-shadow: 0px 1px 2px rgba(60, 64, 67, 0.3), 0px 1px 3px 1px rgba(60, 64, 67, 0.15);\n",
              "      fill: #174EA6;\n",
              "    }\n",
              "\n",
              "    [theme=dark] .colab-df-convert {\n",
              "      background-color: #3B4455;\n",
              "      fill: #D2E3FC;\n",
              "    }\n",
              "\n",
              "    [theme=dark] .colab-df-convert:hover {\n",
              "      background-color: #434B5C;\n",
              "      box-shadow: 0px 1px 3px 1px rgba(0, 0, 0, 0.15);\n",
              "      filter: drop-shadow(0px 1px 2px rgba(0, 0, 0, 0.3));\n",
              "      fill: #FFFFFF;\n",
              "    }\n",
              "  </style>\n",
              "\n",
              "      <script>\n",
              "        const buttonEl =\n",
              "          document.querySelector('#df-9634d036-4b46-4e94-960a-d9dd452fbba3 button.colab-df-convert');\n",
              "        buttonEl.style.display =\n",
              "          google.colab.kernel.accessAllowed ? 'block' : 'none';\n",
              "\n",
              "        async function convertToInteractive(key) {\n",
              "          const element = document.querySelector('#df-9634d036-4b46-4e94-960a-d9dd452fbba3');\n",
              "          const dataTable =\n",
              "            await google.colab.kernel.invokeFunction('convertToInteractive',\n",
              "                                                     [key], {});\n",
              "          if (!dataTable) return;\n",
              "\n",
              "          const docLinkHtml = 'Like what you see? Visit the ' +\n",
              "            '<a target=\"_blank\" href=https://colab.research.google.com/notebooks/data_table.ipynb>data table notebook</a>'\n",
              "            + ' to learn more about interactive tables.';\n",
              "          element.innerHTML = '';\n",
              "          dataTable['output_type'] = 'display_data';\n",
              "          await google.colab.output.renderOutput(dataTable, element);\n",
              "          const docLink = document.createElement('div');\n",
              "          docLink.innerHTML = docLinkHtml;\n",
              "          element.appendChild(docLink);\n",
              "        }\n",
              "      </script>\n",
              "    </div>\n",
              "  </div>\n",
              "  "
            ]
          },
          "metadata": {},
          "execution_count": 19
        }
      ],
      "source": [
        "validation_set = pd.read_csv(f'{data_path}/transactions_val.csv', header=0, index_col=0)\n",
        "print(f'El dataset de validación cuenta con {validation_set.shape[0]} filas y {validation_set.shape[1]} columnas.')\n",
        "print('Los usuarios con más compras realizadas en el dataset de validación son:')\n",
        "validation_set.head()"
      ]
    },
    {
      "cell_type": "markdown",
      "metadata": {
        "id": "BJVTxqn8gig1"
      },
      "source": [
        "Importamos y visualizamos los datos de los productos:"
      ]
    },
    {
      "cell_type": "code",
      "execution_count": 47,
      "metadata": {
        "id": "lczcZgDFgig1",
        "outputId": "9dd265e5-0903-40ba-92b7-ad2e0e961e77",
        "colab": {
          "base_uri": "https://localhost:8080/",
          "height": 565
        }
      },
      "outputs": [
        {
          "output_type": "execute_result",
          "data": {
            "text/plain": [
              "   article_id  product_code          prod_name  product_type_no  \\\n",
              "0   108775015        108775          Strap top              253   \n",
              "1   108775044        108775          Strap top              253   \n",
              "2   108775051        108775      Strap top (1)              253   \n",
              "3   110065001        110065  OP T-shirt (Idro)              306   \n",
              "4   110065002        110065  OP T-shirt (Idro)              306   \n",
              "\n",
              "  product_type_name  product_group_name  graphical_appearance_no  \\\n",
              "0          Vest top  Garment Upper body                  1010016   \n",
              "1          Vest top  Garment Upper body                  1010016   \n",
              "2          Vest top  Garment Upper body                  1010017   \n",
              "3               Bra           Underwear                  1010016   \n",
              "4               Bra           Underwear                  1010016   \n",
              "\n",
              "  graphical_appearance_name  colour_group_code colour_group_name  \\\n",
              "0                     Solid                  9             Black   \n",
              "1                     Solid                 10             White   \n",
              "2                    Stripe                 11         Off White   \n",
              "3                     Solid                  9             Black   \n",
              "4                     Solid                 10             White   \n",
              "\n",
              "   department_no department_name  section_no            section_name  \\\n",
              "0           1676    Jersey Basic          16  Womens Everyday Basics   \n",
              "1           1676    Jersey Basic          16  Womens Everyday Basics   \n",
              "2           1676    Jersey Basic          16  Womens Everyday Basics   \n",
              "3           1339  Clean Lingerie          61         Womens Lingerie   \n",
              "4           1339  Clean Lingerie          61         Womens Lingerie   \n",
              "\n",
              "   garment_group_no garment_group_name  \\\n",
              "0              1002       Jersey Basic   \n",
              "1              1002       Jersey Basic   \n",
              "2              1002       Jersey Basic   \n",
              "3              1017  Under-, Nightwear   \n",
              "4              1017  Under-, Nightwear   \n",
              "\n",
              "                                         detail_desc  \n",
              "0            Jersey top with narrow shoulder straps.  \n",
              "1            Jersey top with narrow shoulder straps.  \n",
              "2            Jersey top with narrow shoulder straps.  \n",
              "3  Microfibre T-shirt bra with underwired, moulde...  \n",
              "4  Microfibre T-shirt bra with underwired, moulde...  "
            ],
            "text/html": [
              "\n",
              "  <div id=\"df-4fec4c65-f9f4-416b-9e55-6096e87af2af\">\n",
              "    <div class=\"colab-df-container\">\n",
              "      <div>\n",
              "<style scoped>\n",
              "    .dataframe tbody tr th:only-of-type {\n",
              "        vertical-align: middle;\n",
              "    }\n",
              "\n",
              "    .dataframe tbody tr th {\n",
              "        vertical-align: top;\n",
              "    }\n",
              "\n",
              "    .dataframe thead th {\n",
              "        text-align: right;\n",
              "    }\n",
              "</style>\n",
              "<table border=\"1\" class=\"dataframe\">\n",
              "  <thead>\n",
              "    <tr style=\"text-align: right;\">\n",
              "      <th></th>\n",
              "      <th>article_id</th>\n",
              "      <th>product_code</th>\n",
              "      <th>prod_name</th>\n",
              "      <th>product_type_no</th>\n",
              "      <th>product_type_name</th>\n",
              "      <th>product_group_name</th>\n",
              "      <th>graphical_appearance_no</th>\n",
              "      <th>graphical_appearance_name</th>\n",
              "      <th>colour_group_code</th>\n",
              "      <th>colour_group_name</th>\n",
              "      <th>department_no</th>\n",
              "      <th>department_name</th>\n",
              "      <th>section_no</th>\n",
              "      <th>section_name</th>\n",
              "      <th>garment_group_no</th>\n",
              "      <th>garment_group_name</th>\n",
              "      <th>detail_desc</th>\n",
              "    </tr>\n",
              "  </thead>\n",
              "  <tbody>\n",
              "    <tr>\n",
              "      <th>0</th>\n",
              "      <td>108775015</td>\n",
              "      <td>108775</td>\n",
              "      <td>Strap top</td>\n",
              "      <td>253</td>\n",
              "      <td>Vest top</td>\n",
              "      <td>Garment Upper body</td>\n",
              "      <td>1010016</td>\n",
              "      <td>Solid</td>\n",
              "      <td>9</td>\n",
              "      <td>Black</td>\n",
              "      <td>1676</td>\n",
              "      <td>Jersey Basic</td>\n",
              "      <td>16</td>\n",
              "      <td>Womens Everyday Basics</td>\n",
              "      <td>1002</td>\n",
              "      <td>Jersey Basic</td>\n",
              "      <td>Jersey top with narrow shoulder straps.</td>\n",
              "    </tr>\n",
              "    <tr>\n",
              "      <th>1</th>\n",
              "      <td>108775044</td>\n",
              "      <td>108775</td>\n",
              "      <td>Strap top</td>\n",
              "      <td>253</td>\n",
              "      <td>Vest top</td>\n",
              "      <td>Garment Upper body</td>\n",
              "      <td>1010016</td>\n",
              "      <td>Solid</td>\n",
              "      <td>10</td>\n",
              "      <td>White</td>\n",
              "      <td>1676</td>\n",
              "      <td>Jersey Basic</td>\n",
              "      <td>16</td>\n",
              "      <td>Womens Everyday Basics</td>\n",
              "      <td>1002</td>\n",
              "      <td>Jersey Basic</td>\n",
              "      <td>Jersey top with narrow shoulder straps.</td>\n",
              "    </tr>\n",
              "    <tr>\n",
              "      <th>2</th>\n",
              "      <td>108775051</td>\n",
              "      <td>108775</td>\n",
              "      <td>Strap top (1)</td>\n",
              "      <td>253</td>\n",
              "      <td>Vest top</td>\n",
              "      <td>Garment Upper body</td>\n",
              "      <td>1010017</td>\n",
              "      <td>Stripe</td>\n",
              "      <td>11</td>\n",
              "      <td>Off White</td>\n",
              "      <td>1676</td>\n",
              "      <td>Jersey Basic</td>\n",
              "      <td>16</td>\n",
              "      <td>Womens Everyday Basics</td>\n",
              "      <td>1002</td>\n",
              "      <td>Jersey Basic</td>\n",
              "      <td>Jersey top with narrow shoulder straps.</td>\n",
              "    </tr>\n",
              "    <tr>\n",
              "      <th>3</th>\n",
              "      <td>110065001</td>\n",
              "      <td>110065</td>\n",
              "      <td>OP T-shirt (Idro)</td>\n",
              "      <td>306</td>\n",
              "      <td>Bra</td>\n",
              "      <td>Underwear</td>\n",
              "      <td>1010016</td>\n",
              "      <td>Solid</td>\n",
              "      <td>9</td>\n",
              "      <td>Black</td>\n",
              "      <td>1339</td>\n",
              "      <td>Clean Lingerie</td>\n",
              "      <td>61</td>\n",
              "      <td>Womens Lingerie</td>\n",
              "      <td>1017</td>\n",
              "      <td>Under-, Nightwear</td>\n",
              "      <td>Microfibre T-shirt bra with underwired, moulde...</td>\n",
              "    </tr>\n",
              "    <tr>\n",
              "      <th>4</th>\n",
              "      <td>110065002</td>\n",
              "      <td>110065</td>\n",
              "      <td>OP T-shirt (Idro)</td>\n",
              "      <td>306</td>\n",
              "      <td>Bra</td>\n",
              "      <td>Underwear</td>\n",
              "      <td>1010016</td>\n",
              "      <td>Solid</td>\n",
              "      <td>10</td>\n",
              "      <td>White</td>\n",
              "      <td>1339</td>\n",
              "      <td>Clean Lingerie</td>\n",
              "      <td>61</td>\n",
              "      <td>Womens Lingerie</td>\n",
              "      <td>1017</td>\n",
              "      <td>Under-, Nightwear</td>\n",
              "      <td>Microfibre T-shirt bra with underwired, moulde...</td>\n",
              "    </tr>\n",
              "  </tbody>\n",
              "</table>\n",
              "</div>\n",
              "      <button class=\"colab-df-convert\" onclick=\"convertToInteractive('df-4fec4c65-f9f4-416b-9e55-6096e87af2af')\"\n",
              "              title=\"Convert this dataframe to an interactive table.\"\n",
              "              style=\"display:none;\">\n",
              "        \n",
              "  <svg xmlns=\"http://www.w3.org/2000/svg\" height=\"24px\"viewBox=\"0 0 24 24\"\n",
              "       width=\"24px\">\n",
              "    <path d=\"M0 0h24v24H0V0z\" fill=\"none\"/>\n",
              "    <path d=\"M18.56 5.44l.94 2.06.94-2.06 2.06-.94-2.06-.94-.94-2.06-.94 2.06-2.06.94zm-11 1L8.5 8.5l.94-2.06 2.06-.94-2.06-.94L8.5 2.5l-.94 2.06-2.06.94zm10 10l.94 2.06.94-2.06 2.06-.94-2.06-.94-.94-2.06-.94 2.06-2.06.94z\"/><path d=\"M17.41 7.96l-1.37-1.37c-.4-.4-.92-.59-1.43-.59-.52 0-1.04.2-1.43.59L10.3 9.45l-7.72 7.72c-.78.78-.78 2.05 0 2.83L4 21.41c.39.39.9.59 1.41.59.51 0 1.02-.2 1.41-.59l7.78-7.78 2.81-2.81c.8-.78.8-2.07 0-2.86zM5.41 20L4 18.59l7.72-7.72 1.47 1.35L5.41 20z\"/>\n",
              "  </svg>\n",
              "      </button>\n",
              "      \n",
              "  <style>\n",
              "    .colab-df-container {\n",
              "      display:flex;\n",
              "      flex-wrap:wrap;\n",
              "      gap: 12px;\n",
              "    }\n",
              "\n",
              "    .colab-df-convert {\n",
              "      background-color: #E8F0FE;\n",
              "      border: none;\n",
              "      border-radius: 50%;\n",
              "      cursor: pointer;\n",
              "      display: none;\n",
              "      fill: #1967D2;\n",
              "      height: 32px;\n",
              "      padding: 0 0 0 0;\n",
              "      width: 32px;\n",
              "    }\n",
              "\n",
              "    .colab-df-convert:hover {\n",
              "      background-color: #E2EBFA;\n",
              "      box-shadow: 0px 1px 2px rgba(60, 64, 67, 0.3), 0px 1px 3px 1px rgba(60, 64, 67, 0.15);\n",
              "      fill: #174EA6;\n",
              "    }\n",
              "\n",
              "    [theme=dark] .colab-df-convert {\n",
              "      background-color: #3B4455;\n",
              "      fill: #D2E3FC;\n",
              "    }\n",
              "\n",
              "    [theme=dark] .colab-df-convert:hover {\n",
              "      background-color: #434B5C;\n",
              "      box-shadow: 0px 1px 3px 1px rgba(0, 0, 0, 0.15);\n",
              "      filter: drop-shadow(0px 1px 2px rgba(0, 0, 0, 0.3));\n",
              "      fill: #FFFFFF;\n",
              "    }\n",
              "  </style>\n",
              "\n",
              "      <script>\n",
              "        const buttonEl =\n",
              "          document.querySelector('#df-4fec4c65-f9f4-416b-9e55-6096e87af2af button.colab-df-convert');\n",
              "        buttonEl.style.display =\n",
              "          google.colab.kernel.accessAllowed ? 'block' : 'none';\n",
              "\n",
              "        async function convertToInteractive(key) {\n",
              "          const element = document.querySelector('#df-4fec4c65-f9f4-416b-9e55-6096e87af2af');\n",
              "          const dataTable =\n",
              "            await google.colab.kernel.invokeFunction('convertToInteractive',\n",
              "                                                     [key], {});\n",
              "          if (!dataTable) return;\n",
              "\n",
              "          const docLinkHtml = 'Like what you see? Visit the ' +\n",
              "            '<a target=\"_blank\" href=https://colab.research.google.com/notebooks/data_table.ipynb>data table notebook</a>'\n",
              "            + ' to learn more about interactive tables.';\n",
              "          element.innerHTML = '';\n",
              "          dataTable['output_type'] = 'display_data';\n",
              "          await google.colab.output.renderOutput(dataTable, element);\n",
              "          const docLink = document.createElement('div');\n",
              "          docLink.innerHTML = docLinkHtml;\n",
              "          element.appendChild(docLink);\n",
              "        }\n",
              "      </script>\n",
              "    </div>\n",
              "  </div>\n",
              "  "
            ]
          },
          "metadata": {},
          "execution_count": 47
        }
      ],
      "source": [
        "productos = pd.read_csv(f'{data_path}/articles.csv', header=0, index_col=0)\n",
        "productos.head()"
      ]
    },
    {
      "cell_type": "markdown",
      "metadata": {
        "id": "JeGWBn1ugigx"
      },
      "source": [
        "## Actividad 1: Análisis exploratorio"
      ]
    },
    {
      "cell_type": "markdown",
      "metadata": {
        "id": "6BVc0-3rgigz"
      },
      "source": [
        "### Distribución del número de compras por usuario"
      ]
    },
    {
      "cell_type": "markdown",
      "metadata": {
        "id": "Ke8jpByfgigz"
      },
      "source": [
        "Obtenemos a los 10 usuarios más activos en el dataset:"
      ]
    },
    {
      "cell_type": "code",
      "execution_count": 21,
      "metadata": {
        "colab": {
          "base_uri": "https://localhost:8080/",
          "height": 412
        },
        "id": "n44R7HbMgig0",
        "outputId": "32f7e1d2-6235-4f9e-fb6a-a0a31083f3b6"
      },
      "outputs": [
        {
          "output_type": "stream",
          "name": "stdout",
          "text": [
            "Porcentaje total que representa el top 10 dentro del dataset: 0.6309437763035446%\n"
          ]
        },
        {
          "output_type": "display_data",
          "data": {
            "text/plain": [
              "                                                    compras  \\\n",
              "customer_id                                                   \n",
              "a65f77281a528bf5c1e9f270141d601d116e1df33bf9df5...     1346   \n",
              "84c34f4f564db1f437943c77af41f83bf6fd7c01701cbb0...      950   \n",
              "e55d5ddb3a0c3fb1b4df8edbf526ba12989ab2a852c7277...      910   \n",
              "2df54f0d0653811fe06479c93905f3e6ecc6d07edf39d8b...      875   \n",
              "9f12a01e2982f70a820b5dd61528bf769b94c5c5e43b237...      789   \n",
              "bbebb44478948f5052c3f4c5dc04f08653e7938886a8568...      740   \n",
              "d3b5f70ec21ad1718cf4951445e97007de0d4e85c39ea9f...      724   \n",
              "ad3090d52d11671ffb43bfaa85e3620eff669e8c92c9114...      670   \n",
              "0152d53f51444891ea07013fd1fb8325415bb09bb6798a5...      664   \n",
              "01a4717d38b651e46dda7f1ab8d1494af2682a847fa9a52...      651   \n",
              "\n",
              "                                                    porcentaje_del_dataset  \n",
              "customer_id                                                                 \n",
              "a65f77281a528bf5c1e9f270141d601d116e1df33bf9df5...                0.102086  \n",
              "84c34f4f564db1f437943c77af41f83bf6fd7c01701cbb0...                0.072052  \n",
              "e55d5ddb3a0c3fb1b4df8edbf526ba12989ab2a852c7277...                0.069018  \n",
              "2df54f0d0653811fe06479c93905f3e6ecc6d07edf39d8b...                0.066363  \n",
              "9f12a01e2982f70a820b5dd61528bf769b94c5c5e43b237...                0.059841  \n",
              "bbebb44478948f5052c3f4c5dc04f08653e7938886a8568...                0.056124  \n",
              "d3b5f70ec21ad1718cf4951445e97007de0d4e85c39ea9f...                0.054911  \n",
              "ad3090d52d11671ffb43bfaa85e3620eff669e8c92c9114...                0.050815  \n",
              "0152d53f51444891ea07013fd1fb8325415bb09bb6798a5...                0.050360  \n",
              "01a4717d38b651e46dda7f1ab8d1494af2682a847fa9a52...                0.049374  "
            ],
            "text/html": [
              "\n",
              "  <div id=\"df-e2414be6-653b-4c5c-b109-0f43821ff6c6\">\n",
              "    <div class=\"colab-df-container\">\n",
              "      <div>\n",
              "<style scoped>\n",
              "    .dataframe tbody tr th:only-of-type {\n",
              "        vertical-align: middle;\n",
              "    }\n",
              "\n",
              "    .dataframe tbody tr th {\n",
              "        vertical-align: top;\n",
              "    }\n",
              "\n",
              "    .dataframe thead th {\n",
              "        text-align: right;\n",
              "    }\n",
              "</style>\n",
              "<table border=\"1\" class=\"dataframe\">\n",
              "  <thead>\n",
              "    <tr style=\"text-align: right;\">\n",
              "      <th></th>\n",
              "      <th>compras</th>\n",
              "      <th>porcentaje_del_dataset</th>\n",
              "    </tr>\n",
              "    <tr>\n",
              "      <th>customer_id</th>\n",
              "      <th></th>\n",
              "      <th></th>\n",
              "    </tr>\n",
              "  </thead>\n",
              "  <tbody>\n",
              "    <tr>\n",
              "      <th>a65f77281a528bf5c1e9f270141d601d116e1df33bf9df512f495ee06647a9cc</th>\n",
              "      <td>1346</td>\n",
              "      <td>0.102086</td>\n",
              "    </tr>\n",
              "    <tr>\n",
              "      <th>84c34f4f564db1f437943c77af41f83bf6fd7c01701cbb050070369176905712</th>\n",
              "      <td>950</td>\n",
              "      <td>0.072052</td>\n",
              "    </tr>\n",
              "    <tr>\n",
              "      <th>e55d5ddb3a0c3fb1b4df8edbf526ba12989ab2a852c72774e3f3338cbbb3335e</th>\n",
              "      <td>910</td>\n",
              "      <td>0.069018</td>\n",
              "    </tr>\n",
              "    <tr>\n",
              "      <th>2df54f0d0653811fe06479c93905f3e6ecc6d07edf39d8b56e5b66c86182bedf</th>\n",
              "      <td>875</td>\n",
              "      <td>0.066363</td>\n",
              "    </tr>\n",
              "    <tr>\n",
              "      <th>9f12a01e2982f70a820b5dd61528bf769b94c5c5e43b23704f1f654784bcda58</th>\n",
              "      <td>789</td>\n",
              "      <td>0.059841</td>\n",
              "    </tr>\n",
              "    <tr>\n",
              "      <th>bbebb44478948f5052c3f4c5dc04f08653e7938886a85685917fd22b92f22cd0</th>\n",
              "      <td>740</td>\n",
              "      <td>0.056124</td>\n",
              "    </tr>\n",
              "    <tr>\n",
              "      <th>d3b5f70ec21ad1718cf4951445e97007de0d4e85c39ea9fd2fedaf1966280943</th>\n",
              "      <td>724</td>\n",
              "      <td>0.054911</td>\n",
              "    </tr>\n",
              "    <tr>\n",
              "      <th>ad3090d52d11671ffb43bfaa85e3620eff669e8c92c9114ba7755876254cbba8</th>\n",
              "      <td>670</td>\n",
              "      <td>0.050815</td>\n",
              "    </tr>\n",
              "    <tr>\n",
              "      <th>0152d53f51444891ea07013fd1fb8325415bb09bb6798a59359b21a8326d801b</th>\n",
              "      <td>664</td>\n",
              "      <td>0.050360</td>\n",
              "    </tr>\n",
              "    <tr>\n",
              "      <th>01a4717d38b651e46dda7f1ab8d1494af2682a847fa9a52a8f9ab1a09acd0294</th>\n",
              "      <td>651</td>\n",
              "      <td>0.049374</td>\n",
              "    </tr>\n",
              "  </tbody>\n",
              "</table>\n",
              "</div>\n",
              "      <button class=\"colab-df-convert\" onclick=\"convertToInteractive('df-e2414be6-653b-4c5c-b109-0f43821ff6c6')\"\n",
              "              title=\"Convert this dataframe to an interactive table.\"\n",
              "              style=\"display:none;\">\n",
              "        \n",
              "  <svg xmlns=\"http://www.w3.org/2000/svg\" height=\"24px\"viewBox=\"0 0 24 24\"\n",
              "       width=\"24px\">\n",
              "    <path d=\"M0 0h24v24H0V0z\" fill=\"none\"/>\n",
              "    <path d=\"M18.56 5.44l.94 2.06.94-2.06 2.06-.94-2.06-.94-.94-2.06-.94 2.06-2.06.94zm-11 1L8.5 8.5l.94-2.06 2.06-.94-2.06-.94L8.5 2.5l-.94 2.06-2.06.94zm10 10l.94 2.06.94-2.06 2.06-.94-2.06-.94-.94-2.06-.94 2.06-2.06.94z\"/><path d=\"M17.41 7.96l-1.37-1.37c-.4-.4-.92-.59-1.43-.59-.52 0-1.04.2-1.43.59L10.3 9.45l-7.72 7.72c-.78.78-.78 2.05 0 2.83L4 21.41c.39.39.9.59 1.41.59.51 0 1.02-.2 1.41-.59l7.78-7.78 2.81-2.81c.8-.78.8-2.07 0-2.86zM5.41 20L4 18.59l7.72-7.72 1.47 1.35L5.41 20z\"/>\n",
              "  </svg>\n",
              "      </button>\n",
              "      \n",
              "  <style>\n",
              "    .colab-df-container {\n",
              "      display:flex;\n",
              "      flex-wrap:wrap;\n",
              "      gap: 12px;\n",
              "    }\n",
              "\n",
              "    .colab-df-convert {\n",
              "      background-color: #E8F0FE;\n",
              "      border: none;\n",
              "      border-radius: 50%;\n",
              "      cursor: pointer;\n",
              "      display: none;\n",
              "      fill: #1967D2;\n",
              "      height: 32px;\n",
              "      padding: 0 0 0 0;\n",
              "      width: 32px;\n",
              "    }\n",
              "\n",
              "    .colab-df-convert:hover {\n",
              "      background-color: #E2EBFA;\n",
              "      box-shadow: 0px 1px 2px rgba(60, 64, 67, 0.3), 0px 1px 3px 1px rgba(60, 64, 67, 0.15);\n",
              "      fill: #174EA6;\n",
              "    }\n",
              "\n",
              "    [theme=dark] .colab-df-convert {\n",
              "      background-color: #3B4455;\n",
              "      fill: #D2E3FC;\n",
              "    }\n",
              "\n",
              "    [theme=dark] .colab-df-convert:hover {\n",
              "      background-color: #434B5C;\n",
              "      box-shadow: 0px 1px 3px 1px rgba(0, 0, 0, 0.15);\n",
              "      filter: drop-shadow(0px 1px 2px rgba(0, 0, 0, 0.3));\n",
              "      fill: #FFFFFF;\n",
              "    }\n",
              "  </style>\n",
              "\n",
              "      <script>\n",
              "        const buttonEl =\n",
              "          document.querySelector('#df-e2414be6-653b-4c5c-b109-0f43821ff6c6 button.colab-df-convert');\n",
              "        buttonEl.style.display =\n",
              "          google.colab.kernel.accessAllowed ? 'block' : 'none';\n",
              "\n",
              "        async function convertToInteractive(key) {\n",
              "          const element = document.querySelector('#df-e2414be6-653b-4c5c-b109-0f43821ff6c6');\n",
              "          const dataTable =\n",
              "            await google.colab.kernel.invokeFunction('convertToInteractive',\n",
              "                                                     [key], {});\n",
              "          if (!dataTable) return;\n",
              "\n",
              "          const docLinkHtml = 'Like what you see? Visit the ' +\n",
              "            '<a target=\"_blank\" href=https://colab.research.google.com/notebooks/data_table.ipynb>data table notebook</a>'\n",
              "            + ' to learn more about interactive tables.';\n",
              "          element.innerHTML = '';\n",
              "          dataTable['output_type'] = 'display_data';\n",
              "          await google.colab.output.renderOutput(dataTable, element);\n",
              "          const docLink = document.createElement('div');\n",
              "          docLink.innerHTML = docLinkHtml;\n",
              "          element.appendChild(docLink);\n",
              "        }\n",
              "      </script>\n",
              "    </div>\n",
              "  </div>\n",
              "  "
            ]
          },
          "metadata": {}
        }
      ],
      "source": [
        "# Hacemos una copia del set de entrenamiento manteniendo solamente la columna 'customer_id':\n",
        "compras_por_usuario = train_set.drop(columns=['t_dat', 'article_id', 'price', 'sales_channel_id'])\n",
        "# Agregamos una columna 'compras':\n",
        "compras_por_usuario['compras'] = 1\n",
        "# Agrupamos por 'customer_id' y contamos la cantidad de veces que se repite cada usuario en el set:\n",
        "compras_por_usuario = compras_por_usuario.groupby('customer_id').count()\n",
        "# Ordenamos la cuenta de cada usuario de mayor a menor:\n",
        "compras_por_usuario = compras_por_usuario.sort_values(by='compras', ascending=False)\n",
        "# Calculamos el porcentaje que representa cada número de compras dentro del dataset:\n",
        "compras_por_usuario['porcentaje_del_dataset'] = compras_por_usuario / train_set.shape[0] * 100\n",
        "# Desplegamos el porcentaje total que representa el top 10 dentro del dataset:\n",
        "porcentaje_total_que_representa_el_top_10 = compras_por_usuario.iloc[0:10].sum()['porcentaje_del_dataset']\n",
        "print(f'Porcentaje total que representa el top 10 dentro del dataset: {porcentaje_total_que_representa_el_top_10}%')\n",
        "# Desplegamos el top 10 de usuarios más activos en el set:\n",
        "display(compras_por_usuario.head(10))"
      ]
    },
    {
      "cell_type": "markdown",
      "metadata": {
        "id": "7hOZNcgdgig0"
      },
      "source": [
        "Así, el top 10 de usuarios con más actividad en el dataset se lleva el 0.6% de las compras, reportando más de 600 compras cada uno. Sin embargo, el resto de usuarios ha realizado una cantidad mucho menor de compras:"
      ]
    },
    {
      "cell_type": "code",
      "execution_count": 22,
      "metadata": {
        "colab": {
          "base_uri": "https://localhost:8080/",
          "height": 485
        },
        "id": "gVrYCoPDgig0",
        "outputId": "2879e525-ad91-4388-a31c-63edc16f2c23"
      },
      "outputs": [
        {
          "output_type": "display_data",
          "data": {
            "text/plain": [
              "<Figure size 1512x504 with 1 Axes>"
            ],
            "image/png": "[encoded data removed]"
          },
          "metadata": {
            "needs_background": "light"
          }
        }
      ],
      "source": [
        "# Hacemos una copia del número de compras por usuario:\n",
        "usuarios_por_numero_de_compras = compras_por_usuario.drop(columns=['porcentaje_del_dataset'])\n",
        "# Agregamos una columna 'numero_de_usuarios':\n",
        "usuarios_por_numero_de_compras['usuarios'] = 1\n",
        "# Agrupamos por el número de compras, y contamos cuántos usuarios realizaron ese número de compras:\n",
        "usuarios_por_numero_de_compras = usuarios_por_numero_de_compras.groupby('compras').sum()\n",
        "# Definimos un grupo que represente N o más compras:\n",
        "N = 100\n",
        "usuarios_que_realizaron_N_o_mas_compras = usuarios_por_numero_de_compras.loc[N:]['usuarios'].sum()\n",
        "usuarios_por_numero_de_compras = usuarios_por_numero_de_compras.loc[0:N-1]\n",
        "usuarios_por_numero_de_compras.loc[f'{N} o más'] = usuarios_que_realizaron_N_o_mas_compras\n",
        "# Graficamos:\n",
        "plt.figure(figsize=(21, 7))\n",
        "plt.xticks(rotation=90)\n",
        "plt.bar(\n",
        "    x=[i for i in range(len(usuarios_por_numero_de_compras))],\n",
        "    height=[usuarios for usuarios in usuarios_por_numero_de_compras['usuarios']],\n",
        "    tick_label=usuarios_por_numero_de_compras.index,\n",
        ")\n",
        "plt.xlabel('Número de compras')\n",
        "plt.ylabel('Número de usuarios')\n",
        "plt.show()"
      ]
    },
    {
      "cell_type": "markdown",
      "metadata": {
        "id": "XsO9w_3ngig1"
      },
      "source": [
        "Notamos que en la distribución obtenida, la mayor parte de los usuarios han realizado solamente entre 2 a 6 compras, tras lo cual el número de usuarios que ha realizado un mayor número de compras decae rápidamente, asemejándose la curva a un decrecimiento exponencial. "
      ]
    },
    {
      "cell_type": "markdown",
      "metadata": {
        "id": "muhYrzLAgig1"
      },
      "source": [
        "### Distribución de interacciones por producto"
      ]
    },
    {
      "cell_type": "markdown",
      "metadata": {
        "id": "n0gE8O5lgig1"
      },
      "source": [
        "Obtenemos los 10 productos más comprados:"
      ]
    },
    {
      "cell_type": "code",
      "execution_count": 23,
      "metadata": {
        "colab": {
          "base_uri": "https://localhost:8080/",
          "height": 381
        },
        "id": "ei_dbmU8gig2",
        "outputId": "5ea859bc-f5ba-4efa-d009-af2295d46b5a"
      },
      "outputs": [
        {
          "output_type": "stream",
          "name": "stdout",
          "text": [
            "Los 10 productos más comprados representan el 0.8631013552511528% de las interacciones en el dataset.\n"
          ]
        },
        {
          "output_type": "execute_result",
          "data": {
            "text/plain": [
              "   article_id                 prod_name  compras  porcentaje_de_interacciones\n",
              "0   706016001  Jade HW Skinny Denim TRS     1978                     0.150019\n",
              "1   706016002  Jade HW Skinny Denim TRS     1357                     0.102920\n",
              "2   610776002                 Tilly (1)     1302                     0.098749\n",
              "3   372860001        7p Basic Shaftless     1225                     0.092909\n",
              "4   759871002                Tilda tank     1010                     0.076602\n",
              "5   399223001   Curvy Jeggings HW Ankle      991                     0.075161\n",
              "6   464297007  Greta Thong Mynta Low 3p      920                     0.069776\n",
              "7   562245001            Luna skinny RW      899                     0.068183\n",
              "8   562245046            Luna skinny RW      849                     0.064391\n",
              "9   372860002        7p Basic Shaftless      849                     0.064391"
            ],
            "text/html": [
              "\n",
              "  <div id=\"df-f3956677-c40e-464c-a7fa-34ad1879fd38\">\n",
              "    <div class=\"colab-df-container\">\n",
              "      <div>\n",
              "<style scoped>\n",
              "    .dataframe tbody tr th:only-of-type {\n",
              "        vertical-align: middle;\n",
              "    }\n",
              "\n",
              "    .dataframe tbody tr th {\n",
              "        vertical-align: top;\n",
              "    }\n",
              "\n",
              "    .dataframe thead th {\n",
              "        text-align: right;\n",
              "    }\n",
              "</style>\n",
              "<table border=\"1\" class=\"dataframe\">\n",
              "  <thead>\n",
              "    <tr style=\"text-align: right;\">\n",
              "      <th></th>\n",
              "      <th>article_id</th>\n",
              "      <th>prod_name</th>\n",
              "      <th>compras</th>\n",
              "      <th>porcentaje_de_interacciones</th>\n",
              "    </tr>\n",
              "  </thead>\n",
              "  <tbody>\n",
              "    <tr>\n",
              "      <th>0</th>\n",
              "      <td>706016001</td>\n",
              "      <td>Jade HW Skinny Denim TRS</td>\n",
              "      <td>1978</td>\n",
              "      <td>0.150019</td>\n",
              "    </tr>\n",
              "    <tr>\n",
              "      <th>1</th>\n",
              "      <td>706016002</td>\n",
              "      <td>Jade HW Skinny Denim TRS</td>\n",
              "      <td>1357</td>\n",
              "      <td>0.102920</td>\n",
              "    </tr>\n",
              "    <tr>\n",
              "      <th>2</th>\n",
              "      <td>610776002</td>\n",
              "      <td>Tilly (1)</td>\n",
              "      <td>1302</td>\n",
              "      <td>0.098749</td>\n",
              "    </tr>\n",
              "    <tr>\n",
              "      <th>3</th>\n",
              "      <td>372860001</td>\n",
              "      <td>7p Basic Shaftless</td>\n",
              "      <td>1225</td>\n",
              "      <td>0.092909</td>\n",
              "    </tr>\n",
              "    <tr>\n",
              "      <th>4</th>\n",
              "      <td>759871002</td>\n",
              "      <td>Tilda tank</td>\n",
              "      <td>1010</td>\n",
              "      <td>0.076602</td>\n",
              "    </tr>\n",
              "    <tr>\n",
              "      <th>5</th>\n",
              "      <td>399223001</td>\n",
              "      <td>Curvy Jeggings HW Ankle</td>\n",
              "      <td>991</td>\n",
              "      <td>0.075161</td>\n",
              "    </tr>\n",
              "    <tr>\n",
              "      <th>6</th>\n",
              "      <td>464297007</td>\n",
              "      <td>Greta Thong Mynta Low 3p</td>\n",
              "      <td>920</td>\n",
              "      <td>0.069776</td>\n",
              "    </tr>\n",
              "    <tr>\n",
              "      <th>7</th>\n",
              "      <td>562245001</td>\n",
              "      <td>Luna skinny RW</td>\n",
              "      <td>899</td>\n",
              "      <td>0.068183</td>\n",
              "    </tr>\n",
              "    <tr>\n",
              "      <th>8</th>\n",
              "      <td>562245046</td>\n",
              "      <td>Luna skinny RW</td>\n",
              "      <td>849</td>\n",
              "      <td>0.064391</td>\n",
              "    </tr>\n",
              "    <tr>\n",
              "      <th>9</th>\n",
              "      <td>372860002</td>\n",
              "      <td>7p Basic Shaftless</td>\n",
              "      <td>849</td>\n",
              "      <td>0.064391</td>\n",
              "    </tr>\n",
              "  </tbody>\n",
              "</table>\n",
              "</div>\n",
              "      <button class=\"colab-df-convert\" onclick=\"convertToInteractive('df-f3956677-c40e-464c-a7fa-34ad1879fd38')\"\n",
              "              title=\"Convert this dataframe to an interactive table.\"\n",
              "              style=\"display:none;\">\n",
              "        \n",
              "  <svg xmlns=\"http://www.w3.org/2000/svg\" height=\"24px\"viewBox=\"0 0 24 24\"\n",
              "       width=\"24px\">\n",
              "    <path d=\"M0 0h24v24H0V0z\" fill=\"none\"/>\n",
              "    <path d=\"M18.56 5.44l.94 2.06.94-2.06 2.06-.94-2.06-.94-.94-2.06-.94 2.06-2.06.94zm-11 1L8.5 8.5l.94-2.06 2.06-.94-2.06-.94L8.5 2.5l-.94 2.06-2.06.94zm10 10l.94 2.06.94-2.06 2.06-.94-2.06-.94-.94-2.06-.94 2.06-2.06.94z\"/><path d=\"M17.41 7.96l-1.37-1.37c-.4-.4-.92-.59-1.43-.59-.52 0-1.04.2-1.43.59L10.3 9.45l-7.72 7.72c-.78.78-.78 2.05 0 2.83L4 21.41c.39.39.9.59 1.41.59.51 0 1.02-.2 1.41-.59l7.78-7.78 2.81-2.81c.8-.78.8-2.07 0-2.86zM5.41 20L4 18.59l7.72-7.72 1.47 1.35L5.41 20z\"/>\n",
              "  </svg>\n",
              "      </button>\n",
              "      \n",
              "  <style>\n",
              "    .colab-df-container {\n",
              "      display:flex;\n",
              "      flex-wrap:wrap;\n",
              "      gap: 12px;\n",
              "    }\n",
              "\n",
              "    .colab-df-convert {\n",
              "      background-color: #E8F0FE;\n",
              "      border: none;\n",
              "      border-radius: 50%;\n",
              "      cursor: pointer;\n",
              "      display: none;\n",
              "      fill: #1967D2;\n",
              "      height: 32px;\n",
              "      padding: 0 0 0 0;\n",
              "      width: 32px;\n",
              "    }\n",
              "\n",
              "    .colab-df-convert:hover {\n",
              "      background-color: #E2EBFA;\n",
              "      box-shadow: 0px 1px 2px rgba(60, 64, 67, 0.3), 0px 1px 3px 1px rgba(60, 64, 67, 0.15);\n",
              "      fill: #174EA6;\n",
              "    }\n",
              "\n",
              "    [theme=dark] .colab-df-convert {\n",
              "      background-color: #3B4455;\n",
              "      fill: #D2E3FC;\n",
              "    }\n",
              "\n",
              "    [theme=dark] .colab-df-convert:hover {\n",
              "      background-color: #434B5C;\n",
              "      box-shadow: 0px 1px 3px 1px rgba(0, 0, 0, 0.15);\n",
              "      filter: drop-shadow(0px 1px 2px rgba(0, 0, 0, 0.3));\n",
              "      fill: #FFFFFF;\n",
              "    }\n",
              "  </style>\n",
              "\n",
              "      <script>\n",
              "        const buttonEl =\n",
              "          document.querySelector('#df-f3956677-c40e-464c-a7fa-34ad1879fd38 button.colab-df-convert');\n",
              "        buttonEl.style.display =\n",
              "          google.colab.kernel.accessAllowed ? 'block' : 'none';\n",
              "\n",
              "        async function convertToInteractive(key) {\n",
              "          const element = document.querySelector('#df-f3956677-c40e-464c-a7fa-34ad1879fd38');\n",
              "          const dataTable =\n",
              "            await google.colab.kernel.invokeFunction('convertToInteractive',\n",
              "                                                     [key], {});\n",
              "          if (!dataTable) return;\n",
              "\n",
              "          const docLinkHtml = 'Like what you see? Visit the ' +\n",
              "            '<a target=\"_blank\" href=https://colab.research.google.com/notebooks/data_table.ipynb>data table notebook</a>'\n",
              "            + ' to learn more about interactive tables.';\n",
              "          element.innerHTML = '';\n",
              "          dataTable['output_type'] = 'display_data';\n",
              "          await google.colab.output.renderOutput(dataTable, element);\n",
              "          const docLink = document.createElement('div');\n",
              "          docLink.innerHTML = docLinkHtml;\n",
              "          element.appendChild(docLink);\n",
              "        }\n",
              "      </script>\n",
              "    </div>\n",
              "  </div>\n",
              "  "
            ]
          },
          "metadata": {},
          "execution_count": 23
        }
      ],
      "source": [
        "# Hacemos una copia del train set, dejando solamente 'article_id':\n",
        "compras_por_producto = train_set.drop(columns=['t_dat', 'customer_id', 'price', 'sales_channel_id'])\n",
        "# Agregamos una columna 'compras':\n",
        "compras_por_producto['compras'] = 1\n",
        "# Agrupamos por producto y contamos cuántas veces fue comprado cada uno:\n",
        "compras_por_producto = compras_por_producto.groupby('article_id', as_index=False).sum().sort_values(by='compras', ascending=False).merge(productos, on='article_id')\n",
        "# Agregamos el porcentaje de las interacciones que representa cada producto:\n",
        "compras_por_producto['porcentaje_de_interacciones'] = compras_por_producto['compras'] * 100 / train_set.shape[0]\n",
        "# Calculamos el porcentaje de interacciones del top 10 de productos:\n",
        "print(f'Los 10 productos más comprados representan el {compras_por_producto[\"porcentaje_de_interacciones\"].head(10).sum()}% de las interacciones en el dataset.')\n",
        "# Desplegamos los 10 productos más comprados:\n",
        "compras_por_producto[['article_id', 'prod_name', 'compras', 'porcentaje_de_interacciones']].head(10)\n"
      ]
    },
    {
      "cell_type": "markdown",
      "metadata": {
        "id": "PixdbvrKgig2"
      },
      "source": [
        "Así, el top 10 de productos más comprados representan el 0.8% del total de interacciones en el dataset. La distribución de interacciones se observa de la siguiente manera:"
      ]
    },
    {
      "cell_type": "code",
      "execution_count": 24,
      "metadata": {
        "colab": {
          "base_uri": "https://localhost:8080/",
          "height": 482
        },
        "id": "D4axSNKVgig2",
        "outputId": "10c9c0b9-7d68-4c68-a7ca-1826bcc7cb91"
      },
      "outputs": [
        {
          "output_type": "display_data",
          "data": {
            "text/plain": [
              "<Figure size 1512x504 with 1 Axes>"
            ],
            "image/png": "[encoded data removed]"
          },
          "metadata": {
            "needs_background": "light"
          }
        }
      ],
      "source": [
        "# Creamos una copia de compras_por_producto:\n",
        "productos_por_numero_de_compras = compras_por_producto[['compras']].copy()\n",
        "# Agregamos la columna 'productos':\n",
        "productos_por_numero_de_compras['productos'] = 1\n",
        "# Agrupamos por número de compras y contamos:\n",
        "productos_por_numero_de_compras = productos_por_numero_de_compras.groupby('compras').sum()\n",
        "# Definimos un grupo que represente N o más compras:\n",
        "N = 100\n",
        "productos_que_fueron_comprados_N_o_mas_veces = productos_por_numero_de_compras.loc[N:]['productos'].sum()\n",
        "productos_por_numero_de_compras = productos_por_numero_de_compras.loc[0:N-1]\n",
        "productos_por_numero_de_compras.loc[f'{N} o más'] = productos_que_fueron_comprados_N_o_mas_veces\n",
        "# Graficamos:\n",
        "plt.figure(figsize=(21, 7))\n",
        "plt.xticks(rotation=90)\n",
        "plt.xlabel('Número de compras')\n",
        "plt.ylabel('Número de productos')\n",
        "plt.bar(\n",
        "    x=[i for i in range(len(productos_por_numero_de_compras))],\n",
        "    height=[productos for productos in productos_por_numero_de_compras['productos']],\n",
        "    tick_label=productos_por_numero_de_compras.index,\n",
        ")\n",
        "plt.show()"
      ]
    },
    {
      "cell_type": "markdown",
      "metadata": {
        "id": "IcBXIboUgig2"
      },
      "source": [
        "Notamos que la mayor parte de los productos fueron comprados 1, 2 o 3 veces, mientras que el número de productos que fueron comprados una mayor cantidad de veces es cada vez menor, asemejándose la curva a un decrecimiento exponencial."
      ]
    },
    {
      "cell_type": "markdown",
      "metadata": {
        "id": "Eaws5HkOgig3"
      },
      "source": [
        "### Tabla resumen"
      ]
    },
    {
      "cell_type": "markdown",
      "metadata": {
        "id": "nKkHWF7Wgig3"
      },
      "source": [
        "En el set de entrenamiento encontramos lo siguiente:"
      ]
    },
    {
      "cell_type": "code",
      "execution_count": 25,
      "metadata": {
        "colab": {
          "base_uri": "https://localhost:8080/",
          "height": 300
        },
        "id": "olnM-eQpgig3",
        "outputId": "d1b14a36-b5c7-49f0-b4bc-52bd9e342f9d"
      },
      "outputs": [
        {
          "output_type": "execute_result",
          "data": {
            "text/plain": [
              "                                                        Valor\n",
              "Variable                                                     \n",
              "Número de usuarios distintos                            45000\n",
              "Número de ítems distintos                               73080\n",
              "Promedio de productos por usuario                   29.300022\n",
              "Desviación estándar de productos por usuario        44.939461\n",
              "Promedio de usuarios por producto                   18.041886\n",
              "Desviación estándar de usuarios por producto         38.01747\n",
              "Densidad del conjunto de datos en cuanto a compras   0.000342"
            ],
            "text/html": [
              "\n",
              "  <div id=\"df-f139d867-2209-42be-be55-92f084de464e\">\n",
              "    <div class=\"colab-df-container\">\n",
              "      <div>\n",
              "<style scoped>\n",
              "    .dataframe tbody tr th:only-of-type {\n",
              "        vertical-align: middle;\n",
              "    }\n",
              "\n",
              "    .dataframe tbody tr th {\n",
              "        vertical-align: top;\n",
              "    }\n",
              "\n",
              "    .dataframe thead th {\n",
              "        text-align: right;\n",
              "    }\n",
              "</style>\n",
              "<table border=\"1\" class=\"dataframe\">\n",
              "  <thead>\n",
              "    <tr style=\"text-align: right;\">\n",
              "      <th></th>\n",
              "      <th>Valor</th>\n",
              "    </tr>\n",
              "    <tr>\n",
              "      <th>Variable</th>\n",
              "      <th></th>\n",
              "    </tr>\n",
              "  </thead>\n",
              "  <tbody>\n",
              "    <tr>\n",
              "      <th>Número de usuarios distintos</th>\n",
              "      <td>45000</td>\n",
              "    </tr>\n",
              "    <tr>\n",
              "      <th>Número de ítems distintos</th>\n",
              "      <td>73080</td>\n",
              "    </tr>\n",
              "    <tr>\n",
              "      <th>Promedio de productos por usuario</th>\n",
              "      <td>29.300022</td>\n",
              "    </tr>\n",
              "    <tr>\n",
              "      <th>Desviación estándar de productos por usuario</th>\n",
              "      <td>44.939461</td>\n",
              "    </tr>\n",
              "    <tr>\n",
              "      <th>Promedio de usuarios por producto</th>\n",
              "      <td>18.041886</td>\n",
              "    </tr>\n",
              "    <tr>\n",
              "      <th>Desviación estándar de usuarios por producto</th>\n",
              "      <td>38.01747</td>\n",
              "    </tr>\n",
              "    <tr>\n",
              "      <th>Densidad del conjunto de datos en cuanto a compras</th>\n",
              "      <td>0.000342</td>\n",
              "    </tr>\n",
              "  </tbody>\n",
              "</table>\n",
              "</div>\n",
              "      <button class=\"colab-df-convert\" onclick=\"convertToInteractive('df-f139d867-2209-42be-be55-92f084de464e')\"\n",
              "              title=\"Convert this dataframe to an interactive table.\"\n",
              "              style=\"display:none;\">\n",
              "        \n",
              "  <svg xmlns=\"http://www.w3.org/2000/svg\" height=\"24px\"viewBox=\"0 0 24 24\"\n",
              "       width=\"24px\">\n",
              "    <path d=\"M0 0h24v24H0V0z\" fill=\"none\"/>\n",
              "    <path d=\"M18.56 5.44l.94 2.06.94-2.06 2.06-.94-2.06-.94-.94-2.06-.94 2.06-2.06.94zm-11 1L8.5 8.5l.94-2.06 2.06-.94-2.06-.94L8.5 2.5l-.94 2.06-2.06.94zm10 10l.94 2.06.94-2.06 2.06-.94-2.06-.94-.94-2.06-.94 2.06-2.06.94z\"/><path d=\"M17.41 7.96l-1.37-1.37c-.4-.4-.92-.59-1.43-.59-.52 0-1.04.2-1.43.59L10.3 9.45l-7.72 7.72c-.78.78-.78 2.05 0 2.83L4 21.41c.39.39.9.59 1.41.59.51 0 1.02-.2 1.41-.59l7.78-7.78 2.81-2.81c.8-.78.8-2.07 0-2.86zM5.41 20L4 18.59l7.72-7.72 1.47 1.35L5.41 20z\"/>\n",
              "  </svg>\n",
              "      </button>\n",
              "      \n",
              "  <style>\n",
              "    .colab-df-container {\n",
              "      display:flex;\n",
              "      flex-wrap:wrap;\n",
              "      gap: 12px;\n",
              "    }\n",
              "\n",
              "    .colab-df-convert {\n",
              "      background-color: #E8F0FE;\n",
              "      border: none;\n",
              "      border-radius: 50%;\n",
              "      cursor: pointer;\n",
              "      display: none;\n",
              "      fill: #1967D2;\n",
              "      height: 32px;\n",
              "      padding: 0 0 0 0;\n",
              "      width: 32px;\n",
              "    }\n",
              "\n",
              "    .colab-df-convert:hover {\n",
              "      background-color: #E2EBFA;\n",
              "      box-shadow: 0px 1px 2px rgba(60, 64, 67, 0.3), 0px 1px 3px 1px rgba(60, 64, 67, 0.15);\n",
              "      fill: #174EA6;\n",
              "    }\n",
              "\n",
              "    [theme=dark] .colab-df-convert {\n",
              "      background-color: #3B4455;\n",
              "      fill: #D2E3FC;\n",
              "    }\n",
              "\n",
              "    [theme=dark] .colab-df-convert:hover {\n",
              "      background-color: #434B5C;\n",
              "      box-shadow: 0px 1px 3px 1px rgba(0, 0, 0, 0.15);\n",
              "      filter: drop-shadow(0px 1px 2px rgba(0, 0, 0, 0.3));\n",
              "      fill: #FFFFFF;\n",
              "    }\n",
              "  </style>\n",
              "\n",
              "      <script>\n",
              "        const buttonEl =\n",
              "          document.querySelector('#df-f139d867-2209-42be-be55-92f084de464e button.colab-df-convert');\n",
              "        buttonEl.style.display =\n",
              "          google.colab.kernel.accessAllowed ? 'block' : 'none';\n",
              "\n",
              "        async function convertToInteractive(key) {\n",
              "          const element = document.querySelector('#df-f139d867-2209-42be-be55-92f084de464e');\n",
              "          const dataTable =\n",
              "            await google.colab.kernel.invokeFunction('convertToInteractive',\n",
              "                                                     [key], {});\n",
              "          if (!dataTable) return;\n",
              "\n",
              "          const docLinkHtml = 'Like what you see? Visit the ' +\n",
              "            '<a target=\"_blank\" href=https://colab.research.google.com/notebooks/data_table.ipynb>data table notebook</a>'\n",
              "            + ' to learn more about interactive tables.';\n",
              "          element.innerHTML = '';\n",
              "          dataTable['output_type'] = 'display_data';\n",
              "          await google.colab.output.renderOutput(dataTable, element);\n",
              "          const docLink = document.createElement('div');\n",
              "          docLink.innerHTML = docLinkHtml;\n",
              "          element.appendChild(docLink);\n",
              "        }\n",
              "      </script>\n",
              "    </div>\n",
              "  </div>\n",
              "  "
            ]
          },
          "metadata": {},
          "execution_count": 25
        }
      ],
      "source": [
        "# Obtenemos los valores únicos:\n",
        "valores_unicos = train_set.nunique()\n",
        "tabla_resumen = pd.DataFrame(index=pd.CategoricalIndex(data=[], name='Variable'), columns=['Valor'])\n",
        "tabla_resumen.loc['Número de usuarios distintos'] = valores_unicos['customer_id']\n",
        "tabla_resumen.loc['Número de ítems distintos'] = valores_unicos['article_id']\n",
        "# Obtenemos el promedio y desviación estándar de productos por usuarios:\n",
        "tabla_resumen.loc['Promedio de productos por usuario'] = compras_por_usuario['compras'].mean()\n",
        "tabla_resumen.loc['Desviación estándar de productos por usuario'] = compras_por_usuario['compras'].std()\n",
        "# Obtenemos el promedio y desviación estándar de usuarios por productos:\n",
        "tabla_resumen.loc['Promedio de usuarios por producto'] = compras_por_producto['compras'].mean()\n",
        "tabla_resumen.loc['Desviación estándar de usuarios por producto'] = compras_por_producto['compras'].std()\n",
        "# Obtenemos la densidad del conjunto de datos, dividiendo la cantidad de pares usuario-producto que sí están dentro del set\n",
        "# por los pares que no lo están: \n",
        "tabla_resumen.loc['Densidad del conjunto de datos en cuanto a compras'] = (\n",
        "    train_set[['customer_id', 'article_id']].drop_duplicates().shape[0] / (\n",
        "        train_set['customer_id'].nunique() * train_set['article_id'].nunique()\n",
        "    )\n",
        ")\n",
        "# Visualizamos los resultados:\n",
        "tabla_resumen\n"
      ]
    },
    {
      "cell_type": "markdown",
      "metadata": {
        "id": "re32Ouqlgig3"
      },
      "source": [
        "### Preparaciones para la evaluación de modelos"
      ]
    },
    {
      "cell_type": "markdown",
      "metadata": {
        "id": "rl3AVCgjgig3"
      },
      "source": [
        "A continuación se definen funciones que serán de utilidad para evaluar los distintos modelos de recomendación. Primero, definimos la función `get_top_n()` para obtener el top N recomendado a cada usuario:"
      ]
    },
    {
      "cell_type": "code",
      "execution_count": 26,
      "metadata": {
        "id": "eOOL_Mk_gig3"
      },
      "outputs": [],
      "source": [
        "# Obtenido de la documentación de Surprise: https://surprise.readthedocs.io/en/stable/FAQ.html\n",
        "def get_top_n(predictions, n=10):\n",
        "    # First map the predictions to each user.\n",
        "    top_n = defaultdict(list)\n",
        "    for uid, iid, true_r, est, _ in predictions:\n",
        "        top_n[uid].append((iid, est))\n",
        "\n",
        "    # Then sort the predictions for each user and retrieve the k highest ones.\n",
        "    for uid, user_ratings in top_n.items():\n",
        "        user_ratings.sort(key=lambda x: x[1], reverse=True)\n",
        "        top_n[uid] = user_ratings[:n]\n",
        "\n",
        "    return top_n"
      ]
    },
    {
      "cell_type": "markdown",
      "metadata": {
        "id": "kv0JOhFegig3"
      },
      "source": [
        "Definimos la función `ndcg()` para obtener las métricas NDCG:"
      ]
    },
    {
      "cell_type": "code",
      "execution_count": 27,
      "metadata": {
        "id": "D0Z3xdl0gig3"
      },
      "outputs": [],
      "source": [
        "def dcg_para_un_usuario(top_n_verdadero: list, top_n_predicho: list, arroba: int):\n",
        "    # Definimos limite_del_top_n_verdadero para que no nos arroje un error de \"index out of range\" al comparar los\n",
        "    # elementos de top_n_predicho con los de top_n_verdadero:\n",
        "    limite_del_top_n_verdadero = min(arroba, len(top_n_verdadero))\n",
        "    # Inicializamos la suma de gains en cero:\n",
        "    dcg = 0\n",
        "    # Para cada ítem dentro del límite dado por @...\n",
        "    for i in range(1, arroba+1):\n",
        "        item = top_n_predicho[i-1]\n",
        "        # ... si el item está en el top_n_verdadero, es relevante. Si no, no:\n",
        "        if item in top_n_verdadero[0:limite_del_top_n_verdadero]:\n",
        "            relevante = 1\n",
        "        else:\n",
        "            relevante = 0\n",
        "        # Sumamos el gain descontado:\n",
        "        dcg += (2**relevante - 1) / log2(i + 1)\n",
        "    # Retornamos el resultado final:\n",
        "    return dcg\n",
        "\n",
        "def idcg_para_un_usuario(arroba: int):\n",
        "    idcg = 0\n",
        "    for i in range(1, arroba+1):\n",
        "        # Hacemos que todos los ítems sean relevantes:\n",
        "        idcg += 1 / log2(i + 1)\n",
        "    return idcg\n",
        "\n",
        "def ndcg_para_un_usuario(top_n_verdadero: list, top_n_predicho: list, arroba: int):\n",
        "    return dcg_para_un_usuario(top_n_verdadero, top_n_predicho, arroba) / idcg_para_un_usuario(arroba)\n",
        "\n",
        "def ndcg(top_n_verdadero_para_cada_usuario: dict, top_n_predicho_para_cada_usuario: dict, arroba: int):\n",
        "    suma_de_ndcgs = 0\n",
        "    for usuario in top_n_verdadero_para_cada_usuario.keys():\n",
        "        top_n_verdadero = top_n_verdadero_para_cada_usuario[usuario]\n",
        "        top_n_predicho = top_n_predicho_para_cada_usuario[usuario]\n",
        "        suma_de_ndcgs += ndcg_para_un_usuario(top_n_verdadero, top_n_predicho, arroba)\n",
        "    return suma_de_ndcgs / len(top_n_verdadero_para_cada_usuario)"
      ]
    },
    {
      "cell_type": "markdown",
      "metadata": {
        "id": "mS3q4fiGgig4"
      },
      "source": [
        "Definimos la función `mean_ap()` para obtener las métricas MAP:"
      ]
    },
    {
      "cell_type": "code",
      "execution_count": 28,
      "metadata": {
        "id": "ZPYv-wmDgig4"
      },
      "outputs": [],
      "source": [
        "def ap(top_n_verdadero: list, top_n_predicho: list, arroba: int):\n",
        "    # Definimos limite_del_top_n_verdadero para que no nos arroje un error de \"index out of range\" al comparar los\n",
        "    # elementos de top_n_predicho con los de top_n_verdadero:\n",
        "    limite_del_top_n_verdadero = min(arroba, len(top_n_verdadero))\n",
        "    verdaderos_positivos_hasta_el_momento = 0\n",
        "    suma_de_precisiones = 0\n",
        "    # Para cada ítem dentro del límite dado por @...\n",
        "    for i in range(1, arroba+1):\n",
        "        item = top_n_predicho[i-1]\n",
        "        # ... si el item no está en el top_n_verdadero, no es relevante. Si sí lo está, es relevante:\n",
        "        if not item in top_n_verdadero[0:limite_del_top_n_verdadero]:\n",
        "            continue\n",
        "        verdaderos_positivos_hasta_el_momento += 1\n",
        "        suma_de_precisiones += verdaderos_positivos_hasta_el_momento / i\n",
        "    # Retornar precisión promedio:\n",
        "    if verdaderos_positivos_hasta_el_momento == 0:\n",
        "        return 0\n",
        "    return suma_de_precisiones / verdaderos_positivos_hasta_el_momento\n",
        "    # Fórmula complementada por https://medium.com/@misty.mok/how-mean-average-precision-at-k-map-k-can-be-more-useful-than-other-evaluation-metrics-6881e0ee21a9\n",
        "\n",
        "def mean_ap(top_n_verdadero_para_cada_usuario: dict, top_n_predicho_para_cada_usuario: dict, arroba: int):\n",
        "    suma_de_aps = 0\n",
        "    for usuario in top_n_verdadero_para_cada_usuario.keys():\n",
        "        suma_de_aps += ap(top_n_verdadero_para_cada_usuario[usuario], top_n_predicho_para_cada_usuario[usuario], arroba)\n",
        "    return suma_de_aps / len(top_n_verdadero_para_cada_usuario)"
      ]
    },
    {
      "cell_type": "markdown",
      "metadata": {
        "id": "ZGPtZCLdgig4"
      },
      "source": [
        "Definimos la función `evaluar()` para incorporar las métricas NDCG@10, NDCG@20, NDCG@30, MAP@10, MAP@20 y MAP@30, junto con la función `imprimir_metricas()` para visualizarlas:"
      ]
    },
    {
      "cell_type": "code",
      "execution_count": 29,
      "metadata": {
        "id": "GSQSa8f8gig4"
      },
      "outputs": [],
      "source": [
        "def evaluar(top_n_verdadero_para_cada_usuario: dict, top_n_predicho_para_cada_usuario, arrobas=(10, 20, 30)):\n",
        "    resultados = {'ndcg': {}, 'map': {}}\n",
        "    for arroba in arrobas:\n",
        "        resultados['ndcg'][arroba] = ndcg(top_n_verdadero_para_cada_usuario, top_n_predicho_para_cada_usuario, arroba)\n",
        "        resultados['map'][arroba] = mean_ap(top_n_verdadero_para_cada_usuario, top_n_predicho_para_cada_usuario, arroba)\n",
        "    return resultados\n",
        "\n",
        "def imprimir_metricas(metricas: dict, arrobas=(10, 20, 30)):\n",
        "    # Imprimir métricas:\n",
        "    for arroba in arrobas:\n",
        "        print(f'NDCG@{arroba}:', metricas['ndcg'][arroba])\n",
        "    for arroba in arrobas:\n",
        "        print(f'MAP@{arroba}:', metricas['map'][arroba])"
      ]
    },
    {
      "cell_type": "markdown",
      "metadata": {
        "id": "DwWN3Tj8gig4"
      },
      "source": [
        "Finalmente, generamos las recomendaciones \"correctas\" para cada usuario, considerando como \"relevantes\" los ítems que compró, e irrelevantes los ítems que no:"
      ]
    },
    {
      "cell_type": "code",
      "execution_count": 30,
      "metadata": {
        "colab": {
          "base_uri": "https://localhost:8080/"
        },
        "id": "pOSLVQx1gig4",
        "outputId": "938a2fdf-a395-4293-d28d-95ef9b4c53b4"
      },
      "outputs": [
        {
          "output_type": "stream",
          "name": "stdout",
          "text": [
            "Recomendaciones \"correctas\" para un usuario de ejemplo (ID d265c0dc7e871726894c8a14e2369768af5f5315a55dc822d46e1c1d44d7d89e):\n"
          ]
        },
        {
          "output_type": "execute_result",
          "data": {
            "text/plain": [
              "[808305001,\n",
              " 808305001,\n",
              " 764624004,\n",
              " 803468002,\n",
              " 803468002,\n",
              " 857794006,\n",
              " 916000003,\n",
              " 916000003,\n",
              " 926164001,\n",
              " 935092001]"
            ]
          },
          "metadata": {},
          "execution_count": 30
        }
      ],
      "source": [
        "top_n_verdadero_para_cada_usuario = defaultdict(list)\n",
        "for i in validation_set.index:\n",
        "    fila = validation_set.loc[i]\n",
        "    top_n_verdadero_para_cada_usuario[fila['customer_id']].append(fila['article_id'])\n",
        "print('Recomendaciones \\\"correctas\\\" para un usuario de ejemplo (ID d265c0dc7e871726894c8a14e2369768af5f5315a55dc822d46e1c1d44d7d89e):')\n",
        "top_n_verdadero_para_cada_usuario['d265c0dc7e871726894c8a14e2369768af5f5315a55dc822d46e1c1d44d7d89e']"
      ]
    },
    {
      "cell_type": "markdown",
      "metadata": {
        "id": "t77BdcMhgig5"
      },
      "source": [
        "## Actividad 2: Recomendación no personalizada"
      ]
    },
    {
      "cell_type": "markdown",
      "metadata": {
        "id": "aviR9Us8gig5"
      },
      "source": [
        "### Most Popular"
      ]
    },
    {
      "cell_type": "markdown",
      "metadata": {
        "id": "omeBlgaqgig5"
      },
      "source": [
        "Para la recomendación *most popular*, debemos obtener los 30 productos más vendidos:"
      ]
    },
    {
      "cell_type": "code",
      "execution_count": 31,
      "metadata": {
        "colab": {
          "base_uri": "https://localhost:8080/"
        },
        "id": "cltHE6xrgig5",
        "outputId": "26f88d17-fa29-469f-9adc-98b572e0bb03"
      },
      "outputs": [
        {
          "output_type": "stream",
          "name": "stdout",
          "text": [
            "IDs de los 30 productos más vendidos:\n"
          ]
        },
        {
          "output_type": "execute_result",
          "data": {
            "text/plain": [
              "array([706016001, 706016002, 610776002, 372860001, 759871002, 399223001,\n",
              "       464297007, 562245001, 372860002, 562245046, 351484002, 156231001,\n",
              "       673396002, 399256001, 706016003, 610776001, 673677002, 573716012,\n",
              "       720125001, 448509014, 568601006, 160442007, 608776002, 158340001,\n",
              "       484398001, 688537004, 599580017, 554450001, 565379001, 507909001])"
            ]
          },
          "metadata": {},
          "execution_count": 31
        }
      ],
      "source": [
        "top_30_most_popular = np.array(compras_por_producto.sort_values(by='compras', ascending=False)['article_id'][0:30])\n",
        "print('IDs de los 30 productos más vendidos:')\n",
        "top_30_most_popular"
      ]
    },
    {
      "cell_type": "markdown",
      "metadata": {
        "id": "05lS-8XDgig5"
      },
      "source": [
        "Luego, recomendamos dichos productos a todos los usuarios y obtenemos las métricas de nuestra predicción:"
      ]
    },
    {
      "cell_type": "code",
      "execution_count": 32,
      "metadata": {
        "id": "4DiGmT4Zgig5",
        "outputId": "57229e10-736e-4eab-8a06-f37abff1eeed",
        "colab": {
          "base_uri": "https://localhost:8080/"
        }
      },
      "outputs": [
        {
          "output_type": "stream",
          "name": "stdout",
          "text": [
            "NDCG@10: 0.003007091961237623\n",
            "NDCG@20: 0.002632137060389783\n",
            "NDCG@30: 0.0022961592980431\n",
            "MAP@10: 0.0092845129725025\n",
            "MAP@20: 0.010244445762779046\n",
            "MAP@30: 0.010616304990921407\n"
          ]
        }
      ],
      "source": [
        "# Recomendar el top 30 de productos más populares a cada uno de los usuarios:\n",
        "top_30_most_popular_para_cada_usuario = defaultdict(list)\n",
        "for usuario in validation_set['customer_id'].unique():\n",
        "    top_30_most_popular_para_cada_usuario[usuario] = top_30_most_popular\n",
        "# Obtener métricas:\n",
        "imprimir_metricas(evaluar(top_n_verdadero_para_cada_usuario, top_30_most_popular_para_cada_usuario))"
      ]
    },
    {
      "cell_type": "markdown",
      "metadata": {
        "id": "unbDWNCLgig5"
      },
      "source": [
        "### Random"
      ]
    },
    {
      "cell_type": "markdown",
      "metadata": {
        "id": "Go4kqlzigig5"
      },
      "source": [
        "Para la recomendación *random* seleccionamos 30 productos al azar:"
      ]
    },
    {
      "cell_type": "code",
      "execution_count": 33,
      "metadata": {
        "colab": {
          "base_uri": "https://localhost:8080/"
        },
        "id": "AB1d6DFRgig6",
        "outputId": "b62b1d49-c81f-429e-a3d1-eef489431e6e"
      },
      "outputs": [
        {
          "output_type": "stream",
          "name": "stdout",
          "text": [
            "Los 30 ítems seleccionados aleatoriamente fueron:\n"
          ]
        },
        {
          "output_type": "execute_result",
          "data": {
            "text/plain": [
              "array([679981002, 667870001, 717477005, 573085040, 451599002, 739827010,\n",
              "       558417001, 531284014, 616598023, 843540001, 635336002, 809521001,\n",
              "       682783003, 743204003, 735608002, 623869002, 796571001, 578472001,\n",
              "       835852003, 633304002, 708721002, 744934012, 809628007, 590928001,\n",
              "       663407001, 474915001, 579777004, 656474002, 596874001, 637223005])"
            ]
          },
          "metadata": {},
          "execution_count": 33
        }
      ],
      "source": [
        "top_30_random = np.array(random.sample(list(train_set['article_id'].unique()), k=30))\n",
        "print('Los 30 ítems seleccionados aleatoriamente fueron:')\n",
        "top_30_random"
      ]
    },
    {
      "cell_type": "markdown",
      "metadata": {
        "id": "qYgmx544gig6"
      },
      "source": [
        "Recomendamos dichos productos a todos los usuarios y obtenemos las métricas de nuestra predicción:"
      ]
    },
    {
      "cell_type": "code",
      "execution_count": 34,
      "metadata": {
        "id": "Zi_aZ3Prgig6",
        "outputId": "1f49e9bd-9fbc-46f3-f9de-bc1c66ffbcce",
        "colab": {
          "base_uri": "https://localhost:8080/"
        }
      },
      "outputs": [
        {
          "output_type": "stream",
          "name": "stdout",
          "text": [
            "NDCG@10: 8.1853993203868e-06\n",
            "NDCG@20: 2.191249227567052e-05\n",
            "NDCG@30: 5.1698977495261504e-05\n",
            "MAP@10: 1.9993884223649236e-05\n",
            "MAP@20: 5.118150160143871e-05\n",
            "MAP@30: 0.00011310164525617198\n"
          ]
        }
      ],
      "source": [
        "# Recomendar los 30 productos seleccionados aleatoriamente a todos los usuarios:\n",
        "top_30_random_para_cada_usuario = defaultdict(list)\n",
        "for usuario in validation_set['customer_id'].unique():\n",
        "    top_30_random_para_cada_usuario[usuario] = top_30_random\n",
        "# Calcular las métricas:\n",
        "imprimir_metricas(evaluar(top_n_verdadero_para_cada_usuario, top_30_random_para_cada_usuario))"
      ]
    },
    {
      "cell_type": "markdown",
      "metadata": {
        "id": "sS4hTu0igig6"
      },
      "source": [
        "## Actividad 3: Recomendación basada en feedback implícito"
      ]
    },
    {
      "cell_type": "markdown",
      "metadata": {
        "id": "rbaGLSGhg13K"
      },
      "source": [
        "### ALS"
      ]
    },
    {
      "cell_type": "markdown",
      "metadata": {
        "id": "PZPvJUvJg13L"
      },
      "source": [
        "Creamos una matriz usuarios-items para entrenar los modelos, ya que ese es el formato requerido por la librería Implicit:"
      ]
    },
    {
      "cell_type": "code",
      "execution_count": 35,
      "metadata": {
        "id": "mlP3OdUSg13L",
        "outputId": "85d73181-520e-4608-bc78-5fbff818c4be",
        "colab": {
          "base_uri": "https://localhost:8080/",
          "height": 390
        }
      },
      "outputs": [
        {
          "output_type": "error",
          "ename": "KeyboardInterrupt",
          "evalue": "ignored",
          "traceback": [
            "\u001b[0;31m---------------------------------------------------------------------------\u001b[0m",
            "\u001b[0;31mKeyboardInterrupt\u001b[0m                         Traceback (most recent call last)",
            "\u001b[0;32m<ipython-input-35-3d28f2bb0547>\u001b[0m in \u001b[0;36m<module>\u001b[0;34m\u001b[0m\n\u001b[1;32m     11\u001b[0m \u001b[0;31m# Si el usuario interactuó con el ítem, poner el par (usuario, item) en True:\u001b[0m\u001b[0;34m\u001b[0m\u001b[0;34m\u001b[0m\u001b[0;34m\u001b[0m\u001b[0m\n\u001b[1;32m     12\u001b[0m \u001b[0;32mfor\u001b[0m \u001b[0mi\u001b[0m \u001b[0;32min\u001b[0m \u001b[0mtrain_set\u001b[0m\u001b[0;34m.\u001b[0m\u001b[0mindex\u001b[0m\u001b[0;34m:\u001b[0m\u001b[0;34m\u001b[0m\u001b[0;34m\u001b[0m\u001b[0m\n\u001b[0;32m---> 13\u001b[0;31m     \u001b[0mfila\u001b[0m \u001b[0;34m=\u001b[0m \u001b[0mtrain_set\u001b[0m\u001b[0;34m.\u001b[0m\u001b[0mloc\u001b[0m\u001b[0;34m[\u001b[0m\u001b[0mi\u001b[0m\u001b[0;34m]\u001b[0m\u001b[0;34m\u001b[0m\u001b[0;34m\u001b[0m\u001b[0m\n\u001b[0m\u001b[1;32m     14\u001b[0m     \u001b[0mmatriz_usuarios_items_entrenamiento\u001b[0m\u001b[0;34m.\u001b[0m\u001b[0mloc\u001b[0m\u001b[0;34m[\u001b[0m\u001b[0mfila\u001b[0m\u001b[0;34m[\u001b[0m\u001b[0;34m'customer_id'\u001b[0m\u001b[0;34m]\u001b[0m\u001b[0;34m,\u001b[0m \u001b[0mfila\u001b[0m\u001b[0;34m[\u001b[0m\u001b[0;34m'article_id'\u001b[0m\u001b[0;34m]\u001b[0m\u001b[0;34m]\u001b[0m \u001b[0;34m=\u001b[0m \u001b[0;32mTrue\u001b[0m\u001b[0;34m\u001b[0m\u001b[0;34m\u001b[0m\u001b[0m\n\u001b[1;32m     15\u001b[0m \u001b[0;31m# Por último, convertir la matriz de tipo DataFrame a tipo CSR:\u001b[0m\u001b[0;34m\u001b[0m\u001b[0;34m\u001b[0m\u001b[0;34m\u001b[0m\u001b[0m\n",
            "\u001b[0;32m/usr/local/lib/python3.7/dist-packages/pandas/core/indexing.py\u001b[0m in \u001b[0;36m__getitem__\u001b[0;34m(self, key)\u001b[0m\n\u001b[1;32m    929\u001b[0m \u001b[0;34m\u001b[0m\u001b[0m\n\u001b[1;32m    930\u001b[0m             \u001b[0mmaybe_callable\u001b[0m \u001b[0;34m=\u001b[0m \u001b[0mcom\u001b[0m\u001b[0;34m.\u001b[0m\u001b[0mapply_if_callable\u001b[0m\u001b[0;34m(\u001b[0m\u001b[0mkey\u001b[0m\u001b[0;34m,\u001b[0m \u001b[0mself\u001b[0m\u001b[0;34m.\u001b[0m\u001b[0mobj\u001b[0m\u001b[0;34m)\u001b[0m\u001b[0;34m\u001b[0m\u001b[0;34m\u001b[0m\u001b[0m\n\u001b[0;32m--> 931\u001b[0;31m             \u001b[0;32mreturn\u001b[0m \u001b[0mself\u001b[0m\u001b[0;34m.\u001b[0m\u001b[0m_getitem_axis\u001b[0m\u001b[0;34m(\u001b[0m\u001b[0mmaybe_callable\u001b[0m\u001b[0;34m,\u001b[0m \u001b[0maxis\u001b[0m\u001b[0;34m=\u001b[0m\u001b[0maxis\u001b[0m\u001b[0;34m)\u001b[0m\u001b[0;34m\u001b[0m\u001b[0;34m\u001b[0m\u001b[0m\n\u001b[0m\u001b[1;32m    932\u001b[0m \u001b[0;34m\u001b[0m\u001b[0m\n\u001b[1;32m    933\u001b[0m     \u001b[0;32mdef\u001b[0m \u001b[0m_is_scalar_access\u001b[0m\u001b[0;34m(\u001b[0m\u001b[0mself\u001b[0m\u001b[0;34m,\u001b[0m \u001b[0mkey\u001b[0m\u001b[0;34m:\u001b[0m \u001b[0mtuple\u001b[0m\u001b[0;34m)\u001b[0m\u001b[0;34m:\u001b[0m\u001b[0;34m\u001b[0m\u001b[0;34m\u001b[0m\u001b[0m\n",
            "\u001b[0;32m/usr/local/lib/python3.7/dist-packages/pandas/core/indexing.py\u001b[0m in \u001b[0;36m_getitem_axis\u001b[0;34m(self, key, axis)\u001b[0m\n\u001b[1;32m   1162\u001b[0m         \u001b[0;31m# fall thru to straight lookup\u001b[0m\u001b[0;34m\u001b[0m\u001b[0;34m\u001b[0m\u001b[0;34m\u001b[0m\u001b[0m\n\u001b[1;32m   1163\u001b[0m         \u001b[0mself\u001b[0m\u001b[0;34m.\u001b[0m\u001b[0m_validate_key\u001b[0m\u001b[0;34m(\u001b[0m\u001b[0mkey\u001b[0m\u001b[0;34m,\u001b[0m \u001b[0maxis\u001b[0m\u001b[0;34m)\u001b[0m\u001b[0;34m\u001b[0m\u001b[0;34m\u001b[0m\u001b[0m\n\u001b[0;32m-> 1164\u001b[0;31m         \u001b[0;32mreturn\u001b[0m \u001b[0mself\u001b[0m\u001b[0;34m.\u001b[0m\u001b[0m_get_label\u001b[0m\u001b[0;34m(\u001b[0m\u001b[0mkey\u001b[0m\u001b[0;34m,\u001b[0m \u001b[0maxis\u001b[0m\u001b[0;34m=\u001b[0m\u001b[0maxis\u001b[0m\u001b[0;34m)\u001b[0m\u001b[0;34m\u001b[0m\u001b[0;34m\u001b[0m\u001b[0m\n\u001b[0m\u001b[1;32m   1165\u001b[0m \u001b[0;34m\u001b[0m\u001b[0m\n\u001b[1;32m   1166\u001b[0m     \u001b[0;32mdef\u001b[0m \u001b[0m_get_slice_axis\u001b[0m\u001b[0;34m(\u001b[0m\u001b[0mself\u001b[0m\u001b[0;34m,\u001b[0m \u001b[0mslice_obj\u001b[0m\u001b[0;34m:\u001b[0m \u001b[0mslice\u001b[0m\u001b[0;34m,\u001b[0m \u001b[0maxis\u001b[0m\u001b[0;34m:\u001b[0m \u001b[0mint\u001b[0m\u001b[0;34m)\u001b[0m\u001b[0;34m:\u001b[0m\u001b[0;34m\u001b[0m\u001b[0;34m\u001b[0m\u001b[0m\n",
            "\u001b[0;32m/usr/local/lib/python3.7/dist-packages/pandas/core/indexing.py\u001b[0m in \u001b[0;36m_get_label\u001b[0;34m(self, label, axis)\u001b[0m\n\u001b[1;32m   1111\u001b[0m     \u001b[0;32mdef\u001b[0m \u001b[0m_get_label\u001b[0m\u001b[0;34m(\u001b[0m\u001b[0mself\u001b[0m\u001b[0;34m,\u001b[0m \u001b[0mlabel\u001b[0m\u001b[0;34m,\u001b[0m \u001b[0maxis\u001b[0m\u001b[0;34m:\u001b[0m \u001b[0mint\u001b[0m\u001b[0;34m)\u001b[0m\u001b[0;34m:\u001b[0m\u001b[0;34m\u001b[0m\u001b[0;34m\u001b[0m\u001b[0m\n\u001b[1;32m   1112\u001b[0m         \u001b[0;31m# GH#5667 this will fail if the label is not present in the axis.\u001b[0m\u001b[0;34m\u001b[0m\u001b[0;34m\u001b[0m\u001b[0;34m\u001b[0m\u001b[0m\n\u001b[0;32m-> 1113\u001b[0;31m         \u001b[0;32mreturn\u001b[0m \u001b[0mself\u001b[0m\u001b[0;34m.\u001b[0m\u001b[0mobj\u001b[0m\u001b[0;34m.\u001b[0m\u001b[0mxs\u001b[0m\u001b[0;34m(\u001b[0m\u001b[0mlabel\u001b[0m\u001b[0;34m,\u001b[0m \u001b[0maxis\u001b[0m\u001b[0;34m=\u001b[0m\u001b[0maxis\u001b[0m\u001b[0;34m)\u001b[0m\u001b[0;34m\u001b[0m\u001b[0;34m\u001b[0m\u001b[0m\n\u001b[0m\u001b[1;32m   1114\u001b[0m \u001b[0;34m\u001b[0m\u001b[0m\n\u001b[1;32m   1115\u001b[0m     \u001b[0;32mdef\u001b[0m \u001b[0m_handle_lowerdim_multi_index_axis0\u001b[0m\u001b[0;34m(\u001b[0m\u001b[0mself\u001b[0m\u001b[0;34m,\u001b[0m \u001b[0mtup\u001b[0m\u001b[0;34m:\u001b[0m \u001b[0mtuple\u001b[0m\u001b[0;34m)\u001b[0m\u001b[0;34m:\u001b[0m\u001b[0;34m\u001b[0m\u001b[0;34m\u001b[0m\u001b[0m\n",
            "\u001b[0;32m/usr/local/lib/python3.7/dist-packages/pandas/core/generic.py\u001b[0m in \u001b[0;36mxs\u001b[0;34m(self, key, axis, level, drop_level)\u001b[0m\n\u001b[1;32m   3774\u001b[0m                 \u001b[0;32mraise\u001b[0m \u001b[0mTypeError\u001b[0m\u001b[0;34m(\u001b[0m\u001b[0;34mf\"Expected label or tuple of labels, got {key}\"\u001b[0m\u001b[0;34m)\u001b[0m \u001b[0;32mfrom\u001b[0m \u001b[0me\u001b[0m\u001b[0;34m\u001b[0m\u001b[0;34m\u001b[0m\u001b[0m\n\u001b[1;32m   3775\u001b[0m         \u001b[0;32melse\u001b[0m\u001b[0;34m:\u001b[0m\u001b[0;34m\u001b[0m\u001b[0;34m\u001b[0m\u001b[0m\n\u001b[0;32m-> 3776\u001b[0;31m             \u001b[0mloc\u001b[0m \u001b[0;34m=\u001b[0m \u001b[0mindex\u001b[0m\u001b[0;34m.\u001b[0m\u001b[0mget_loc\u001b[0m\u001b[0;34m(\u001b[0m\u001b[0mkey\u001b[0m\u001b[0;34m)\u001b[0m\u001b[0;34m\u001b[0m\u001b[0;34m\u001b[0m\u001b[0m\n\u001b[0m\u001b[1;32m   3777\u001b[0m \u001b[0;34m\u001b[0m\u001b[0m\n\u001b[1;32m   3778\u001b[0m             \u001b[0;32mif\u001b[0m \u001b[0misinstance\u001b[0m\u001b[0;34m(\u001b[0m\u001b[0mloc\u001b[0m\u001b[0;34m,\u001b[0m \u001b[0mnp\u001b[0m\u001b[0;34m.\u001b[0m\u001b[0mndarray\u001b[0m\u001b[0;34m)\u001b[0m\u001b[0;34m:\u001b[0m\u001b[0;34m\u001b[0m\u001b[0;34m\u001b[0m\u001b[0m\n",
            "\u001b[0;32m/usr/local/lib/python3.7/dist-packages/pandas/core/indexes/base.py\u001b[0m in \u001b[0;36mget_loc\u001b[0;34m(self, key, method, tolerance)\u001b[0m\n\u001b[1;32m   3357\u001b[0m                     \u001b[0;34m\"backfill or nearest lookups\"\u001b[0m\u001b[0;34m\u001b[0m\u001b[0;34m\u001b[0m\u001b[0m\n\u001b[1;32m   3358\u001b[0m                 )\n\u001b[0;32m-> 3359\u001b[0;31m             \u001b[0mcasted_key\u001b[0m \u001b[0;34m=\u001b[0m \u001b[0mself\u001b[0m\u001b[0;34m.\u001b[0m\u001b[0m_maybe_cast_indexer\u001b[0m\u001b[0;34m(\u001b[0m\u001b[0mkey\u001b[0m\u001b[0;34m)\u001b[0m\u001b[0;34m\u001b[0m\u001b[0;34m\u001b[0m\u001b[0m\n\u001b[0m\u001b[1;32m   3360\u001b[0m             \u001b[0;32mtry\u001b[0m\u001b[0;34m:\u001b[0m\u001b[0;34m\u001b[0m\u001b[0;34m\u001b[0m\u001b[0m\n\u001b[1;32m   3361\u001b[0m                 \u001b[0;32mreturn\u001b[0m \u001b[0mself\u001b[0m\u001b[0;34m.\u001b[0m\u001b[0m_engine\u001b[0m\u001b[0;34m.\u001b[0m\u001b[0mget_loc\u001b[0m\u001b[0;34m(\u001b[0m\u001b[0mcasted_key\u001b[0m\u001b[0;34m)\u001b[0m\u001b[0;34m\u001b[0m\u001b[0;34m\u001b[0m\u001b[0m\n",
            "\u001b[0;32m/usr/local/lib/python3.7/dist-packages/pandas/core/indexes/base.py\u001b[0m in \u001b[0;36m_maybe_cast_indexer\u001b[0;34m(self, key)\u001b[0m\n\u001b[1;32m   5699\u001b[0m         \"\"\"\n\u001b[1;32m   5700\u001b[0m         \u001b[0;32mif\u001b[0m \u001b[0;32mnot\u001b[0m \u001b[0mself\u001b[0m\u001b[0;34m.\u001b[0m\u001b[0mis_floating\u001b[0m\u001b[0;34m(\u001b[0m\u001b[0;34m)\u001b[0m\u001b[0;34m:\u001b[0m\u001b[0;34m\u001b[0m\u001b[0;34m\u001b[0m\u001b[0m\n\u001b[0;32m-> 5701\u001b[0;31m             \u001b[0;32mreturn\u001b[0m \u001b[0mcom\u001b[0m\u001b[0;34m.\u001b[0m\u001b[0mcast_scalar_indexer\u001b[0m\u001b[0;34m(\u001b[0m\u001b[0mkey\u001b[0m\u001b[0;34m)\u001b[0m\u001b[0;34m\u001b[0m\u001b[0;34m\u001b[0m\u001b[0m\n\u001b[0m\u001b[1;32m   5702\u001b[0m         \u001b[0;32mreturn\u001b[0m \u001b[0mkey\u001b[0m\u001b[0;34m\u001b[0m\u001b[0;34m\u001b[0m\u001b[0m\n\u001b[1;32m   5703\u001b[0m \u001b[0;34m\u001b[0m\u001b[0m\n",
            "\u001b[0;32m/usr/local/lib/python3.7/dist-packages/pandas/core/common.py\u001b[0m in \u001b[0;36mcast_scalar_indexer\u001b[0;34m(val, warn_float)\u001b[0m\n\u001b[1;32m    168\u001b[0m     \"\"\"\n\u001b[1;32m    169\u001b[0m     \u001b[0;31m# assumes lib.is_scalar(val)\u001b[0m\u001b[0;34m\u001b[0m\u001b[0;34m\u001b[0m\u001b[0;34m\u001b[0m\u001b[0m\n\u001b[0;32m--> 170\u001b[0;31m     \u001b[0;32mif\u001b[0m \u001b[0mlib\u001b[0m\u001b[0;34m.\u001b[0m\u001b[0mis_float\u001b[0m\u001b[0;34m(\u001b[0m\u001b[0mval\u001b[0m\u001b[0;34m)\u001b[0m \u001b[0;32mand\u001b[0m \u001b[0mval\u001b[0m\u001b[0;34m.\u001b[0m\u001b[0mis_integer\u001b[0m\u001b[0;34m(\u001b[0m\u001b[0;34m)\u001b[0m\u001b[0;34m:\u001b[0m\u001b[0;34m\u001b[0m\u001b[0;34m\u001b[0m\u001b[0m\n\u001b[0m\u001b[1;32m    171\u001b[0m         \u001b[0;32mif\u001b[0m \u001b[0mwarn_float\u001b[0m\u001b[0;34m:\u001b[0m\u001b[0;34m\u001b[0m\u001b[0;34m\u001b[0m\u001b[0m\n\u001b[1;32m    172\u001b[0m             warnings.warn(\n",
            "\u001b[0;31mKeyboardInterrupt\u001b[0m: "
          ]
        }
      ],
      "source": [
        "# Inicializar matriz de ceros con forma (Nº de usuarios, Nº de ítems):\n",
        "matriz_usuarios_items_entrenamiento = pd.DataFrame(\n",
        "    data=np.zeros(\n",
        "        shape=(train_set['customer_id'].nunique(), train_set['article_id'].nunique()),\n",
        "        dtype=np.bool8\n",
        "    ),\n",
        "    index=train_set['customer_id'].unique(),\n",
        "    columns=train_set['article_id'].unique(),\n",
        "    dtype=np.bool8\n",
        ")\n",
        "# Si el usuario interactuó con el ítem, poner el par (usuario, item) en True:\n",
        "for i in train_set.index:\n",
        "    fila = train_set.loc[i]\n",
        "    matriz_usuarios_items_entrenamiento.loc[fila['customer_id'], fila['article_id']] = True\n",
        "# Por último, convertir la matriz de tipo DataFrame a tipo CSR:\n",
        "csr_usuarios_items_entrenamiento = csr_matrix(matriz_usuarios_items_entrenamiento)\n",
        "csr_usuarios_items_entrenamiento"
      ]
    },
    {
      "cell_type": "markdown",
      "metadata": {
        "id": "-fQ1oCRag13N"
      },
      "source": [
        "Inicializamos, entrenamos y evaluamos los modelos con ALS:"
      ]
    },
    {
      "cell_type": "code",
      "execution_count": null,
      "metadata": {
        "id": "-8GNbBeFg13O"
      },
      "outputs": [],
      "source": [
        "# Inicializamos las variables necesarias para el experimento:\n",
        "factores_a_probar = (50, 100, 200, 500, 1000)\n",
        "metricas_als = {}\n",
        "for factores in factores_a_probar:\n",
        "    metricas_als[factores] = {}\n",
        "\n",
        "    # Instanciamos el modelo:\n",
        "    modelo = AlternatingLeastSquares(factors=factores)\n",
        "    # Entrenamos el modelo:\n",
        "    inicio_entrenamiento = time()\n",
        "    modelo.fit(user_items=csr_usuarios_items_entrenamiento)\n",
        "    fin_entrenamiento = time()\n",
        "    metricas_als[factores]['tiempo'] = fin_entrenamiento - inicio_entrenamiento\n",
        "    \n",
        "    # Recomendamos el top 10 según el modelo para cada usuario:\n",
        "    top_10_predicho_para_cada_usuario = defaultdict(list)\n",
        "    # Las recomendaciones de Implicit son realizadas a la posición del usuario en la matriz usuario-item, no a su ID original.\n",
        "    # Por ello, iteramos sobre el rango (0, Nº de usuarios):\n",
        "    for posicion_usuario in range(csr_usuarios_items_entrenamiento.shape[0]):\n",
        "        # Obtenemos los top 10 ítems recomendados para el usuario en posicion_usuario.\n",
        "        # Dichas recomendaciones también corresponden a la posición de los ítems en la matriz usuario-item, no a su ID:\n",
        "        posiciones_de_items_recomendados = modelo.recommend(\n",
        "            userid=posicion_usuario,\n",
        "            user_items=csr_usuarios_items_entrenamiento[posicion_usuario],\n",
        "            N=10,\n",
        "            filter_already_liked_items=True\n",
        "        )\n",
        "        # Transformamos la posición del usuario a su verdadero ID:\n",
        "        id_usuario = matriz_usuarios_items_entrenamiento.iloc[posicion_usuario].name\n",
        "        # Transformamos las posiciones de los ítems recomendados a sus verdaderos IDs:\n",
        "        ids_items_recomendados = [\n",
        "            matriz_usuarios_items_entrenamiento.iloc[:, posicion_del_item].name for posicion_del_item in posiciones_de_items_recomendados[0]\n",
        "        ]\n",
        "        # Por último, le asignamos al ID del usuario las IDs de sus ítems recomendados:\n",
        "        top_10_predicho_para_cada_usuario[id_usuario] = ids_items_recomendados\n",
        "\n",
        "    # Calculamos las métricas para cada modelo:\n",
        "    metricas_als[factores]['NDCG@10'] = ndcg(top_n_verdadero_para_cada_usuario, top_10_predicho_para_cada_usuario, arroba=10)\n",
        "    metricas_als[factores]['MAP@10'] = mean_ap(top_n_verdadero_para_cada_usuario, top_10_predicho_para_cada_usuario, arroba=10)\n",
        "\n",
        "    # Imprimimos los resultados:\n",
        "    print(f'Métricas para ALS entrenado con {factores} factores latentes:')\n",
        "    print('\\tTiempo de entrenamiento:', metricas_als[factores]['tiempo'], 'segundos')\n",
        "    print('\\tNDCG@10:', metricas_als[factores]['NDCG@10'])\n",
        "    print('\\tMAP@10:', metricas_als[factores]['MAP@10'])"
      ]
    },
    {
      "cell_type": "markdown",
      "metadata": {
        "id": "yQwwem34g13P"
      },
      "source": [
        "### BPR"
      ]
    },
    {
      "cell_type": "markdown",
      "metadata": {
        "id": "k8aO1MbTg13Q"
      },
      "source": [
        "Inicializamos, entrenamos y evaluamos los modelos con BPR:"
      ]
    },
    {
      "cell_type": "code",
      "execution_count": null,
      "metadata": {
        "id": "tovG_eFig13R"
      },
      "outputs": [],
      "source": [
        "# Inicializamos las variables necesarias para el experimento:\n",
        "factores_a_probar = (50, 100, 200, 500, 1000)\n",
        "metricas_bpr = {}\n",
        "for factores in factores_a_probar:\n",
        "    metricas_bpr[factores] = {}\n",
        "\n",
        "    # Instanciamos el modelo:\n",
        "    modelo = BayesianPersonalizedRanking(factors=factores)\n",
        "    # Entrenamos el modelo:\n",
        "    inicio_entrenamiento = time()\n",
        "    modelo.fit(user_items=csr_usuarios_items_entrenamiento)\n",
        "    fin_entrenamiento = time()\n",
        "    metricas_bpr[factores]['tiempo'] = fin_entrenamiento - inicio_entrenamiento\n",
        "    \n",
        "    # Recomendamos el top 10 según el modelo para cada usuario:\n",
        "    top_10_predicho_para_cada_usuario = defaultdict(list)\n",
        "    # Las recomendaciones de Implicit son realizadas a la posición del usuario en la matriz usuario-item, no a su ID original.\n",
        "    # Por ello, iteramos sobre el rango (0, Nº de usuarios):\n",
        "    for posicion_usuario in range(csr_usuarios_items_entrenamiento.shape[0]):\n",
        "        # Obtenemos los top 10 ítems recomendados para el usuario en posicion_usuario.\n",
        "        # Dichas recomendaciones también corresponden a la posición de los ítems en la matriz usuario-item, no a su ID:\n",
        "        posiciones_de_items_recomendados = modelo.recommend(\n",
        "            userid=posicion_usuario,\n",
        "            user_items=csr_usuarios_items_entrenamiento[posicion_usuario],\n",
        "            N=10,\n",
        "            filter_already_liked_items=True\n",
        "        )\n",
        "        # Transformamos la posición del usuario a su verdadero ID:\n",
        "        id_usuario = matriz_usuarios_items_entrenamiento.iloc[posicion_usuario].name\n",
        "        # Transformamos las posiciones de los ítems recomendados a sus verdaderos IDs:\n",
        "        ids_items_recomendados = [\n",
        "            matriz_usuarios_items_entrenamiento.iloc[:, posicion_del_item].name for posicion_del_item in posiciones_de_items_recomendados[0]\n",
        "        ]\n",
        "        # Por último, le asignamos al ID del usuario las IDs de sus ítems recomendados:\n",
        "        top_10_predicho_para_cada_usuario[id_usuario] = ids_items_recomendados\n",
        "\n",
        "    # Calculamos las métricas para cada modelo:\n",
        "    metricas_bpr[factores]['NDCG@10'] = ndcg(top_n_verdadero_para_cada_usuario, top_10_predicho_para_cada_usuario, arroba=10)\n",
        "    metricas_bpr[factores]['MAP@10'] = mean_ap(top_n_verdadero_para_cada_usuario, top_10_predicho_para_cada_usuario, arroba=10)\n",
        "\n",
        "    # Imprimimos los resultados:\n",
        "    print(f'Métricas para BPR entrenado con {factores} factores latentes:')\n",
        "    print('\\tTiempo de entrenamiento:', metricas_bpr[factores]['tiempo'], 'segundos')\n",
        "    print('\\tNDCG@10:', metricas_bpr[factores]['NDCG@10'])\n",
        "    print('\\tMAP@10:', metricas_bpr[factores]['MAP@10'])"
      ]
    },
    {
      "cell_type": "markdown",
      "metadata": {
        "id": "wJd_XK81g13T"
      },
      "source": [
        "### ALS vs BPR"
      ]
    },
    {
      "cell_type": "markdown",
      "metadata": {
        "id": "81po_uSYg13T"
      },
      "source": [
        "#### Tiempos de entrenamiento"
      ]
    },
    {
      "cell_type": "markdown",
      "metadata": {
        "id": "XZXvuG-wg13U"
      },
      "source": [
        "Graficamos tiempo de entrenamiento vs factores latentes:"
      ]
    },
    {
      "cell_type": "code",
      "execution_count": null,
      "metadata": {
        "id": "CEjsvW3Ag13U"
      },
      "outputs": [],
      "source": [
        "tiempos_de_entrenamiento_als = [metricas_als[factores]['tiempo'] for factores in factores_a_probar]\n",
        "tiempos_de_entrenamiento_bpr = [metricas_bpr[factores]['tiempo'] for factores in factores_a_probar]\n",
        "plt.plot(factores_a_probar, tiempos_de_entrenamiento_als, label='ALS')\n",
        "plt.plot(factores_a_probar, tiempos_de_entrenamiento_bpr, label='BPR')\n",
        "plt.xlabel('Factores latentes')\n",
        "plt.ylabel('Tiempo de entrenamiento (s)')\n",
        "plt.legend()\n",
        "plt.show()"
      ]
    },
    {
      "cell_type": "markdown",
      "metadata": {
        "id": "fN_3hI1pg13W"
      },
      "source": [
        "Notamos que los modelos entrenados con BPR tuvieron un tiempo de entrenamiento menor a sus contrapartes entrenadas con ALS. En el caso de BPR, la variación del tiempo de entrenamiento en función de los factores latentes fue relativamente lineal, mientras que en ALS dicha variación sufrió un aumento brusco entre los 500 y los 1000 factores latentes."
      ]
    },
    {
      "cell_type": "markdown",
      "metadata": {
        "id": "auMMlppNg13X"
      },
      "source": [
        "#### NDCG@10"
      ]
    },
    {
      "cell_type": "markdown",
      "metadata": {
        "id": "s19es9DOg13Y"
      },
      "source": [
        "Graficamos NDCG@10 vs factores latentes:"
      ]
    },
    {
      "cell_type": "code",
      "execution_count": null,
      "metadata": {
        "id": "KAsBu5iPg13Z",
        "outputId": "9a106c24-5d31-4273-a60e-df57e83945a6"
      },
      "outputs": [
        {
          "data": {
            "image/png": "[encoded data removed]",
            "text/plain": [
              "<Figure size 432x288 with 1 Axes>"
            ]
          },
          "metadata": {
            "needs_background": "light"
          },
          "output_type": "display_data"
        }
      ],
      "source": [
        "ndcg_als = [metricas_als[factores]['NDCG@10'] for factores in factores_a_probar]\n",
        "ndcg_bpr = [metricas_bpr[factores]['NDCG@10'] for factores in factores_a_probar]\n",
        "plt.plot(factores_a_probar, ndcg_als, label='ALS')\n",
        "plt.plot(factores_a_probar, ndcg_bpr, label='BPR')\n",
        "plt.xlabel('Factores latentes')\n",
        "plt.ylabel('NDCG@10')\n",
        "plt.legend()\n",
        "plt.show()"
      ]
    },
    {
      "cell_type": "markdown",
      "metadata": {
        "id": "5_sffZtng13b"
      },
      "source": [
        "Se observa un mejor desempeño por parte de ALS para toda cantidad de factores latentes en comparación con los modelos entrenados con BPR. Para ALS se observa un aumento de NDCG@10 a medida que se aumenta la cantidad de factores latentes, mientras que BPR alcanzó su máximo NDCG@10 con 200 factores latentes, disminuyendo su desempeño desde ese punto en adelante."
      ]
    },
    {
      "cell_type": "markdown",
      "metadata": {
        "id": "g1XZjqzKg13b"
      },
      "source": [
        "#### MAP@10"
      ]
    },
    {
      "cell_type": "code",
      "execution_count": null,
      "metadata": {
        "id": "1L9UI_07g13c",
        "outputId": "649f0385-b50b-4cc9-efd1-034e1b9a01e4"
      },
      "outputs": [
        {
          "data": {
            "image/png": "[encoded data removed]",
            "text/plain": [
              "<Figure size 432x288 with 1 Axes>"
            ]
          },
          "metadata": {
            "needs_background": "light"
          },
          "output_type": "display_data"
        }
      ],
      "source": [
        "map_als = [metricas_als[factores]['MAP@10'] for factores in factores_a_probar]\n",
        "map_bpr = [metricas_bpr[factores]['MAP@10'] for factores in factores_a_probar]\n",
        "plt.plot(factores_a_probar, map_als, label='ALS')\n",
        "plt.plot(factores_a_probar, map_bpr, label='BPR')\n",
        "plt.xlabel('Factores latentes')\n",
        "plt.ylabel('MAP@10')\n",
        "plt.legend()\n",
        "plt.show()"
      ]
    },
    {
      "cell_type": "markdown",
      "metadata": {
        "id": "_MqeT6L6g13e"
      },
      "source": [
        "Para las métricas MAP@10 se presentó el mismo comportamiento que las métricas NDCG@10 para ambos tipos de modelos, solo que en ambos casos se obtuvieron valores mayores que sus contrapartes en NDCG."
      ]
    },
    {
      "cell_type": "markdown",
      "source": [
        "## Actividad 4: Recomendación basada en contenido"
      ],
      "metadata": {
        "id": "t6HxUTvA1rJH"
      }
    },
    {
      "cell_type": "code",
      "source": [
        "import tensorflow_hub as hub\n",
        "embed = hub.load(\"https://tfhub.dev/google/universal-sentence-encoder/4\")"
      ],
      "metadata": {
        "id": "M2oMJ2PW15mX"
      },
      "execution_count": 36,
      "outputs": []
    },
    {
      "cell_type": "markdown",
      "source": [
        "Calculamos los embedings de la descripción de cada articulo en la base de datos articles.csv"
      ],
      "metadata": {
        "id": "nanIflvdABkH"
      }
    },
    {
      "cell_type": "code",
      "source": [
        "embeded_desc = np.array([embed([str(desc)])[0] for desc in productos[\"detail_desc\"]])\n",
        "embeded_desc"
      ],
      "metadata": {
        "id": "IDvepOBT2qd7",
        "outputId": "84d0e0ea-5bcb-4782-9da3-6d18749ddda3",
        "colab": {
          "base_uri": "https://localhost:8080/"
        }
      },
      "execution_count": 90,
      "outputs": [
        {
          "output_type": "execute_result",
          "data": {
            "text/plain": [
              "array([[-0.04385931,  0.05420853, -0.04789582, ...,  0.03093391,\n",
              "        -0.02633834, -0.00126313],\n",
              "       [-0.04385931,  0.05420853, -0.04789582, ...,  0.03093391,\n",
              "        -0.02633834, -0.00126313],\n",
              "       [-0.04385931,  0.05420853, -0.04789582, ...,  0.03093391,\n",
              "        -0.02633834, -0.00126313],\n",
              "       ...,\n",
              "       [-0.04712468,  0.0767251 , -0.05798556, ...,  0.0059746 ,\n",
              "        -0.064725  ,  0.02071229],\n",
              "       [-0.03299584,  0.03410223, -0.00665453, ..., -0.00174634,\n",
              "        -0.06825601,  0.04235053],\n",
              "       [-0.04628504,  0.03571225, -0.07564071, ..., -0.00521992,\n",
              "        -0.04206318, -0.00407008]], dtype=float32)"
            ]
          },
          "metadata": {},
          "execution_count": 90
        }
      ]
    },
    {
      "cell_type": "code",
      "source": [
        "embeded_desc.shape"
      ],
      "metadata": {
        "id": "AvHONRQEBELB",
        "outputId": "f5c11438-ccd1-4a8e-8c80-f0181d369720",
        "colab": {
          "base_uri": "https://localhost:8080/"
        }
      },
      "execution_count": 102,
      "outputs": [
        {
          "output_type": "execute_result",
          "data": {
            "text/plain": [
              "(77650, 512)"
            ]
          },
          "metadata": {},
          "execution_count": 102
        }
      ]
    },
    {
      "cell_type": "markdown",
      "source": [
        "Realizamos la reducción de dimensionalidad usando PCA, reduciendo la dimensión de los embedings desde 512 a 20 componentes"
      ],
      "metadata": {
        "id": "zOSpsoo3D-nc"
      }
    },
    {
      "cell_type": "code",
      "source": [
        "pca20_embeded_desc = PCA(n_components=20).fit_transform(embeded_desc)"
      ],
      "metadata": {
        "id": "_p1i1y6x_6d6"
      },
      "execution_count": 103,
      "outputs": []
    },
    {
      "cell_type": "code",
      "source": [
        "pca20_embeded_desc"
      ],
      "metadata": {
        "id": "Li7voGqjBmnt",
        "outputId": "2501c738-8caa-4632-c675-dba20d58c401",
        "colab": {
          "base_uri": "https://localhost:8080/"
        }
      },
      "execution_count": 237,
      "outputs": [
        {
          "output_type": "execute_result",
          "data": {
            "text/plain": [
              "array([[ 0.09102032,  0.34984776,  0.0300536 , ...,  0.20597726,\n",
              "         0.06474274, -0.04392194],\n",
              "       [ 0.09102096,  0.34984446,  0.03005463, ...,  0.2059732 ,\n",
              "         0.06473935, -0.0439216 ],\n",
              "       [ 0.09102001,  0.3498455 ,  0.03005254, ...,  0.20597135,\n",
              "         0.06474251, -0.04392143],\n",
              "       ...,\n",
              "       [-0.31419373,  0.03869586,  0.0331248 , ..., -0.00784458,\n",
              "        -0.11728917, -0.02156211],\n",
              "       [ 0.15237574, -0.1282774 ,  0.07821631, ..., -0.02961323,\n",
              "        -0.17772426, -0.02153968],\n",
              "       [ 0.212019  ,  0.07911171,  0.04312647, ...,  0.05902614,\n",
              "        -0.01881888, -0.1119069 ]], dtype=float32)"
            ]
          },
          "metadata": {},
          "execution_count": 237
        }
      ]
    },
    {
      "cell_type": "markdown",
      "source": [
        "Agregamos los embedings de cada producto a la tabla de productos, como una nueva columna llamada \"embedings\""
      ],
      "metadata": {
        "id": "ZgHadpk9UUF_"
      }
    },
    {
      "cell_type": "code",
      "source": [
        "productos_con_embedings = productos\n",
        "productos_con_embedings[\"embedings\"] = \"\"\n",
        "for i, embeding in enumerate(pca20_embeded_desc):\n",
        "  productos_con_embedings.at[i, 'embedings'] = embeding\n",
        "productos_con_embedings"
      ],
      "metadata": {
        "id": "9N0IlkDTDj-i",
        "outputId": "8e7e6d93-fa46-44d7-c384-407176a8516a",
        "colab": {
          "base_uri": "https://localhost:8080/",
          "height": 1000
        }
      },
      "execution_count": 240,
      "outputs": [
        {
          "output_type": "execute_result",
          "data": {
            "text/plain": [
              "       article_id  product_code                       prod_name  \\\n",
              "0       108775015        108775                       Strap top   \n",
              "1       108775044        108775                       Strap top   \n",
              "2       108775051        108775                   Strap top (1)   \n",
              "3       110065001        110065               OP T-shirt (Idro)   \n",
              "4       110065002        110065               OP T-shirt (Idro)   \n",
              "...           ...           ...                             ...   \n",
              "77645   949198001        949198                 Saturday jogger   \n",
              "77646   949551001        949551          Virgo sweater fast buy   \n",
              "77647   949551002        949551          Virgo sweater fast buy   \n",
              "77648   952267001        952267  Heavy plain overknee tights 1p   \n",
              "77649   953763001        953763               SPORT Malaga tank   \n",
              "\n",
              "       product_type_no product_type_name  product_group_name  \\\n",
              "0                  253          Vest top  Garment Upper body   \n",
              "1                  253          Vest top  Garment Upper body   \n",
              "2                  253          Vest top  Garment Upper body   \n",
              "3                  306               Bra           Underwear   \n",
              "4                  306               Bra           Underwear   \n",
              "...                ...               ...                 ...   \n",
              "77645              272          Trousers  Garment Lower body   \n",
              "77646              252           Sweater  Garment Upper body   \n",
              "77647              252           Sweater  Garment Upper body   \n",
              "77648              304  Underwear Tights      Socks & Tights   \n",
              "77649              253          Vest top  Garment Upper body   \n",
              "\n",
              "       graphical_appearance_no graphical_appearance_name  colour_group_code  \\\n",
              "0                      1010016                     Solid                  9   \n",
              "1                      1010016                     Solid                 10   \n",
              "2                      1010017                    Stripe                 11   \n",
              "3                      1010016                     Solid                  9   \n",
              "4                      1010016                     Solid                 10   \n",
              "...                        ...                       ...                ...   \n",
              "77645                  1010016                     Solid                  9   \n",
              "77646                  1010016                     Solid                  9   \n",
              "77647                  1010016                     Solid                 52   \n",
              "77648                  1010013             Other pattern                  9   \n",
              "77649                  1010016                     Solid                  9   \n",
              "\n",
              "      colour_group_name  department_no    department_name  section_no  \\\n",
              "0                 Black           1676       Jersey Basic          16   \n",
              "1                 White           1676       Jersey Basic          16   \n",
              "2             Off White           1676       Jersey Basic          16   \n",
              "3                 Black           1339     Clean Lingerie          61   \n",
              "4                 White           1339     Clean Lingerie          61   \n",
              "...                 ...            ...                ...         ...   \n",
              "77645             Black           1676       Jersey Basic          16   \n",
              "77646             Black           1640  Tops Fancy Jersey          53   \n",
              "77647              Pink           1640  Tops Fancy Jersey          53   \n",
              "77648             Black           3608       Tights basic          62   \n",
              "77649             Black           1919             Jersey           2   \n",
              "\n",
              "                         section_name  garment_group_no garment_group_name  \\\n",
              "0              Womens Everyday Basics              1002       Jersey Basic   \n",
              "1              Womens Everyday Basics              1002       Jersey Basic   \n",
              "2              Womens Everyday Basics              1002       Jersey Basic   \n",
              "3                     Womens Lingerie              1017  Under-, Nightwear   \n",
              "4                     Womens Lingerie              1017  Under-, Nightwear   \n",
              "...                               ...               ...                ...   \n",
              "77645          Womens Everyday Basics              1002       Jersey Basic   \n",
              "77646              Divided Collection              1005       Jersey Fancy   \n",
              "77647              Divided Collection              1005       Jersey Fancy   \n",
              "77648  Womens Nightwear, Socks & Tigh              1021   Socks and Tights   \n",
              "77649                            H&M+              1005       Jersey Fancy   \n",
              "\n",
              "                                             detail_desc  \\\n",
              "0                Jersey top with narrow shoulder straps.   \n",
              "1                Jersey top with narrow shoulder straps.   \n",
              "2                Jersey top with narrow shoulder straps.   \n",
              "3      Microfibre T-shirt bra with underwired, moulde...   \n",
              "4      Microfibre T-shirt bra with underwired, moulde...   \n",
              "...                                                  ...   \n",
              "77645  Joggers in sweatshirt fabric made from a cotto...   \n",
              "77646  Short, boxy-style top in sweatshirt fabric mad...   \n",
              "77647  Short, boxy-style top in sweatshirt fabric mad...   \n",
              "77648  Fine-knit tights with an elasticated waist tha...   \n",
              "77649  Loose-fitting sports vest top in ribbed fast-d...   \n",
              "\n",
              "                                               embedings  \n",
              "0      [0.09102032, 0.34984776, 0.030053595, 0.353470...  \n",
              "1      [0.09102096, 0.34984446, 0.030054625, 0.353478...  \n",
              "2      [0.09102001, 0.3498455, 0.030052537, 0.3534720...  \n",
              "3      [0.0677572, -0.086306445, 0.2790705, 0.3526952...  \n",
              "4      [0.067757174, -0.086306475, 0.27906942, 0.3526...  \n",
              "...                                                  ...  \n",
              "77645  [0.16736302, -0.09540966, -0.23466693, -0.1997...  \n",
              "77646  [-0.31419373, 0.038695857, 0.0331248, -0.24385...  \n",
              "77647  [-0.31419373, 0.038695857, 0.0331248, -0.24385...  \n",
              "77648  [0.15237574, -0.1282774, 0.078216314, -0.01958...  \n",
              "77649  [0.212019, 0.07911171, 0.043126468, -0.0680736...  \n",
              "\n",
              "[77650 rows x 18 columns]"
            ],
            "text/html": [
              "\n",
              "  <div id=\"df-1e8b41a9-54b8-4d6d-82ff-530b0ca5b6f7\">\n",
              "    <div class=\"colab-df-container\">\n",
              "      <div>\n",
              "<style scoped>\n",
              "    .dataframe tbody tr th:only-of-type {\n",
              "        vertical-align: middle;\n",
              "    }\n",
              "\n",
              "    .dataframe tbody tr th {\n",
              "        vertical-align: top;\n",
              "    }\n",
              "\n",
              "    .dataframe thead th {\n",
              "        text-align: right;\n",
              "    }\n",
              "</style>\n",
              "<table border=\"1\" class=\"dataframe\">\n",
              "  <thead>\n",
              "    <tr style=\"text-align: right;\">\n",
              "      <th></th>\n",
              "      <th>article_id</th>\n",
              "      <th>product_code</th>\n",
              "      <th>prod_name</th>\n",
              "      <th>product_type_no</th>\n",
              "      <th>product_type_name</th>\n",
              "      <th>product_group_name</th>\n",
              "      <th>graphical_appearance_no</th>\n",
              "      <th>graphical_appearance_name</th>\n",
              "      <th>colour_group_code</th>\n",
              "      <th>colour_group_name</th>\n",
              "      <th>department_no</th>\n",
              "      <th>department_name</th>\n",
              "      <th>section_no</th>\n",
              "      <th>section_name</th>\n",
              "      <th>garment_group_no</th>\n",
              "      <th>garment_group_name</th>\n",
              "      <th>detail_desc</th>\n",
              "      <th>embedings</th>\n",
              "    </tr>\n",
              "  </thead>\n",
              "  <tbody>\n",
              "    <tr>\n",
              "      <th>0</th>\n",
              "      <td>108775015</td>\n",
              "      <td>108775</td>\n",
              "      <td>Strap top</td>\n",
              "      <td>253</td>\n",
              "      <td>Vest top</td>\n",
              "      <td>Garment Upper body</td>\n",
              "      <td>1010016</td>\n",
              "      <td>Solid</td>\n",
              "      <td>9</td>\n",
              "      <td>Black</td>\n",
              "      <td>1676</td>\n",
              "      <td>Jersey Basic</td>\n",
              "      <td>16</td>\n",
              "      <td>Womens Everyday Basics</td>\n",
              "      <td>1002</td>\n",
              "      <td>Jersey Basic</td>\n",
              "      <td>Jersey top with narrow shoulder straps.</td>\n",
              "      <td>[0.09102032, 0.34984776, 0.030053595, 0.353470...</td>\n",
              "    </tr>\n",
              "    <tr>\n",
              "      <th>1</th>\n",
              "      <td>108775044</td>\n",
              "      <td>108775</td>\n",
              "      <td>Strap top</td>\n",
              "      <td>253</td>\n",
              "      <td>Vest top</td>\n",
              "      <td>Garment Upper body</td>\n",
              "      <td>1010016</td>\n",
              "      <td>Solid</td>\n",
              "      <td>10</td>\n",
              "      <td>White</td>\n",
              "      <td>1676</td>\n",
              "      <td>Jersey Basic</td>\n",
              "      <td>16</td>\n",
              "      <td>Womens Everyday Basics</td>\n",
              "      <td>1002</td>\n",
              "      <td>Jersey Basic</td>\n",
              "      <td>Jersey top with narrow shoulder straps.</td>\n",
              "      <td>[0.09102096, 0.34984446, 0.030054625, 0.353478...</td>\n",
              "    </tr>\n",
              "    <tr>\n",
              "      <th>2</th>\n",
              "      <td>108775051</td>\n",
              "      <td>108775</td>\n",
              "      <td>Strap top (1)</td>\n",
              "      <td>253</td>\n",
              "      <td>Vest top</td>\n",
              "      <td>Garment Upper body</td>\n",
              "      <td>1010017</td>\n",
              "      <td>Stripe</td>\n",
              "      <td>11</td>\n",
              "      <td>Off White</td>\n",
              "      <td>1676</td>\n",
              "      <td>Jersey Basic</td>\n",
              "      <td>16</td>\n",
              "      <td>Womens Everyday Basics</td>\n",
              "      <td>1002</td>\n",
              "      <td>Jersey Basic</td>\n",
              "      <td>Jersey top with narrow shoulder straps.</td>\n",
              "      <td>[0.09102001, 0.3498455, 0.030052537, 0.3534720...</td>\n",
              "    </tr>\n",
              "    <tr>\n",
              "      <th>3</th>\n",
              "      <td>110065001</td>\n",
              "      <td>110065</td>\n",
              "      <td>OP T-shirt (Idro)</td>\n",
              "      <td>306</td>\n",
              "      <td>Bra</td>\n",
              "      <td>Underwear</td>\n",
              "      <td>1010016</td>\n",
              "      <td>Solid</td>\n",
              "      <td>9</td>\n",
              "      <td>Black</td>\n",
              "      <td>1339</td>\n",
              "      <td>Clean Lingerie</td>\n",
              "      <td>61</td>\n",
              "      <td>Womens Lingerie</td>\n",
              "      <td>1017</td>\n",
              "      <td>Under-, Nightwear</td>\n",
              "      <td>Microfibre T-shirt bra with underwired, moulde...</td>\n",
              "      <td>[0.0677572, -0.086306445, 0.2790705, 0.3526952...</td>\n",
              "    </tr>\n",
              "    <tr>\n",
              "      <th>4</th>\n",
              "      <td>110065002</td>\n",
              "      <td>110065</td>\n",
              "      <td>OP T-shirt (Idro)</td>\n",
              "      <td>306</td>\n",
              "      <td>Bra</td>\n",
              "      <td>Underwear</td>\n",
              "      <td>1010016</td>\n",
              "      <td>Solid</td>\n",
              "      <td>10</td>\n",
              "      <td>White</td>\n",
              "      <td>1339</td>\n",
              "      <td>Clean Lingerie</td>\n",
              "      <td>61</td>\n",
              "      <td>Womens Lingerie</td>\n",
              "      <td>1017</td>\n",
              "      <td>Under-, Nightwear</td>\n",
              "      <td>Microfibre T-shirt bra with underwired, moulde...</td>\n",
              "      <td>[0.067757174, -0.086306475, 0.27906942, 0.3526...</td>\n",
              "    </tr>\n",
              "    <tr>\n",
              "      <th>...</th>\n",
              "      <td>...</td>\n",
              "      <td>...</td>\n",
              "      <td>...</td>\n",
              "      <td>...</td>\n",
              "      <td>...</td>\n",
              "      <td>...</td>\n",
              "      <td>...</td>\n",
              "      <td>...</td>\n",
              "      <td>...</td>\n",
              "      <td>...</td>\n",
              "      <td>...</td>\n",
              "      <td>...</td>\n",
              "      <td>...</td>\n",
              "      <td>...</td>\n",
              "      <td>...</td>\n",
              "      <td>...</td>\n",
              "      <td>...</td>\n",
              "      <td>...</td>\n",
              "    </tr>\n",
              "    <tr>\n",
              "      <th>77645</th>\n",
              "      <td>949198001</td>\n",
              "      <td>949198</td>\n",
              "      <td>Saturday jogger</td>\n",
              "      <td>272</td>\n",
              "      <td>Trousers</td>\n",
              "      <td>Garment Lower body</td>\n",
              "      <td>1010016</td>\n",
              "      <td>Solid</td>\n",
              "      <td>9</td>\n",
              "      <td>Black</td>\n",
              "      <td>1676</td>\n",
              "      <td>Jersey Basic</td>\n",
              "      <td>16</td>\n",
              "      <td>Womens Everyday Basics</td>\n",
              "      <td>1002</td>\n",
              "      <td>Jersey Basic</td>\n",
              "      <td>Joggers in sweatshirt fabric made from a cotto...</td>\n",
              "      <td>[0.16736302, -0.09540966, -0.23466693, -0.1997...</td>\n",
              "    </tr>\n",
              "    <tr>\n",
              "      <th>77646</th>\n",
              "      <td>949551001</td>\n",
              "      <td>949551</td>\n",
              "      <td>Virgo sweater fast buy</td>\n",
              "      <td>252</td>\n",
              "      <td>Sweater</td>\n",
              "      <td>Garment Upper body</td>\n",
              "      <td>1010016</td>\n",
              "      <td>Solid</td>\n",
              "      <td>9</td>\n",
              "      <td>Black</td>\n",
              "      <td>1640</td>\n",
              "      <td>Tops Fancy Jersey</td>\n",
              "      <td>53</td>\n",
              "      <td>Divided Collection</td>\n",
              "      <td>1005</td>\n",
              "      <td>Jersey Fancy</td>\n",
              "      <td>Short, boxy-style top in sweatshirt fabric mad...</td>\n",
              "      <td>[-0.31419373, 0.038695857, 0.0331248, -0.24385...</td>\n",
              "    </tr>\n",
              "    <tr>\n",
              "      <th>77647</th>\n",
              "      <td>949551002</td>\n",
              "      <td>949551</td>\n",
              "      <td>Virgo sweater fast buy</td>\n",
              "      <td>252</td>\n",
              "      <td>Sweater</td>\n",
              "      <td>Garment Upper body</td>\n",
              "      <td>1010016</td>\n",
              "      <td>Solid</td>\n",
              "      <td>52</td>\n",
              "      <td>Pink</td>\n",
              "      <td>1640</td>\n",
              "      <td>Tops Fancy Jersey</td>\n",
              "      <td>53</td>\n",
              "      <td>Divided Collection</td>\n",
              "      <td>1005</td>\n",
              "      <td>Jersey Fancy</td>\n",
              "      <td>Short, boxy-style top in sweatshirt fabric mad...</td>\n",
              "      <td>[-0.31419373, 0.038695857, 0.0331248, -0.24385...</td>\n",
              "    </tr>\n",
              "    <tr>\n",
              "      <th>77648</th>\n",
              "      <td>952267001</td>\n",
              "      <td>952267</td>\n",
              "      <td>Heavy plain overknee tights 1p</td>\n",
              "      <td>304</td>\n",
              "      <td>Underwear Tights</td>\n",
              "      <td>Socks &amp; Tights</td>\n",
              "      <td>1010013</td>\n",
              "      <td>Other pattern</td>\n",
              "      <td>9</td>\n",
              "      <td>Black</td>\n",
              "      <td>3608</td>\n",
              "      <td>Tights basic</td>\n",
              "      <td>62</td>\n",
              "      <td>Womens Nightwear, Socks &amp; Tigh</td>\n",
              "      <td>1021</td>\n",
              "      <td>Socks and Tights</td>\n",
              "      <td>Fine-knit tights with an elasticated waist tha...</td>\n",
              "      <td>[0.15237574, -0.1282774, 0.078216314, -0.01958...</td>\n",
              "    </tr>\n",
              "    <tr>\n",
              "      <th>77649</th>\n",
              "      <td>953763001</td>\n",
              "      <td>953763</td>\n",
              "      <td>SPORT Malaga tank</td>\n",
              "      <td>253</td>\n",
              "      <td>Vest top</td>\n",
              "      <td>Garment Upper body</td>\n",
              "      <td>1010016</td>\n",
              "      <td>Solid</td>\n",
              "      <td>9</td>\n",
              "      <td>Black</td>\n",
              "      <td>1919</td>\n",
              "      <td>Jersey</td>\n",
              "      <td>2</td>\n",
              "      <td>H&amp;M+</td>\n",
              "      <td>1005</td>\n",
              "      <td>Jersey Fancy</td>\n",
              "      <td>Loose-fitting sports vest top in ribbed fast-d...</td>\n",
              "      <td>[0.212019, 0.07911171, 0.043126468, -0.0680736...</td>\n",
              "    </tr>\n",
              "  </tbody>\n",
              "</table>\n",
              "<p>77650 rows × 18 columns</p>\n",
              "</div>\n",
              "      <button class=\"colab-df-convert\" onclick=\"convertToInteractive('df-1e8b41a9-54b8-4d6d-82ff-530b0ca5b6f7')\"\n",
              "              title=\"Convert this dataframe to an interactive table.\"\n",
              "              style=\"display:none;\">\n",
              "        \n",
              "  <svg xmlns=\"http://www.w3.org/2000/svg\" height=\"24px\"viewBox=\"0 0 24 24\"\n",
              "       width=\"24px\">\n",
              "    <path d=\"M0 0h24v24H0V0z\" fill=\"none\"/>\n",
              "    <path d=\"M18.56 5.44l.94 2.06.94-2.06 2.06-.94-2.06-.94-.94-2.06-.94 2.06-2.06.94zm-11 1L8.5 8.5l.94-2.06 2.06-.94-2.06-.94L8.5 2.5l-.94 2.06-2.06.94zm10 10l.94 2.06.94-2.06 2.06-.94-2.06-.94-.94-2.06-.94 2.06-2.06.94z\"/><path d=\"M17.41 7.96l-1.37-1.37c-.4-.4-.92-.59-1.43-.59-.52 0-1.04.2-1.43.59L10.3 9.45l-7.72 7.72c-.78.78-.78 2.05 0 2.83L4 21.41c.39.39.9.59 1.41.59.51 0 1.02-.2 1.41-.59l7.78-7.78 2.81-2.81c.8-.78.8-2.07 0-2.86zM5.41 20L4 18.59l7.72-7.72 1.47 1.35L5.41 20z\"/>\n",
              "  </svg>\n",
              "      </button>\n",
              "      \n",
              "  <style>\n",
              "    .colab-df-container {\n",
              "      display:flex;\n",
              "      flex-wrap:wrap;\n",
              "      gap: 12px;\n",
              "    }\n",
              "\n",
              "    .colab-df-convert {\n",
              "      background-color: #E8F0FE;\n",
              "      border: none;\n",
              "      border-radius: 50%;\n",
              "      cursor: pointer;\n",
              "      display: none;\n",
              "      fill: #1967D2;\n",
              "      height: 32px;\n",
              "      padding: 0 0 0 0;\n",
              "      width: 32px;\n",
              "    }\n",
              "\n",
              "    .colab-df-convert:hover {\n",
              "      background-color: #E2EBFA;\n",
              "      box-shadow: 0px 1px 2px rgba(60, 64, 67, 0.3), 0px 1px 3px 1px rgba(60, 64, 67, 0.15);\n",
              "      fill: #174EA6;\n",
              "    }\n",
              "\n",
              "    [theme=dark] .colab-df-convert {\n",
              "      background-color: #3B4455;\n",
              "      fill: #D2E3FC;\n",
              "    }\n",
              "\n",
              "    [theme=dark] .colab-df-convert:hover {\n",
              "      background-color: #434B5C;\n",
              "      box-shadow: 0px 1px 3px 1px rgba(0, 0, 0, 0.15);\n",
              "      filter: drop-shadow(0px 1px 2px rgba(0, 0, 0, 0.3));\n",
              "      fill: #FFFFFF;\n",
              "    }\n",
              "  </style>\n",
              "\n",
              "      <script>\n",
              "        const buttonEl =\n",
              "          document.querySelector('#df-1e8b41a9-54b8-4d6d-82ff-530b0ca5b6f7 button.colab-df-convert');\n",
              "        buttonEl.style.display =\n",
              "          google.colab.kernel.accessAllowed ? 'block' : 'none';\n",
              "\n",
              "        async function convertToInteractive(key) {\n",
              "          const element = document.querySelector('#df-1e8b41a9-54b8-4d6d-82ff-530b0ca5b6f7');\n",
              "          const dataTable =\n",
              "            await google.colab.kernel.invokeFunction('convertToInteractive',\n",
              "                                                     [key], {});\n",
              "          if (!dataTable) return;\n",
              "\n",
              "          const docLinkHtml = 'Like what you see? Visit the ' +\n",
              "            '<a target=\"_blank\" href=https://colab.research.google.com/notebooks/data_table.ipynb>data table notebook</a>'\n",
              "            + ' to learn more about interactive tables.';\n",
              "          element.innerHTML = '';\n",
              "          dataTable['output_type'] = 'display_data';\n",
              "          await google.colab.output.renderOutput(dataTable, element);\n",
              "          const docLink = document.createElement('div');\n",
              "          docLink.innerHTML = docLinkHtml;\n",
              "          element.appendChild(docLink);\n",
              "        }\n",
              "      </script>\n",
              "    </div>\n",
              "  </div>\n",
              "  "
            ]
          },
          "metadata": {},
          "execution_count": 240
        }
      ]
    },
    {
      "cell_type": "markdown",
      "source": [
        "Hacemos un join entre la tabla de compras y la de productos, para relacionar a cada usuario con los articulos que compró y sus embedings"
      ],
      "metadata": {
        "id": "JQ8h2w-UUcE0"
      }
    },
    {
      "cell_type": "code",
      "source": [
        "customer_article = train_set[[\"customer_id\", \"article_id\"]]\n",
        "article_embeding = productos_con_embedings[[\"article_id\", \"embedings\"]]\n",
        "join = customer_article.merge(article_embeding, on=\"article_id\")\n",
        "join.head(10)"
      ],
      "metadata": {
        "id": "QXTA-ZdVMmnZ",
        "outputId": "1f1d233f-8849-4a17-c0cb-4138ce57e78a",
        "colab": {
          "base_uri": "https://localhost:8080/",
          "height": 363
        }
      },
      "execution_count": 163,
      "outputs": [
        {
          "output_type": "execute_result",
          "data": {
            "text/plain": [
              "                                         customer_id  article_id  \\\n",
              "0  1f293f035403ce2d1ff0cdb23cc3faf8b1c2ad04dbedbe...   655265001   \n",
              "1  08bf5c240a09e131e9ba5a6429e660a79b13236a0249e9...   655265001   \n",
              "2  270b77626c57a83d3dac0aa3e4394447d3647c9b9956de...   655265001   \n",
              "3  569eb0525995f19d5dbc890447ef3b8f8e38018a937941...   655265001   \n",
              "4  3f647b2a2d5774e6ea22340619bfed2580b5a800a9ca81...   655265001   \n",
              "5  9928a545807e665954f34770207b3804e3d3326dba3bce...   655265001   \n",
              "6  7d9262cc225a675a7e20d32098cb9fef4641075318e91e...   655265001   \n",
              "7  7d9262cc225a675a7e20d32098cb9fef4641075318e91e...   655265001   \n",
              "8  df313012e7bbea1d69a2672ca96968d850e2cce142222c...   655265001   \n",
              "9  35529ccf2f8504dee3b334982d19dd4cc7dbbdf8006114...   655265001   \n",
              "\n",
              "                                           embedings  \n",
              "0  [0.10529615, -0.05447506, -0.105143934, -0.084...  \n",
              "1  [0.10529615, -0.05447506, -0.105143934, -0.084...  \n",
              "2  [0.10529615, -0.05447506, -0.105143934, -0.084...  \n",
              "3  [0.10529615, -0.05447506, -0.105143934, -0.084...  \n",
              "4  [0.10529615, -0.05447506, -0.105143934, -0.084...  \n",
              "5  [0.10529615, -0.05447506, -0.105143934, -0.084...  \n",
              "6  [0.10529615, -0.05447506, -0.105143934, -0.084...  \n",
              "7  [0.10529615, -0.05447506, -0.105143934, -0.084...  \n",
              "8  [0.10529615, -0.05447506, -0.105143934, -0.084...  \n",
              "9  [0.10529615, -0.05447506, -0.105143934, -0.084...  "
            ],
            "text/html": [
              "\n",
              "  <div id=\"df-52b8b451-e197-473b-832c-ad98003e03cc\">\n",
              "    <div class=\"colab-df-container\">\n",
              "      <div>\n",
              "<style scoped>\n",
              "    .dataframe tbody tr th:only-of-type {\n",
              "        vertical-align: middle;\n",
              "    }\n",
              "\n",
              "    .dataframe tbody tr th {\n",
              "        vertical-align: top;\n",
              "    }\n",
              "\n",
              "    .dataframe thead th {\n",
              "        text-align: right;\n",
              "    }\n",
              "</style>\n",
              "<table border=\"1\" class=\"dataframe\">\n",
              "  <thead>\n",
              "    <tr style=\"text-align: right;\">\n",
              "      <th></th>\n",
              "      <th>customer_id</th>\n",
              "      <th>article_id</th>\n",
              "      <th>embedings</th>\n",
              "    </tr>\n",
              "  </thead>\n",
              "  <tbody>\n",
              "    <tr>\n",
              "      <th>0</th>\n",
              "      <td>1f293f035403ce2d1ff0cdb23cc3faf8b1c2ad04dbedbe...</td>\n",
              "      <td>655265001</td>\n",
              "      <td>[0.10529615, -0.05447506, -0.105143934, -0.084...</td>\n",
              "    </tr>\n",
              "    <tr>\n",
              "      <th>1</th>\n",
              "      <td>08bf5c240a09e131e9ba5a6429e660a79b13236a0249e9...</td>\n",
              "      <td>655265001</td>\n",
              "      <td>[0.10529615, -0.05447506, -0.105143934, -0.084...</td>\n",
              "    </tr>\n",
              "    <tr>\n",
              "      <th>2</th>\n",
              "      <td>270b77626c57a83d3dac0aa3e4394447d3647c9b9956de...</td>\n",
              "      <td>655265001</td>\n",
              "      <td>[0.10529615, -0.05447506, -0.105143934, -0.084...</td>\n",
              "    </tr>\n",
              "    <tr>\n",
              "      <th>3</th>\n",
              "      <td>569eb0525995f19d5dbc890447ef3b8f8e38018a937941...</td>\n",
              "      <td>655265001</td>\n",
              "      <td>[0.10529615, -0.05447506, -0.105143934, -0.084...</td>\n",
              "    </tr>\n",
              "    <tr>\n",
              "      <th>4</th>\n",
              "      <td>3f647b2a2d5774e6ea22340619bfed2580b5a800a9ca81...</td>\n",
              "      <td>655265001</td>\n",
              "      <td>[0.10529615, -0.05447506, -0.105143934, -0.084...</td>\n",
              "    </tr>\n",
              "    <tr>\n",
              "      <th>5</th>\n",
              "      <td>9928a545807e665954f34770207b3804e3d3326dba3bce...</td>\n",
              "      <td>655265001</td>\n",
              "      <td>[0.10529615, -0.05447506, -0.105143934, -0.084...</td>\n",
              "    </tr>\n",
              "    <tr>\n",
              "      <th>6</th>\n",
              "      <td>7d9262cc225a675a7e20d32098cb9fef4641075318e91e...</td>\n",
              "      <td>655265001</td>\n",
              "      <td>[0.10529615, -0.05447506, -0.105143934, -0.084...</td>\n",
              "    </tr>\n",
              "    <tr>\n",
              "      <th>7</th>\n",
              "      <td>7d9262cc225a675a7e20d32098cb9fef4641075318e91e...</td>\n",
              "      <td>655265001</td>\n",
              "      <td>[0.10529615, -0.05447506, -0.105143934, -0.084...</td>\n",
              "    </tr>\n",
              "    <tr>\n",
              "      <th>8</th>\n",
              "      <td>df313012e7bbea1d69a2672ca96968d850e2cce142222c...</td>\n",
              "      <td>655265001</td>\n",
              "      <td>[0.10529615, -0.05447506, -0.105143934, -0.084...</td>\n",
              "    </tr>\n",
              "    <tr>\n",
              "      <th>9</th>\n",
              "      <td>35529ccf2f8504dee3b334982d19dd4cc7dbbdf8006114...</td>\n",
              "      <td>655265001</td>\n",
              "      <td>[0.10529615, -0.05447506, -0.105143934, -0.084...</td>\n",
              "    </tr>\n",
              "  </tbody>\n",
              "</table>\n",
              "</div>\n",
              "      <button class=\"colab-df-convert\" onclick=\"convertToInteractive('df-52b8b451-e197-473b-832c-ad98003e03cc')\"\n",
              "              title=\"Convert this dataframe to an interactive table.\"\n",
              "              style=\"display:none;\">\n",
              "        \n",
              "  <svg xmlns=\"http://www.w3.org/2000/svg\" height=\"24px\"viewBox=\"0 0 24 24\"\n",
              "       width=\"24px\">\n",
              "    <path d=\"M0 0h24v24H0V0z\" fill=\"none\"/>\n",
              "    <path d=\"M18.56 5.44l.94 2.06.94-2.06 2.06-.94-2.06-.94-.94-2.06-.94 2.06-2.06.94zm-11 1L8.5 8.5l.94-2.06 2.06-.94-2.06-.94L8.5 2.5l-.94 2.06-2.06.94zm10 10l.94 2.06.94-2.06 2.06-.94-2.06-.94-.94-2.06-.94 2.06-2.06.94z\"/><path d=\"M17.41 7.96l-1.37-1.37c-.4-.4-.92-.59-1.43-.59-.52 0-1.04.2-1.43.59L10.3 9.45l-7.72 7.72c-.78.78-.78 2.05 0 2.83L4 21.41c.39.39.9.59 1.41.59.51 0 1.02-.2 1.41-.59l7.78-7.78 2.81-2.81c.8-.78.8-2.07 0-2.86zM5.41 20L4 18.59l7.72-7.72 1.47 1.35L5.41 20z\"/>\n",
              "  </svg>\n",
              "      </button>\n",
              "      \n",
              "  <style>\n",
              "    .colab-df-container {\n",
              "      display:flex;\n",
              "      flex-wrap:wrap;\n",
              "      gap: 12px;\n",
              "    }\n",
              "\n",
              "    .colab-df-convert {\n",
              "      background-color: #E8F0FE;\n",
              "      border: none;\n",
              "      border-radius: 50%;\n",
              "      cursor: pointer;\n",
              "      display: none;\n",
              "      fill: #1967D2;\n",
              "      height: 32px;\n",
              "      padding: 0 0 0 0;\n",
              "      width: 32px;\n",
              "    }\n",
              "\n",
              "    .colab-df-convert:hover {\n",
              "      background-color: #E2EBFA;\n",
              "      box-shadow: 0px 1px 2px rgba(60, 64, 67, 0.3), 0px 1px 3px 1px rgba(60, 64, 67, 0.15);\n",
              "      fill: #174EA6;\n",
              "    }\n",
              "\n",
              "    [theme=dark] .colab-df-convert {\n",
              "      background-color: #3B4455;\n",
              "      fill: #D2E3FC;\n",
              "    }\n",
              "\n",
              "    [theme=dark] .colab-df-convert:hover {\n",
              "      background-color: #434B5C;\n",
              "      box-shadow: 0px 1px 3px 1px rgba(0, 0, 0, 0.15);\n",
              "      filter: drop-shadow(0px 1px 2px rgba(0, 0, 0, 0.3));\n",
              "      fill: #FFFFFF;\n",
              "    }\n",
              "  </style>\n",
              "\n",
              "      <script>\n",
              "        const buttonEl =\n",
              "          document.querySelector('#df-52b8b451-e197-473b-832c-ad98003e03cc button.colab-df-convert');\n",
              "        buttonEl.style.display =\n",
              "          google.colab.kernel.accessAllowed ? 'block' : 'none';\n",
              "\n",
              "        async function convertToInteractive(key) {\n",
              "          const element = document.querySelector('#df-52b8b451-e197-473b-832c-ad98003e03cc');\n",
              "          const dataTable =\n",
              "            await google.colab.kernel.invokeFunction('convertToInteractive',\n",
              "                                                     [key], {});\n",
              "          if (!dataTable) return;\n",
              "\n",
              "          const docLinkHtml = 'Like what you see? Visit the ' +\n",
              "            '<a target=\"_blank\" href=https://colab.research.google.com/notebooks/data_table.ipynb>data table notebook</a>'\n",
              "            + ' to learn more about interactive tables.';\n",
              "          element.innerHTML = '';\n",
              "          dataTable['output_type'] = 'display_data';\n",
              "          await google.colab.output.renderOutput(dataTable, element);\n",
              "          const docLink = document.createElement('div');\n",
              "          docLink.innerHTML = docLinkHtml;\n",
              "          element.appendChild(docLink);\n",
              "        }\n",
              "      </script>\n",
              "    </div>\n",
              "  </div>\n",
              "  "
            ]
          },
          "metadata": {},
          "execution_count": 163
        }
      ]
    },
    {
      "cell_type": "markdown",
      "source": [
        "Agrupamos por id de usuario, y calculamos el promedio de los embedings comprados por el usuario"
      ],
      "metadata": {
        "id": "-uwr-S6MUpEV"
      }
    },
    {
      "cell_type": "code",
      "source": [
        "customer_vec_rep = join[[\"customer_id\", \"embedings\"]].groupby(['customer_id']).mean()\n",
        "customer_vec_rep.head()"
      ],
      "metadata": {
        "id": "gGGHnWKeRBLe",
        "outputId": "40d9f4ca-bdc3-448f-d68d-d9211e6a6063",
        "colab": {
          "base_uri": "https://localhost:8080/",
          "height": 238
        }
      },
      "execution_count": 180,
      "outputs": [
        {
          "output_type": "execute_result",
          "data": {
            "text/plain": [
              "                                                                                            embedings\n",
              "customer_id                                                                                          \n",
              "000226b9ea81019249060b376b516f821a80e9b24f89a72...  [-0.056542784, -0.07345843, 0.04289618, 0.1091...\n",
              "000303d20b953d06dcf8c6db2d05616383a88ac84bf0548...  [0.21371278, -0.09199065, 0.12193051, 0.400565...\n",
              "0003e7b27d3dd2295e609bcc017e96a05f322cd25fdaa71...  [0.0754113, -0.038841847, 0.05522002, 0.132401...\n",
              "000416152a81973bebab23142bd5dd6ebd85c8c5e2d63e1...  [-0.03669645, 0.004980828, 0.009950718, -0.172...\n",
              "000493dd9fc463df1acc2081450c9e75ef8e87d5dd17ed6...  [0.07098982, -0.07800624, -0.08004244, 0.03764..."
            ],
            "text/html": [
              "\n",
              "  <div id=\"df-5b908e00-0e94-4f61-a690-83a5a1f3b1bf\">\n",
              "    <div class=\"colab-df-container\">\n",
              "      <div>\n",
              "<style scoped>\n",
              "    .dataframe tbody tr th:only-of-type {\n",
              "        vertical-align: middle;\n",
              "    }\n",
              "\n",
              "    .dataframe tbody tr th {\n",
              "        vertical-align: top;\n",
              "    }\n",
              "\n",
              "    .dataframe thead th {\n",
              "        text-align: right;\n",
              "    }\n",
              "</style>\n",
              "<table border=\"1\" class=\"dataframe\">\n",
              "  <thead>\n",
              "    <tr style=\"text-align: right;\">\n",
              "      <th></th>\n",
              "      <th>embedings</th>\n",
              "    </tr>\n",
              "    <tr>\n",
              "      <th>customer_id</th>\n",
              "      <th></th>\n",
              "    </tr>\n",
              "  </thead>\n",
              "  <tbody>\n",
              "    <tr>\n",
              "      <th>000226b9ea81019249060b376b516f821a80e9b24f89a72106bf04b4c18b82f3</th>\n",
              "      <td>[-0.056542784, -0.07345843, 0.04289618, 0.1091...</td>\n",
              "    </tr>\n",
              "    <tr>\n",
              "      <th>000303d20b953d06dcf8c6db2d05616383a88ac84bf05482a8f5c45b3d6507b9</th>\n",
              "      <td>[0.21371278, -0.09199065, 0.12193051, 0.400565...</td>\n",
              "    </tr>\n",
              "    <tr>\n",
              "      <th>0003e7b27d3dd2295e609bcc017e96a05f322cd25fdaa717f5d2ed124a762843</th>\n",
              "      <td>[0.0754113, -0.038841847, 0.05522002, 0.132401...</td>\n",
              "    </tr>\n",
              "    <tr>\n",
              "      <th>000416152a81973bebab23142bd5dd6ebd85c8c5e2d63e18eb6398b71864f219</th>\n",
              "      <td>[-0.03669645, 0.004980828, 0.009950718, -0.172...</td>\n",
              "    </tr>\n",
              "    <tr>\n",
              "      <th>000493dd9fc463df1acc2081450c9e75ef8e87d5dd17ed6396773839f6bf71a9</th>\n",
              "      <td>[0.07098982, -0.07800624, -0.08004244, 0.03764...</td>\n",
              "    </tr>\n",
              "  </tbody>\n",
              "</table>\n",
              "</div>\n",
              "      <button class=\"colab-df-convert\" onclick=\"convertToInteractive('df-5b908e00-0e94-4f61-a690-83a5a1f3b1bf')\"\n",
              "              title=\"Convert this dataframe to an interactive table.\"\n",
              "              style=\"display:none;\">\n",
              "        \n",
              "  <svg xmlns=\"http://www.w3.org/2000/svg\" height=\"24px\"viewBox=\"0 0 24 24\"\n",
              "       width=\"24px\">\n",
              "    <path d=\"M0 0h24v24H0V0z\" fill=\"none\"/>\n",
              "    <path d=\"M18.56 5.44l.94 2.06.94-2.06 2.06-.94-2.06-.94-.94-2.06-.94 2.06-2.06.94zm-11 1L8.5 8.5l.94-2.06 2.06-.94-2.06-.94L8.5 2.5l-.94 2.06-2.06.94zm10 10l.94 2.06.94-2.06 2.06-.94-2.06-.94-.94-2.06-.94 2.06-2.06.94z\"/><path d=\"M17.41 7.96l-1.37-1.37c-.4-.4-.92-.59-1.43-.59-.52 0-1.04.2-1.43.59L10.3 9.45l-7.72 7.72c-.78.78-.78 2.05 0 2.83L4 21.41c.39.39.9.59 1.41.59.51 0 1.02-.2 1.41-.59l7.78-7.78 2.81-2.81c.8-.78.8-2.07 0-2.86zM5.41 20L4 18.59l7.72-7.72 1.47 1.35L5.41 20z\"/>\n",
              "  </svg>\n",
              "      </button>\n",
              "      \n",
              "  <style>\n",
              "    .colab-df-container {\n",
              "      display:flex;\n",
              "      flex-wrap:wrap;\n",
              "      gap: 12px;\n",
              "    }\n",
              "\n",
              "    .colab-df-convert {\n",
              "      background-color: #E8F0FE;\n",
              "      border: none;\n",
              "      border-radius: 50%;\n",
              "      cursor: pointer;\n",
              "      display: none;\n",
              "      fill: #1967D2;\n",
              "      height: 32px;\n",
              "      padding: 0 0 0 0;\n",
              "      width: 32px;\n",
              "    }\n",
              "\n",
              "    .colab-df-convert:hover {\n",
              "      background-color: #E2EBFA;\n",
              "      box-shadow: 0px 1px 2px rgba(60, 64, 67, 0.3), 0px 1px 3px 1px rgba(60, 64, 67, 0.15);\n",
              "      fill: #174EA6;\n",
              "    }\n",
              "\n",
              "    [theme=dark] .colab-df-convert {\n",
              "      background-color: #3B4455;\n",
              "      fill: #D2E3FC;\n",
              "    }\n",
              "\n",
              "    [theme=dark] .colab-df-convert:hover {\n",
              "      background-color: #434B5C;\n",
              "      box-shadow: 0px 1px 3px 1px rgba(0, 0, 0, 0.15);\n",
              "      filter: drop-shadow(0px 1px 2px rgba(0, 0, 0, 0.3));\n",
              "      fill: #FFFFFF;\n",
              "    }\n",
              "  </style>\n",
              "\n",
              "      <script>\n",
              "        const buttonEl =\n",
              "          document.querySelector('#df-5b908e00-0e94-4f61-a690-83a5a1f3b1bf button.colab-df-convert');\n",
              "        buttonEl.style.display =\n",
              "          google.colab.kernel.accessAllowed ? 'block' : 'none';\n",
              "\n",
              "        async function convertToInteractive(key) {\n",
              "          const element = document.querySelector('#df-5b908e00-0e94-4f61-a690-83a5a1f3b1bf');\n",
              "          const dataTable =\n",
              "            await google.colab.kernel.invokeFunction('convertToInteractive',\n",
              "                                                     [key], {});\n",
              "          if (!dataTable) return;\n",
              "\n",
              "          const docLinkHtml = 'Like what you see? Visit the ' +\n",
              "            '<a target=\"_blank\" href=https://colab.research.google.com/notebooks/data_table.ipynb>data table notebook</a>'\n",
              "            + ' to learn more about interactive tables.';\n",
              "          element.innerHTML = '';\n",
              "          dataTable['output_type'] = 'display_data';\n",
              "          await google.colab.output.renderOutput(dataTable, element);\n",
              "          const docLink = document.createElement('div');\n",
              "          docLink.innerHTML = docLinkHtml;\n",
              "          element.appendChild(docLink);\n",
              "        }\n",
              "      </script>\n",
              "    </div>\n",
              "  </div>\n",
              "  "
            ]
          },
          "metadata": {},
          "execution_count": 180
        }
      ]
    },
    {
      "cell_type": "code",
      "source": [
        "def recomendacion(user_id, vec_rep=customer_vec_rep, embeding=pca20_embeded_desc, metric='euclidean', topk=10, expect=\"dataset_id\"):\n",
        "    \n",
        "    user_embeding = vec_rep.loc[user_id].embedings\n",
        "    productos_comprados_por_el_usuario = join[join[\"customer_id\"] == user_id][\"article_id\"]\n",
        "\n",
        "    distances = pairwise_distances(user_embeding.reshape(1,-1), embeding, metric=metric)\n",
        "    heap = []\n",
        "    for i in range(embeding.shape[0]): \n",
        "        #No queremos recomendar productos que ya compró\n",
        "        if np.isin(productos_con_embedings.iloc[i][\"article_id\"], productos_comprados_por_el_usuario):\n",
        "          continue\n",
        "        if len(heap) < topk:\n",
        "            heapq.heappush(heap, (-distances[0][i], i))\n",
        "        else:\n",
        "            heapq.heappushpop(heap, (-distances[0][i], i))\n",
        "\n",
        "    heap.sort(reverse=True)\n",
        "    if expect == \"dataset_id\":\n",
        "      rec_ids = [i for _,i in heap]\n",
        "    elif expect == \"article_id\":\n",
        "      rec_ids = [productos_con_embedings.iloc[i][\"article_id\"] for _,i in heap]\n",
        "    \n",
        "    return rec_ids"
      ],
      "metadata": {
        "id": "yX6lk2S9U2FC"
      },
      "execution_count": 282,
      "outputs": []
    },
    {
      "cell_type": "markdown",
      "source": [
        "A modo de ejemplo, recomendamos 10 productos para el usuario con id \"000303d20b953d06dcf8c6db2d05616383a88ac84bf05482a8f5c45b3d6507b9\""
      ],
      "metadata": {
        "id": "wlNlsQnCn0pw"
      }
    },
    {
      "cell_type": "code",
      "source": [
        "recomendacion_ejemplo = recomendacion(user_id = \"000303d20b953d06dcf8c6db2d05616383a88ac84bf05482a8f5c45b3d6507b9\", metric = 'euclidean', topk=10 )\n",
        "recomendacion_ejemplo"
      ],
      "metadata": {
        "id": "WHMCUTandAZG",
        "outputId": "041ef402-86b0-40d4-e958-e0193d9f4d89",
        "colab": {
          "base_uri": "https://localhost:8080/"
        }
      },
      "execution_count": 283,
      "outputs": [
        {
          "output_type": "execute_result",
          "data": {
            "text/plain": [
              "[47398, 36694, 8924, 50691, 40766, 39527, 39526, 39525, 39524, 11057]"
            ]
          },
          "metadata": {},
          "execution_count": 283
        }
      ]
    },
    {
      "cell_type": "code",
      "source": [
        "recomendacion_ejemplo2 = recomendacion(user_id = \"000303d20b953d06dcf8c6db2d05616383a88ac84bf05482a8f5c45b3d6507b9\", metric = 'euclidean', topk=10, expect=\"article_id\")\n",
        "recomendacion_ejemplo2"
      ],
      "metadata": {
        "id": "bJFLv1Kfm03v",
        "outputId": "74f18108-7bb4-42c6-f39c-7260460ec126",
        "colab": {
          "base_uri": "https://localhost:8080/"
        }
      },
      "execution_count": 284,
      "outputs": [
        {
          "output_type": "execute_result",
          "data": {
            "text/plain": [
              "[744769001,\n",
              " 701162001,\n",
              " 563205001,\n",
              " 758040001,\n",
              " 716993001,\n",
              " 712483006,\n",
              " 712483005,\n",
              " 712483002,\n",
              " 712483001,\n",
              " 576692003]"
            ]
          },
          "metadata": {},
          "execution_count": 284
        }
      ]
    },
    {
      "cell_type": "markdown",
      "source": [
        "Visualizamos los articulos recomendados"
      ],
      "metadata": {
        "id": "8RzYRpTFoAxC"
      }
    },
    {
      "cell_type": "code",
      "source": [
        "productos_con_embedings.iloc[recomendacion_ejemplo]"
      ],
      "metadata": {
        "id": "sJWMt2oEj89R",
        "outputId": "a19fe31c-4368-4708-e033-39f671288051",
        "colab": {
          "base_uri": "https://localhost:8080/",
          "height": 983
        }
      },
      "execution_count": 287,
      "outputs": [
        {
          "output_type": "execute_result",
          "data": {
            "text/plain": [
              "       article_id  product_code                    prod_name  product_type_no  \\\n",
              "47398   744769001        744769         Sandra Bikini 2-pack              299   \n",
              "36694   701162001        701162                 Alexa Bikini              299   \n",
              "8924    563205001        563205         Majorca cheeky breif               59   \n",
              "50691   758040001        758040  LS Emmy Padded Triangle Top              298   \n",
              "40766   716993001        716993                  Lisa Bikini              299   \n",
              "39527   712483006        712483              Letitcia Bikini              299   \n",
              "39526   712483005        712483              Letitcia Bikini              299   \n",
              "39525   712483002        712483              Letitcia Bikini              299   \n",
              "39524   712483001        712483              Letitcia Bikini              299   \n",
              "11057   576692003        576692           KIANDRA bikini top              298   \n",
              "\n",
              "      product_type_name product_group_name  graphical_appearance_no  \\\n",
              "47398      Swimwear set           Swimwear                  1010016   \n",
              "36694      Swimwear set           Swimwear                  1010001   \n",
              "8924    Swimwear bottom           Swimwear                  1010001   \n",
              "50691        Bikini top           Swimwear                  1010001   \n",
              "40766      Swimwear set           Swimwear                  1010001   \n",
              "39527      Swimwear set           Swimwear                  1010021   \n",
              "39526      Swimwear set           Swimwear                  1010021   \n",
              "39525      Swimwear set           Swimwear                  1010001   \n",
              "39524      Swimwear set           Swimwear                  1010001   \n",
              "11057        Bikini top           Swimwear                  1010016   \n",
              "\n",
              "      graphical_appearance_name  colour_group_code colour_group_name  \\\n",
              "47398                     Solid                 73         Dark Blue   \n",
              "36694          All over pattern                  9             Black   \n",
              "8924           All over pattern                  9             Black   \n",
              "50691          All over pattern                 12       Light Beige   \n",
              "40766          All over pattern                 72              Blue   \n",
              "39527                      Lace                 40         Other Red   \n",
              "39526                      Lace                 73         Dark Blue   \n",
              "39525          All over pattern                 20      Other Yellow   \n",
              "39524          All over pattern                 73         Dark Blue   \n",
              "11057                     Solid                 43          Dark Red   \n",
              "\n",
              "       department_no      department_name  section_no  \\\n",
              "47398           4320  Young Girl Swimwear          43   \n",
              "36694           4320  Young Girl Swimwear          43   \n",
              "8924            4242             Swimwear          60   \n",
              "50691           4242             Swimwear          60   \n",
              "40766           4320  Young Girl Swimwear          43   \n",
              "39527           4320  Young Girl Swimwear          43   \n",
              "39526           4320  Young Girl Swimwear          43   \n",
              "39525           4320  Young Girl Swimwear          43   \n",
              "39524           4320  Young Girl Swimwear          43   \n",
              "11057           8396     Ladies Sport Acc           5   \n",
              "\n",
              "                         section_name  garment_group_no garment_group_name  \\\n",
              "47398  Kids Accessories, Swimwear & D              1018           Swimwear   \n",
              "36694  Kids Accessories, Swimwear & D              1018           Swimwear   \n",
              "8924       Womens Swimwear, beachwear              1018           Swimwear   \n",
              "50691      Womens Swimwear, beachwear              1018           Swimwear   \n",
              "40766  Kids Accessories, Swimwear & D              1018           Swimwear   \n",
              "39527  Kids Accessories, Swimwear & D              1018           Swimwear   \n",
              "39526  Kids Accessories, Swimwear & D              1018           Swimwear   \n",
              "39525  Kids Accessories, Swimwear & D              1018           Swimwear   \n",
              "39524  Kids Accessories, Swimwear & D              1018           Swimwear   \n",
              "11057                Ladies H&M Sport              1019        Accessories   \n",
              "\n",
              "                                             detail_desc  \\\n",
              "47398  Fully lined bikinis. Triangle top with an adju...   \n",
              "36694  Fully lined bikini. Top with narrow shoulder s...   \n",
              "8924   Fully lined bikini bottoms with a low waist an...   \n",
              "50691  LOVE STORIES x H&M. Triangle bikini top with f...   \n",
              "40766  Fully lined patterned bikini. Triangle top wit...   \n",
              "39527  Fully lined bikini. Top with narrow, adjustabl...   \n",
              "39526  Fully lined bikini. Top with narrow, adjustabl...   \n",
              "39525  Fully lined bikini. Top with narrow, adjustabl...   \n",
              "39524  Fully lined bikini. Top with narrow, adjustabl...   \n",
              "11057  Fully lined bikini top with padded cups, wide ...   \n",
              "\n",
              "                                               embedings  \n",
              "47398  [0.18545711, -0.091252424, 0.08214764, 0.39934...  \n",
              "36694  [0.16583057, -0.06754585, 0.11136335, 0.442272...  \n",
              "8924   [0.20851645, -0.11892437, 0.028377317, 0.33370...  \n",
              "50691  [0.16437048, -0.095336966, 0.16480817, 0.37251...  \n",
              "40766  [0.15990935, -0.16249447, 0.092329465, 0.42991...  \n",
              "39527  [0.12415223, -0.1052594, 0.16993657, 0.4114155...  \n",
              "39526  [0.12415223, -0.1052594, 0.16993657, 0.4114155...  \n",
              "39525  [0.12415223, -0.1052594, 0.16993657, 0.4114155...  \n",
              "39524  [0.12415223, -0.1052594, 0.16993657, 0.4114155...  \n",
              "11057  [0.14088224, -0.007997514, 0.24058242, 0.44227...  "
            ],
            "text/html": [
              "\n",
              "  <div id=\"df-59e80681-6073-4a5e-903e-a6eb2426cd8a\">\n",
              "    <div class=\"colab-df-container\">\n",
              "      <div>\n",
              "<style scoped>\n",
              "    .dataframe tbody tr th:only-of-type {\n",
              "        vertical-align: middle;\n",
              "    }\n",
              "\n",
              "    .dataframe tbody tr th {\n",
              "        vertical-align: top;\n",
              "    }\n",
              "\n",
              "    .dataframe thead th {\n",
              "        text-align: right;\n",
              "    }\n",
              "</style>\n",
              "<table border=\"1\" class=\"dataframe\">\n",
              "  <thead>\n",
              "    <tr style=\"text-align: right;\">\n",
              "      <th></th>\n",
              "      <th>article_id</th>\n",
              "      <th>product_code</th>\n",
              "      <th>prod_name</th>\n",
              "      <th>product_type_no</th>\n",
              "      <th>product_type_name</th>\n",
              "      <th>product_group_name</th>\n",
              "      <th>graphical_appearance_no</th>\n",
              "      <th>graphical_appearance_name</th>\n",
              "      <th>colour_group_code</th>\n",
              "      <th>colour_group_name</th>\n",
              "      <th>department_no</th>\n",
              "      <th>department_name</th>\n",
              "      <th>section_no</th>\n",
              "      <th>section_name</th>\n",
              "      <th>garment_group_no</th>\n",
              "      <th>garment_group_name</th>\n",
              "      <th>detail_desc</th>\n",
              "      <th>embedings</th>\n",
              "    </tr>\n",
              "  </thead>\n",
              "  <tbody>\n",
              "    <tr>\n",
              "      <th>47398</th>\n",
              "      <td>744769001</td>\n",
              "      <td>744769</td>\n",
              "      <td>Sandra Bikini 2-pack</td>\n",
              "      <td>299</td>\n",
              "      <td>Swimwear set</td>\n",
              "      <td>Swimwear</td>\n",
              "      <td>1010016</td>\n",
              "      <td>Solid</td>\n",
              "      <td>73</td>\n",
              "      <td>Dark Blue</td>\n",
              "      <td>4320</td>\n",
              "      <td>Young Girl Swimwear</td>\n",
              "      <td>43</td>\n",
              "      <td>Kids Accessories, Swimwear &amp; D</td>\n",
              "      <td>1018</td>\n",
              "      <td>Swimwear</td>\n",
              "      <td>Fully lined bikinis. Triangle top with an adju...</td>\n",
              "      <td>[0.18545711, -0.091252424, 0.08214764, 0.39934...</td>\n",
              "    </tr>\n",
              "    <tr>\n",
              "      <th>36694</th>\n",
              "      <td>701162001</td>\n",
              "      <td>701162</td>\n",
              "      <td>Alexa Bikini</td>\n",
              "      <td>299</td>\n",
              "      <td>Swimwear set</td>\n",
              "      <td>Swimwear</td>\n",
              "      <td>1010001</td>\n",
              "      <td>All over pattern</td>\n",
              "      <td>9</td>\n",
              "      <td>Black</td>\n",
              "      <td>4320</td>\n",
              "      <td>Young Girl Swimwear</td>\n",
              "      <td>43</td>\n",
              "      <td>Kids Accessories, Swimwear &amp; D</td>\n",
              "      <td>1018</td>\n",
              "      <td>Swimwear</td>\n",
              "      <td>Fully lined bikini. Top with narrow shoulder s...</td>\n",
              "      <td>[0.16583057, -0.06754585, 0.11136335, 0.442272...</td>\n",
              "    </tr>\n",
              "    <tr>\n",
              "      <th>8924</th>\n",
              "      <td>563205001</td>\n",
              "      <td>563205</td>\n",
              "      <td>Majorca cheeky breif</td>\n",
              "      <td>59</td>\n",
              "      <td>Swimwear bottom</td>\n",
              "      <td>Swimwear</td>\n",
              "      <td>1010001</td>\n",
              "      <td>All over pattern</td>\n",
              "      <td>9</td>\n",
              "      <td>Black</td>\n",
              "      <td>4242</td>\n",
              "      <td>Swimwear</td>\n",
              "      <td>60</td>\n",
              "      <td>Womens Swimwear, beachwear</td>\n",
              "      <td>1018</td>\n",
              "      <td>Swimwear</td>\n",
              "      <td>Fully lined bikini bottoms with a low waist an...</td>\n",
              "      <td>[0.20851645, -0.11892437, 0.028377317, 0.33370...</td>\n",
              "    </tr>\n",
              "    <tr>\n",
              "      <th>50691</th>\n",
              "      <td>758040001</td>\n",
              "      <td>758040</td>\n",
              "      <td>LS Emmy Padded Triangle Top</td>\n",
              "      <td>298</td>\n",
              "      <td>Bikini top</td>\n",
              "      <td>Swimwear</td>\n",
              "      <td>1010001</td>\n",
              "      <td>All over pattern</td>\n",
              "      <td>12</td>\n",
              "      <td>Light Beige</td>\n",
              "      <td>4242</td>\n",
              "      <td>Swimwear</td>\n",
              "      <td>60</td>\n",
              "      <td>Womens Swimwear, beachwear</td>\n",
              "      <td>1018</td>\n",
              "      <td>Swimwear</td>\n",
              "      <td>LOVE STORIES x H&amp;M. Triangle bikini top with f...</td>\n",
              "      <td>[0.16437048, -0.095336966, 0.16480817, 0.37251...</td>\n",
              "    </tr>\n",
              "    <tr>\n",
              "      <th>40766</th>\n",
              "      <td>716993001</td>\n",
              "      <td>716993</td>\n",
              "      <td>Lisa Bikini</td>\n",
              "      <td>299</td>\n",
              "      <td>Swimwear set</td>\n",
              "      <td>Swimwear</td>\n",
              "      <td>1010001</td>\n",
              "      <td>All over pattern</td>\n",
              "      <td>72</td>\n",
              "      <td>Blue</td>\n",
              "      <td>4320</td>\n",
              "      <td>Young Girl Swimwear</td>\n",
              "      <td>43</td>\n",
              "      <td>Kids Accessories, Swimwear &amp; D</td>\n",
              "      <td>1018</td>\n",
              "      <td>Swimwear</td>\n",
              "      <td>Fully lined patterned bikini. Triangle top wit...</td>\n",
              "      <td>[0.15990935, -0.16249447, 0.092329465, 0.42991...</td>\n",
              "    </tr>\n",
              "    <tr>\n",
              "      <th>39527</th>\n",
              "      <td>712483006</td>\n",
              "      <td>712483</td>\n",
              "      <td>Letitcia Bikini</td>\n",
              "      <td>299</td>\n",
              "      <td>Swimwear set</td>\n",
              "      <td>Swimwear</td>\n",
              "      <td>1010021</td>\n",
              "      <td>Lace</td>\n",
              "      <td>40</td>\n",
              "      <td>Other Red</td>\n",
              "      <td>4320</td>\n",
              "      <td>Young Girl Swimwear</td>\n",
              "      <td>43</td>\n",
              "      <td>Kids Accessories, Swimwear &amp; D</td>\n",
              "      <td>1018</td>\n",
              "      <td>Swimwear</td>\n",
              "      <td>Fully lined bikini. Top with narrow, adjustabl...</td>\n",
              "      <td>[0.12415223, -0.1052594, 0.16993657, 0.4114155...</td>\n",
              "    </tr>\n",
              "    <tr>\n",
              "      <th>39526</th>\n",
              "      <td>712483005</td>\n",
              "      <td>712483</td>\n",
              "      <td>Letitcia Bikini</td>\n",
              "      <td>299</td>\n",
              "      <td>Swimwear set</td>\n",
              "      <td>Swimwear</td>\n",
              "      <td>1010021</td>\n",
              "      <td>Lace</td>\n",
              "      <td>73</td>\n",
              "      <td>Dark Blue</td>\n",
              "      <td>4320</td>\n",
              "      <td>Young Girl Swimwear</td>\n",
              "      <td>43</td>\n",
              "      <td>Kids Accessories, Swimwear &amp; D</td>\n",
              "      <td>1018</td>\n",
              "      <td>Swimwear</td>\n",
              "      <td>Fully lined bikini. Top with narrow, adjustabl...</td>\n",
              "      <td>[0.12415223, -0.1052594, 0.16993657, 0.4114155...</td>\n",
              "    </tr>\n",
              "    <tr>\n",
              "      <th>39525</th>\n",
              "      <td>712483002</td>\n",
              "      <td>712483</td>\n",
              "      <td>Letitcia Bikini</td>\n",
              "      <td>299</td>\n",
              "      <td>Swimwear set</td>\n",
              "      <td>Swimwear</td>\n",
              "      <td>1010001</td>\n",
              "      <td>All over pattern</td>\n",
              "      <td>20</td>\n",
              "      <td>Other Yellow</td>\n",
              "      <td>4320</td>\n",
              "      <td>Young Girl Swimwear</td>\n",
              "      <td>43</td>\n",
              "      <td>Kids Accessories, Swimwear &amp; D</td>\n",
              "      <td>1018</td>\n",
              "      <td>Swimwear</td>\n",
              "      <td>Fully lined bikini. Top with narrow, adjustabl...</td>\n",
              "      <td>[0.12415223, -0.1052594, 0.16993657, 0.4114155...</td>\n",
              "    </tr>\n",
              "    <tr>\n",
              "      <th>39524</th>\n",
              "      <td>712483001</td>\n",
              "      <td>712483</td>\n",
              "      <td>Letitcia Bikini</td>\n",
              "      <td>299</td>\n",
              "      <td>Swimwear set</td>\n",
              "      <td>Swimwear</td>\n",
              "      <td>1010001</td>\n",
              "      <td>All over pattern</td>\n",
              "      <td>73</td>\n",
              "      <td>Dark Blue</td>\n",
              "      <td>4320</td>\n",
              "      <td>Young Girl Swimwear</td>\n",
              "      <td>43</td>\n",
              "      <td>Kids Accessories, Swimwear &amp; D</td>\n",
              "      <td>1018</td>\n",
              "      <td>Swimwear</td>\n",
              "      <td>Fully lined bikini. Top with narrow, adjustabl...</td>\n",
              "      <td>[0.12415223, -0.1052594, 0.16993657, 0.4114155...</td>\n",
              "    </tr>\n",
              "    <tr>\n",
              "      <th>11057</th>\n",
              "      <td>576692003</td>\n",
              "      <td>576692</td>\n",
              "      <td>KIANDRA bikini top</td>\n",
              "      <td>298</td>\n",
              "      <td>Bikini top</td>\n",
              "      <td>Swimwear</td>\n",
              "      <td>1010016</td>\n",
              "      <td>Solid</td>\n",
              "      <td>43</td>\n",
              "      <td>Dark Red</td>\n",
              "      <td>8396</td>\n",
              "      <td>Ladies Sport Acc</td>\n",
              "      <td>5</td>\n",
              "      <td>Ladies H&amp;M Sport</td>\n",
              "      <td>1019</td>\n",
              "      <td>Accessories</td>\n",
              "      <td>Fully lined bikini top with padded cups, wide ...</td>\n",
              "      <td>[0.14088224, -0.007997514, 0.24058242, 0.44227...</td>\n",
              "    </tr>\n",
              "  </tbody>\n",
              "</table>\n",
              "</div>\n",
              "      <button class=\"colab-df-convert\" onclick=\"convertToInteractive('df-59e80681-6073-4a5e-903e-a6eb2426cd8a')\"\n",
              "              title=\"Convert this dataframe to an interactive table.\"\n",
              "              style=\"display:none;\">\n",
              "        \n",
              "  <svg xmlns=\"http://www.w3.org/2000/svg\" height=\"24px\"viewBox=\"0 0 24 24\"\n",
              "       width=\"24px\">\n",
              "    <path d=\"M0 0h24v24H0V0z\" fill=\"none\"/>\n",
              "    <path d=\"M18.56 5.44l.94 2.06.94-2.06 2.06-.94-2.06-.94-.94-2.06-.94 2.06-2.06.94zm-11 1L8.5 8.5l.94-2.06 2.06-.94-2.06-.94L8.5 2.5l-.94 2.06-2.06.94zm10 10l.94 2.06.94-2.06 2.06-.94-2.06-.94-.94-2.06-.94 2.06-2.06.94z\"/><path d=\"M17.41 7.96l-1.37-1.37c-.4-.4-.92-.59-1.43-.59-.52 0-1.04.2-1.43.59L10.3 9.45l-7.72 7.72c-.78.78-.78 2.05 0 2.83L4 21.41c.39.39.9.59 1.41.59.51 0 1.02-.2 1.41-.59l7.78-7.78 2.81-2.81c.8-.78.8-2.07 0-2.86zM5.41 20L4 18.59l7.72-7.72 1.47 1.35L5.41 20z\"/>\n",
              "  </svg>\n",
              "      </button>\n",
              "      \n",
              "  <style>\n",
              "    .colab-df-container {\n",
              "      display:flex;\n",
              "      flex-wrap:wrap;\n",
              "      gap: 12px;\n",
              "    }\n",
              "\n",
              "    .colab-df-convert {\n",
              "      background-color: #E8F0FE;\n",
              "      border: none;\n",
              "      border-radius: 50%;\n",
              "      cursor: pointer;\n",
              "      display: none;\n",
              "      fill: #1967D2;\n",
              "      height: 32px;\n",
              "      padding: 0 0 0 0;\n",
              "      width: 32px;\n",
              "    }\n",
              "\n",
              "    .colab-df-convert:hover {\n",
              "      background-color: #E2EBFA;\n",
              "      box-shadow: 0px 1px 2px rgba(60, 64, 67, 0.3), 0px 1px 3px 1px rgba(60, 64, 67, 0.15);\n",
              "      fill: #174EA6;\n",
              "    }\n",
              "\n",
              "    [theme=dark] .colab-df-convert {\n",
              "      background-color: #3B4455;\n",
              "      fill: #D2E3FC;\n",
              "    }\n",
              "\n",
              "    [theme=dark] .colab-df-convert:hover {\n",
              "      background-color: #434B5C;\n",
              "      box-shadow: 0px 1px 3px 1px rgba(0, 0, 0, 0.15);\n",
              "      filter: drop-shadow(0px 1px 2px rgba(0, 0, 0, 0.3));\n",
              "      fill: #FFFFFF;\n",
              "    }\n",
              "  </style>\n",
              "\n",
              "      <script>\n",
              "        const buttonEl =\n",
              "          document.querySelector('#df-59e80681-6073-4a5e-903e-a6eb2426cd8a button.colab-df-convert');\n",
              "        buttonEl.style.display =\n",
              "          google.colab.kernel.accessAllowed ? 'block' : 'none';\n",
              "\n",
              "        async function convertToInteractive(key) {\n",
              "          const element = document.querySelector('#df-59e80681-6073-4a5e-903e-a6eb2426cd8a');\n",
              "          const dataTable =\n",
              "            await google.colab.kernel.invokeFunction('convertToInteractive',\n",
              "                                                     [key], {});\n",
              "          if (!dataTable) return;\n",
              "\n",
              "          const docLinkHtml = 'Like what you see? Visit the ' +\n",
              "            '<a target=\"_blank\" href=https://colab.research.google.com/notebooks/data_table.ipynb>data table notebook</a>'\n",
              "            + ' to learn more about interactive tables.';\n",
              "          element.innerHTML = '';\n",
              "          dataTable['output_type'] = 'display_data';\n",
              "          await google.colab.output.renderOutput(dataTable, element);\n",
              "          const docLink = document.createElement('div');\n",
              "          docLink.innerHTML = docLinkHtml;\n",
              "          element.appendChild(docLink);\n",
              "        }\n",
              "      </script>\n",
              "    </div>\n",
              "  </div>\n",
              "  "
            ]
          },
          "metadata": {},
          "execution_count": 287
        }
      ]
    },
    {
      "cell_type": "markdown",
      "source": [
        "Calculamos métricas del desempeño del algoritmo basado en contenido"
      ],
      "metadata": {
        "id": "epK-y5C2oF48"
      }
    },
    {
      "cell_type": "code",
      "source": [
        "# Recomendar el top 10 productos a cada uno de los usuarios:\n",
        "top_10_basado_en_contenidos = defaultdict(list)\n",
        "for usuario in validation_set['customer_id'].unique():\n",
        "    top_10_basado_en_contenidos[usuario] = recomendacion(user_id = usuario, embeding=pca20_embeded_desc, metric = 'euclidean', topk=10, expect=\"article_id\")\n",
        "# Obtener métricas:\n",
        "imprimir_metricas(evaluar(top_n_verdadero_para_cada_usuario, top_10_basado_en_contenidos))"
      ],
      "metadata": {
        "id": "bw0VCrqDliOL",
        "outputId": "90a437d5-7251-4983-a9b7-d96704c8968f",
        "colab": {
          "base_uri": "https://localhost:8080/",
          "height": 408
        }
      },
      "execution_count": 288,
      "outputs": [
        {
          "output_type": "error",
          "ename": "KeyboardInterrupt",
          "evalue": "ignored",
          "traceback": [
            "\u001b[0;31m---------------------------------------------------------------------------\u001b[0m",
            "\u001b[0;31mKeyboardInterrupt\u001b[0m                         Traceback (most recent call last)",
            "\u001b[0;32m<ipython-input-288-a764242e4d9d>\u001b[0m in \u001b[0;36m<module>\u001b[0;34m\u001b[0m\n\u001b[1;32m      2\u001b[0m \u001b[0mtop_10_basado_en_contenidos\u001b[0m \u001b[0;34m=\u001b[0m \u001b[0mdefaultdict\u001b[0m\u001b[0;34m(\u001b[0m\u001b[0mlist\u001b[0m\u001b[0;34m)\u001b[0m\u001b[0;34m\u001b[0m\u001b[0;34m\u001b[0m\u001b[0m\n\u001b[1;32m      3\u001b[0m \u001b[0;32mfor\u001b[0m \u001b[0musuario\u001b[0m \u001b[0;32min\u001b[0m \u001b[0mvalidation_set\u001b[0m\u001b[0;34m[\u001b[0m\u001b[0;34m'customer_id'\u001b[0m\u001b[0;34m]\u001b[0m\u001b[0;34m.\u001b[0m\u001b[0munique\u001b[0m\u001b[0;34m(\u001b[0m\u001b[0;34m)\u001b[0m\u001b[0;34m:\u001b[0m\u001b[0;34m\u001b[0m\u001b[0;34m\u001b[0m\u001b[0m\n\u001b[0;32m----> 4\u001b[0;31m     \u001b[0mtop_10_basado_en_contenidos\u001b[0m\u001b[0;34m[\u001b[0m\u001b[0musuario\u001b[0m\u001b[0;34m]\u001b[0m \u001b[0;34m=\u001b[0m \u001b[0mrecomendacion\u001b[0m\u001b[0;34m(\u001b[0m\u001b[0muser_id\u001b[0m \u001b[0;34m=\u001b[0m \u001b[0musuario\u001b[0m\u001b[0;34m,\u001b[0m \u001b[0membeding\u001b[0m\u001b[0;34m=\u001b[0m\u001b[0mpca20_embeded_desc\u001b[0m\u001b[0;34m,\u001b[0m \u001b[0mmetric\u001b[0m \u001b[0;34m=\u001b[0m \u001b[0;34m'euclidean'\u001b[0m\u001b[0;34m,\u001b[0m \u001b[0mtopk\u001b[0m\u001b[0;34m=\u001b[0m\u001b[0;36m10\u001b[0m\u001b[0;34m,\u001b[0m \u001b[0mexpect\u001b[0m\u001b[0;34m=\u001b[0m\u001b[0;34m\"article_id\"\u001b[0m\u001b[0;34m)\u001b[0m\u001b[0;34m\u001b[0m\u001b[0;34m\u001b[0m\u001b[0m\n\u001b[0m\u001b[1;32m      5\u001b[0m \u001b[0;31m# Obtener métricas:\u001b[0m\u001b[0;34m\u001b[0m\u001b[0;34m\u001b[0m\u001b[0;34m\u001b[0m\u001b[0m\n\u001b[1;32m      6\u001b[0m \u001b[0mimprimir_metricas\u001b[0m\u001b[0;34m(\u001b[0m\u001b[0mevaluar\u001b[0m\u001b[0;34m(\u001b[0m\u001b[0mtop_n_verdadero_para_cada_usuario\u001b[0m\u001b[0;34m,\u001b[0m \u001b[0mtop_10_basado_en_contenidos\u001b[0m\u001b[0;34m)\u001b[0m\u001b[0;34m)\u001b[0m\u001b[0;34m\u001b[0m\u001b[0;34m\u001b[0m\u001b[0m\n",
            "\u001b[0;32m<ipython-input-282-320a4a37382a>\u001b[0m in \u001b[0;36mrecomendacion\u001b[0;34m(user_id, embeding, metric, topk, expect)\u001b[0m\n\u001b[1;32m      8\u001b[0m     \u001b[0;32mfor\u001b[0m \u001b[0mi\u001b[0m \u001b[0;32min\u001b[0m \u001b[0mrange\u001b[0m\u001b[0;34m(\u001b[0m\u001b[0membeding\u001b[0m\u001b[0;34m.\u001b[0m\u001b[0mshape\u001b[0m\u001b[0;34m[\u001b[0m\u001b[0;36m0\u001b[0m\u001b[0;34m]\u001b[0m\u001b[0;34m)\u001b[0m\u001b[0;34m:\u001b[0m\u001b[0;34m\u001b[0m\u001b[0;34m\u001b[0m\u001b[0m\n\u001b[1;32m      9\u001b[0m         \u001b[0;31m#No queremos recomendar productos que ya compró\u001b[0m\u001b[0;34m\u001b[0m\u001b[0;34m\u001b[0m\u001b[0;34m\u001b[0m\u001b[0m\n\u001b[0;32m---> 10\u001b[0;31m         \u001b[0;32mif\u001b[0m \u001b[0mnp\u001b[0m\u001b[0;34m.\u001b[0m\u001b[0misin\u001b[0m\u001b[0;34m(\u001b[0m\u001b[0mproductos_con_embedings\u001b[0m\u001b[0;34m.\u001b[0m\u001b[0miloc\u001b[0m\u001b[0;34m[\u001b[0m\u001b[0mi\u001b[0m\u001b[0;34m]\u001b[0m\u001b[0;34m[\u001b[0m\u001b[0;34m\"article_id\"\u001b[0m\u001b[0;34m]\u001b[0m\u001b[0;34m,\u001b[0m \u001b[0mproductos_comprados_por_el_usuario\u001b[0m\u001b[0;34m)\u001b[0m\u001b[0;34m:\u001b[0m\u001b[0;34m\u001b[0m\u001b[0;34m\u001b[0m\u001b[0m\n\u001b[0m\u001b[1;32m     11\u001b[0m           \u001b[0;32mcontinue\u001b[0m\u001b[0;34m\u001b[0m\u001b[0;34m\u001b[0m\u001b[0m\n\u001b[1;32m     12\u001b[0m         \u001b[0;32mif\u001b[0m \u001b[0mlen\u001b[0m\u001b[0;34m(\u001b[0m\u001b[0mheap\u001b[0m\u001b[0;34m)\u001b[0m \u001b[0;34m<\u001b[0m \u001b[0mtopk\u001b[0m\u001b[0;34m:\u001b[0m\u001b[0;34m\u001b[0m\u001b[0;34m\u001b[0m\u001b[0m\n",
            "\u001b[0;32m/usr/local/lib/python3.7/dist-packages/pandas/core/indexing.py\u001b[0m in \u001b[0;36m__getitem__\u001b[0;34m(self, key)\u001b[0m\n\u001b[1;32m    929\u001b[0m \u001b[0;34m\u001b[0m\u001b[0m\n\u001b[1;32m    930\u001b[0m             \u001b[0mmaybe_callable\u001b[0m \u001b[0;34m=\u001b[0m \u001b[0mcom\u001b[0m\u001b[0;34m.\u001b[0m\u001b[0mapply_if_callable\u001b[0m\u001b[0;34m(\u001b[0m\u001b[0mkey\u001b[0m\u001b[0;34m,\u001b[0m \u001b[0mself\u001b[0m\u001b[0;34m.\u001b[0m\u001b[0mobj\u001b[0m\u001b[0;34m)\u001b[0m\u001b[0;34m\u001b[0m\u001b[0;34m\u001b[0m\u001b[0m\n\u001b[0;32m--> 931\u001b[0;31m             \u001b[0;32mreturn\u001b[0m \u001b[0mself\u001b[0m\u001b[0;34m.\u001b[0m\u001b[0m_getitem_axis\u001b[0m\u001b[0;34m(\u001b[0m\u001b[0mmaybe_callable\u001b[0m\u001b[0;34m,\u001b[0m \u001b[0maxis\u001b[0m\u001b[0;34m=\u001b[0m\u001b[0maxis\u001b[0m\u001b[0;34m)\u001b[0m\u001b[0;34m\u001b[0m\u001b[0;34m\u001b[0m\u001b[0m\n\u001b[0m\u001b[1;32m    932\u001b[0m \u001b[0;34m\u001b[0m\u001b[0m\n\u001b[1;32m    933\u001b[0m     \u001b[0;32mdef\u001b[0m \u001b[0m_is_scalar_access\u001b[0m\u001b[0;34m(\u001b[0m\u001b[0mself\u001b[0m\u001b[0;34m,\u001b[0m \u001b[0mkey\u001b[0m\u001b[0;34m:\u001b[0m \u001b[0mtuple\u001b[0m\u001b[0;34m)\u001b[0m\u001b[0;34m:\u001b[0m\u001b[0;34m\u001b[0m\u001b[0;34m\u001b[0m\u001b[0m\n",
            "\u001b[0;32m/usr/local/lib/python3.7/dist-packages/pandas/core/indexing.py\u001b[0m in \u001b[0;36m_getitem_axis\u001b[0;34m(self, key, axis)\u001b[0m\n\u001b[1;32m   1566\u001b[0m             \u001b[0mself\u001b[0m\u001b[0;34m.\u001b[0m\u001b[0m_validate_integer\u001b[0m\u001b[0;34m(\u001b[0m\u001b[0mkey\u001b[0m\u001b[0;34m,\u001b[0m \u001b[0maxis\u001b[0m\u001b[0;34m)\u001b[0m\u001b[0;34m\u001b[0m\u001b[0;34m\u001b[0m\u001b[0m\n\u001b[1;32m   1567\u001b[0m \u001b[0;34m\u001b[0m\u001b[0m\n\u001b[0;32m-> 1568\u001b[0;31m             \u001b[0;32mreturn\u001b[0m \u001b[0mself\u001b[0m\u001b[0;34m.\u001b[0m\u001b[0mobj\u001b[0m\u001b[0;34m.\u001b[0m\u001b[0m_ixs\u001b[0m\u001b[0;34m(\u001b[0m\u001b[0mkey\u001b[0m\u001b[0;34m,\u001b[0m \u001b[0maxis\u001b[0m\u001b[0;34m=\u001b[0m\u001b[0maxis\u001b[0m\u001b[0;34m)\u001b[0m\u001b[0;34m\u001b[0m\u001b[0;34m\u001b[0m\u001b[0m\n\u001b[0m\u001b[1;32m   1569\u001b[0m \u001b[0;34m\u001b[0m\u001b[0m\n\u001b[1;32m   1570\u001b[0m     \u001b[0;32mdef\u001b[0m \u001b[0m_get_slice_axis\u001b[0m\u001b[0;34m(\u001b[0m\u001b[0mself\u001b[0m\u001b[0;34m,\u001b[0m \u001b[0mslice_obj\u001b[0m\u001b[0;34m:\u001b[0m \u001b[0mslice\u001b[0m\u001b[0;34m,\u001b[0m \u001b[0maxis\u001b[0m\u001b[0;34m:\u001b[0m \u001b[0mint\u001b[0m\u001b[0;34m)\u001b[0m\u001b[0;34m:\u001b[0m\u001b[0;34m\u001b[0m\u001b[0;34m\u001b[0m\u001b[0m\n",
            "\u001b[0;32m/usr/local/lib/python3.7/dist-packages/pandas/core/frame.py\u001b[0m in \u001b[0;36m_ixs\u001b[0;34m(self, i, axis)\u001b[0m\n\u001b[1;32m   3377\u001b[0m         \u001b[0;31m# irow\u001b[0m\u001b[0;34m\u001b[0m\u001b[0;34m\u001b[0m\u001b[0;34m\u001b[0m\u001b[0m\n\u001b[1;32m   3378\u001b[0m         \u001b[0;32mif\u001b[0m \u001b[0maxis\u001b[0m \u001b[0;34m==\u001b[0m \u001b[0;36m0\u001b[0m\u001b[0;34m:\u001b[0m\u001b[0;34m\u001b[0m\u001b[0;34m\u001b[0m\u001b[0m\n\u001b[0;32m-> 3379\u001b[0;31m             \u001b[0mnew_values\u001b[0m \u001b[0;34m=\u001b[0m \u001b[0mself\u001b[0m\u001b[0;34m.\u001b[0m\u001b[0m_mgr\u001b[0m\u001b[0;34m.\u001b[0m\u001b[0mfast_xs\u001b[0m\u001b[0;34m(\u001b[0m\u001b[0mi\u001b[0m\u001b[0;34m)\u001b[0m\u001b[0;34m\u001b[0m\u001b[0;34m\u001b[0m\u001b[0m\n\u001b[0m\u001b[1;32m   3380\u001b[0m \u001b[0;34m\u001b[0m\u001b[0m\n\u001b[1;32m   3381\u001b[0m             \u001b[0;31m# if we are a copy, mark as such\u001b[0m\u001b[0;34m\u001b[0m\u001b[0;34m\u001b[0m\u001b[0;34m\u001b[0m\u001b[0m\n",
            "\u001b[0;32m/usr/local/lib/python3.7/dist-packages/pandas/core/internals/managers.py\u001b[0m in \u001b[0;36mfast_xs\u001b[0;34m(self, loc)\u001b[0m\n\u001b[1;32m    968\u001b[0m             \u001b[0;31m# result[blk.mgr_locs] = blk._slice((slice(None), loc))\u001b[0m\u001b[0;34m\u001b[0m\u001b[0;34m\u001b[0m\u001b[0;34m\u001b[0m\u001b[0m\n\u001b[1;32m    969\u001b[0m             \u001b[0;32mfor\u001b[0m \u001b[0mi\u001b[0m\u001b[0;34m,\u001b[0m \u001b[0mrl\u001b[0m \u001b[0;32min\u001b[0m \u001b[0menumerate\u001b[0m\u001b[0;34m(\u001b[0m\u001b[0mblk\u001b[0m\u001b[0;34m.\u001b[0m\u001b[0mmgr_locs\u001b[0m\u001b[0;34m)\u001b[0m\u001b[0;34m:\u001b[0m\u001b[0;34m\u001b[0m\u001b[0;34m\u001b[0m\u001b[0m\n\u001b[0;32m--> 970\u001b[0;31m                 \u001b[0mresult\u001b[0m\u001b[0;34m[\u001b[0m\u001b[0mrl\u001b[0m\u001b[0;34m]\u001b[0m \u001b[0;34m=\u001b[0m \u001b[0mblk\u001b[0m\u001b[0;34m.\u001b[0m\u001b[0miget\u001b[0m\u001b[0;34m(\u001b[0m\u001b[0;34m(\u001b[0m\u001b[0mi\u001b[0m\u001b[0;34m,\u001b[0m \u001b[0mloc\u001b[0m\u001b[0;34m)\u001b[0m\u001b[0;34m)\u001b[0m\u001b[0;34m\u001b[0m\u001b[0;34m\u001b[0m\u001b[0m\n\u001b[0m\u001b[1;32m    971\u001b[0m \u001b[0;34m\u001b[0m\u001b[0m\n\u001b[1;32m    972\u001b[0m         \u001b[0;32mif\u001b[0m \u001b[0misinstance\u001b[0m\u001b[0;34m(\u001b[0m\u001b[0mdtype\u001b[0m\u001b[0;34m,\u001b[0m \u001b[0mExtensionDtype\u001b[0m\u001b[0;34m)\u001b[0m\u001b[0;34m:\u001b[0m\u001b[0;34m\u001b[0m\u001b[0;34m\u001b[0m\u001b[0m\n",
            "\u001b[0;31mKeyboardInterrupt\u001b[0m: "
          ]
        }
      ]
    },
    {
      "cell_type": "markdown",
      "source": [
        "Lamentablemente este código estuvo corriendo por 1 hora y no terminó :c"
      ],
      "metadata": {
        "id": "ax9OeGh72MME"
      }
    },
    {
      "cell_type": "markdown",
      "source": [
        "Analisis de Sensibilidad:"
      ],
      "metadata": {
        "id": "k6SvQ0YXoMio"
      }
    },
    {
      "cell_type": "code",
      "source": [
        "def repr_vect_usuario(pca):\n",
        "  productos_con_embedings = productos\n",
        "  productos_con_embedings[\"embedings\"] = \"\"\n",
        "  for i, embeding in enumerate(pca):\n",
        "    productos_con_embedings.at[i, 'embedings'] = embeding\n",
        "  customer_article = train_set[[\"customer_id\", \"article_id\"]]\n",
        "  article_embeding = productos_con_embedings[[\"article_id\", \"embedings\"]]\n",
        "  join = customer_article.merge(article_embeding, on=\"article_id\")\n",
        "  customer_vec_rep = join[[\"customer_id\", \"embedings\"]].groupby(['customer_id']).mean()\n",
        "  return customer_vec_rep"
      ],
      "metadata": {
        "id": "MFyMEipbrcxc"
      },
      "execution_count": 289,
      "outputs": []
    },
    {
      "cell_type": "code",
      "source": [
        "embedings_por_dimension = []\n",
        "embedings_por_dimension.append(PCA(n_components=10).fit_transform(embeded_desc))\n",
        "embedings_por_dimension.append(PCA(n_components=50).fit_transform(embeded_desc))\n",
        "embedings_por_dimension.append(PCA(n_components=100).fit_transform(embeded_desc))\n",
        "metricas_de_distancia = [\"cosine\", \"euclidean\", \"manhattan\"]\n",
        "\n",
        "ndcg_basado_contenido = []\n",
        "map_basado_contenido = []\n",
        "\n",
        "for embeding in embedings_por_dimension:\n",
        "  vec_rep = repr_vect_usuario(embeding)\n",
        "  top_10_basado_en_contenidos = defaultdict(list)\n",
        "  for usuario in validation_set['customer_id'].unique():\n",
        "    top_10_basado_en_contenidos[usuario] = recomendacion(user_id = usuario, vec_rep=vec_rep, embeding=embeding, metric = 'euclidean', topk=10, expect=\"article_id\")\n",
        "  # Obtener métricas:\n",
        "  resultados = evaluar(top_n_verdadero_para_cada_usuario, top_10_basado_en_contenidos, arrobas=(10))\n",
        "  ndcg.append(resultados['ndcg'][10])\n",
        "  map.append(resultados['map'][10])\n",
        "\n",
        "for distancia in metricas_de_distancia:\n",
        "  embeding = PCA(n_components=20).fit_transform(embeded_desc)\n",
        "  vec_rep = repr_vect_usuario(embeding)\n",
        "  top_10_basado_en_contenidos = defaultdict(list)\n",
        "  for usuario in validation_set['customer_id'].unique():\n",
        "    top_10_basado_en_contenidos[usuario] = recomendacion(user_id = usuario, vec_rep=vec_rep, embeding=embeding, metric = distancia, topk=10, expect=\"article_id\")\n",
        "  # Obtener métricas:\n",
        "  resultados = evaluar(top_n_verdadero_para_cada_usuario, top_10_basado_en_contenidos, arrobas=(10))\n",
        "  ndcg.append(resultados['ndcg'][10])\n",
        "  map.append(resultados['map'][10])"
      ],
      "metadata": {
        "id": "kHOe4hQLpr_C"
      },
      "execution_count": null,
      "outputs": []
    },
    {
      "cell_type": "markdown",
      "source": [
        "Este tampoco terminó, principalmente porque el anterior no terminó"
      ],
      "metadata": {
        "id": "6lsCTRg_2UJl"
      }
    },
    {
      "cell_type": "markdown",
      "source": [
        "##Actividad 5:Comparación de métodos"
      ],
      "metadata": {
        "id": "DTkUX4MVvMmV"
      }
    },
    {
      "cell_type": "markdown",
      "source": [
        "Los resultados de las métricas, falta las de basado en contenido pero no se pudieron obtener debido a la razón explicada anteriormente"
      ],
      "metadata": {
        "id": "hILeVxLv2a7_"
      }
    },
    {
      "cell_type": "code",
      "source": [
        "comparative = {\"Algoritmo\": [\"Random\", \"Most Popular\", \"ALS\", \"BPR\", \"Basado en contenido\"],\n",
        "               \"NDCG@10\": [2.15719752e-05, 0.00300709, 0.00634481, 0.00280486, np.NaN],\n",
        "               \"MAP@10\": [4.15559162e-05, 0.00928451, 0.02194264, 0.00924935, np.NaN],\n",
        "               \"Parametros\": [\"No aplica\", \"No aplica\", \"1000 factores latentes\", \"200 factores latentes\", \"PCA: NaN, Metrica: NaN\"]}\n",
        "df_comp = pd.DataFrame(comparative)\n",
        "df_comp"
      ],
      "metadata": {
        "id": "6ZkNe9uJw44b",
        "outputId": "f671e131-0f79-4258-eb0e-660edf8927cf",
        "colab": {
          "base_uri": "https://localhost:8080/",
          "height": 206
        }
      },
      "execution_count": 291,
      "outputs": [
        {
          "output_type": "execute_result",
          "data": {
            "text/plain": [
              "             Algoritmo   NDCG@10    MAP@10              Parametros\n",
              "0               Random  0.000022  0.000042               No aplica\n",
              "1         Most Popular  0.003007  0.009285               No aplica\n",
              "2                  ALS  0.006345  0.021943  1000 factores latentes\n",
              "3                  BPR  0.002805  0.009249   200 factores latentes\n",
              "4  Basado en contenido       NaN       NaN  PCA: NaN, Metrica: NaN"
            ],
            "text/html": [
              "\n",
              "  <div id=\"df-b44ab55f-ecb9-4f6c-8f6b-df84c41fc05e\">\n",
              "    <div class=\"colab-df-container\">\n",
              "      <div>\n",
              "<style scoped>\n",
              "    .dataframe tbody tr th:only-of-type {\n",
              "        vertical-align: middle;\n",
              "    }\n",
              "\n",
              "    .dataframe tbody tr th {\n",
              "        vertical-align: top;\n",
              "    }\n",
              "\n",
              "    .dataframe thead th {\n",
              "        text-align: right;\n",
              "    }\n",
              "</style>\n",
              "<table border=\"1\" class=\"dataframe\">\n",
              "  <thead>\n",
              "    <tr style=\"text-align: right;\">\n",
              "      <th></th>\n",
              "      <th>Algoritmo</th>\n",
              "      <th>NDCG@10</th>\n",
              "      <th>MAP@10</th>\n",
              "      <th>Parametros</th>\n",
              "    </tr>\n",
              "  </thead>\n",
              "  <tbody>\n",
              "    <tr>\n",
              "      <th>0</th>\n",
              "      <td>Random</td>\n",
              "      <td>0.000022</td>\n",
              "      <td>0.000042</td>\n",
              "      <td>No aplica</td>\n",
              "    </tr>\n",
              "    <tr>\n",
              "      <th>1</th>\n",
              "      <td>Most Popular</td>\n",
              "      <td>0.003007</td>\n",
              "      <td>0.009285</td>\n",
              "      <td>No aplica</td>\n",
              "    </tr>\n",
              "    <tr>\n",
              "      <th>2</th>\n",
              "      <td>ALS</td>\n",
              "      <td>0.006345</td>\n",
              "      <td>0.021943</td>\n",
              "      <td>1000 factores latentes</td>\n",
              "    </tr>\n",
              "    <tr>\n",
              "      <th>3</th>\n",
              "      <td>BPR</td>\n",
              "      <td>0.002805</td>\n",
              "      <td>0.009249</td>\n",
              "      <td>200 factores latentes</td>\n",
              "    </tr>\n",
              "    <tr>\n",
              "      <th>4</th>\n",
              "      <td>Basado en contenido</td>\n",
              "      <td>NaN</td>\n",
              "      <td>NaN</td>\n",
              "      <td>PCA: NaN, Metrica: NaN</td>\n",
              "    </tr>\n",
              "  </tbody>\n",
              "</table>\n",
              "</div>\n",
              "      <button class=\"colab-df-convert\" onclick=\"convertToInteractive('df-b44ab55f-ecb9-4f6c-8f6b-df84c41fc05e')\"\n",
              "              title=\"Convert this dataframe to an interactive table.\"\n",
              "              style=\"display:none;\">\n",
              "        \n",
              "  <svg xmlns=\"http://www.w3.org/2000/svg\" height=\"24px\"viewBox=\"0 0 24 24\"\n",
              "       width=\"24px\">\n",
              "    <path d=\"M0 0h24v24H0V0z\" fill=\"none\"/>\n",
              "    <path d=\"M18.56 5.44l.94 2.06.94-2.06 2.06-.94-2.06-.94-.94-2.06-.94 2.06-2.06.94zm-11 1L8.5 8.5l.94-2.06 2.06-.94-2.06-.94L8.5 2.5l-.94 2.06-2.06.94zm10 10l.94 2.06.94-2.06 2.06-.94-2.06-.94-.94-2.06-.94 2.06-2.06.94z\"/><path d=\"M17.41 7.96l-1.37-1.37c-.4-.4-.92-.59-1.43-.59-.52 0-1.04.2-1.43.59L10.3 9.45l-7.72 7.72c-.78.78-.78 2.05 0 2.83L4 21.41c.39.39.9.59 1.41.59.51 0 1.02-.2 1.41-.59l7.78-7.78 2.81-2.81c.8-.78.8-2.07 0-2.86zM5.41 20L4 18.59l7.72-7.72 1.47 1.35L5.41 20z\"/>\n",
              "  </svg>\n",
              "      </button>\n",
              "      \n",
              "  <style>\n",
              "    .colab-df-container {\n",
              "      display:flex;\n",
              "      flex-wrap:wrap;\n",
              "      gap: 12px;\n",
              "    }\n",
              "\n",
              "    .colab-df-convert {\n",
              "      background-color: #E8F0FE;\n",
              "      border: none;\n",
              "      border-radius: 50%;\n",
              "      cursor: pointer;\n",
              "      display: none;\n",
              "      fill: #1967D2;\n",
              "      height: 32px;\n",
              "      padding: 0 0 0 0;\n",
              "      width: 32px;\n",
              "    }\n",
              "\n",
              "    .colab-df-convert:hover {\n",
              "      background-color: #E2EBFA;\n",
              "      box-shadow: 0px 1px 2px rgba(60, 64, 67, 0.3), 0px 1px 3px 1px rgba(60, 64, 67, 0.15);\n",
              "      fill: #174EA6;\n",
              "    }\n",
              "\n",
              "    [theme=dark] .colab-df-convert {\n",
              "      background-color: #3B4455;\n",
              "      fill: #D2E3FC;\n",
              "    }\n",
              "\n",
              "    [theme=dark] .colab-df-convert:hover {\n",
              "      background-color: #434B5C;\n",
              "      box-shadow: 0px 1px 3px 1px rgba(0, 0, 0, 0.15);\n",
              "      filter: drop-shadow(0px 1px 2px rgba(0, 0, 0, 0.3));\n",
              "      fill: #FFFFFF;\n",
              "    }\n",
              "  </style>\n",
              "\n",
              "      <script>\n",
              "        const buttonEl =\n",
              "          document.querySelector('#df-b44ab55f-ecb9-4f6c-8f6b-df84c41fc05e button.colab-df-convert');\n",
              "        buttonEl.style.display =\n",
              "          google.colab.kernel.accessAllowed ? 'block' : 'none';\n",
              "\n",
              "        async function convertToInteractive(key) {\n",
              "          const element = document.querySelector('#df-b44ab55f-ecb9-4f6c-8f6b-df84c41fc05e');\n",
              "          const dataTable =\n",
              "            await google.colab.kernel.invokeFunction('convertToInteractive',\n",
              "                                                     [key], {});\n",
              "          if (!dataTable) return;\n",
              "\n",
              "          const docLinkHtml = 'Like what you see? Visit the ' +\n",
              "            '<a target=\"_blank\" href=https://colab.research.google.com/notebooks/data_table.ipynb>data table notebook</a>'\n",
              "            + ' to learn more about interactive tables.';\n",
              "          element.innerHTML = '';\n",
              "          dataTable['output_type'] = 'display_data';\n",
              "          await google.colab.output.renderOutput(dataTable, element);\n",
              "          const docLink = document.createElement('div');\n",
              "          docLink.innerHTML = docLinkHtml;\n",
              "          element.appendChild(docLink);\n",
              "        }\n",
              "      </script>\n",
              "    </div>\n",
              "  </div>\n",
              "  "
            ]
          },
          "metadata": {},
          "execution_count": 291
        }
      ]
    },
    {
      "cell_type": "markdown",
      "source": [
        "Aquí se realizarían las recomendaciones con el mejor algoritmo, para este caso usaremos ALS."
      ],
      "metadata": {
        "id": "EO0rcNpv2lPS"
      }
    },
    {
      "cell_type": "code",
      "source": [
        "top_10 = defaultdict(list)\n",
        "for usuario in train_set['customer_id'].unique():\n",
        "    top_10[usuario] = \"Algoritmo de recomendación\""
      ],
      "metadata": {
        "id": "hf074nhpztEL"
      },
      "execution_count": null,
      "outputs": []
    },
    {
      "cell_type": "markdown",
      "source": [
        "Lo guardamos en un json\n",
        "\n"
      ],
      "metadata": {
        "id": "Snj9onQd2yQx"
      }
    },
    {
      "cell_type": "code",
      "source": [
        "import pickle\n",
        "\n",
        "with open('recomendaciones.json', 'wb') as fp:\n",
        "    pickle.dump(top_10, fp)\n"
      ],
      "metadata": {
        "id": "4qgC94S713Hb"
      },
      "execution_count": null,
      "outputs": []
    }
  ],
  "metadata": {
    "colab": {
      "name": "Tarea.ipynb",
      "provenance": [],
      "include_colab_link": true
    },
    "kernelspec": {
      "display_name": "Python 3.8.10 64-bit",
      "language": "python",
      "name": "python3"
    },
    "language_info": {
      "codemirror_mode": {
        "name": "ipython",
        "version": 3
      },
      "file_extension": ".py",
      "mimetype": "text/x-python",
      "name": "python",
      "nbconvert_exporter": "python",
      "pygments_lexer": "ipython3",
      "version": "3.8.10"
    },
    "vscode": {
      "interpreter": {
        "hash": "f285bb5f8983d1aafa033d6733ae0de2189f69ae4c0ee5aa1b3ca39129c61fab"
      }
    }
  },
  "nbformat": 4,
  "nbformat_minor": 0
}