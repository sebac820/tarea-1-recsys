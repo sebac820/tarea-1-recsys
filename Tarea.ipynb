{
  "cells": [
    {
      "cell_type": "markdown",
      "metadata": {
        "id": "view-in-github",
        "colab_type": "text"
      },
      "source": [
        "<a href=\"https://colab.research.google.com/github/sebac820/tarea-1-recsys/blob/main/Tarea.ipynb\" target=\"_parent\"><img src=\"https://colab.research.google.com/assets/colab-badge.svg\" alt=\"Open In Colab\"/></a>"
      ]
    },
    {
      "cell_type": "markdown",
      "metadata": {
        "id": "0j5dXaBwK_tN"
      },
      "source": [
        "# Tarea 1"
      ]
    },
    {
      "cell_type": "markdown",
      "metadata": {
        "id": "3EYk44lXgigw"
      },
      "source": [
        "## Librerías"
      ]
    },
    {
      "cell_type": "markdown",
      "source": [
        "Instalar librerías necesarias:"
      ],
      "metadata": {
        "id": "o_ce2bQoiUrC"
      }
    },
    {
      "cell_type": "code",
      "source": [
        "!pip3 install pyreclab"
      ],
      "metadata": {
        "colab": {
          "base_uri": "https://localhost:8080/"
        },
        "id": "EekisAnPhjsp",
        "outputId": "b18041e5-de47-4b54-f111-def911f9e083"
      },
      "execution_count": 2,
      "outputs": [
        {
          "output_type": "stream",
          "name": "stdout",
          "text": [
            "Looking in indexes: https://pypi.org/simple, https://us-python.pkg.dev/colab-wheels/public/simple/\n",
            "Collecting pyreclab\n",
            "  Downloading pyreclab-0.1.15-cp37-cp37m-manylinux2010_x86_64.whl (234 kB)\n",
            "\u001b[K     |████████████████████████████████| 234 kB 5.3 MB/s \n",
            "\u001b[?25hInstalling collected packages: pyreclab\n",
            "Successfully installed pyreclab-0.1.15\n"
          ]
        }
      ]
    },
    {
      "cell_type": "markdown",
      "source": [
        "Importar librerías:"
      ],
      "metadata": {
        "id": "sVLMJbHRiXDQ"
      }
    },
    {
      "cell_type": "code",
      "execution_count": 7,
      "metadata": {
        "id": "pIRImPUIgigw"
      },
      "outputs": [],
      "source": [
        "from collections import defaultdict\n",
        "from math import log2\n",
        "from pyreclab import BprMf, IFAls\n",
        "from sklearn.metrics import ndcg_score\n",
        "import matplotlib.pyplot as plt\n",
        "import numpy as np\n",
        "import pandas as pd\n",
        "import random"
      ]
    },
    {
      "cell_type": "markdown",
      "source": [
        "Enlazar con Google Drive:"
      ],
      "metadata": {
        "id": "A6o7STePibvt"
      }
    },
    {
      "cell_type": "code",
      "source": [
        "from google.colab import drive\n",
        "drive.mount('/content/drive')\n",
        "data_path = '/content/drive/MyDrive'"
      ],
      "metadata": {
        "colab": {
          "base_uri": "https://localhost:8080/"
        },
        "id": "IDEW27uQh-hM",
        "outputId": "f04e69aa-7c03-4647-f106-87f48e452d51"
      },
      "execution_count": 8,
      "outputs": [
        {
          "output_type": "stream",
          "name": "stdout",
          "text": [
            "Drive already mounted at /content/drive; to attempt to forcibly remount, call drive.mount(\"/content/drive\", force_remount=True).\n"
          ]
        }
      ]
    },
    {
      "cell_type": "markdown",
      "metadata": {
        "id": "JeGWBn1ugigx"
      },
      "source": [
        "## Actividad 1: Análisis exploratorio"
      ]
    },
    {
      "cell_type": "markdown",
      "metadata": {
        "id": "IsR72Xh4gigy"
      },
      "source": [
        "### Visualización de los datos de entrenamiento"
      ]
    },
    {
      "cell_type": "markdown",
      "metadata": {
        "id": "YdWDe9T8gigy"
      },
      "source": [
        "Importamos y visualizamos los datos de entrenamiento:"
      ]
    },
    {
      "cell_type": "code",
      "execution_count": 63,
      "metadata": {
        "colab": {
          "base_uri": "https://localhost:8080/",
          "height": 242
        },
        "id": "HftKdYzZgigy",
        "outputId": "bae6bf83-d643-4028-8a2e-eb0566c1ff25"
      },
      "outputs": [
        {
          "output_type": "stream",
          "name": "stdout",
          "text": [
            "El dataset de entrenamiento cuenta con 1318501 filas y 5 columnas.\n",
            "Las primeras cinco filas son:\n"
          ]
        },
        {
          "output_type": "execute_result",
          "data": {
            "text/plain": [
              "        t_dat                                        customer_id  article_id  \\\n",
              "0  2018-11-28  1f293f035403ce2d1ff0cdb23cc3faf8b1c2ad04dbedbe...   655265001   \n",
              "1  2018-11-28  1f293f035403ce2d1ff0cdb23cc3faf8b1c2ad04dbedbe...   537688014   \n",
              "2  2019-03-28  1f293f035403ce2d1ff0cdb23cc3faf8b1c2ad04dbedbe...   698877002   \n",
              "3  2019-03-28  1f293f035403ce2d1ff0cdb23cc3faf8b1c2ad04dbedbe...   382127027   \n",
              "4  2019-03-28  1f293f035403ce2d1ff0cdb23cc3faf8b1c2ad04dbedbe...   610776001   \n",
              "\n",
              "      price  sales_channel_id  \n",
              "0  0.025407                 2  \n",
              "1  0.050831                 2  \n",
              "2  0.042356                 2  \n",
              "3  0.032186                 2  \n",
              "4  0.008458                 2  "
            ],
            "text/html": [
              "\n",
              "  <div id=\"df-f3dfbd0e-8fb9-40ed-a6b6-cf97d4828304\">\n",
              "    <div class=\"colab-df-container\">\n",
              "      <div>\n",
              "<style scoped>\n",
              "    .dataframe tbody tr th:only-of-type {\n",
              "        vertical-align: middle;\n",
              "    }\n",
              "\n",
              "    .dataframe tbody tr th {\n",
              "        vertical-align: top;\n",
              "    }\n",
              "\n",
              "    .dataframe thead th {\n",
              "        text-align: right;\n",
              "    }\n",
              "</style>\n",
              "<table border=\"1\" class=\"dataframe\">\n",
              "  <thead>\n",
              "    <tr style=\"text-align: right;\">\n",
              "      <th></th>\n",
              "      <th>t_dat</th>\n",
              "      <th>customer_id</th>\n",
              "      <th>article_id</th>\n",
              "      <th>price</th>\n",
              "      <th>sales_channel_id</th>\n",
              "    </tr>\n",
              "  </thead>\n",
              "  <tbody>\n",
              "    <tr>\n",
              "      <th>0</th>\n",
              "      <td>2018-11-28</td>\n",
              "      <td>1f293f035403ce2d1ff0cdb23cc3faf8b1c2ad04dbedbe...</td>\n",
              "      <td>655265001</td>\n",
              "      <td>0.025407</td>\n",
              "      <td>2</td>\n",
              "    </tr>\n",
              "    <tr>\n",
              "      <th>1</th>\n",
              "      <td>2018-11-28</td>\n",
              "      <td>1f293f035403ce2d1ff0cdb23cc3faf8b1c2ad04dbedbe...</td>\n",
              "      <td>537688014</td>\n",
              "      <td>0.050831</td>\n",
              "      <td>2</td>\n",
              "    </tr>\n",
              "    <tr>\n",
              "      <th>2</th>\n",
              "      <td>2019-03-28</td>\n",
              "      <td>1f293f035403ce2d1ff0cdb23cc3faf8b1c2ad04dbedbe...</td>\n",
              "      <td>698877002</td>\n",
              "      <td>0.042356</td>\n",
              "      <td>2</td>\n",
              "    </tr>\n",
              "    <tr>\n",
              "      <th>3</th>\n",
              "      <td>2019-03-28</td>\n",
              "      <td>1f293f035403ce2d1ff0cdb23cc3faf8b1c2ad04dbedbe...</td>\n",
              "      <td>382127027</td>\n",
              "      <td>0.032186</td>\n",
              "      <td>2</td>\n",
              "    </tr>\n",
              "    <tr>\n",
              "      <th>4</th>\n",
              "      <td>2019-03-28</td>\n",
              "      <td>1f293f035403ce2d1ff0cdb23cc3faf8b1c2ad04dbedbe...</td>\n",
              "      <td>610776001</td>\n",
              "      <td>0.008458</td>\n",
              "      <td>2</td>\n",
              "    </tr>\n",
              "  </tbody>\n",
              "</table>\n",
              "</div>\n",
              "      <button class=\"colab-df-convert\" onclick=\"convertToInteractive('df-f3dfbd0e-8fb9-40ed-a6b6-cf97d4828304')\"\n",
              "              title=\"Convert this dataframe to an interactive table.\"\n",
              "              style=\"display:none;\">\n",
              "        \n",
              "  <svg xmlns=\"http://www.w3.org/2000/svg\" height=\"24px\"viewBox=\"0 0 24 24\"\n",
              "       width=\"24px\">\n",
              "    <path d=\"M0 0h24v24H0V0z\" fill=\"none\"/>\n",
              "    <path d=\"M18.56 5.44l.94 2.06.94-2.06 2.06-.94-2.06-.94-.94-2.06-.94 2.06-2.06.94zm-11 1L8.5 8.5l.94-2.06 2.06-.94-2.06-.94L8.5 2.5l-.94 2.06-2.06.94zm10 10l.94 2.06.94-2.06 2.06-.94-2.06-.94-.94-2.06-.94 2.06-2.06.94z\"/><path d=\"M17.41 7.96l-1.37-1.37c-.4-.4-.92-.59-1.43-.59-.52 0-1.04.2-1.43.59L10.3 9.45l-7.72 7.72c-.78.78-.78 2.05 0 2.83L4 21.41c.39.39.9.59 1.41.59.51 0 1.02-.2 1.41-.59l7.78-7.78 2.81-2.81c.8-.78.8-2.07 0-2.86zM5.41 20L4 18.59l7.72-7.72 1.47 1.35L5.41 20z\"/>\n",
              "  </svg>\n",
              "      </button>\n",
              "      \n",
              "  <style>\n",
              "    .colab-df-container {\n",
              "      display:flex;\n",
              "      flex-wrap:wrap;\n",
              "      gap: 12px;\n",
              "    }\n",
              "\n",
              "    .colab-df-convert {\n",
              "      background-color: #E8F0FE;\n",
              "      border: none;\n",
              "      border-radius: 50%;\n",
              "      cursor: pointer;\n",
              "      display: none;\n",
              "      fill: #1967D2;\n",
              "      height: 32px;\n",
              "      padding: 0 0 0 0;\n",
              "      width: 32px;\n",
              "    }\n",
              "\n",
              "    .colab-df-convert:hover {\n",
              "      background-color: #E2EBFA;\n",
              "      box-shadow: 0px 1px 2px rgba(60, 64, 67, 0.3), 0px 1px 3px 1px rgba(60, 64, 67, 0.15);\n",
              "      fill: #174EA6;\n",
              "    }\n",
              "\n",
              "    [theme=dark] .colab-df-convert {\n",
              "      background-color: #3B4455;\n",
              "      fill: #D2E3FC;\n",
              "    }\n",
              "\n",
              "    [theme=dark] .colab-df-convert:hover {\n",
              "      background-color: #434B5C;\n",
              "      box-shadow: 0px 1px 3px 1px rgba(0, 0, 0, 0.15);\n",
              "      filter: drop-shadow(0px 1px 2px rgba(0, 0, 0, 0.3));\n",
              "      fill: #FFFFFF;\n",
              "    }\n",
              "  </style>\n",
              "\n",
              "      <script>\n",
              "        const buttonEl =\n",
              "          document.querySelector('#df-f3dfbd0e-8fb9-40ed-a6b6-cf97d4828304 button.colab-df-convert');\n",
              "        buttonEl.style.display =\n",
              "          google.colab.kernel.accessAllowed ? 'block' : 'none';\n",
              "\n",
              "        async function convertToInteractive(key) {\n",
              "          const element = document.querySelector('#df-f3dfbd0e-8fb9-40ed-a6b6-cf97d4828304');\n",
              "          const dataTable =\n",
              "            await google.colab.kernel.invokeFunction('convertToInteractive',\n",
              "                                                     [key], {});\n",
              "          if (!dataTable) return;\n",
              "\n",
              "          const docLinkHtml = 'Like what you see? Visit the ' +\n",
              "            '<a target=\"_blank\" href=https://colab.research.google.com/notebooks/data_table.ipynb>data table notebook</a>'\n",
              "            + ' to learn more about interactive tables.';\n",
              "          element.innerHTML = '';\n",
              "          dataTable['output_type'] = 'display_data';\n",
              "          await google.colab.output.renderOutput(dataTable, element);\n",
              "          const docLink = document.createElement('div');\n",
              "          docLink.innerHTML = docLinkHtml;\n",
              "          element.appendChild(docLink);\n",
              "        }\n",
              "      </script>\n",
              "    </div>\n",
              "  </div>\n",
              "  "
            ]
          },
          "metadata": {},
          "execution_count": 63
        }
      ],
      "source": [
        "train_set = pd.read_csv(f'{data_path}/transactions_train.csv', header=0, index_col=0)\n",
        "print(f'El dataset de entrenamiento cuenta con {train_set.shape[0]} filas y {train_set.shape[1]} columnas.')\n",
        "print('Las primeras cinco filas son:')\n",
        "train_set.head()"
      ]
    },
    {
      "cell_type": "markdown",
      "metadata": {
        "id": "6BVc0-3rgigz"
      },
      "source": [
        "### Distribución del número de compras por usuario"
      ]
    },
    {
      "cell_type": "markdown",
      "metadata": {
        "id": "Ke8jpByfgigz"
      },
      "source": [
        "Obtenemos a los 10 usuarios más activos en el dataset:"
      ]
    },
    {
      "cell_type": "code",
      "execution_count": 64,
      "metadata": {
        "colab": {
          "base_uri": "https://localhost:8080/",
          "height": 412
        },
        "id": "n44R7HbMgig0",
        "outputId": "28d93c48-4803-405a-8048-9bed53b31743"
      },
      "outputs": [
        {
          "output_type": "stream",
          "name": "stdout",
          "text": [
            "Porcentaje total que representa el top 10 dentro del dataset: 0.6309437763035446%\n"
          ]
        },
        {
          "output_type": "display_data",
          "data": {
            "text/plain": [
              "                                                    compras  \\\n",
              "customer_id                                                   \n",
              "a65f77281a528bf5c1e9f270141d601d116e1df33bf9df5...     1346   \n",
              "84c34f4f564db1f437943c77af41f83bf6fd7c01701cbb0...      950   \n",
              "e55d5ddb3a0c3fb1b4df8edbf526ba12989ab2a852c7277...      910   \n",
              "2df54f0d0653811fe06479c93905f3e6ecc6d07edf39d8b...      875   \n",
              "9f12a01e2982f70a820b5dd61528bf769b94c5c5e43b237...      789   \n",
              "bbebb44478948f5052c3f4c5dc04f08653e7938886a8568...      740   \n",
              "d3b5f70ec21ad1718cf4951445e97007de0d4e85c39ea9f...      724   \n",
              "ad3090d52d11671ffb43bfaa85e3620eff669e8c92c9114...      670   \n",
              "0152d53f51444891ea07013fd1fb8325415bb09bb6798a5...      664   \n",
              "01a4717d38b651e46dda7f1ab8d1494af2682a847fa9a52...      651   \n",
              "\n",
              "                                                    porcentaje_del_dataset  \n",
              "customer_id                                                                 \n",
              "a65f77281a528bf5c1e9f270141d601d116e1df33bf9df5...                0.102086  \n",
              "84c34f4f564db1f437943c77af41f83bf6fd7c01701cbb0...                0.072052  \n",
              "e55d5ddb3a0c3fb1b4df8edbf526ba12989ab2a852c7277...                0.069018  \n",
              "2df54f0d0653811fe06479c93905f3e6ecc6d07edf39d8b...                0.066363  \n",
              "9f12a01e2982f70a820b5dd61528bf769b94c5c5e43b237...                0.059841  \n",
              "bbebb44478948f5052c3f4c5dc04f08653e7938886a8568...                0.056124  \n",
              "d3b5f70ec21ad1718cf4951445e97007de0d4e85c39ea9f...                0.054911  \n",
              "ad3090d52d11671ffb43bfaa85e3620eff669e8c92c9114...                0.050815  \n",
              "0152d53f51444891ea07013fd1fb8325415bb09bb6798a5...                0.050360  \n",
              "01a4717d38b651e46dda7f1ab8d1494af2682a847fa9a52...                0.049374  "
            ],
            "text/html": [
              "\n",
              "  <div id=\"df-8523524c-1ef3-4d4a-a380-b079788dc9fd\">\n",
              "    <div class=\"colab-df-container\">\n",
              "      <div>\n",
              "<style scoped>\n",
              "    .dataframe tbody tr th:only-of-type {\n",
              "        vertical-align: middle;\n",
              "    }\n",
              "\n",
              "    .dataframe tbody tr th {\n",
              "        vertical-align: top;\n",
              "    }\n",
              "\n",
              "    .dataframe thead th {\n",
              "        text-align: right;\n",
              "    }\n",
              "</style>\n",
              "<table border=\"1\" class=\"dataframe\">\n",
              "  <thead>\n",
              "    <tr style=\"text-align: right;\">\n",
              "      <th></th>\n",
              "      <th>compras</th>\n",
              "      <th>porcentaje_del_dataset</th>\n",
              "    </tr>\n",
              "    <tr>\n",
              "      <th>customer_id</th>\n",
              "      <th></th>\n",
              "      <th></th>\n",
              "    </tr>\n",
              "  </thead>\n",
              "  <tbody>\n",
              "    <tr>\n",
              "      <th>a65f77281a528bf5c1e9f270141d601d116e1df33bf9df512f495ee06647a9cc</th>\n",
              "      <td>1346</td>\n",
              "      <td>0.102086</td>\n",
              "    </tr>\n",
              "    <tr>\n",
              "      <th>84c34f4f564db1f437943c77af41f83bf6fd7c01701cbb050070369176905712</th>\n",
              "      <td>950</td>\n",
              "      <td>0.072052</td>\n",
              "    </tr>\n",
              "    <tr>\n",
              "      <th>e55d5ddb3a0c3fb1b4df8edbf526ba12989ab2a852c72774e3f3338cbbb3335e</th>\n",
              "      <td>910</td>\n",
              "      <td>0.069018</td>\n",
              "    </tr>\n",
              "    <tr>\n",
              "      <th>2df54f0d0653811fe06479c93905f3e6ecc6d07edf39d8b56e5b66c86182bedf</th>\n",
              "      <td>875</td>\n",
              "      <td>0.066363</td>\n",
              "    </tr>\n",
              "    <tr>\n",
              "      <th>9f12a01e2982f70a820b5dd61528bf769b94c5c5e43b23704f1f654784bcda58</th>\n",
              "      <td>789</td>\n",
              "      <td>0.059841</td>\n",
              "    </tr>\n",
              "    <tr>\n",
              "      <th>bbebb44478948f5052c3f4c5dc04f08653e7938886a85685917fd22b92f22cd0</th>\n",
              "      <td>740</td>\n",
              "      <td>0.056124</td>\n",
              "    </tr>\n",
              "    <tr>\n",
              "      <th>d3b5f70ec21ad1718cf4951445e97007de0d4e85c39ea9fd2fedaf1966280943</th>\n",
              "      <td>724</td>\n",
              "      <td>0.054911</td>\n",
              "    </tr>\n",
              "    <tr>\n",
              "      <th>ad3090d52d11671ffb43bfaa85e3620eff669e8c92c9114ba7755876254cbba8</th>\n",
              "      <td>670</td>\n",
              "      <td>0.050815</td>\n",
              "    </tr>\n",
              "    <tr>\n",
              "      <th>0152d53f51444891ea07013fd1fb8325415bb09bb6798a59359b21a8326d801b</th>\n",
              "      <td>664</td>\n",
              "      <td>0.050360</td>\n",
              "    </tr>\n",
              "    <tr>\n",
              "      <th>01a4717d38b651e46dda7f1ab8d1494af2682a847fa9a52a8f9ab1a09acd0294</th>\n",
              "      <td>651</td>\n",
              "      <td>0.049374</td>\n",
              "    </tr>\n",
              "  </tbody>\n",
              "</table>\n",
              "</div>\n",
              "      <button class=\"colab-df-convert\" onclick=\"convertToInteractive('df-8523524c-1ef3-4d4a-a380-b079788dc9fd')\"\n",
              "              title=\"Convert this dataframe to an interactive table.\"\n",
              "              style=\"display:none;\">\n",
              "        \n",
              "  <svg xmlns=\"http://www.w3.org/2000/svg\" height=\"24px\"viewBox=\"0 0 24 24\"\n",
              "       width=\"24px\">\n",
              "    <path d=\"M0 0h24v24H0V0z\" fill=\"none\"/>\n",
              "    <path d=\"M18.56 5.44l.94 2.06.94-2.06 2.06-.94-2.06-.94-.94-2.06-.94 2.06-2.06.94zm-11 1L8.5 8.5l.94-2.06 2.06-.94-2.06-.94L8.5 2.5l-.94 2.06-2.06.94zm10 10l.94 2.06.94-2.06 2.06-.94-2.06-.94-.94-2.06-.94 2.06-2.06.94z\"/><path d=\"M17.41 7.96l-1.37-1.37c-.4-.4-.92-.59-1.43-.59-.52 0-1.04.2-1.43.59L10.3 9.45l-7.72 7.72c-.78.78-.78 2.05 0 2.83L4 21.41c.39.39.9.59 1.41.59.51 0 1.02-.2 1.41-.59l7.78-7.78 2.81-2.81c.8-.78.8-2.07 0-2.86zM5.41 20L4 18.59l7.72-7.72 1.47 1.35L5.41 20z\"/>\n",
              "  </svg>\n",
              "      </button>\n",
              "      \n",
              "  <style>\n",
              "    .colab-df-container {\n",
              "      display:flex;\n",
              "      flex-wrap:wrap;\n",
              "      gap: 12px;\n",
              "    }\n",
              "\n",
              "    .colab-df-convert {\n",
              "      background-color: #E8F0FE;\n",
              "      border: none;\n",
              "      border-radius: 50%;\n",
              "      cursor: pointer;\n",
              "      display: none;\n",
              "      fill: #1967D2;\n",
              "      height: 32px;\n",
              "      padding: 0 0 0 0;\n",
              "      width: 32px;\n",
              "    }\n",
              "\n",
              "    .colab-df-convert:hover {\n",
              "      background-color: #E2EBFA;\n",
              "      box-shadow: 0px 1px 2px rgba(60, 64, 67, 0.3), 0px 1px 3px 1px rgba(60, 64, 67, 0.15);\n",
              "      fill: #174EA6;\n",
              "    }\n",
              "\n",
              "    [theme=dark] .colab-df-convert {\n",
              "      background-color: #3B4455;\n",
              "      fill: #D2E3FC;\n",
              "    }\n",
              "\n",
              "    [theme=dark] .colab-df-convert:hover {\n",
              "      background-color: #434B5C;\n",
              "      box-shadow: 0px 1px 3px 1px rgba(0, 0, 0, 0.15);\n",
              "      filter: drop-shadow(0px 1px 2px rgba(0, 0, 0, 0.3));\n",
              "      fill: #FFFFFF;\n",
              "    }\n",
              "  </style>\n",
              "\n",
              "      <script>\n",
              "        const buttonEl =\n",
              "          document.querySelector('#df-8523524c-1ef3-4d4a-a380-b079788dc9fd button.colab-df-convert');\n",
              "        buttonEl.style.display =\n",
              "          google.colab.kernel.accessAllowed ? 'block' : 'none';\n",
              "\n",
              "        async function convertToInteractive(key) {\n",
              "          const element = document.querySelector('#df-8523524c-1ef3-4d4a-a380-b079788dc9fd');\n",
              "          const dataTable =\n",
              "            await google.colab.kernel.invokeFunction('convertToInteractive',\n",
              "                                                     [key], {});\n",
              "          if (!dataTable) return;\n",
              "\n",
              "          const docLinkHtml = 'Like what you see? Visit the ' +\n",
              "            '<a target=\"_blank\" href=https://colab.research.google.com/notebooks/data_table.ipynb>data table notebook</a>'\n",
              "            + ' to learn more about interactive tables.';\n",
              "          element.innerHTML = '';\n",
              "          dataTable['output_type'] = 'display_data';\n",
              "          await google.colab.output.renderOutput(dataTable, element);\n",
              "          const docLink = document.createElement('div');\n",
              "          docLink.innerHTML = docLinkHtml;\n",
              "          element.appendChild(docLink);\n",
              "        }\n",
              "      </script>\n",
              "    </div>\n",
              "  </div>\n",
              "  "
            ]
          },
          "metadata": {}
        }
      ],
      "source": [
        "# Hacemos una copia del set de entrenamiento manteniendo solamente la columna 'customer_id':\n",
        "compras_por_usuario = train_set.drop(columns=['t_dat', 'article_id', 'price', 'sales_channel_id'])\n",
        "# Agregamos una columna 'compras':\n",
        "compras_por_usuario['compras'] = 1\n",
        "# Agrupamos por 'customer_id' y contamos la cantidad de veces que se repite cada usuario en el set:\n",
        "compras_por_usuario = compras_por_usuario.groupby('customer_id').count()\n",
        "# Ordenamos la cuenta de cada usuario de mayor a menor:\n",
        "compras_por_usuario = compras_por_usuario.sort_values(by='compras', ascending=False)\n",
        "# Calculamos el porcentaje que representa cada número de compras dentro del dataset:\n",
        "compras_por_usuario['porcentaje_del_dataset'] = compras_por_usuario / train_set.shape[0] * 100\n",
        "# Desplegamos el porcentaje total que representa el top 10 dentro del dataset:\n",
        "porcentaje_total_que_representa_el_top_10 = compras_por_usuario.iloc[0:10].sum()['porcentaje_del_dataset']\n",
        "print(f'Porcentaje total que representa el top 10 dentro del dataset: {porcentaje_total_que_representa_el_top_10}%')\n",
        "# Desplegamos el top 10 de usuarios más activos en el set:\n",
        "display(compras_por_usuario.head(10))"
      ]
    },
    {
      "cell_type": "markdown",
      "metadata": {
        "id": "7hOZNcgdgig0"
      },
      "source": [
        "Así, el top 10 de usuarios con más actividad en el dataset se lleva el 0.6% de las compras, reportando más de 600 compras cada uno. Sin embargo, el resto de usuarios ha realizado una cantidad mucho menor de compras:"
      ]
    },
    {
      "cell_type": "code",
      "execution_count": 65,
      "metadata": {
        "colab": {
          "base_uri": "https://localhost:8080/",
          "height": 485
        },
        "id": "gVrYCoPDgig0",
        "outputId": "df6ecf4d-24f4-4a26-ffec-bd5f33f20d52"
      },
      "outputs": [
        {
          "output_type": "display_data",
          "data": {
            "text/plain": [
              "<Figure size 1512x504 with 1 Axes>"
            ],
            "image/png": "[encoded data removed]"
          },
          "metadata": {
            "needs_background": "light"
          }
        }
      ],
      "source": [
        "# Hacemos una copia del número de compras por usuario:\n",
        "usuarios_por_numero_de_compras = compras_por_usuario.drop(columns=['porcentaje_del_dataset'])\n",
        "# Agregamos una columna 'numero_de_usuarios':\n",
        "usuarios_por_numero_de_compras['usuarios'] = 1\n",
        "# Agrupamos por el número de compras, y contamos cuántos usuarios realizaron ese número de compras:\n",
        "usuarios_por_numero_de_compras = usuarios_por_numero_de_compras.groupby('compras').sum()\n",
        "# Definimos un grupo que represente N o más compras:\n",
        "N = 100\n",
        "usuarios_que_realizaron_N_o_mas_compras = usuarios_por_numero_de_compras.loc[N:]['usuarios'].sum()\n",
        "usuarios_por_numero_de_compras = usuarios_por_numero_de_compras.loc[0:N-1]\n",
        "usuarios_por_numero_de_compras.loc[f'{N} o más'] = usuarios_que_realizaron_N_o_mas_compras\n",
        "# Graficamos:\n",
        "plt.figure(figsize=(21, 7))\n",
        "plt.xticks(rotation=90)\n",
        "plt.bar(\n",
        "    x=[i for i in range(len(usuarios_por_numero_de_compras))],\n",
        "    height=[usuarios for usuarios in usuarios_por_numero_de_compras['usuarios']],\n",
        "    tick_label=usuarios_por_numero_de_compras.index,\n",
        ")\n",
        "plt.xlabel('Número de compras')\n",
        "plt.ylabel('Número de usuarios')\n",
        "plt.show()"
      ]
    },
    {
      "cell_type": "markdown",
      "metadata": {
        "id": "XsO9w_3ngig1"
      },
      "source": [
        "Notamos que en la distribución obtenida, la mayor parte de los usuarios han realizado solamente entre 2 a 6 compras, tras lo cual el número de usuarios que ha realizado un mayor número de compras decae rápidamente, asemejándose la curva a un decrecimiento exponencial. "
      ]
    },
    {
      "cell_type": "markdown",
      "metadata": {
        "id": "muhYrzLAgig1"
      },
      "source": [
        "### Distribución de interacciones por producto"
      ]
    },
    {
      "cell_type": "markdown",
      "metadata": {
        "id": "BJVTxqn8gig1"
      },
      "source": [
        "Cargamos los datos de los productos:"
      ]
    },
    {
      "cell_type": "code",
      "execution_count": 66,
      "metadata": {
        "id": "lczcZgDFgig1"
      },
      "outputs": [],
      "source": [
        "productos = pd.read_csv(f'{data_path}/articles.csv', header=0, index_col=0)"
      ]
    },
    {
      "cell_type": "markdown",
      "metadata": {
        "id": "n0gE8O5lgig1"
      },
      "source": [
        "Obtenemos los 10 productos más comprados:"
      ]
    },
    {
      "cell_type": "code",
      "execution_count": 67,
      "metadata": {
        "colab": {
          "base_uri": "https://localhost:8080/",
          "height": 381
        },
        "id": "ei_dbmU8gig2",
        "outputId": "c4af6d9c-55cb-47fe-c850-e3c218bc5d65"
      },
      "outputs": [
        {
          "output_type": "stream",
          "name": "stdout",
          "text": [
            "Los 10 productos más comprados representan el 0.8631013552511528% de las interacciones en el dataset.\n"
          ]
        },
        {
          "output_type": "execute_result",
          "data": {
            "text/plain": [
              "   article_id                 prod_name  compras  porcentaje_de_interacciones\n",
              "0   706016001  Jade HW Skinny Denim TRS     1978                     0.150019\n",
              "1   706016002  Jade HW Skinny Denim TRS     1357                     0.102920\n",
              "2   610776002                 Tilly (1)     1302                     0.098749\n",
              "3   372860001        7p Basic Shaftless     1225                     0.092909\n",
              "4   759871002                Tilda tank     1010                     0.076602\n",
              "5   399223001   Curvy Jeggings HW Ankle      991                     0.075161\n",
              "6   464297007  Greta Thong Mynta Low 3p      920                     0.069776\n",
              "7   562245001            Luna skinny RW      899                     0.068183\n",
              "8   562245046            Luna skinny RW      849                     0.064391\n",
              "9   372860002        7p Basic Shaftless      849                     0.064391"
            ],
            "text/html": [
              "\n",
              "  <div id=\"df-982e2329-e3c7-4903-aa3d-434f1e66aa4b\">\n",
              "    <div class=\"colab-df-container\">\n",
              "      <div>\n",
              "<style scoped>\n",
              "    .dataframe tbody tr th:only-of-type {\n",
              "        vertical-align: middle;\n",
              "    }\n",
              "\n",
              "    .dataframe tbody tr th {\n",
              "        vertical-align: top;\n",
              "    }\n",
              "\n",
              "    .dataframe thead th {\n",
              "        text-align: right;\n",
              "    }\n",
              "</style>\n",
              "<table border=\"1\" class=\"dataframe\">\n",
              "  <thead>\n",
              "    <tr style=\"text-align: right;\">\n",
              "      <th></th>\n",
              "      <th>article_id</th>\n",
              "      <th>prod_name</th>\n",
              "      <th>compras</th>\n",
              "      <th>porcentaje_de_interacciones</th>\n",
              "    </tr>\n",
              "  </thead>\n",
              "  <tbody>\n",
              "    <tr>\n",
              "      <th>0</th>\n",
              "      <td>706016001</td>\n",
              "      <td>Jade HW Skinny Denim TRS</td>\n",
              "      <td>1978</td>\n",
              "      <td>0.150019</td>\n",
              "    </tr>\n",
              "    <tr>\n",
              "      <th>1</th>\n",
              "      <td>706016002</td>\n",
              "      <td>Jade HW Skinny Denim TRS</td>\n",
              "      <td>1357</td>\n",
              "      <td>0.102920</td>\n",
              "    </tr>\n",
              "    <tr>\n",
              "      <th>2</th>\n",
              "      <td>610776002</td>\n",
              "      <td>Tilly (1)</td>\n",
              "      <td>1302</td>\n",
              "      <td>0.098749</td>\n",
              "    </tr>\n",
              "    <tr>\n",
              "      <th>3</th>\n",
              "      <td>372860001</td>\n",
              "      <td>7p Basic Shaftless</td>\n",
              "      <td>1225</td>\n",
              "      <td>0.092909</td>\n",
              "    </tr>\n",
              "    <tr>\n",
              "      <th>4</th>\n",
              "      <td>759871002</td>\n",
              "      <td>Tilda tank</td>\n",
              "      <td>1010</td>\n",
              "      <td>0.076602</td>\n",
              "    </tr>\n",
              "    <tr>\n",
              "      <th>5</th>\n",
              "      <td>399223001</td>\n",
              "      <td>Curvy Jeggings HW Ankle</td>\n",
              "      <td>991</td>\n",
              "      <td>0.075161</td>\n",
              "    </tr>\n",
              "    <tr>\n",
              "      <th>6</th>\n",
              "      <td>464297007</td>\n",
              "      <td>Greta Thong Mynta Low 3p</td>\n",
              "      <td>920</td>\n",
              "      <td>0.069776</td>\n",
              "    </tr>\n",
              "    <tr>\n",
              "      <th>7</th>\n",
              "      <td>562245001</td>\n",
              "      <td>Luna skinny RW</td>\n",
              "      <td>899</td>\n",
              "      <td>0.068183</td>\n",
              "    </tr>\n",
              "    <tr>\n",
              "      <th>8</th>\n",
              "      <td>562245046</td>\n",
              "      <td>Luna skinny RW</td>\n",
              "      <td>849</td>\n",
              "      <td>0.064391</td>\n",
              "    </tr>\n",
              "    <tr>\n",
              "      <th>9</th>\n",
              "      <td>372860002</td>\n",
              "      <td>7p Basic Shaftless</td>\n",
              "      <td>849</td>\n",
              "      <td>0.064391</td>\n",
              "    </tr>\n",
              "  </tbody>\n",
              "</table>\n",
              "</div>\n",
              "      <button class=\"colab-df-convert\" onclick=\"convertToInteractive('df-982e2329-e3c7-4903-aa3d-434f1e66aa4b')\"\n",
              "              title=\"Convert this dataframe to an interactive table.\"\n",
              "              style=\"display:none;\">\n",
              "        \n",
              "  <svg xmlns=\"http://www.w3.org/2000/svg\" height=\"24px\"viewBox=\"0 0 24 24\"\n",
              "       width=\"24px\">\n",
              "    <path d=\"M0 0h24v24H0V0z\" fill=\"none\"/>\n",
              "    <path d=\"M18.56 5.44l.94 2.06.94-2.06 2.06-.94-2.06-.94-.94-2.06-.94 2.06-2.06.94zm-11 1L8.5 8.5l.94-2.06 2.06-.94-2.06-.94L8.5 2.5l-.94 2.06-2.06.94zm10 10l.94 2.06.94-2.06 2.06-.94-2.06-.94-.94-2.06-.94 2.06-2.06.94z\"/><path d=\"M17.41 7.96l-1.37-1.37c-.4-.4-.92-.59-1.43-.59-.52 0-1.04.2-1.43.59L10.3 9.45l-7.72 7.72c-.78.78-.78 2.05 0 2.83L4 21.41c.39.39.9.59 1.41.59.51 0 1.02-.2 1.41-.59l7.78-7.78 2.81-2.81c.8-.78.8-2.07 0-2.86zM5.41 20L4 18.59l7.72-7.72 1.47 1.35L5.41 20z\"/>\n",
              "  </svg>\n",
              "      </button>\n",
              "      \n",
              "  <style>\n",
              "    .colab-df-container {\n",
              "      display:flex;\n",
              "      flex-wrap:wrap;\n",
              "      gap: 12px;\n",
              "    }\n",
              "\n",
              "    .colab-df-convert {\n",
              "      background-color: #E8F0FE;\n",
              "      border: none;\n",
              "      border-radius: 50%;\n",
              "      cursor: pointer;\n",
              "      display: none;\n",
              "      fill: #1967D2;\n",
              "      height: 32px;\n",
              "      padding: 0 0 0 0;\n",
              "      width: 32px;\n",
              "    }\n",
              "\n",
              "    .colab-df-convert:hover {\n",
              "      background-color: #E2EBFA;\n",
              "      box-shadow: 0px 1px 2px rgba(60, 64, 67, 0.3), 0px 1px 3px 1px rgba(60, 64, 67, 0.15);\n",
              "      fill: #174EA6;\n",
              "    }\n",
              "\n",
              "    [theme=dark] .colab-df-convert {\n",
              "      background-color: #3B4455;\n",
              "      fill: #D2E3FC;\n",
              "    }\n",
              "\n",
              "    [theme=dark] .colab-df-convert:hover {\n",
              "      background-color: #434B5C;\n",
              "      box-shadow: 0px 1px 3px 1px rgba(0, 0, 0, 0.15);\n",
              "      filter: drop-shadow(0px 1px 2px rgba(0, 0, 0, 0.3));\n",
              "      fill: #FFFFFF;\n",
              "    }\n",
              "  </style>\n",
              "\n",
              "      <script>\n",
              "        const buttonEl =\n",
              "          document.querySelector('#df-982e2329-e3c7-4903-aa3d-434f1e66aa4b button.colab-df-convert');\n",
              "        buttonEl.style.display =\n",
              "          google.colab.kernel.accessAllowed ? 'block' : 'none';\n",
              "\n",
              "        async function convertToInteractive(key) {\n",
              "          const element = document.querySelector('#df-982e2329-e3c7-4903-aa3d-434f1e66aa4b');\n",
              "          const dataTable =\n",
              "            await google.colab.kernel.invokeFunction('convertToInteractive',\n",
              "                                                     [key], {});\n",
              "          if (!dataTable) return;\n",
              "\n",
              "          const docLinkHtml = 'Like what you see? Visit the ' +\n",
              "            '<a target=\"_blank\" href=https://colab.research.google.com/notebooks/data_table.ipynb>data table notebook</a>'\n",
              "            + ' to learn more about interactive tables.';\n",
              "          element.innerHTML = '';\n",
              "          dataTable['output_type'] = 'display_data';\n",
              "          await google.colab.output.renderOutput(dataTable, element);\n",
              "          const docLink = document.createElement('div');\n",
              "          docLink.innerHTML = docLinkHtml;\n",
              "          element.appendChild(docLink);\n",
              "        }\n",
              "      </script>\n",
              "    </div>\n",
              "  </div>\n",
              "  "
            ]
          },
          "metadata": {},
          "execution_count": 67
        }
      ],
      "source": [
        "# Hacemos una copia del train set, dejando solamente 'article_id':\n",
        "compras_por_producto = train_set.drop(columns=['t_dat', 'customer_id', 'price', 'sales_channel_id'])\n",
        "# Agregamos una columna 'compras':\n",
        "compras_por_producto['compras'] = 1\n",
        "# Agrupamos por producto y contamos cuántas veces fue comprado cada uno:\n",
        "compras_por_producto = compras_por_producto.groupby('article_id', as_index=False).sum().sort_values(by='compras', ascending=False).merge(productos, on='article_id')\n",
        "# Agregamos el porcentaje de las interacciones que representa cada producto:\n",
        "compras_por_producto['porcentaje_de_interacciones'] = compras_por_producto['compras'] * 100 / train_set.shape[0]\n",
        "# Calculamos el porcentaje de interacciones del top 10 de productos:\n",
        "print(f'Los 10 productos más comprados representan el {compras_por_producto[\"porcentaje_de_interacciones\"].head(10).sum()}% de las interacciones en el dataset.')\n",
        "# Desplegamos los 10 productos más comprados:\n",
        "compras_por_producto[['article_id', 'prod_name', 'compras', 'porcentaje_de_interacciones']].head(10)\n"
      ]
    },
    {
      "cell_type": "markdown",
      "metadata": {
        "id": "PixdbvrKgig2"
      },
      "source": [
        "Así, el top 10 de productos más comprados representan el 0.8% del total de interacciones en el dataset. La distribución de interacciones se observa de la siguiente manera:"
      ]
    },
    {
      "cell_type": "code",
      "execution_count": 68,
      "metadata": {
        "colab": {
          "base_uri": "https://localhost:8080/",
          "height": 485
        },
        "id": "D4axSNKVgig2",
        "outputId": "acf83fb3-17a8-42b5-b67f-670a687850f0"
      },
      "outputs": [
        {
          "output_type": "display_data",
          "data": {
            "text/plain": [
              "<Figure size 1512x504 with 1 Axes>"
            ],
            "image/png": "[encoded data removed]"
          },
          "metadata": {
            "needs_background": "light"
          }
        }
      ],
      "source": [
        "# Creamos una copia de compras_por_producto:\n",
        "productos_por_numero_de_compras = compras_por_producto[['compras']].copy()\n",
        "# Agregamos la columna 'productos':\n",
        "productos_por_numero_de_compras['productos'] = 1\n",
        "# Agrupamos por número de compras y contamos:\n",
        "productos_por_numero_de_compras = productos_por_numero_de_compras.groupby('compras').sum()\n",
        "# Definimos un grupo que represente N o más compras:\n",
        "N = 100\n",
        "productos_que_fueron_comprados_N_o_mas_veces = productos_por_numero_de_compras.loc[N:]['productos'].sum()\n",
        "productos_por_numero_de_compras = productos_por_numero_de_compras.loc[0:N-1]\n",
        "productos_por_numero_de_compras.loc[f'{N} o más'] = productos_que_fueron_comprados_N_o_mas_veces\n",
        "# Graficamos:\n",
        "plt.figure(figsize=(21, 7))\n",
        "plt.xticks(rotation=90)\n",
        "plt.xlabel('Número de compras')\n",
        "plt.ylabel('Número de productos')\n",
        "plt.bar(\n",
        "    x=[i for i in range(len(productos_por_numero_de_compras))],\n",
        "    height=[productos for productos in productos_por_numero_de_compras['productos']],\n",
        "    tick_label=productos_por_numero_de_compras.index,\n",
        ")\n",
        "plt.show()"
      ]
    },
    {
      "cell_type": "markdown",
      "metadata": {
        "id": "IcBXIboUgig2"
      },
      "source": [
        "Notamos que la mayor parte de los productos fueron comprados 1, 2 o 3 veces, mientras que el número de productos que fueron comprados una mayor cantidad de veces es cada vez menor, asemejándose la curva a un decrecimiento exponencial."
      ]
    },
    {
      "cell_type": "markdown",
      "metadata": {
        "id": "Eaws5HkOgig3"
      },
      "source": [
        "### Tabla resumen"
      ]
    },
    {
      "cell_type": "markdown",
      "metadata": {
        "id": "nKkHWF7Wgig3"
      },
      "source": [
        "En el set de entrenamiento encontramos lo siguiente:"
      ]
    },
    {
      "cell_type": "code",
      "execution_count": 69,
      "metadata": {
        "colab": {
          "base_uri": "https://localhost:8080/",
          "height": 300
        },
        "id": "olnM-eQpgig3",
        "outputId": "8ef3121b-29e1-464f-d10d-5dce525ee3e9"
      },
      "outputs": [
        {
          "output_type": "execute_result",
          "data": {
            "text/plain": [
              "                                                        Valor\n",
              "Variable                                                     \n",
              "Número de usuarios distintos                            45000\n",
              "Número de ítems distintos                               73080\n",
              "Promedio de productos por usuario                   29.300022\n",
              "Desviación estándar de productos por usuario        44.939461\n",
              "Promedio de usuarios por producto                   18.041886\n",
              "Desviación estándar de usuarios por producto         38.01747\n",
              "Densidad del conjunto de datos en cuanto a compras   0.000342"
            ],
            "text/html": [
              "\n",
              "  <div id=\"df-3db3b6a0-809a-4378-a706-ae02f2022c78\">\n",
              "    <div class=\"colab-df-container\">\n",
              "      <div>\n",
              "<style scoped>\n",
              "    .dataframe tbody tr th:only-of-type {\n",
              "        vertical-align: middle;\n",
              "    }\n",
              "\n",
              "    .dataframe tbody tr th {\n",
              "        vertical-align: top;\n",
              "    }\n",
              "\n",
              "    .dataframe thead th {\n",
              "        text-align: right;\n",
              "    }\n",
              "</style>\n",
              "<table border=\"1\" class=\"dataframe\">\n",
              "  <thead>\n",
              "    <tr style=\"text-align: right;\">\n",
              "      <th></th>\n",
              "      <th>Valor</th>\n",
              "    </tr>\n",
              "    <tr>\n",
              "      <th>Variable</th>\n",
              "      <th></th>\n",
              "    </tr>\n",
              "  </thead>\n",
              "  <tbody>\n",
              "    <tr>\n",
              "      <th>Número de usuarios distintos</th>\n",
              "      <td>45000</td>\n",
              "    </tr>\n",
              "    <tr>\n",
              "      <th>Número de ítems distintos</th>\n",
              "      <td>73080</td>\n",
              "    </tr>\n",
              "    <tr>\n",
              "      <th>Promedio de productos por usuario</th>\n",
              "      <td>29.300022</td>\n",
              "    </tr>\n",
              "    <tr>\n",
              "      <th>Desviación estándar de productos por usuario</th>\n",
              "      <td>44.939461</td>\n",
              "    </tr>\n",
              "    <tr>\n",
              "      <th>Promedio de usuarios por producto</th>\n",
              "      <td>18.041886</td>\n",
              "    </tr>\n",
              "    <tr>\n",
              "      <th>Desviación estándar de usuarios por producto</th>\n",
              "      <td>38.01747</td>\n",
              "    </tr>\n",
              "    <tr>\n",
              "      <th>Densidad del conjunto de datos en cuanto a compras</th>\n",
              "      <td>0.000342</td>\n",
              "    </tr>\n",
              "  </tbody>\n",
              "</table>\n",
              "</div>\n",
              "      <button class=\"colab-df-convert\" onclick=\"convertToInteractive('df-3db3b6a0-809a-4378-a706-ae02f2022c78')\"\n",
              "              title=\"Convert this dataframe to an interactive table.\"\n",
              "              style=\"display:none;\">\n",
              "        \n",
              "  <svg xmlns=\"http://www.w3.org/2000/svg\" height=\"24px\"viewBox=\"0 0 24 24\"\n",
              "       width=\"24px\">\n",
              "    <path d=\"M0 0h24v24H0V0z\" fill=\"none\"/>\n",
              "    <path d=\"M18.56 5.44l.94 2.06.94-2.06 2.06-.94-2.06-.94-.94-2.06-.94 2.06-2.06.94zm-11 1L8.5 8.5l.94-2.06 2.06-.94-2.06-.94L8.5 2.5l-.94 2.06-2.06.94zm10 10l.94 2.06.94-2.06 2.06-.94-2.06-.94-.94-2.06-.94 2.06-2.06.94z\"/><path d=\"M17.41 7.96l-1.37-1.37c-.4-.4-.92-.59-1.43-.59-.52 0-1.04.2-1.43.59L10.3 9.45l-7.72 7.72c-.78.78-.78 2.05 0 2.83L4 21.41c.39.39.9.59 1.41.59.51 0 1.02-.2 1.41-.59l7.78-7.78 2.81-2.81c.8-.78.8-2.07 0-2.86zM5.41 20L4 18.59l7.72-7.72 1.47 1.35L5.41 20z\"/>\n",
              "  </svg>\n",
              "      </button>\n",
              "      \n",
              "  <style>\n",
              "    .colab-df-container {\n",
              "      display:flex;\n",
              "      flex-wrap:wrap;\n",
              "      gap: 12px;\n",
              "    }\n",
              "\n",
              "    .colab-df-convert {\n",
              "      background-color: #E8F0FE;\n",
              "      border: none;\n",
              "      border-radius: 50%;\n",
              "      cursor: pointer;\n",
              "      display: none;\n",
              "      fill: #1967D2;\n",
              "      height: 32px;\n",
              "      padding: 0 0 0 0;\n",
              "      width: 32px;\n",
              "    }\n",
              "\n",
              "    .colab-df-convert:hover {\n",
              "      background-color: #E2EBFA;\n",
              "      box-shadow: 0px 1px 2px rgba(60, 64, 67, 0.3), 0px 1px 3px 1px rgba(60, 64, 67, 0.15);\n",
              "      fill: #174EA6;\n",
              "    }\n",
              "\n",
              "    [theme=dark] .colab-df-convert {\n",
              "      background-color: #3B4455;\n",
              "      fill: #D2E3FC;\n",
              "    }\n",
              "\n",
              "    [theme=dark] .colab-df-convert:hover {\n",
              "      background-color: #434B5C;\n",
              "      box-shadow: 0px 1px 3px 1px rgba(0, 0, 0, 0.15);\n",
              "      filter: drop-shadow(0px 1px 2px rgba(0, 0, 0, 0.3));\n",
              "      fill: #FFFFFF;\n",
              "    }\n",
              "  </style>\n",
              "\n",
              "      <script>\n",
              "        const buttonEl =\n",
              "          document.querySelector('#df-3db3b6a0-809a-4378-a706-ae02f2022c78 button.colab-df-convert');\n",
              "        buttonEl.style.display =\n",
              "          google.colab.kernel.accessAllowed ? 'block' : 'none';\n",
              "\n",
              "        async function convertToInteractive(key) {\n",
              "          const element = document.querySelector('#df-3db3b6a0-809a-4378-a706-ae02f2022c78');\n",
              "          const dataTable =\n",
              "            await google.colab.kernel.invokeFunction('convertToInteractive',\n",
              "                                                     [key], {});\n",
              "          if (!dataTable) return;\n",
              "\n",
              "          const docLinkHtml = 'Like what you see? Visit the ' +\n",
              "            '<a target=\"_blank\" href=https://colab.research.google.com/notebooks/data_table.ipynb>data table notebook</a>'\n",
              "            + ' to learn more about interactive tables.';\n",
              "          element.innerHTML = '';\n",
              "          dataTable['output_type'] = 'display_data';\n",
              "          await google.colab.output.renderOutput(dataTable, element);\n",
              "          const docLink = document.createElement('div');\n",
              "          docLink.innerHTML = docLinkHtml;\n",
              "          element.appendChild(docLink);\n",
              "        }\n",
              "      </script>\n",
              "    </div>\n",
              "  </div>\n",
              "  "
            ]
          },
          "metadata": {},
          "execution_count": 69
        }
      ],
      "source": [
        "# Obtenemos los valores únicos:\n",
        "valores_unicos = train_set.nunique()\n",
        "tabla_resumen = pd.DataFrame(index=pd.CategoricalIndex(data=[], name='Variable'), columns=['Valor'])\n",
        "tabla_resumen.loc['Número de usuarios distintos'] = valores_unicos['customer_id']\n",
        "tabla_resumen.loc['Número de ítems distintos'] = valores_unicos['article_id']\n",
        "# Obtenemos el promedio y desviación estándar de productos por usuarios:\n",
        "tabla_resumen.loc['Promedio de productos por usuario'] = compras_por_usuario['compras'].mean()\n",
        "tabla_resumen.loc['Desviación estándar de productos por usuario'] = compras_por_usuario['compras'].std()\n",
        "# Obtenemos el promedio y desviación estándar de usuarios por productos:\n",
        "tabla_resumen.loc['Promedio de usuarios por producto'] = compras_por_producto['compras'].mean()\n",
        "tabla_resumen.loc['Desviación estándar de usuarios por producto'] = compras_por_producto['compras'].std()\n",
        "# Obtenemos la densidad del conjunto de datos, dividiendo la cantidad de pares usuario-producto que sí están dentro del set\n",
        "# por los pares que no lo están: \n",
        "tabla_resumen.loc['Densidad del conjunto de datos en cuanto a compras'] = (\n",
        "    train_set[['customer_id', 'article_id']].drop_duplicates().shape[0] / (\n",
        "        train_set['customer_id'].nunique() * train_set['article_id'].nunique()\n",
        "    )\n",
        ")\n",
        "# Visualizamos los resultados:\n",
        "tabla_resumen\n"
      ]
    },
    {
      "cell_type": "markdown",
      "metadata": {
        "id": "re32Ouqlgig3"
      },
      "source": [
        "### Preparaciones para la evaluación de modelos"
      ]
    },
    {
      "cell_type": "markdown",
      "metadata": {
        "id": "rl3AVCgjgig3"
      },
      "source": [
        "A continuación se definen funciones que serán de utilidad para evaluar los distintos modelos de recomendación. Primero, definimos la función `get_top_n()` para obtener el top N recomendado a cada usuario:"
      ]
    },
    {
      "cell_type": "code",
      "execution_count": 70,
      "metadata": {
        "id": "eOOL_Mk_gig3"
      },
      "outputs": [],
      "source": [
        "# Obtenido de la documentación de Surprise: https://surprise.readthedocs.io/en/stable/FAQ.html\n",
        "def get_top_n(predictions, n=10):\n",
        "    # First map the predictions to each user.\n",
        "    top_n = defaultdict(list)\n",
        "    for uid, iid, true_r, est, _ in predictions:\n",
        "        top_n[uid].append((iid, est))\n",
        "\n",
        "    # Then sort the predictions for each user and retrieve the k highest ones.\n",
        "    for uid, user_ratings in top_n.items():\n",
        "        user_ratings.sort(key=lambda x: x[1], reverse=True)\n",
        "        top_n[uid] = user_ratings[:n]\n",
        "\n",
        "    return top_n"
      ]
    },
    {
      "cell_type": "markdown",
      "metadata": {
        "id": "kv0JOhFegig3"
      },
      "source": [
        "Definimos la función `ndcg()` para obtener las métricas NDCG:"
      ]
    },
    {
      "cell_type": "code",
      "execution_count": 71,
      "metadata": {
        "id": "D0Z3xdl0gig3"
      },
      "outputs": [],
      "source": [
        "def dcg_para_un_usuario(top_n_verdadero: list, top_n_predicho: list, arroba: int):\n",
        "    # Definimos limite_del_top_n_verdadero para que no nos arroje un error de \"index out of range\" al comparar los\n",
        "    # elementos de top_n_predicho con los de top_n_verdadero:\n",
        "    limite_del_top_n_verdadero = min(arroba, len(top_n_verdadero))\n",
        "    # Inicializamos la suma de gains en cero:\n",
        "    dcg = 0\n",
        "    # Para cada ítem dentro del límite dado por @...\n",
        "    for i in range(1, arroba+1):\n",
        "        item = top_n_predicho[i-1]\n",
        "        # ... si el item está en el top_n_verdadero, es relevante. Si no, no:\n",
        "        if item in top_n_verdadero[0:limite_del_top_n_verdadero]:\n",
        "            relevante = 1\n",
        "        else:\n",
        "            relevante = 0\n",
        "        # Sumamos el gain descontado:\n",
        "        dcg += (2**relevante - 1) / log2(i + 1)\n",
        "    # Retornamos el resultado final:\n",
        "    return dcg\n",
        "\n",
        "def idcg_para_un_usuario(arroba: int):\n",
        "    idcg = 0\n",
        "    for i in range(1, arroba+1):\n",
        "        # Hacemos que todos los ítems sean relevantes:\n",
        "        idcg += 1 / log2(i + 1)\n",
        "    return idcg\n",
        "\n",
        "def ndcg_para_un_usuario(top_n_verdadero: list, top_n_predicho: list, arroba: int):\n",
        "    return dcg_para_un_usuario(top_n_verdadero, top_n_predicho, arroba) / idcg_para_un_usuario(arroba)\n",
        "\n",
        "def ndcg(top_n_verdadero_para_cada_usuario: dict, top_n_predicho_para_cada_usuario: dict, arroba: int):\n",
        "    suma_de_ndcgs = 0\n",
        "    for usuario in top_n_verdadero_para_cada_usuario.keys():\n",
        "        top_n_verdadero = top_n_verdadero_para_cada_usuario[usuario]\n",
        "        top_n_predicho = top_n_predicho_para_cada_usuario[usuario]\n",
        "        suma_de_ndcgs += ndcg_para_un_usuario(top_n_verdadero, top_n_predicho, arroba)\n",
        "    return suma_de_ndcgs / len(top_n_verdadero_para_cada_usuario)"
      ]
    },
    {
      "cell_type": "markdown",
      "metadata": {
        "id": "mS3q4fiGgig4"
      },
      "source": [
        "Definimos la función `mean_ap()` para obtener las métricas MAP:"
      ]
    },
    {
      "cell_type": "code",
      "execution_count": 72,
      "metadata": {
        "id": "ZPYv-wmDgig4"
      },
      "outputs": [],
      "source": [
        "def ap(top_n_verdadero: list, top_n_predicho: list, arroba: int):\n",
        "    # Definimos limite_del_top_n_verdadero para que no nos arroje un error de \"index out of range\" al comparar los\n",
        "    # elementos de top_n_predicho con los de top_n_verdadero:\n",
        "    limite_del_top_n_verdadero = min(arroba, len(top_n_verdadero))\n",
        "    verdaderos_positivos_hasta_el_momento = 0\n",
        "    suma_de_precisiones = 0\n",
        "    # Para cada ítem dentro del límite dado por @...\n",
        "    for i in range(1, arroba+1):\n",
        "        item = top_n_predicho[i-1]\n",
        "        # ... si el item no está en el top_n_verdadero, no es relevante. Si sí lo está, es relevante:\n",
        "        if not item in top_n_verdadero[0:limite_del_top_n_verdadero]:\n",
        "            continue\n",
        "        verdaderos_positivos_hasta_el_momento += 1\n",
        "        suma_de_precisiones += verdaderos_positivos_hasta_el_momento / i\n",
        "    # Retornar precisión promedio:\n",
        "    if verdaderos_positivos_hasta_el_momento == 0:\n",
        "        return 0\n",
        "    return suma_de_precisiones / verdaderos_positivos_hasta_el_momento\n",
        "    # Fórmula complementada por https://medium.com/@misty.mok/how-mean-average-precision-at-k-map-k-can-be-more-useful-than-other-evaluation-metrics-6881e0ee21a9\n",
        "\n",
        "def mean_ap(top_n_verdadero_para_cada_usuario: dict, top_n_predicho_para_cada_usuario: dict, arroba: int):\n",
        "    suma_de_aps = 0\n",
        "    for usuario in top_n_verdadero_para_cada_usuario.keys():\n",
        "        suma_de_aps += ap(top_n_verdadero_para_cada_usuario[usuario], top_n_predicho_para_cada_usuario[usuario], arroba)\n",
        "    return suma_de_aps / len(top_n_verdadero_para_cada_usuario)"
      ]
    },
    {
      "cell_type": "markdown",
      "metadata": {
        "id": "ZGPtZCLdgig4"
      },
      "source": [
        "Definimos la función `evaluar()` para incorporar las métricas NDCG@10, NDCG@20, NDCG@30, MAP@10, MAP@20 y MAP@30, junto con la función `imprimir_metricas()` para visualizarlas:"
      ]
    },
    {
      "cell_type": "code",
      "execution_count": 73,
      "metadata": {
        "id": "GSQSa8f8gig4"
      },
      "outputs": [],
      "source": [
        "def evaluar(top_n_verdadero_para_cada_usuario: dict, top_n_predicho_para_cada_usuario):\n",
        "    resultados = {'ndcg': {10: None, 20: None, 30: None}, 'map': {10: None, 20: None, 30: None}}\n",
        "    for arroba in (10, 20, 30):\n",
        "        resultados['ndcg'][arroba] = ndcg(top_n_verdadero_para_cada_usuario, top_n_predicho_para_cada_usuario, arroba)\n",
        "        resultados['map'][arroba] = mean_ap(top_n_verdadero_para_cada_usuario, top_n_predicho_para_cada_usuario, arroba)\n",
        "    return resultados\n",
        "\n",
        "def imprimir_metricas(metricas: dict):\n",
        "    # Imprimir métricas:\n",
        "    for arroba in (10, 20, 30):\n",
        "        print(f'NDCG@{arroba}:', metricas['ndcg'][arroba])\n",
        "    for arroba in (10, 20, 30):\n",
        "        print(f'MAP@{arroba}:', metricas['map'][arroba])"
      ]
    },
    {
      "cell_type": "markdown",
      "metadata": {
        "id": "tOwlr98ygig4"
      },
      "source": [
        "Importamos el dataset de validación:"
      ]
    },
    {
      "cell_type": "code",
      "execution_count": 74,
      "metadata": {
        "colab": {
          "base_uri": "https://localhost:8080/",
          "height": 242
        },
        "id": "Apo3Vf4Pgig4",
        "outputId": "5cdeb5bf-82c8-4a1d-ffc9-fdb1f67cc241"
      },
      "outputs": [
        {
          "output_type": "stream",
          "name": "stdout",
          "text": [
            "El dataset de validación cuenta con 140312 filas y 5 columnas.\n",
            "Los usuarios con más compras realizadas en el dataset de validación son:\n"
          ]
        },
        {
          "output_type": "execute_result",
          "data": {
            "text/plain": [
              "        t_dat                                        customer_id  article_id  \\\n",
              "0  2020-09-20  1f293f035403ce2d1ff0cdb23cc3faf8b1c2ad04dbedbe...   535035001   \n",
              "1  2020-06-15  b4ba419fd5afc5eb274ab3ae1638a51a2e916b4deb0a5c...   654046004   \n",
              "2  2019-10-20  1a1563c28f0d8781ad87f76e0a5af0485003e350f541dd...   742086008   \n",
              "3  2020-07-14  3219f007e898957cbe0ff0f22010cd7118c06f7498a167...   778534006   \n",
              "4  2020-09-07  4e5c03f7ffefe2f99f8e0c9d9805c1571867e6a8dd7091...   706016015   \n",
              "\n",
              "      price  sales_channel_id  \n",
              "0  0.118627                 2  \n",
              "1  0.022017                 2  \n",
              "2  0.033881                 2  \n",
              "3  0.042356                 1  \n",
              "4  0.033881                 1  "
            ],
            "text/html": [
              "\n",
              "  <div id=\"df-ad2b9145-2211-4290-b4e8-daee453c9d49\">\n",
              "    <div class=\"colab-df-container\">\n",
              "      <div>\n",
              "<style scoped>\n",
              "    .dataframe tbody tr th:only-of-type {\n",
              "        vertical-align: middle;\n",
              "    }\n",
              "\n",
              "    .dataframe tbody tr th {\n",
              "        vertical-align: top;\n",
              "    }\n",
              "\n",
              "    .dataframe thead th {\n",
              "        text-align: right;\n",
              "    }\n",
              "</style>\n",
              "<table border=\"1\" class=\"dataframe\">\n",
              "  <thead>\n",
              "    <tr style=\"text-align: right;\">\n",
              "      <th></th>\n",
              "      <th>t_dat</th>\n",
              "      <th>customer_id</th>\n",
              "      <th>article_id</th>\n",
              "      <th>price</th>\n",
              "      <th>sales_channel_id</th>\n",
              "    </tr>\n",
              "  </thead>\n",
              "  <tbody>\n",
              "    <tr>\n",
              "      <th>0</th>\n",
              "      <td>2020-09-20</td>\n",
              "      <td>1f293f035403ce2d1ff0cdb23cc3faf8b1c2ad04dbedbe...</td>\n",
              "      <td>535035001</td>\n",
              "      <td>0.118627</td>\n",
              "      <td>2</td>\n",
              "    </tr>\n",
              "    <tr>\n",
              "      <th>1</th>\n",
              "      <td>2020-06-15</td>\n",
              "      <td>b4ba419fd5afc5eb274ab3ae1638a51a2e916b4deb0a5c...</td>\n",
              "      <td>654046004</td>\n",
              "      <td>0.022017</td>\n",
              "      <td>2</td>\n",
              "    </tr>\n",
              "    <tr>\n",
              "      <th>2</th>\n",
              "      <td>2019-10-20</td>\n",
              "      <td>1a1563c28f0d8781ad87f76e0a5af0485003e350f541dd...</td>\n",
              "      <td>742086008</td>\n",
              "      <td>0.033881</td>\n",
              "      <td>2</td>\n",
              "    </tr>\n",
              "    <tr>\n",
              "      <th>3</th>\n",
              "      <td>2020-07-14</td>\n",
              "      <td>3219f007e898957cbe0ff0f22010cd7118c06f7498a167...</td>\n",
              "      <td>778534006</td>\n",
              "      <td>0.042356</td>\n",
              "      <td>1</td>\n",
              "    </tr>\n",
              "    <tr>\n",
              "      <th>4</th>\n",
              "      <td>2020-09-07</td>\n",
              "      <td>4e5c03f7ffefe2f99f8e0c9d9805c1571867e6a8dd7091...</td>\n",
              "      <td>706016015</td>\n",
              "      <td>0.033881</td>\n",
              "      <td>1</td>\n",
              "    </tr>\n",
              "  </tbody>\n",
              "</table>\n",
              "</div>\n",
              "      <button class=\"colab-df-convert\" onclick=\"convertToInteractive('df-ad2b9145-2211-4290-b4e8-daee453c9d49')\"\n",
              "              title=\"Convert this dataframe to an interactive table.\"\n",
              "              style=\"display:none;\">\n",
              "        \n",
              "  <svg xmlns=\"http://www.w3.org/2000/svg\" height=\"24px\"viewBox=\"0 0 24 24\"\n",
              "       width=\"24px\">\n",
              "    <path d=\"M0 0h24v24H0V0z\" fill=\"none\"/>\n",
              "    <path d=\"M18.56 5.44l.94 2.06.94-2.06 2.06-.94-2.06-.94-.94-2.06-.94 2.06-2.06.94zm-11 1L8.5 8.5l.94-2.06 2.06-.94-2.06-.94L8.5 2.5l-.94 2.06-2.06.94zm10 10l.94 2.06.94-2.06 2.06-.94-2.06-.94-.94-2.06-.94 2.06-2.06.94z\"/><path d=\"M17.41 7.96l-1.37-1.37c-.4-.4-.92-.59-1.43-.59-.52 0-1.04.2-1.43.59L10.3 9.45l-7.72 7.72c-.78.78-.78 2.05 0 2.83L4 21.41c.39.39.9.59 1.41.59.51 0 1.02-.2 1.41-.59l7.78-7.78 2.81-2.81c.8-.78.8-2.07 0-2.86zM5.41 20L4 18.59l7.72-7.72 1.47 1.35L5.41 20z\"/>\n",
              "  </svg>\n",
              "      </button>\n",
              "      \n",
              "  <style>\n",
              "    .colab-df-container {\n",
              "      display:flex;\n",
              "      flex-wrap:wrap;\n",
              "      gap: 12px;\n",
              "    }\n",
              "\n",
              "    .colab-df-convert {\n",
              "      background-color: #E8F0FE;\n",
              "      border: none;\n",
              "      border-radius: 50%;\n",
              "      cursor: pointer;\n",
              "      display: none;\n",
              "      fill: #1967D2;\n",
              "      height: 32px;\n",
              "      padding: 0 0 0 0;\n",
              "      width: 32px;\n",
              "    }\n",
              "\n",
              "    .colab-df-convert:hover {\n",
              "      background-color: #E2EBFA;\n",
              "      box-shadow: 0px 1px 2px rgba(60, 64, 67, 0.3), 0px 1px 3px 1px rgba(60, 64, 67, 0.15);\n",
              "      fill: #174EA6;\n",
              "    }\n",
              "\n",
              "    [theme=dark] .colab-df-convert {\n",
              "      background-color: #3B4455;\n",
              "      fill: #D2E3FC;\n",
              "    }\n",
              "\n",
              "    [theme=dark] .colab-df-convert:hover {\n",
              "      background-color: #434B5C;\n",
              "      box-shadow: 0px 1px 3px 1px rgba(0, 0, 0, 0.15);\n",
              "      filter: drop-shadow(0px 1px 2px rgba(0, 0, 0, 0.3));\n",
              "      fill: #FFFFFF;\n",
              "    }\n",
              "  </style>\n",
              "\n",
              "      <script>\n",
              "        const buttonEl =\n",
              "          document.querySelector('#df-ad2b9145-2211-4290-b4e8-daee453c9d49 button.colab-df-convert');\n",
              "        buttonEl.style.display =\n",
              "          google.colab.kernel.accessAllowed ? 'block' : 'none';\n",
              "\n",
              "        async function convertToInteractive(key) {\n",
              "          const element = document.querySelector('#df-ad2b9145-2211-4290-b4e8-daee453c9d49');\n",
              "          const dataTable =\n",
              "            await google.colab.kernel.invokeFunction('convertToInteractive',\n",
              "                                                     [key], {});\n",
              "          if (!dataTable) return;\n",
              "\n",
              "          const docLinkHtml = 'Like what you see? Visit the ' +\n",
              "            '<a target=\"_blank\" href=https://colab.research.google.com/notebooks/data_table.ipynb>data table notebook</a>'\n",
              "            + ' to learn more about interactive tables.';\n",
              "          element.innerHTML = '';\n",
              "          dataTable['output_type'] = 'display_data';\n",
              "          await google.colab.output.renderOutput(dataTable, element);\n",
              "          const docLink = document.createElement('div');\n",
              "          docLink.innerHTML = docLinkHtml;\n",
              "          element.appendChild(docLink);\n",
              "        }\n",
              "      </script>\n",
              "    </div>\n",
              "  </div>\n",
              "  "
            ]
          },
          "metadata": {},
          "execution_count": 74
        }
      ],
      "source": [
        "validation_set = pd.read_csv(f'{data_path}/transactions_val.csv', header=0, index_col=0)\n",
        "print(f'El dataset de validación cuenta con {validation_set.shape[0]} filas y {validation_set.shape[1]} columnas.')\n",
        "print('Los usuarios con más compras realizadas en el dataset de validación son:')\n",
        "validation_set.head()"
      ]
    },
    {
      "cell_type": "markdown",
      "metadata": {
        "id": "DwWN3Tj8gig4"
      },
      "source": [
        "Finalmente, generamos las recomendaciones \"correctas\" para cada usuario, considerando como \"relevantes\" los ítems que compró, e irrelevantes los ítems que no:"
      ]
    },
    {
      "cell_type": "code",
      "execution_count": 56,
      "metadata": {
        "colab": {
          "base_uri": "https://localhost:8080/"
        },
        "id": "pOSLVQx1gig4",
        "outputId": "a5ed25a1-0bcc-4a32-c027-e0c452e617d0"
      },
      "outputs": [
        {
          "output_type": "stream",
          "name": "stdout",
          "text": [
            "Recomendaciones \"correctas\" para un usuario de ejemplo (ID d265c0dc7e871726894c8a14e2369768af5f5315a55dc822d46e1c1d44d7d89e):\n"
          ]
        },
        {
          "output_type": "execute_result",
          "data": {
            "text/plain": [
              "[808305001,\n",
              " 808305001,\n",
              " 764624004,\n",
              " 803468002,\n",
              " 803468002,\n",
              " 857794006,\n",
              " 916000003,\n",
              " 916000003,\n",
              " 926164001,\n",
              " 935092001]"
            ]
          },
          "metadata": {},
          "execution_count": 56
        }
      ],
      "source": [
        "top_n_verdadero_para_cada_usuario = defaultdict(list)\n",
        "for i in validation_set.index:\n",
        "    fila = validation_set.loc[i]\n",
        "    top_n_verdadero_para_cada_usuario[fila['customer_id']].append(fila['article_id'])\n",
        "print('Recomendaciones \\\"correctas\\\" para un usuario de ejemplo (ID d265c0dc7e871726894c8a14e2369768af5f5315a55dc822d46e1c1d44d7d89e):')\n",
        "top_n_verdadero_para_cada_usuario['d265c0dc7e871726894c8a14e2369768af5f5315a55dc822d46e1c1d44d7d89e']"
      ]
    },
    {
      "cell_type": "markdown",
      "metadata": {
        "id": "t77BdcMhgig5"
      },
      "source": [
        "## Actividad 2: Recomendación no personalizada"
      ]
    },
    {
      "cell_type": "markdown",
      "metadata": {
        "id": "aviR9Us8gig5"
      },
      "source": [
        "### Most Popular"
      ]
    },
    {
      "cell_type": "markdown",
      "metadata": {
        "id": "omeBlgaqgig5"
      },
      "source": [
        "Para la recomendación *most popular*, debemos obtener los 30 productos más vendidos:"
      ]
    },
    {
      "cell_type": "code",
      "execution_count": 57,
      "metadata": {
        "colab": {
          "base_uri": "https://localhost:8080/"
        },
        "id": "cltHE6xrgig5",
        "outputId": "28e42962-fba0-4b60-c236-0882172e450c"
      },
      "outputs": [
        {
          "output_type": "stream",
          "name": "stdout",
          "text": [
            "IDs de los 30 productos más vendidos:\n"
          ]
        },
        {
          "output_type": "execute_result",
          "data": {
            "text/plain": [
              "array([706016001, 706016002, 610776002, 372860001, 759871002, 399223001,\n",
              "       464297007, 562245001, 372860002, 562245046, 351484002, 156231001,\n",
              "       673396002, 399256001, 706016003, 610776001, 673677002, 573716012,\n",
              "       720125001, 448509014, 568601006, 160442007, 608776002, 158340001,\n",
              "       484398001, 688537004, 599580017, 554450001, 565379001, 507909001])"
            ]
          },
          "metadata": {},
          "execution_count": 57
        }
      ],
      "source": [
        "top_30_most_popular = np.array(compras_por_producto.sort_values(by='compras', ascending=False)['article_id'][0:30])\n",
        "print('IDs de los 30 productos más vendidos:')\n",
        "top_30_most_popular"
      ]
    },
    {
      "cell_type": "markdown",
      "metadata": {
        "id": "05lS-8XDgig5"
      },
      "source": [
        "Luego, recomendamos dichos productos a todos los usuarios:"
      ]
    },
    {
      "cell_type": "code",
      "execution_count": 58,
      "metadata": {
        "id": "4DiGmT4Zgig5"
      },
      "outputs": [],
      "source": [
        "top_30_most_popular_para_cada_usuario = defaultdict(list)\n",
        "for usuario in validation_set['customer_id'].unique():\n",
        "    top_30_most_popular_para_cada_usuario[usuario] = top_30_most_popular"
      ]
    },
    {
      "cell_type": "markdown",
      "metadata": {
        "id": "Fw6KBRZ3gig5"
      },
      "source": [
        "Finalmente, obtenemos las métricas de nuestra predicción:"
      ]
    },
    {
      "cell_type": "code",
      "execution_count": 59,
      "metadata": {
        "colab": {
          "base_uri": "https://localhost:8080/"
        },
        "id": "FXYCuvjmgig5",
        "outputId": "4838ee86-a6a1-4696-9226-419cdee3bffa"
      },
      "outputs": [
        {
          "output_type": "stream",
          "name": "stdout",
          "text": [
            "NDCG@10: 0.003007091961237623\n",
            "NDCG@20: 0.002632137060389783\n",
            "NDCG@30: 0.0022961592980431\n",
            "MAP@10: 0.0092845129725025\n",
            "MAP@20: 0.010244445762779046\n",
            "MAP@30: 0.010616304990921407\n"
          ]
        }
      ],
      "source": [
        "imprimir_metricas(evaluar(top_n_verdadero_para_cada_usuario, top_30_most_popular_para_cada_usuario))"
      ]
    },
    {
      "cell_type": "markdown",
      "metadata": {
        "id": "unbDWNCLgig5"
      },
      "source": [
        "### Random"
      ]
    },
    {
      "cell_type": "markdown",
      "metadata": {
        "id": "Go4kqlzigig5"
      },
      "source": [
        "Para la recomendación *random* seleccionamos 30 productos al azar:"
      ]
    },
    {
      "cell_type": "code",
      "execution_count": 60,
      "metadata": {
        "colab": {
          "base_uri": "https://localhost:8080/"
        },
        "id": "AB1d6DFRgig6",
        "outputId": "a37c7b3f-968b-41c7-d735-a8ac350d09bc"
      },
      "outputs": [
        {
          "output_type": "stream",
          "name": "stdout",
          "text": [
            "Los 30 ítems seleccionados aleatoriamente fueron:\n"
          ]
        },
        {
          "output_type": "execute_result",
          "data": {
            "text/plain": [
              "array([686466004, 678995001, 810419009, 452618001, 699923113, 712261002,\n",
              "       850581002, 768440001, 784313002, 528028001, 628499007, 880852001,\n",
              "       797418001, 765367002, 699924025, 713774004, 670953001, 501923003,\n",
              "       616739001, 811398005, 758840001, 902481001, 674865002, 535478003,\n",
              "       539878001, 633825003, 549262003, 597510008, 590734002, 640258001])"
            ]
          },
          "metadata": {},
          "execution_count": 60
        }
      ],
      "source": [
        "top_30_random = np.array(random.sample(list(train_set['article_id'].unique()), k=30))\n",
        "print('Los 30 ítems seleccionados aleatoriamente fueron:')\n",
        "top_30_random"
      ]
    },
    {
      "cell_type": "markdown",
      "metadata": {
        "id": "qYgmx544gig6"
      },
      "source": [
        "Recomendamos dichos productos a todos los usuarios:"
      ]
    },
    {
      "cell_type": "code",
      "execution_count": 61,
      "metadata": {
        "id": "Zi_aZ3Prgig6"
      },
      "outputs": [],
      "source": [
        "top_30_random_para_cada_usuario = defaultdict(list)\n",
        "for usuario in validation_set['customer_id'].unique():\n",
        "    top_30_random_para_cada_usuario[usuario] = top_30_random"
      ]
    },
    {
      "cell_type": "markdown",
      "metadata": {
        "id": "Y4M6sfipgig6"
      },
      "source": [
        "Obtenemos las métricas de nuestra predicción:"
      ]
    },
    {
      "cell_type": "code",
      "execution_count": 62,
      "metadata": {
        "colab": {
          "base_uri": "https://localhost:8080/"
        },
        "id": "IuaKPa8Pgig6",
        "outputId": "fee9f5f1-fd1b-404e-a763-693bdf7703ba"
      },
      "outputs": [
        {
          "output_type": "stream",
          "name": "stdout",
          "text": [
            "NDCG@10: 6.519032611064868e-05\n",
            "NDCG@20: 5.3766179275059885e-05\n",
            "NDCG@30: 4.418747265722283e-05\n",
            "MAP@10: 0.0001485353313029553\n",
            "MAP@20: 0.000167745141635481\n",
            "MAP@30: 0.0001732947555401863\n"
          ]
        }
      ],
      "source": [
        "imprimir_metricas(evaluar(top_n_verdadero_para_cada_usuario, top_30_random_para_cada_usuario))"
      ]
    },
    {
      "cell_type": "markdown",
      "metadata": {
        "id": "sS4hTu0igig6"
      },
      "source": [
        "## Actividad 3: Recomendación basada en feedback implícito"
      ]
    }
  ],
  "metadata": {
    "colab": {
      "name": "Tarea.ipynb",
      "provenance": [],
      "include_colab_link": true
    },
    "kernelspec": {
      "display_name": "Python 3.8.10 64-bit",
      "language": "python",
      "name": "python3"
    },
    "language_info": {
      "codemirror_mode": {
        "name": "ipython",
        "version": 3
      },
      "file_extension": ".py",
      "mimetype": "text/x-python",
      "name": "python",
      "nbconvert_exporter": "python",
      "pygments_lexer": "ipython3",
      "version": "3.8.10"
    },
    "vscode": {
      "interpreter": {
        "hash": "f285bb5f8983d1aafa033d6733ae0de2189f69ae4c0ee5aa1b3ca39129c61fab"
      }
    }
  },
  "nbformat": 4,
  "nbformat_minor": 0
}